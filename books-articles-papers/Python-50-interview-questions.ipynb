{
 "cells": [
  {
   "cell_type": "markdown",
   "metadata": {},
   "source": [
    "# Python 50 interview questions"
   ]
  },
  {
   "cell_type": "markdown",
   "metadata": {},
   "source": [
    "1.How will you improve the performance of a program in Python?<br>\n",
    "2.What are the benefits of using Python?<br>\n",
    "3.How will you specify source code encoding in a Python source file?<br>\n",
    "4.What is the use of PEP 8 in Python?<br>\n",
    "5.What is Pickling in Python?<br>\n",
    "6.How does memory management work in Python?<br>\n",
    "7.How will you perform Static Analysis on a Python Script?<br>\n",
    "8.What is the difference between a Tuple and List in Python?<br>\n",
    "9.What is a Python Decorator?<br>\n",
    "10.How are arguments passed in a Python method? By value or by reference?<br>\n",
    "11.What is the difference between List and Dictionary data types in Python?<br>"
   ]
  },
  {
   "cell_type": "markdown",
   "metadata": {},
   "source": [
    "12.What are the different built-in data types available in Python?<br>\n",
    "13.What is a Namespace in Python?<br>\n",
    "14.How will you concatenate multiple strings together in Python?<br>\n",
    "15.What is the use of Pass statement in Python?<br>\n",
    "16.What is the use of Slicing in Python?<br>\n",
    "17.What is the difference between Docstring in Python and Javadoc in Java?<br>\n",
    "18.How do you perform unit testing for Python code?<br>\n",
    "19.What is the difference between an Iterator and Iterable in Python?<br>\n",
    "20.What is the use of Generator in Python?<br>\n",
    "21.What is the significance of functions that start and end with _ symbol in Python?<br>\n",
    "22.What is the difference between xrange and range in Python?<br>\n",
    "23.What is lambda expression in Python?<br>\n",
    "24.How will you copy an object in Python?<br>\n",
    "25.What are the main benefits of using Python?<br>\n",
    "26.What is a metaclass in Python?<br>\n",
    "27.What is the use of frozenset in Python?<br>\n",
    "28.What is Python Flask?<br>\n",
    "29.What is None in Python?<br>\n",
    "30.What is the use of zip() function in Python?<br>\n",
    "31.What is the use of // operator in Python?<br>"
   ]
  },
  {
   "cell_type": "markdown",
   "metadata": {},
   "source": [
    "32.What is a Module in Python?<br>\n",
    "33.How can we create a dictionary with ordered set of keys in Python?<br>\n",
    "34.Python is an Object Oriented programming language or a functional programming language?<br>\n",
    "35.How can we retrieve data from a MySQL database in a Python script?<br>\n",
    "36.What is the difference between append() and extend() functions of a list in Python?<br>\n",
    "37.How will you handle an error condition in Python code?<br>\n",
    "38.What is the difference between split() and slicing in Python?<br>\n",
    "39.How will you check in Python, if a class is subclass of another class?<br>\n",
    "40.How will you debug a piece of code in Python?<br>\n",
    "41.How do you profile a Python script?<br>\n",
    "42.What is the difference between ‘is’ and ‘==’ in Python?<br>\n",
    "43.How will you share variables across modules in Python?<br>\n",
    "44.How can we do Functional programming in Python?<br>\n",
    "45.What is the improvement in enumerate() function of Python?<br>\n",
    "46.How will you execute a Python script in Unix?<br>\n",
    "47.What are the popular Python libraries used in Data analysis?<br>\n"
   ]
  },
  {
   "cell_type": "markdown",
   "metadata": {},
   "source": [
    "48.What is the output of following code in Python?"
   ]
  },
  {
   "cell_type": "markdown",
   "metadata": {},
   "source": [
    "thelist=['a','b']<br>\n",
    "print(thelist[3:])<br>"
   ]
  },
  {
   "cell_type": "markdown",
   "metadata": {},
   "source": [
    "49.What is the output of following code in Python?"
   ]
  },
  {
   "cell_type": "markdown",
   "metadata": {},
   "source": [
    "name=’John Smith’<br>\n",
    "print(name[:6] + ' ' + name[6:])<br>"
   ]
  },
  {
   "cell_type": "markdown",
   "metadata": {},
   "source": [
    "50.If you have data with name of customers and their location, which data type will you use to store it in Python?"
   ]
  },
  {
   "cell_type": "code",
   "execution_count": null,
   "metadata": {},
   "outputs": [],
   "source": []
  }
 ],
 "metadata": {
  "kernelspec": {
   "display_name": "itv",
   "language": "python",
   "name": "itv"
  },
  "language_info": {
   "codemirror_mode": {
    "name": "ipython",
    "version": 3
   },
   "file_extension": ".py",
   "mimetype": "text/x-python",
   "name": "python",
   "nbconvert_exporter": "python",
   "pygments_lexer": "ipython3",
   "version": "3.6.3"
  }
 },
 "nbformat": 4,
 "nbformat_minor": 2
}
