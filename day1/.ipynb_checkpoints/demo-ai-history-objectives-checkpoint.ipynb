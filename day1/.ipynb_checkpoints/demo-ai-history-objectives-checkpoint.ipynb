{
 "cells": [
  {
   "cell_type": "markdown",
   "metadata": {},
   "source": [
    "# The History of AI"
   ]
  },
  {
   "cell_type": "markdown",
   "metadata": {},
   "source": [
    "## Alan Turing and Enigma"
   ]
  },
  {
   "cell_type": "markdown",
   "metadata": {},
   "source": [
    "During the Second World War, noted British computer scientist Alan Turing worked to crack the ‘Enigma’ code which was used by German forces to send messages securely. Alan Turing and his team created the Bombe machine that was used to decipher Enigma’s messages.\n",
    "\n",
    "The Enigma and Bombe Machines laid the foundations for Machine Learning. According to Turing, a machine that could converse with humans without the humans knowing that it is a machine would win the “imitation game” and could be said to be “intelligent”."
   ]
  },
  {
   "cell_type": "markdown",
   "metadata": {},
   "source": [
    "[Imitation Game Clip: Breaking the Enigma Code](https://www.youtube.com/watch?v=VDHQZGvSA0I)"
   ]
  },
  {
   "cell_type": "markdown",
   "metadata": {},
   "source": [
    "In 1956, American computer scientist John McCarthy organised the Dartmouth Conference, at which the term ‘Artificial Intelligence’ was first adopted. "
   ]
  },
  {
   "cell_type": "markdown",
   "metadata": {},
   "source": [
    "[Wikipedia Aritcle on AI](https://en.wikipedia.org/wiki/History_of_artificial_intelligence)"
   ]
  },
  {
   "cell_type": "markdown",
   "metadata": {},
   "source": [
    "Deep learning, big data and artificial general intelligence: 2011–present\n",
    "In the first decades of the 21st century, access to large amounts of data (known as \"big data\"), faster computers and advanced machine learning techniques were successfully applied to many problems throughout the economy. In fact, McKinsey Global Institute estimated in their famous paper \"Big data: The next frontier for innovation, competition, and productivity\" that \"by 2009, nearly all sectors in the US economy had at least an average of 200 terabytes of stored data\".\n",
    "\n",
    "By 2016, the market for AI-related products, hardware, and software reached more than 8 billion dollars, and the New York Times reported that interest in AI had reached a \"frenzy\". The applications of big data began to reach into other fields as well, such as training models in ecology and for various applications in economics. Advances in deep learning (particularly deep convolutional neural networks and recurrent neural networks) drove progress and research in image and video processing, text analysis, and even speech recognition.\n",
    "\n",
    "Deep learning\n",
    "Main article: Deep learning\n",
    "Deep learning is a branch of machine learning that models high level abstractions in data by using a deep graph with many processing layers.According to the Universal approximation theorem, deep-ness isn't necessary for a neural network to be able to approximate arbitrary continuous functions. Even so, there are many problems that are common to shallow networks (such as overfitting) that deep networks help avoid. As such, deep neural networks are able to realistically generate much more complex models as compared to their shallow counterparts.\n",
    "\n",
    "However, deep learning has problems of its own. A common problem for recurrent neural networks is the vanishing gradient problem, which is where gradients passed between layers gradually shrink and literally disappear as they are rounded off to zero. There have been many methods developed to approach this problem, such as Long short-term memory units.\n",
    "\n",
    "State-of-the-art deep neural network architectures can sometimes even rival human accuracy in fields like computer vision, specifically on things like the MNIST database, and traffic sign recognition.\n",
    "\n",
    "Language processing engines powered by smart search engines can easily beat humans at answering general trivia questions (such as IBM Watson), and recent developments in deep learning have produced astounding results in competing with humans, in things like Go and Doom (which, being a First-Person Shooter game, has sparked some controversy).\n"
   ]
  },
  {
   "cell_type": "markdown",
   "metadata": {},
   "source": [
    "![Course Text](imgs/course_text.png)"
   ]
  },
  {
   "cell_type": "markdown",
   "metadata": {},
   "source": [
    "## The Supervised Learning Problem"
   ]
  },
  {
   "cell_type": "markdown",
   "metadata": {},
   "source": [
    "Starting point:\n",
    "\n",
    "• Outcome measurement Y (also called dependent variable,\n",
    "response, target).\n",
    "\n",
    "• Vector of p predictor measurements X (also called inputs,\n",
    "regressors, covariates, features, independent variables).\n",
    "\n",
    "• In the regression problem, Y is quantitative (e.g price,\n",
    "blood pressure).\n",
    "\n",
    "• In the classification problem, Y takes values in a finite,\n",
    "unordered set (survived/died, digit 0-9, cancer class of\n",
    "tissue sample).\n",
    "\n",
    "• We have training data (x1, y1), . . . ,(xN , yN ). These are\n",
    "observations (examples, instances) of these measurements."
   ]
  },
  {
   "cell_type": "markdown",
   "metadata": {},
   "source": [
    "### Objectives"
   ]
  },
  {
   "cell_type": "markdown",
   "metadata": {},
   "source": [
    "On the basis of the training data we would like to:\n",
    "\n",
    "• Accurately predict unseen test cases.\n",
    "\n",
    "• Understand which inputs affect the outcome, and how.\n",
    "\n",
    "• Assess the quality of our predictions and inferences"
   ]
  },
  {
   "cell_type": "markdown",
   "metadata": {},
   "source": [
    "## Unsupervised learning"
   ]
  },
  {
   "cell_type": "markdown",
   "metadata": {},
   "source": [
    "• No outcome variable, just a set of predictors (features)\n",
    "measured on a set of samples.\n",
    "\n",
    "• objective is more fuzzy — find groups of samples that\n",
    "behave similarly, find features that behave similarly, find\n",
    "linear combinations of features with the most variation.\n",
    "\n",
    "• difficult to know how well your are doing.\n",
    "\n",
    "• different from supervised learning, but can be useful as a\n",
    "pre-processing step for supervised learning."
   ]
  },
  {
   "cell_type": "markdown",
   "metadata": {},
   "source": [
    "## Example of Supervised Learning"
   ]
  },
  {
   "cell_type": "markdown",
   "metadata": {},
   "source": [
    "![Sales](imgs/sales.png)"
   ]
  },
  {
   "cell_type": "markdown",
   "metadata": {},
   "source": [
    "Say you want to sell an item. You place ads in TV, Radio and Newspaper. You want to study the effect of each medium on the sales. Here 'sales' in the target variable. It is quantitative.\n",
    "Can we predict Sales using all three?"
   ]
  },
  {
   "cell_type": "markdown",
   "metadata": {},
   "source": [
    "Say we have a function f such that sales is approx. equal to f(TV, Radio, Newspaper)"
   ]
  },
  {
   "cell_type": "markdown",
   "metadata": {},
   "source": [
    "This f is called a model. Sales is the target variable. We refer to if as Y. TV, Radio, Newspaper ads are called predictors or features or inputs. We can name them X1, X2, X3. So now the feature vecotr X is:"
   ]
  },
  {
   "cell_type": "markdown",
   "metadata": {},
   "source": [
    "![Feature Vector](imgs/fv.png)"
   ]
  },
  {
   "cell_type": "markdown",
   "metadata": {},
   "source": [
    "And we can write the model as "
   ]
  },
  {
   "cell_type": "markdown",
   "metadata": {},
   "source": [
    "![model](imgs/model.png)"
   ]
  },
  {
   "cell_type": "markdown",
   "metadata": {},
   "source": [
    "Here epsilon is the measurement error."
   ]
  },
  {
   "cell_type": "code",
   "execution_count": null,
   "metadata": {},
   "outputs": [],
   "source": []
  }
 ],
 "metadata": {
  "kernelspec": {
   "display_name": "itv",
   "language": "python",
   "name": "itv"
  },
  "language_info": {
   "codemirror_mode": {
    "name": "ipython",
    "version": 3
   },
   "file_extension": ".py",
   "mimetype": "text/x-python",
   "name": "python",
   "nbconvert_exporter": "python",
   "pygments_lexer": "ipython3",
   "version": "3.6.3"
  }
 },
 "nbformat": 4,
 "nbformat_minor": 2
}
