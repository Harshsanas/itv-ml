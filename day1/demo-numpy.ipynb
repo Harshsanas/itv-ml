{
 "cells": [
  {
   "cell_type": "markdown",
   "metadata": {},
   "source": [
    "# What is numpy?"
   ]
  },
  {
   "cell_type": "markdown",
   "metadata": {},
   "source": [
    "Numpy stands for numerical python. It is one of the most important and most widely use foundation packages \n",
    "in python for numerical computing"
   ]
  },
  {
   "cell_type": "markdown",
   "metadata": {},
   "source": [
    "## Here are some of the things you’ll find in NumPy:\n",
    "    \n",
    "1. ndarray, an efficient multidimensional array providing fast array-oriented arithmetic operations and \n",
    "flexible broadcasting capabilities.\n",
    "\n",
    "2. Mathematical functions for fast operations on entire arrays of data without having to write loops.\n",
    "\n",
    "3. Tools for reading/writing array data to disk and working with memory-mapped files.\n",
    "\n",
    "4. Linear algebra, random number generation, and Fourier transform capabilities.\n",
    "\n",
    "5. A C API for connecting NumPy with libraries written in C, C++, or FORTRAN.\n",
    "\n",
    "Because NumPy provides an easy-to-use C API, it is straightforward to pass data to external libraries written \n",
    "in a low-level language and also for external libraries to return data to Python as NumPy arrays. \n",
    "\n",
    "This feature has made Python a language of choice for wrapping legacy C/C++/Fortran codebases \n",
    "and giving them a dynamic and easy-to-use interface."
   ]
  },
  {
   "cell_type": "markdown",
   "metadata": {},
   "source": [
    "## Things we will focus on in numpy"
   ]
  },
  {
   "cell_type": "markdown",
   "metadata": {},
   "source": [
    "1. Fast vectorized array operations for data munging and cleaning, subsetting and filtering, \n",
    "transformation, and any other kinds of computations Common array algorithms like sorting, unique, and set operations\n",
    "\n",
    "2. Efficient descriptive statistics and aggregating/summarizing data\n",
    "\n",
    "3. Data alignment and relational data manipulations for merging and joining together heterogeneous datasets\n",
    "\n",
    "4. Expressing conditional logic as array expressions instead of loops with if-elif-else branches\n",
    "Group-wise data manipulations (aggregation, transformation, function application)\n",
    "\n",
    "While NumPy provides a computational foundation for general numerical data processing, many readers will want to use pandas as the basis for most kinds of statistics or analytics, especially on tabular data. pandas also provides some more domain-specific functionality \n",
    "like time series manipulation, which is not present in NumPy."
   ]
  },
  {
   "cell_type": "markdown",
   "metadata": {},
   "source": [
    "## Why is numpy so fast"
   ]
  },
  {
   "cell_type": "markdown",
   "metadata": {},
   "source": [
    "\n",
    "because it is designed for efficiency on large arrays of data. \n",
    "\n",
    "There are a number of reasons for this:\n",
    "1. NumPy internally stores data in a contiguous block of memory, independent of other built-in Python objects. \n",
    "\n",
    "2. NumPy’s library of algorithms written in the C language can operate on this memory without any type checking or other overhead. NumPy arrays also use much less memory than built-in Python sequences.\n",
    "\n",
    "3. NumPy operations perform complex computations on entire arrays without the need for Python for loops."
   ]
  },
  {
   "cell_type": "code",
   "execution_count": 3,
   "metadata": {},
   "outputs": [],
   "source": [
    "import numpy as np"
   ]
  },
  {
   "cell_type": "code",
   "execution_count": 4,
   "metadata": {},
   "outputs": [],
   "source": [
    "my_arr = np.arange(1000000)\n",
    "my_list = list(range(1000000))"
   ]
  },
  {
   "cell_type": "code",
   "execution_count": 5,
   "metadata": {},
   "outputs": [
    {
     "data": {
      "text/plain": [
       "array([     0,      1,      2, ..., 999997, 999998, 999999])"
      ]
     },
     "execution_count": 5,
     "metadata": {},
     "output_type": "execute_result"
    }
   ],
   "source": [
    "my_arr"
   ]
  },
  {
   "cell_type": "code",
   "execution_count": 10,
   "metadata": {},
   "outputs": [
    {
     "name": "stdout",
     "output_type": "stream",
     "text": [
      "CPU times: user 4 ms, sys: 4 ms, total: 8 ms\n",
      "Wall time: 7.67 ms\n"
     ]
    }
   ],
   "source": [
    "%%time\n",
    "\n",
    "my_arr2 = my_arr * 2"
   ]
  },
  {
   "cell_type": "code",
   "execution_count": 11,
   "metadata": {},
   "outputs": [
    {
     "name": "stdout",
     "output_type": "stream",
     "text": [
      "CPU times: user 96 ms, sys: 12 ms, total: 108 ms\n",
      "Wall time: 104 ms\n"
     ]
    }
   ],
   "source": [
    "%%time\n",
    "\n",
    "my_list2 = [i * 2 for i in my_list]"
   ]
  },
  {
   "cell_type": "markdown",
   "metadata": {},
   "source": [
    "## Numpy ndarray: A multidimensional array object"
   ]
  },
  {
   "cell_type": "markdown",
   "metadata": {},
   "source": [
    "One of the key features of NumPy is its N-dimensional array object, or ndarray, which is a fast, \n",
    "flexible container for large datasets in Python. Arrays enable you to perform mathematical operations on \n",
    "whole blocks of data using similar syntax to the equivalent operations between scalar elements."
   ]
  },
  {
   "cell_type": "code",
   "execution_count": 12,
   "metadata": {},
   "outputs": [],
   "source": [
    "data = np.random.randn(2,3) # Return a sample (or samples) from the “standard normal” distribution.\n",
    "# A standard normal distribution is one with mean 0 and standard deviation of 1."
   ]
  },
  {
   "cell_type": "code",
   "execution_count": 13,
   "metadata": {},
   "outputs": [
    {
     "data": {
      "text/plain": [
       "array([[-1.99324745, -0.30482973,  0.78435486],\n",
       "       [-0.78810301,  1.46967311,  0.21668092]])"
      ]
     },
     "execution_count": 13,
     "metadata": {},
     "output_type": "execute_result"
    }
   ],
   "source": [
    "data"
   ]
  },
  {
   "cell_type": "markdown",
   "metadata": {},
   "source": [
    "### Quick dive into normal distribution"
   ]
  },
  {
   "cell_type": "markdown",
   "metadata": {},
   "source": [
    "The binomial distribution is used to solve problems such as \"If a fair coin is flipped 100 times, what is the probability of getting 60 or more heads?\" The probability of exactly x heads out of N flips is computed using the formula:\n",
    "\n",
    "![Figure 1](imgs/binomial_formula.gif)\n",
    "\n",
    "where x is the number of heads (60), N is the number of flips (100), and π is the probability of a head (0.5). Therefore, to solve this problem, you compute the probability of 60 heads, then the probability of 61 heads, 62 heads, etc., and add up all these probabilities. Imagine how long it must have taken to compute binomial probabilities before the advent of calculators and computers.\n",
    "\n",
    "Abraham de Moivre, an 18th century statistician and consultant to gamblers, was often called upon to make these lengthy computations. de Moivre noted that when the number of events (coin flips) increased, the shape of the binomial distribution approached a very smooth curve. Binomial distributions for 2, 4, and 12 flips are shown in Figure 2.\n",
    "\n"
   ]
  },
  {
   "cell_type": "markdown",
   "metadata": {},
   "source": [
    "![Figure 2](binomial.gif)"
   ]
  },
  {
   "cell_type": "markdown",
   "metadata": {},
   "source": [
    "de Moivre reasoned that if he could find a mathematical expression for this curve,\n",
    "he would be able to solve problems such as finding the probability of 60 or \n",
    "more heads out of 100 coin flips much more easily. This is exactly what he did, \n",
    "and the curve he discovered is now called the \"normal curve.\""
   ]
  },
  {
   "cell_type": "markdown",
   "metadata": {},
   "source": [
    "The importance of the normal curve stems primarily from the fact that the distributions of many \n",
    "natural phenomena are at least approximately normally distributed. One of the first applications of \n",
    "the normal distribution was to the analysis of errors of measurement made in astronomical observations, \n",
    "errors that occurred because of imperfect instruments and imperfect observers. \n",
    "Galileo in the 17th century noted that these errors were symmetric and that small errors occurred more \n",
    "frequently than large errors. This led to several hypothesized distributions of errors, but it was not \n",
    "until the early 19th century that it was discovered that these errors followed a normal distribution. \n",
    "Independently, the mathematicians Adrain in 1808 and Gauss in 1809 developed the formula for the \n",
    "normal distribution and showed that errors were fit well by this distribution."
   ]
  },
  {
   "cell_type": "markdown",
   "metadata": {},
   "source": [
    "![Figure 3](imgs/varieties.gif)"
   ]
  },
  {
   "cell_type": "markdown",
   "metadata": {},
   "source": [
    "Figure 3 shows three normal distributions. The green (left-most) distribution has a mean of -3 and a standard deviation of 0.5, the distribution in red (the middle distribution) has a mean of 0 and a standard deviation of 1, and the distribution in black (right-most) has a mean of 2 and a standard deviation of 3. These as well as all other normal distributions are symmetric with relatively more values at the center of the distribution and relatively few in the tails.\n",
    "\n"
   ]
  },
  {
   "cell_type": "markdown",
   "metadata": {},
   "source": [
    "The density of the normal distribution (the height for a given value on the x axis) is shown below. The parameters μ and σ are the mean and standard deviation, respectively, and define the normal distribution. The symbol e is the base of the natural logarithm and π is the constant pi."
   ]
  },
  {
   "cell_type": "markdown",
   "metadata": {},
   "source": [
    "![Figure 4](imgs/normal_density.gif)"
   ]
  },
  {
   "cell_type": "markdown",
   "metadata": {},
   "source": [
    "This same distribution had been discovered by Laplace in 1778 when he derived the extremely important central limit theorem"
   ]
  },
  {
   "cell_type": "markdown",
   "metadata": {},
   "source": [
    " Laplace showed that even if a distribution is not normally distributed, the means of repeated samples from the distribution would be very nearly normally distributed, and that the larger the sample size, the closer the distribution of means would be to a normal distribution.\n",
    "\n",
    "Most statistical procedures for testing differences between means assume normal distributions. Because the distribution of means is very close to normal, these tests work well even if the original distribution is only roughly normal.\n",
    "\n",
    "Quételet was the first to apply the normal distribution to human characteristics. He noted that characteristics such as height and weight were normally distributed."
   ]
  },
  {
   "cell_type": "markdown",
   "metadata": {},
   "source": [
    "### Back to numpy"
   ]
  },
  {
   "cell_type": "code",
   "execution_count": 16,
   "metadata": {},
   "outputs": [
    {
     "data": {
      "text/plain": [
       "array([[-1.99324745, -0.30482973,  0.78435486],\n",
       "       [-0.78810301,  1.46967311,  0.21668092]])"
      ]
     },
     "execution_count": 16,
     "metadata": {},
     "output_type": "execute_result"
    }
   ],
   "source": [
    "data"
   ]
  },
  {
   "cell_type": "code",
   "execution_count": 17,
   "metadata": {},
   "outputs": [
    {
     "data": {
      "text/plain": [
       "array([[-3.98649491, -0.60965946,  1.56870973],\n",
       "       [-1.57620603,  2.93934622,  0.43336184]])"
      ]
     },
     "execution_count": 17,
     "metadata": {},
     "output_type": "execute_result"
    }
   ],
   "source": [
    "data * 2"
   ]
  },
  {
   "cell_type": "code",
   "execution_count": 18,
   "metadata": {},
   "outputs": [
    {
     "data": {
      "text/plain": [
       "array([[-3.98649491, -0.60965946,  1.56870973],\n",
       "       [-1.57620603,  2.93934622,  0.43336184]])"
      ]
     },
     "execution_count": 18,
     "metadata": {},
     "output_type": "execute_result"
    }
   ],
   "source": [
    "data + data"
   ]
  },
  {
   "cell_type": "code",
   "execution_count": 19,
   "metadata": {},
   "outputs": [
    {
     "data": {
      "text/plain": [
       "array([[3.97303541, 0.09292116, 0.61521255],\n",
       "       [0.62110636, 2.15993904, 0.04695062]])"
      ]
     },
     "execution_count": 19,
     "metadata": {},
     "output_type": "execute_result"
    }
   ],
   "source": [
    "data * data"
   ]
  },
  {
   "cell_type": "code",
   "execution_count": 20,
   "metadata": {},
   "outputs": [
    {
     "data": {
      "text/plain": [
       "array([[1., 1., 1.],\n",
       "       [1., 1., 1.]])"
      ]
     },
     "execution_count": 20,
     "metadata": {},
     "output_type": "execute_result"
    }
   ],
   "source": [
    "data /data"
   ]
  },
  {
   "cell_type": "code",
   "execution_count": 21,
   "metadata": {},
   "outputs": [
    {
     "data": {
      "text/plain": [
       "(2, 3)"
      ]
     },
     "execution_count": 21,
     "metadata": {},
     "output_type": "execute_result"
    }
   ],
   "source": [
    "data.shape"
   ]
  },
  {
   "cell_type": "code",
   "execution_count": 22,
   "metadata": {},
   "outputs": [
    {
     "data": {
      "text/plain": [
       "dtype('float64')"
      ]
     },
     "execution_count": 22,
     "metadata": {},
     "output_type": "execute_result"
    }
   ],
   "source": [
    "data.dtype"
   ]
  },
  {
   "cell_type": "markdown",
   "metadata": {},
   "source": [
    "### Creating ndarrays"
   ]
  },
  {
   "cell_type": "code",
   "execution_count": 24,
   "metadata": {},
   "outputs": [],
   "source": [
    "data1 = [1.0, 2.5, 3.4, 7.6, 3]\n",
    "arr1 = np.array(data1)"
   ]
  },
  {
   "cell_type": "code",
   "execution_count": 25,
   "metadata": {},
   "outputs": [
    {
     "data": {
      "text/plain": [
       "array([1. , 2.5, 3.4, 7.6, 3. ])"
      ]
     },
     "execution_count": 25,
     "metadata": {},
     "output_type": "execute_result"
    }
   ],
   "source": [
    "arr1"
   ]
  },
  {
   "cell_type": "code",
   "execution_count": 26,
   "metadata": {},
   "outputs": [
    {
     "data": {
      "text/plain": [
       "(5,)"
      ]
     },
     "execution_count": 26,
     "metadata": {},
     "output_type": "execute_result"
    }
   ],
   "source": [
    "arr1.shape"
   ]
  },
  {
   "cell_type": "code",
   "execution_count": 29,
   "metadata": {},
   "outputs": [
    {
     "name": "stdout",
     "output_type": "stream",
     "text": [
      "(2, 4) int64 2\n"
     ]
    }
   ],
   "source": [
    "data2 = [[1,2,3,4], [5,6,7,8]]\n",
    "arr2 = np.array(data2)\n",
    "print(arr2.shape, arr2.dtype, arr2.ndim)"
   ]
  },
  {
   "cell_type": "code",
   "execution_count": 30,
   "metadata": {},
   "outputs": [
    {
     "data": {
      "text/plain": [
       "array([0., 0., 0., 0., 0., 0., 0., 0., 0., 0.])"
      ]
     },
     "execution_count": 30,
     "metadata": {},
     "output_type": "execute_result"
    }
   ],
   "source": [
    "np.zeros(10)"
   ]
  },
  {
   "cell_type": "code",
   "execution_count": 32,
   "metadata": {},
   "outputs": [
    {
     "data": {
      "text/plain": [
       "array([[0., 0., 0., 0., 0., 0.],\n",
       "       [0., 0., 0., 0., 0., 0.],\n",
       "       [0., 0., 0., 0., 0., 0.],\n",
       "       [0., 0., 0., 0., 0., 0.],\n",
       "       [0., 0., 0., 0., 0., 0.]])"
      ]
     },
     "execution_count": 32,
     "metadata": {},
     "output_type": "execute_result"
    }
   ],
   "source": [
    "np.zeros((5,6))"
   ]
  },
  {
   "cell_type": "code",
   "execution_count": 33,
   "metadata": {},
   "outputs": [
    {
     "data": {
      "text/plain": [
       "array([[1., 1., 1.],\n",
       "       [1., 1., 1.]])"
      ]
     },
     "execution_count": 33,
     "metadata": {},
     "output_type": "execute_result"
    }
   ],
   "source": [
    "np.empty((2,3))"
   ]
  },
  {
   "cell_type": "code",
   "execution_count": 35,
   "metadata": {},
   "outputs": [
    {
     "data": {
      "text/plain": [
       "array([0, 1, 2, 3, 4, 5, 6, 7, 8, 9])"
      ]
     },
     "execution_count": 35,
     "metadata": {},
     "output_type": "execute_result"
    }
   ],
   "source": [
    "np.arange(10) # array valued version of range"
   ]
  },
  {
   "cell_type": "code",
   "execution_count": 36,
   "metadata": {},
   "outputs": [],
   "source": [
    "a = np.arange(10)"
   ]
  },
  {
   "cell_type": "code",
   "execution_count": 37,
   "metadata": {},
   "outputs": [
    {
     "data": {
      "text/plain": [
       "dtype('int64')"
      ]
     },
     "execution_count": 37,
     "metadata": {},
     "output_type": "execute_result"
    }
   ],
   "source": [
    "a.dtype"
   ]
  },
  {
   "cell_type": "code",
   "execution_count": 43,
   "metadata": {},
   "outputs": [
    {
     "name": "stdout",
     "output_type": "stream",
     "text": [
      "[0. 1. 2. 3. 4. 5. 6. 7. 8. 9.] float32\n"
     ]
    }
   ],
   "source": [
    "b = a.astype(np.float32)\n",
    "print(b, b.dtype)"
   ]
  },
  {
   "cell_type": "code",
   "execution_count": 44,
   "metadata": {},
   "outputs": [
    {
     "name": "stdout",
     "output_type": "stream",
     "text": [
      "[0. 1. 2. 3. 4. 5. 6. 7. 8. 9.] float64\n"
     ]
    }
   ],
   "source": [
    "c = a.astype(np.float64)\n",
    "print(c, c.dtype)"
   ]
  },
  {
   "cell_type": "code",
   "execution_count": 40,
   "metadata": {},
   "outputs": [
    {
     "data": {
      "text/plain": [
       "dtype('int64')"
      ]
     },
     "execution_count": 40,
     "metadata": {},
     "output_type": "execute_result"
    }
   ],
   "source": [
    "a.dtype"
   ]
  },
  {
   "cell_type": "code",
   "execution_count": 49,
   "metadata": {},
   "outputs": [],
   "source": [
    "a = np.array([1.020203896353863863873983, 2.34, 4.66663395], dtype=np.float64)"
   ]
  },
  {
   "cell_type": "code",
   "execution_count": 50,
   "metadata": {},
   "outputs": [
    {
     "data": {
      "text/plain": [
       "array([1.0202039 , 2.34      , 4.66663395])"
      ]
     },
     "execution_count": 50,
     "metadata": {},
     "output_type": "execute_result"
    }
   ],
   "source": [
    "a"
   ]
  },
  {
   "cell_type": "code",
   "execution_count": 51,
   "metadata": {},
   "outputs": [],
   "source": [
    "a = a.astype(np.string_)"
   ]
  },
  {
   "cell_type": "code",
   "execution_count": 52,
   "metadata": {},
   "outputs": [
    {
     "data": {
      "text/plain": [
       "array([b'1.0202038963538638', b'2.34', b'4.66663395'], dtype='|S32')"
      ]
     },
     "execution_count": 52,
     "metadata": {},
     "output_type": "execute_result"
    }
   ],
   "source": [
    "a # casting a large float64 to string truncates it. Use pandas when using strings"
   ]
  },
  {
   "cell_type": "markdown",
   "metadata": {},
   "source": [
    "### Arithmetic with numpy arrays"
   ]
  },
  {
   "cell_type": "markdown",
   "metadata": {},
   "source": [
    "Arrays are important because they enable you to express batch operations on data without writing any for loops. NumPy users call this vectorization"
   ]
  },
  {
   "cell_type": "code",
   "execution_count": 55,
   "metadata": {},
   "outputs": [],
   "source": [
    "arr = np.array([[1,2,3], [4,5,6]])"
   ]
  },
  {
   "cell_type": "code",
   "execution_count": 56,
   "metadata": {},
   "outputs": [
    {
     "data": {
      "text/plain": [
       "(2, 3)"
      ]
     },
     "execution_count": 56,
     "metadata": {},
     "output_type": "execute_result"
    }
   ],
   "source": [
    "arr.shape"
   ]
  },
  {
   "cell_type": "code",
   "execution_count": 58,
   "metadata": {},
   "outputs": [
    {
     "data": {
      "text/plain": [
       "dtype('int64')"
      ]
     },
     "execution_count": 58,
     "metadata": {},
     "output_type": "execute_result"
    }
   ],
   "source": [
    "arr.dtype"
   ]
  },
  {
   "cell_type": "code",
   "execution_count": 59,
   "metadata": {},
   "outputs": [
    {
     "data": {
      "text/plain": [
       "array([[ 1,  4,  9],\n",
       "       [16, 25, 36]])"
      ]
     },
     "execution_count": 59,
     "metadata": {},
     "output_type": "execute_result"
    }
   ],
   "source": [
    "arr * arr # element wise operation on equal sized arrays"
   ]
  },
  {
   "cell_type": "code",
   "execution_count": 60,
   "metadata": {},
   "outputs": [],
   "source": [
    "arr2 = np.array([[6,8,7], [4,3,6]])"
   ]
  },
  {
   "cell_type": "code",
   "execution_count": 71,
   "metadata": {},
   "outputs": [
    {
     "data": {
      "text/plain": [
       "(array([[1, 2, 3],\n",
       "        [4, 5, 6]]), array([[6, 8, 7],\n",
       "        [4, 3, 6]]))"
      ]
     },
     "execution_count": 71,
     "metadata": {},
     "output_type": "execute_result"
    }
   ],
   "source": [
    "arr, arr2"
   ]
  },
  {
   "cell_type": "code",
   "execution_count": 65,
   "metadata": {},
   "outputs": [
    {
     "data": {
      "text/plain": [
       "array([[False, False, False],\n",
       "       [False,  True, False]])"
      ]
     },
     "execution_count": 65,
     "metadata": {},
     "output_type": "execute_result"
    }
   ],
   "source": [
    "arr > arr2"
   ]
  },
  {
   "cell_type": "code",
   "execution_count": 67,
   "metadata": {},
   "outputs": [],
   "source": [
    "c = arr > arr2"
   ]
  },
  {
   "cell_type": "code",
   "execution_count": 72,
   "metadata": {},
   "outputs": [
    {
     "data": {
      "text/plain": [
       "array([[False, False, False],\n",
       "       [False,  True, False]])"
      ]
     },
     "execution_count": 72,
     "metadata": {},
     "output_type": "execute_result"
    }
   ],
   "source": [
    "c"
   ]
  },
  {
   "cell_type": "code",
   "execution_count": 74,
   "metadata": {},
   "outputs": [
    {
     "data": {
      "text/plain": [
       "array([[1, 2, 3],\n",
       "       [4, 3, 6]])"
      ]
     },
     "execution_count": 74,
     "metadata": {},
     "output_type": "execute_result"
    }
   ],
   "source": [
    "np.where(c == False, arr, arr2)"
   ]
  },
  {
   "cell_type": "code",
   "execution_count": 75,
   "metadata": {},
   "outputs": [
    {
     "data": {
      "text/plain": [
       "array([[6, 8, 7],\n",
       "       [4, 5, 6]])"
      ]
     },
     "execution_count": 75,
     "metadata": {},
     "output_type": "execute_result"
    }
   ],
   "source": [
    "np.where(c, arr, arr2)"
   ]
  },
  {
   "cell_type": "code",
   "execution_count": 76,
   "metadata": {},
   "outputs": [
    {
     "data": {
      "text/plain": [
       "array([[6, 8, 7],\n",
       "       [4, 5, 6]])"
      ]
     },
     "execution_count": 76,
     "metadata": {},
     "output_type": "execute_result"
    }
   ],
   "source": [
    "np.where(arr > arr2, arr, arr2)"
   ]
  },
  {
   "cell_type": "markdown",
   "metadata": {},
   "source": [
    "### Basic Indexing and slicing"
   ]
  },
  {
   "cell_type": "code",
   "execution_count": 77,
   "metadata": {},
   "outputs": [],
   "source": [
    "arr = np.arange(10)"
   ]
  },
  {
   "cell_type": "code",
   "execution_count": 78,
   "metadata": {},
   "outputs": [
    {
     "data": {
      "text/plain": [
       "array([0, 1, 2, 3, 4, 5, 6, 7, 8, 9])"
      ]
     },
     "execution_count": 78,
     "metadata": {},
     "output_type": "execute_result"
    }
   ],
   "source": [
    "arr"
   ]
  },
  {
   "cell_type": "code",
   "execution_count": 79,
   "metadata": {},
   "outputs": [
    {
     "data": {
      "text/plain": [
       "2"
      ]
     },
     "execution_count": 79,
     "metadata": {},
     "output_type": "execute_result"
    }
   ],
   "source": [
    "arr[2]"
   ]
  },
  {
   "cell_type": "code",
   "execution_count": 80,
   "metadata": {},
   "outputs": [
    {
     "data": {
      "text/plain": [
       "8"
      ]
     },
     "execution_count": 80,
     "metadata": {},
     "output_type": "execute_result"
    }
   ],
   "source": [
    "arr[8]"
   ]
  },
  {
   "cell_type": "code",
   "execution_count": 81,
   "metadata": {},
   "outputs": [
    {
     "data": {
      "text/plain": [
       "array([2, 3, 4, 5])"
      ]
     },
     "execution_count": 81,
     "metadata": {},
     "output_type": "execute_result"
    }
   ],
   "source": [
    "arr[2:6]"
   ]
  },
  {
   "cell_type": "code",
   "execution_count": 82,
   "metadata": {},
   "outputs": [
    {
     "data": {
      "text/plain": [
       "9"
      ]
     },
     "execution_count": 82,
     "metadata": {},
     "output_type": "execute_result"
    }
   ],
   "source": [
    "arr[-1]"
   ]
  },
  {
   "cell_type": "code",
   "execution_count": 83,
   "metadata": {},
   "outputs": [
    {
     "data": {
      "text/plain": [
       "8"
      ]
     },
     "execution_count": 83,
     "metadata": {},
     "output_type": "execute_result"
    }
   ],
   "source": [
    "arr[-2]"
   ]
  },
  {
   "cell_type": "code",
   "execution_count": 85,
   "metadata": {},
   "outputs": [
    {
     "data": {
      "text/plain": [
       "array([0, 1, 2, 3, 4, 5, 6, 7])"
      ]
     },
     "execution_count": 85,
     "metadata": {},
     "output_type": "execute_result"
    }
   ],
   "source": [
    "arr[:-2]"
   ]
  },
  {
   "cell_type": "code",
   "execution_count": 86,
   "metadata": {},
   "outputs": [
    {
     "data": {
      "text/plain": [
       "array([0, 1, 2, 3, 4, 5, 6, 7, 8, 9])"
      ]
     },
     "execution_count": 86,
     "metadata": {},
     "output_type": "execute_result"
    }
   ],
   "source": [
    "arr[:]"
   ]
  },
  {
   "cell_type": "code",
   "execution_count": 88,
   "metadata": {},
   "outputs": [],
   "source": [
    "arr[:-2] = 600"
   ]
  },
  {
   "cell_type": "code",
   "execution_count": 89,
   "metadata": {},
   "outputs": [
    {
     "data": {
      "text/plain": [
       "array([600, 600, 600, 600, 600, 600, 600, 600,   8,   9])"
      ]
     },
     "execution_count": 89,
     "metadata": {},
     "output_type": "execute_result"
    }
   ],
   "source": [
    "arr"
   ]
  },
  {
   "cell_type": "code",
   "execution_count": 91,
   "metadata": {},
   "outputs": [],
   "source": [
    "arr[:] = 12345"
   ]
  },
  {
   "cell_type": "code",
   "execution_count": 92,
   "metadata": {},
   "outputs": [
    {
     "data": {
      "text/plain": [
       "array([12345, 12345, 12345, 12345, 12345, 12345, 12345, 12345, 12345,\n",
       "       12345])"
      ]
     },
     "execution_count": 92,
     "metadata": {},
     "output_type": "execute_result"
    }
   ],
   "source": [
    "arr"
   ]
  },
  {
   "cell_type": "code",
   "execution_count": 93,
   "metadata": {},
   "outputs": [],
   "source": [
    "arr[5:8] = 9999"
   ]
  },
  {
   "cell_type": "code",
   "execution_count": 94,
   "metadata": {},
   "outputs": [
    {
     "data": {
      "text/plain": [
       "array([12345, 12345, 12345, 12345, 12345,  9999,  9999,  9999, 12345,\n",
       "       12345])"
      ]
     },
     "execution_count": 94,
     "metadata": {},
     "output_type": "execute_result"
    }
   ],
   "source": [
    "arr"
   ]
  },
  {
   "cell_type": "markdown",
   "metadata": {},
   "source": [
    "To copy a slice use arr[5:8].copy()"
   ]
  },
  {
   "cell_type": "code",
   "execution_count": 95,
   "metadata": {},
   "outputs": [
    {
     "data": {
      "text/plain": [
       "array([[ 0,  1,  2,  3,  4],\n",
       "       [ 5,  6,  7,  8,  9],\n",
       "       [10, 11, 12, 13, 14],\n",
       "       [15, 16, 17, 18, 19],\n",
       "       [20, 21, 22, 23, 24]])"
      ]
     },
     "execution_count": 95,
     "metadata": {},
     "output_type": "execute_result"
    }
   ],
   "source": [
    "np.arange(25).reshape(5,5)"
   ]
  },
  {
   "cell_type": "code",
   "execution_count": 96,
   "metadata": {},
   "outputs": [],
   "source": [
    "arr2d = np.arange(25).reshape(5,5)"
   ]
  },
  {
   "cell_type": "code",
   "execution_count": 99,
   "metadata": {},
   "outputs": [
    {
     "data": {
      "text/plain": [
       "(5, 5)"
      ]
     },
     "execution_count": 99,
     "metadata": {},
     "output_type": "execute_result"
    }
   ],
   "source": [
    "arr2d.shape"
   ]
  },
  {
   "cell_type": "code",
   "execution_count": 100,
   "metadata": {},
   "outputs": [
    {
     "data": {
      "text/plain": [
       "array([0, 1, 2, 3, 4])"
      ]
     },
     "execution_count": 100,
     "metadata": {},
     "output_type": "execute_result"
    }
   ],
   "source": [
    "arr2d[0]"
   ]
  },
  {
   "cell_type": "code",
   "execution_count": 103,
   "metadata": {},
   "outputs": [
    {
     "data": {
      "text/plain": [
       "7"
      ]
     },
     "execution_count": 103,
     "metadata": {},
     "output_type": "execute_result"
    }
   ],
   "source": [
    "arr2d[1][2]"
   ]
  },
  {
   "cell_type": "code",
   "execution_count": 102,
   "metadata": {},
   "outputs": [
    {
     "data": {
      "text/plain": [
       "21"
      ]
     },
     "execution_count": 102,
     "metadata": {},
     "output_type": "execute_result"
    }
   ],
   "source": [
    "arr2d[4,1]"
   ]
  },
  {
   "cell_type": "code",
   "execution_count": 104,
   "metadata": {},
   "outputs": [],
   "source": [
    "arr3d = np.array([[[1, 2, 3], [4, 5, 6]], [[7, 8, 9], [10, 11, 12]]])"
   ]
  },
  {
   "cell_type": "code",
   "execution_count": 105,
   "metadata": {},
   "outputs": [
    {
     "data": {
      "text/plain": [
       "array([[[ 1,  2,  3],\n",
       "        [ 4,  5,  6]],\n",
       "\n",
       "       [[ 7,  8,  9],\n",
       "        [10, 11, 12]]])"
      ]
     },
     "execution_count": 105,
     "metadata": {},
     "output_type": "execute_result"
    }
   ],
   "source": [
    "arr3d"
   ]
  },
  {
   "cell_type": "code",
   "execution_count": 106,
   "metadata": {},
   "outputs": [
    {
     "data": {
      "text/plain": [
       "(2, 2, 3)"
      ]
     },
     "execution_count": 106,
     "metadata": {},
     "output_type": "execute_result"
    }
   ],
   "source": [
    "arr3d.shape"
   ]
  },
  {
   "cell_type": "code",
   "execution_count": 107,
   "metadata": {},
   "outputs": [
    {
     "data": {
      "text/plain": [
       "array([[1, 2, 3],\n",
       "       [4, 5, 6]])"
      ]
     },
     "execution_count": 107,
     "metadata": {},
     "output_type": "execute_result"
    }
   ],
   "source": [
    "arr3d[0]"
   ]
  },
  {
   "cell_type": "code",
   "execution_count": 108,
   "metadata": {},
   "outputs": [
    {
     "data": {
      "text/plain": [
       "5"
      ]
     },
     "execution_count": 108,
     "metadata": {},
     "output_type": "execute_result"
    }
   ],
   "source": [
    "arr3d[0,1,1]"
   ]
  },
  {
   "cell_type": "markdown",
   "metadata": {},
   "source": [
    "### Indexing with slices"
   ]
  },
  {
   "cell_type": "code",
   "execution_count": 109,
   "metadata": {},
   "outputs": [
    {
     "data": {
      "text/plain": [
       "array([[ 0,  1,  2,  3,  4],\n",
       "       [ 5,  6,  7,  8,  9],\n",
       "       [10, 11, 12, 13, 14],\n",
       "       [15, 16, 17, 18, 19],\n",
       "       [20, 21, 22, 23, 24]])"
      ]
     },
     "execution_count": 109,
     "metadata": {},
     "output_type": "execute_result"
    }
   ],
   "source": [
    "arr2d"
   ]
  },
  {
   "cell_type": "code",
   "execution_count": 110,
   "metadata": {},
   "outputs": [
    {
     "data": {
      "text/plain": [
       "array([ 1,  6, 11, 16, 21])"
      ]
     },
     "execution_count": 110,
     "metadata": {},
     "output_type": "execute_result"
    }
   ],
   "source": [
    "arr2d[:, 1]"
   ]
  },
  {
   "cell_type": "code",
   "execution_count": 111,
   "metadata": {},
   "outputs": [
    {
     "data": {
      "text/plain": [
       "array([[ 7,  8,  9],\n",
       "       [10, 11, 12]])"
      ]
     },
     "execution_count": 111,
     "metadata": {},
     "output_type": "execute_result"
    }
   ],
   "source": [
    "arr3d[1,:,:]"
   ]
  },
  {
   "cell_type": "code",
   "execution_count": 113,
   "metadata": {},
   "outputs": [
    {
     "data": {
      "text/plain": [
       "array([7, 8, 9])"
      ]
     },
     "execution_count": 113,
     "metadata": {},
     "output_type": "execute_result"
    }
   ],
   "source": [
    "arr3d[1,0,:]"
   ]
  },
  {
   "cell_type": "code",
   "execution_count": 115,
   "metadata": {},
   "outputs": [
    {
     "data": {
      "text/plain": [
       "array([[0, 1, 2, 3, 4],\n",
       "       [5, 6, 7, 8, 9]])"
      ]
     },
     "execution_count": 115,
     "metadata": {},
     "output_type": "execute_result"
    }
   ],
   "source": [
    "arr2d[:2]"
   ]
  },
  {
   "cell_type": "code",
   "execution_count": 116,
   "metadata": {},
   "outputs": [
    {
     "data": {
      "text/plain": [
       "array([[3, 4],\n",
       "       [8, 9]])"
      ]
     },
     "execution_count": 116,
     "metadata": {},
     "output_type": "execute_result"
    }
   ],
   "source": [
    "arr2d[:2, 3:]"
   ]
  },
  {
   "cell_type": "code",
   "execution_count": 117,
   "metadata": {},
   "outputs": [
    {
     "data": {
      "text/plain": [
       "array([3, 8])"
      ]
     },
     "execution_count": 117,
     "metadata": {},
     "output_type": "execute_result"
    }
   ],
   "source": [
    "arr2d[:2, 3]"
   ]
  },
  {
   "cell_type": "markdown",
   "metadata": {},
   "source": [
    "### Boolean Indexing"
   ]
  },
  {
   "cell_type": "code",
   "execution_count": 118,
   "metadata": {},
   "outputs": [],
   "source": [
    "names = np.array(['Bob', 'Joe', 'Will', 'Bob', 'Will', 'Joe', 'Joe'])"
   ]
  },
  {
   "cell_type": "code",
   "execution_count": 119,
   "metadata": {},
   "outputs": [],
   "source": [
    "data = np.random.randn(7, 4)"
   ]
  },
  {
   "cell_type": "code",
   "execution_count": 120,
   "metadata": {},
   "outputs": [
    {
     "data": {
      "text/plain": [
       "array(['Bob', 'Joe', 'Will', 'Bob', 'Will', 'Joe', 'Joe'], dtype='<U4')"
      ]
     },
     "execution_count": 120,
     "metadata": {},
     "output_type": "execute_result"
    }
   ],
   "source": [
    "names"
   ]
  },
  {
   "cell_type": "code",
   "execution_count": 121,
   "metadata": {},
   "outputs": [
    {
     "data": {
      "text/plain": [
       "array([[ 0.36083991, -0.51252432, -0.5985606 , -1.16562082],\n",
       "       [ 1.34514268,  1.21426067,  0.33870347,  1.4460514 ],\n",
       "       [-1.24722663,  0.2733077 ,  0.62955315, -0.11284236],\n",
       "       [-0.77229284,  0.96760433, -0.32354442, -0.46905438],\n",
       "       [ 0.68059768,  1.7473263 , -0.19978529,  1.17241458],\n",
       "       [-2.98186697, -0.70027483, -1.94615945, -0.50532747],\n",
       "       [ 0.76069178, -1.63415071, -0.04552191,  0.40075636]])"
      ]
     },
     "execution_count": 121,
     "metadata": {},
     "output_type": "execute_result"
    }
   ],
   "source": [
    "data"
   ]
  },
  {
   "cell_type": "markdown",
   "metadata": {},
   "source": [
    "![Figure 5](imgs/dtypes_001.png)\n",
    "![Figure 6](imgs/dtypes_002.png)"
   ]
  },
  {
   "cell_type": "code",
   "execution_count": 122,
   "metadata": {},
   "outputs": [
    {
     "data": {
      "text/plain": [
       "array([False,  True, False, False, False,  True,  True])"
      ]
     },
     "execution_count": 122,
     "metadata": {},
     "output_type": "execute_result"
    }
   ],
   "source": [
    "names == 'Joe'"
   ]
  },
  {
   "cell_type": "code",
   "execution_count": 123,
   "metadata": {},
   "outputs": [
    {
     "data": {
      "text/plain": [
       "(7, 4)"
      ]
     },
     "execution_count": 123,
     "metadata": {},
     "output_type": "execute_result"
    }
   ],
   "source": [
    "data.shape"
   ]
  },
  {
   "cell_type": "code",
   "execution_count": 124,
   "metadata": {},
   "outputs": [
    {
     "data": {
      "text/plain": [
       "array([[ 0.36083991, -0.51252432, -0.5985606 , -1.16562082],\n",
       "       [ 1.34514268,  1.21426067,  0.33870347,  1.4460514 ],\n",
       "       [-1.24722663,  0.2733077 ,  0.62955315, -0.11284236],\n",
       "       [-0.77229284,  0.96760433, -0.32354442, -0.46905438],\n",
       "       [ 0.68059768,  1.7473263 , -0.19978529,  1.17241458],\n",
       "       [-2.98186697, -0.70027483, -1.94615945, -0.50532747],\n",
       "       [ 0.76069178, -1.63415071, -0.04552191,  0.40075636]])"
      ]
     },
     "execution_count": 124,
     "metadata": {},
     "output_type": "execute_result"
    }
   ],
   "source": [
    "data"
   ]
  },
  {
   "cell_type": "code",
   "execution_count": 125,
   "metadata": {},
   "outputs": [
    {
     "data": {
      "text/plain": [
       "array([[ 1.34514268,  1.21426067,  0.33870347,  1.4460514 ],\n",
       "       [-2.98186697, -0.70027483, -1.94615945, -0.50532747],\n",
       "       [ 0.76069178, -1.63415071, -0.04552191,  0.40075636]])"
      ]
     },
     "execution_count": 125,
     "metadata": {},
     "output_type": "execute_result"
    }
   ],
   "source": [
    "data[names == 'Joe']"
   ]
  },
  {
   "cell_type": "markdown",
   "metadata": {},
   "source": [
    "Note that names has the same length as the array it is indexing"
   ]
  },
  {
   "cell_type": "code",
   "execution_count": 126,
   "metadata": {},
   "outputs": [
    {
     "data": {
      "text/plain": [
       "(7, 7)"
      ]
     },
     "execution_count": 126,
     "metadata": {},
     "output_type": "execute_result"
    }
   ],
   "source": [
    "len(names), len(data)"
   ]
  },
  {
   "cell_type": "code",
   "execution_count": 127,
   "metadata": {},
   "outputs": [
    {
     "data": {
      "text/plain": [
       "array([[ 1.21426067,  0.33870347,  1.4460514 ],\n",
       "       [-0.70027483, -1.94615945, -0.50532747],\n",
       "       [-1.63415071, -0.04552191,  0.40075636]])"
      ]
     },
     "execution_count": 127,
     "metadata": {},
     "output_type": "execute_result"
    }
   ],
   "source": [
    "data[names == 'Joe', 1:]"
   ]
  },
  {
   "cell_type": "code",
   "execution_count": 128,
   "metadata": {},
   "outputs": [
    {
     "data": {
      "text/plain": [
       "array([[-0.51252432, -0.5985606 , -1.16562082],\n",
       "       [ 1.21426067,  0.33870347,  1.4460514 ],\n",
       "       [ 0.96760433, -0.32354442, -0.46905438],\n",
       "       [-0.70027483, -1.94615945, -0.50532747],\n",
       "       [-1.63415071, -0.04552191,  0.40075636]])"
      ]
     },
     "execution_count": 128,
     "metadata": {},
     "output_type": "execute_result"
    }
   ],
   "source": [
    "data[(names == 'Joe') | (names == 'Bob'), 1:]"
   ]
  },
  {
   "cell_type": "code",
   "execution_count": 129,
   "metadata": {},
   "outputs": [
    {
     "data": {
      "text/plain": [
       "array([ True,  True, False,  True, False,  True,  True])"
      ]
     },
     "execution_count": 129,
     "metadata": {},
     "output_type": "execute_result"
    }
   ],
   "source": [
    "(names == 'Joe') | (names == 'Bob')"
   ]
  },
  {
   "cell_type": "code",
   "execution_count": 131,
   "metadata": {},
   "outputs": [],
   "source": [
    "cond = (names == 'Joe') | (names == 'Bob')"
   ]
  },
  {
   "cell_type": "code",
   "execution_count": 133,
   "metadata": {},
   "outputs": [
    {
     "data": {
      "text/plain": [
       "array([[ 0.36083991, -0.51252432, -0.5985606 , -1.16562082],\n",
       "       [ 1.34514268,  1.21426067,  0.33870347,  1.4460514 ],\n",
       "       [-1.24722663,  0.2733077 ,  0.62955315, -0.11284236],\n",
       "       [-0.77229284,  0.96760433, -0.32354442, -0.46905438],\n",
       "       [ 0.68059768,  1.7473263 , -0.19978529,  1.17241458],\n",
       "       [-2.98186697, -0.70027483, -1.94615945, -0.50532747],\n",
       "       [ 0.76069178, -1.63415071, -0.04552191,  0.40075636]])"
      ]
     },
     "execution_count": 133,
     "metadata": {},
     "output_type": "execute_result"
    }
   ],
   "source": [
    "data"
   ]
  },
  {
   "cell_type": "code",
   "execution_count": 132,
   "metadata": {},
   "outputs": [
    {
     "data": {
      "text/plain": [
       "array([ 0.62955315, -0.19978529])"
      ]
     },
     "execution_count": 132,
     "metadata": {},
     "output_type": "execute_result"
    }
   ],
   "source": [
    "data[~cond, 2]"
   ]
  },
  {
   "cell_type": "markdown",
   "metadata": {},
   "source": [
    "#### Use & and | instead of 'and' and 'or'"
   ]
  },
  {
   "cell_type": "code",
   "execution_count": 139,
   "metadata": {},
   "outputs": [
    {
     "data": {
      "text/plain": [
       "array([-0.51252432, -0.5985606 , -1.16562082, -1.24722663, -0.11284236,\n",
       "       -0.77229284, -0.32354442, -0.46905438, -0.19978529, -2.98186697,\n",
       "       -0.70027483, -1.94615945, -0.50532747, -1.63415071, -0.04552191])"
      ]
     },
     "execution_count": 139,
     "metadata": {},
     "output_type": "execute_result"
    }
   ],
   "source": [
    "data[data < 0]"
   ]
  },
  {
   "cell_type": "code",
   "execution_count": 140,
   "metadata": {},
   "outputs": [],
   "source": [
    "data[data < 0] = 0"
   ]
  },
  {
   "cell_type": "code",
   "execution_count": 141,
   "metadata": {},
   "outputs": [
    {
     "data": {
      "text/plain": [
       "array([[0.36083991, 0.        , 0.        , 0.        ],\n",
       "       [1.34514268, 1.21426067, 0.33870347, 1.4460514 ],\n",
       "       [0.        , 0.2733077 , 0.62955315, 0.        ],\n",
       "       [0.        , 0.96760433, 0.        , 0.        ],\n",
       "       [0.68059768, 1.7473263 , 0.        , 1.17241458],\n",
       "       [0.        , 0.        , 0.        , 0.        ],\n",
       "       [0.76069178, 0.        , 0.        , 0.40075636]])"
      ]
     },
     "execution_count": 141,
     "metadata": {},
     "output_type": "execute_result"
    }
   ],
   "source": [
    "data"
   ]
  },
  {
   "cell_type": "markdown",
   "metadata": {},
   "source": [
    "### Fancy Indexing"
   ]
  },
  {
   "cell_type": "markdown",
   "metadata": {},
   "source": [
    "Fancy indexing is a term adopted by numpy to describe indexing using integer arrays"
   ]
  },
  {
   "cell_type": "code",
   "execution_count": 142,
   "metadata": {},
   "outputs": [
    {
     "data": {
      "text/plain": [
       "array([[0.36083991, 0.        , 0.        , 0.        ],\n",
       "       [1.34514268, 1.21426067, 0.33870347, 1.4460514 ],\n",
       "       [0.        , 0.2733077 , 0.62955315, 0.        ],\n",
       "       [0.        , 0.96760433, 0.        , 0.        ],\n",
       "       [0.68059768, 1.7473263 , 0.        , 1.17241458],\n",
       "       [0.        , 0.        , 0.        , 0.        ],\n",
       "       [0.76069178, 0.        , 0.        , 0.40075636]])"
      ]
     },
     "execution_count": 142,
     "metadata": {},
     "output_type": "execute_result"
    }
   ],
   "source": [
    "data"
   ]
  },
  {
   "cell_type": "code",
   "execution_count": 143,
   "metadata": {},
   "outputs": [
    {
     "data": {
      "text/plain": [
       "array([[0.36083991, 0.        , 0.        , 0.        ],\n",
       "       [0.68059768, 1.7473263 , 0.        , 1.17241458],\n",
       "       [0.76069178, 0.        , 0.        , 0.40075636]])"
      ]
     },
     "execution_count": 143,
     "metadata": {},
     "output_type": "execute_result"
    }
   ],
   "source": [
    "data[[0,4,6]]"
   ]
  },
  {
   "cell_type": "code",
   "execution_count": 144,
   "metadata": {},
   "outputs": [
    {
     "data": {
      "text/plain": [
       "array([1.34514268, 0.        , 0.        , 0.62955315])"
      ]
     },
     "execution_count": 144,
     "metadata": {},
     "output_type": "execute_result"
    }
   ],
   "source": [
    "data[[1, 5, 6, 2], [0, 3, 1, 2]] # elements (1,0), (5,3), (6,1), (2,2)"
   ]
  },
  {
   "cell_type": "code",
   "execution_count": 145,
   "metadata": {},
   "outputs": [
    {
     "data": {
      "text/plain": [
       "array([[1.34514268, 1.4460514 , 1.21426067, 0.33870347],\n",
       "       [0.        , 0.        , 0.        , 0.        ],\n",
       "       [0.76069178, 0.40075636, 0.        , 0.        ],\n",
       "       [0.        , 0.        , 0.2733077 , 0.62955315]])"
      ]
     },
     "execution_count": 145,
     "metadata": {},
     "output_type": "execute_result"
    }
   ],
   "source": [
    "data[[1, 5, 6, 2]][:, [0, 3, 1, 2]]"
   ]
  },
  {
   "cell_type": "markdown",
   "metadata": {},
   "source": [
    "### Transposing arrays and swapping axes"
   ]
  },
  {
   "cell_type": "code",
   "execution_count": 146,
   "metadata": {},
   "outputs": [],
   "source": [
    "arr = np.arange(15).reshape((3,5))"
   ]
  },
  {
   "cell_type": "code",
   "execution_count": 149,
   "metadata": {},
   "outputs": [
    {
     "data": {
      "text/plain": [
       "(3, 5)"
      ]
     },
     "execution_count": 149,
     "metadata": {},
     "output_type": "execute_result"
    }
   ],
   "source": [
    "arr.shape"
   ]
  },
  {
   "cell_type": "code",
   "execution_count": 150,
   "metadata": {},
   "outputs": [
    {
     "data": {
      "text/plain": [
       "(5, 3)"
      ]
     },
     "execution_count": 150,
     "metadata": {},
     "output_type": "execute_result"
    }
   ],
   "source": [
    "arr.T.shape"
   ]
  },
  {
   "cell_type": "code",
   "execution_count": 147,
   "metadata": {},
   "outputs": [
    {
     "data": {
      "text/plain": [
       "array([[ 0,  5, 10],\n",
       "       [ 1,  6, 11],\n",
       "       [ 2,  7, 12],\n",
       "       [ 3,  8, 13],\n",
       "       [ 4,  9, 14]])"
      ]
     },
     "execution_count": 147,
     "metadata": {},
     "output_type": "execute_result"
    }
   ],
   "source": [
    "arr.T"
   ]
  },
  {
   "cell_type": "code",
   "execution_count": 148,
   "metadata": {},
   "outputs": [
    {
     "data": {
      "text/plain": [
       "array([[ 30,  80, 130],\n",
       "       [ 80, 255, 430],\n",
       "       [130, 430, 730]])"
      ]
     },
     "execution_count": 148,
     "metadata": {},
     "output_type": "execute_result"
    }
   ],
   "source": [
    "np.dot(arr, arr.T)"
   ]
  },
  {
   "cell_type": "code",
   "execution_count": 153,
   "metadata": {},
   "outputs": [],
   "source": [
    "arr = np.arange(24).reshape((2,3,4))"
   ]
  },
  {
   "cell_type": "code",
   "execution_count": 154,
   "metadata": {},
   "outputs": [
    {
     "data": {
      "text/plain": [
       "array([[[ 0,  1,  2,  3],\n",
       "        [ 4,  5,  6,  7],\n",
       "        [ 8,  9, 10, 11]],\n",
       "\n",
       "       [[12, 13, 14, 15],\n",
       "        [16, 17, 18, 19],\n",
       "        [20, 21, 22, 23]]])"
      ]
     },
     "execution_count": 154,
     "metadata": {},
     "output_type": "execute_result"
    }
   ],
   "source": [
    "arr"
   ]
  },
  {
   "cell_type": "code",
   "execution_count": 155,
   "metadata": {},
   "outputs": [
    {
     "data": {
      "text/plain": [
       "array([[[ 0,  1,  2,  3],\n",
       "        [12, 13, 14, 15]],\n",
       "\n",
       "       [[ 4,  5,  6,  7],\n",
       "        [16, 17, 18, 19]],\n",
       "\n",
       "       [[ 8,  9, 10, 11],\n",
       "        [20, 21, 22, 23]]])"
      ]
     },
     "execution_count": 155,
     "metadata": {},
     "output_type": "execute_result"
    }
   ],
   "source": [
    "arr.transpose((1,0,2)) # transpose the axes, so axis 1, axis 0, axis 2 of arr means shape is (3,2,4)"
   ]
  },
  {
   "cell_type": "code",
   "execution_count": 156,
   "metadata": {},
   "outputs": [
    {
     "data": {
      "text/plain": [
       "(3, 2, 4)"
      ]
     },
     "execution_count": 156,
     "metadata": {},
     "output_type": "execute_result"
    }
   ],
   "source": [
    "arr.transpose((1,0,2)).shape"
   ]
  },
  {
   "cell_type": "code",
   "execution_count": 157,
   "metadata": {},
   "outputs": [
    {
     "data": {
      "text/plain": [
       "array([[[ 0,  1,  2,  3],\n",
       "        [ 4,  5,  6,  7],\n",
       "        [ 8,  9, 10, 11]],\n",
       "\n",
       "       [[12, 13, 14, 15],\n",
       "        [16, 17, 18, 19],\n",
       "        [20, 21, 22, 23]]])"
      ]
     },
     "execution_count": 157,
     "metadata": {},
     "output_type": "execute_result"
    }
   ],
   "source": [
    "arr"
   ]
  },
  {
   "cell_type": "code",
   "execution_count": 158,
   "metadata": {},
   "outputs": [
    {
     "data": {
      "text/plain": [
       "array([[[ 0,  4,  8],\n",
       "        [ 1,  5,  9],\n",
       "        [ 2,  6, 10],\n",
       "        [ 3,  7, 11]],\n",
       "\n",
       "       [[12, 16, 20],\n",
       "        [13, 17, 21],\n",
       "        [14, 18, 22],\n",
       "        [15, 19, 23]]])"
      ]
     },
     "execution_count": 158,
     "metadata": {},
     "output_type": "execute_result"
    }
   ],
   "source": [
    "arr.swapaxes(1,2)"
   ]
  },
  {
   "cell_type": "markdown",
   "metadata": {},
   "source": [
    "## Universal Functions: Fast Element-Wise Array Functions"
   ]
  },
  {
   "cell_type": "markdown",
   "metadata": {},
   "source": [
    "A universal function, or ufunc, is a function that performs element-wise operations on data in ndarrays. You can think of them as fast vectorized wrappers for simple functions that take one or more scalar values and produce one or more scalar results.\n",
    "Many ufuncs are simple element-wise transformations, like sqrt or exp"
   ]
  },
  {
   "cell_type": "code",
   "execution_count": 160,
   "metadata": {},
   "outputs": [],
   "source": [
    "arr = np.arange(10).reshape((2,5))"
   ]
  },
  {
   "cell_type": "code",
   "execution_count": 161,
   "metadata": {},
   "outputs": [
    {
     "data": {
      "text/plain": [
       "array([[0, 1, 2, 3, 4],\n",
       "       [5, 6, 7, 8, 9]])"
      ]
     },
     "execution_count": 161,
     "metadata": {},
     "output_type": "execute_result"
    }
   ],
   "source": [
    "arr"
   ]
  },
  {
   "cell_type": "code",
   "execution_count": 162,
   "metadata": {},
   "outputs": [
    {
     "data": {
      "text/plain": [
       "array([[0.        , 1.        , 1.41421356, 1.73205081, 2.        ],\n",
       "       [2.23606798, 2.44948974, 2.64575131, 2.82842712, 3.        ]])"
      ]
     },
     "execution_count": 162,
     "metadata": {},
     "output_type": "execute_result"
    }
   ],
   "source": [
    "np.sqrt(arr)"
   ]
  },
  {
   "cell_type": "code",
   "execution_count": 164,
   "metadata": {},
   "outputs": [
    {
     "data": {
      "text/plain": [
       "array([[1.00000000e+00, 2.71828183e+00, 7.38905610e+00, 2.00855369e+01,\n",
       "        5.45981500e+01],\n",
       "       [1.48413159e+02, 4.03428793e+02, 1.09663316e+03, 2.98095799e+03,\n",
       "        8.10308393e+03]])"
      ]
     },
     "execution_count": 164,
     "metadata": {},
     "output_type": "execute_result"
    }
   ],
   "source": [
    "np.exp(arr)"
   ]
  },
  {
   "cell_type": "code",
   "execution_count": 165,
   "metadata": {},
   "outputs": [],
   "source": [
    "arr2 = np.random.randn(2,5)"
   ]
  },
  {
   "cell_type": "code",
   "execution_count": 167,
   "metadata": {},
   "outputs": [
    {
     "data": {
      "text/plain": [
       "array([[-0.54321384,  1.17461021, -0.50580658,  1.68213102,  0.55619347],\n",
       "       [ 0.52042492,  0.23632646, -0.11763676, -0.73195813,  0.99224166]])"
      ]
     },
     "execution_count": 167,
     "metadata": {},
     "output_type": "execute_result"
    }
   ],
   "source": [
    "arr2"
   ]
  },
  {
   "cell_type": "code",
   "execution_count": 168,
   "metadata": {},
   "outputs": [
    {
     "data": {
      "text/plain": [
       "array([[-0.54321384,  2.17461021,  1.49419342,  4.68213102,  4.55619347],\n",
       "       [ 5.52042492,  6.23632646,  6.88236324,  7.26804187,  9.99224166]])"
      ]
     },
     "execution_count": 168,
     "metadata": {},
     "output_type": "execute_result"
    }
   ],
   "source": [
    "np.add(arr,arr2) # binary universal func"
   ]
  },
  {
   "cell_type": "code",
   "execution_count": 169,
   "metadata": {},
   "outputs": [
    {
     "data": {
      "text/plain": [
       "array([[0.        , 1.17461021, 2.        , 3.        , 4.        ],\n",
       "       [5.        , 6.        , 7.        , 8.        , 9.        ]])"
      ]
     },
     "execution_count": 169,
     "metadata": {},
     "output_type": "execute_result"
    }
   ],
   "source": [
    "np.maximum(arr, arr2)"
   ]
  },
  {
   "cell_type": "markdown",
   "metadata": {},
   "source": [
    "## Array Oriented Programming with arrays"
   ]
  },
  {
   "cell_type": "markdown",
   "metadata": {},
   "source": [
    "Using NumPy arrays enables you to express many kinds of data processing tasks as concise array expressions that might otherwise require writing loops. This practice of replacing explicit loops with array expressions is commonly referred to as vectorization. In general, vectorized array operations will often be one or two (or more) orders of magnitude faster than their pure Python equivalents, with the biggest impact in any kind of numerical computations."
   ]
  },
  {
   "cell_type": "code",
   "execution_count": 187,
   "metadata": {},
   "outputs": [],
   "source": [
    " points = np.arange(-5, 5, 0.01, dtype=np.float64) # 1000 equally spaced points"
   ]
  },
  {
   "cell_type": "code",
   "execution_count": 188,
   "metadata": {},
   "outputs": [
    {
     "data": {
      "text/plain": [
       "(1000,)"
      ]
     },
     "execution_count": 188,
     "metadata": {},
     "output_type": "execute_result"
    }
   ],
   "source": [
    "points.shape"
   ]
  },
  {
   "cell_type": "code",
   "execution_count": 189,
   "metadata": {},
   "outputs": [
    {
     "data": {
      "text/plain": [
       "array([-5.0000000e+00, -4.9900000e+00, -4.9800000e+00, -4.9700000e+00,\n",
       "       -4.9600000e+00, -4.9500000e+00, -4.9400000e+00, -4.9300000e+00,\n",
       "       -4.9200000e+00, -4.9100000e+00, -4.9000000e+00, -4.8900000e+00,\n",
       "       -4.8800000e+00, -4.8700000e+00, -4.8600000e+00, -4.8500000e+00,\n",
       "       -4.8400000e+00, -4.8300000e+00, -4.8200000e+00, -4.8100000e+00,\n",
       "       -4.8000000e+00, -4.7900000e+00, -4.7800000e+00, -4.7700000e+00,\n",
       "       -4.7600000e+00, -4.7500000e+00, -4.7400000e+00, -4.7300000e+00,\n",
       "       -4.7200000e+00, -4.7100000e+00, -4.7000000e+00, -4.6900000e+00,\n",
       "       -4.6800000e+00, -4.6700000e+00, -4.6600000e+00, -4.6500000e+00,\n",
       "       -4.6400000e+00, -4.6300000e+00, -4.6200000e+00, -4.6100000e+00,\n",
       "       -4.6000000e+00, -4.5900000e+00, -4.5800000e+00, -4.5700000e+00,\n",
       "       -4.5600000e+00, -4.5500000e+00, -4.5400000e+00, -4.5300000e+00,\n",
       "       -4.5200000e+00, -4.5100000e+00, -4.5000000e+00, -4.4900000e+00,\n",
       "       -4.4800000e+00, -4.4700000e+00, -4.4600000e+00, -4.4500000e+00,\n",
       "       -4.4400000e+00, -4.4300000e+00, -4.4200000e+00, -4.4100000e+00,\n",
       "       -4.4000000e+00, -4.3900000e+00, -4.3800000e+00, -4.3700000e+00,\n",
       "       -4.3600000e+00, -4.3500000e+00, -4.3400000e+00, -4.3300000e+00,\n",
       "       -4.3200000e+00, -4.3100000e+00, -4.3000000e+00, -4.2900000e+00,\n",
       "       -4.2800000e+00, -4.2700000e+00, -4.2600000e+00, -4.2500000e+00,\n",
       "       -4.2400000e+00, -4.2300000e+00, -4.2200000e+00, -4.2100000e+00,\n",
       "       -4.2000000e+00, -4.1900000e+00, -4.1800000e+00, -4.1700000e+00,\n",
       "       -4.1600000e+00, -4.1500000e+00, -4.1400000e+00, -4.1300000e+00,\n",
       "       -4.1200000e+00, -4.1100000e+00, -4.1000000e+00, -4.0900000e+00,\n",
       "       -4.0800000e+00, -4.0700000e+00, -4.0600000e+00, -4.0500000e+00,\n",
       "       -4.0400000e+00, -4.0300000e+00, -4.0200000e+00, -4.0100000e+00,\n",
       "       -4.0000000e+00, -3.9900000e+00, -3.9800000e+00, -3.9700000e+00,\n",
       "       -3.9600000e+00, -3.9500000e+00, -3.9400000e+00, -3.9300000e+00,\n",
       "       -3.9200000e+00, -3.9100000e+00, -3.9000000e+00, -3.8900000e+00,\n",
       "       -3.8800000e+00, -3.8700000e+00, -3.8600000e+00, -3.8500000e+00,\n",
       "       -3.8400000e+00, -3.8300000e+00, -3.8200000e+00, -3.8100000e+00,\n",
       "       -3.8000000e+00, -3.7900000e+00, -3.7800000e+00, -3.7700000e+00,\n",
       "       -3.7600000e+00, -3.7500000e+00, -3.7400000e+00, -3.7300000e+00,\n",
       "       -3.7200000e+00, -3.7100000e+00, -3.7000000e+00, -3.6900000e+00,\n",
       "       -3.6800000e+00, -3.6700000e+00, -3.6600000e+00, -3.6500000e+00,\n",
       "       -3.6400000e+00, -3.6300000e+00, -3.6200000e+00, -3.6100000e+00,\n",
       "       -3.6000000e+00, -3.5900000e+00, -3.5800000e+00, -3.5700000e+00,\n",
       "       -3.5600000e+00, -3.5500000e+00, -3.5400000e+00, -3.5300000e+00,\n",
       "       -3.5200000e+00, -3.5100000e+00, -3.5000000e+00, -3.4900000e+00,\n",
       "       -3.4800000e+00, -3.4700000e+00, -3.4600000e+00, -3.4500000e+00,\n",
       "       -3.4400000e+00, -3.4300000e+00, -3.4200000e+00, -3.4100000e+00,\n",
       "       -3.4000000e+00, -3.3900000e+00, -3.3800000e+00, -3.3700000e+00,\n",
       "       -3.3600000e+00, -3.3500000e+00, -3.3400000e+00, -3.3300000e+00,\n",
       "       -3.3200000e+00, -3.3100000e+00, -3.3000000e+00, -3.2900000e+00,\n",
       "       -3.2800000e+00, -3.2700000e+00, -3.2600000e+00, -3.2500000e+00,\n",
       "       -3.2400000e+00, -3.2300000e+00, -3.2200000e+00, -3.2100000e+00,\n",
       "       -3.2000000e+00, -3.1900000e+00, -3.1800000e+00, -3.1700000e+00,\n",
       "       -3.1600000e+00, -3.1500000e+00, -3.1400000e+00, -3.1300000e+00,\n",
       "       -3.1200000e+00, -3.1100000e+00, -3.1000000e+00, -3.0900000e+00,\n",
       "       -3.0800000e+00, -3.0700000e+00, -3.0600000e+00, -3.0500000e+00,\n",
       "       -3.0400000e+00, -3.0300000e+00, -3.0200000e+00, -3.0100000e+00,\n",
       "       -3.0000000e+00, -2.9900000e+00, -2.9800000e+00, -2.9700000e+00,\n",
       "       -2.9600000e+00, -2.9500000e+00, -2.9400000e+00, -2.9300000e+00,\n",
       "       -2.9200000e+00, -2.9100000e+00, -2.9000000e+00, -2.8900000e+00,\n",
       "       -2.8800000e+00, -2.8700000e+00, -2.8600000e+00, -2.8500000e+00,\n",
       "       -2.8400000e+00, -2.8300000e+00, -2.8200000e+00, -2.8100000e+00,\n",
       "       -2.8000000e+00, -2.7900000e+00, -2.7800000e+00, -2.7700000e+00,\n",
       "       -2.7600000e+00, -2.7500000e+00, -2.7400000e+00, -2.7300000e+00,\n",
       "       -2.7200000e+00, -2.7100000e+00, -2.7000000e+00, -2.6900000e+00,\n",
       "       -2.6800000e+00, -2.6700000e+00, -2.6600000e+00, -2.6500000e+00,\n",
       "       -2.6400000e+00, -2.6300000e+00, -2.6200000e+00, -2.6100000e+00,\n",
       "       -2.6000000e+00, -2.5900000e+00, -2.5800000e+00, -2.5700000e+00,\n",
       "       -2.5600000e+00, -2.5500000e+00, -2.5400000e+00, -2.5300000e+00,\n",
       "       -2.5200000e+00, -2.5100000e+00, -2.5000000e+00, -2.4900000e+00,\n",
       "       -2.4800000e+00, -2.4700000e+00, -2.4600000e+00, -2.4500000e+00,\n",
       "       -2.4400000e+00, -2.4300000e+00, -2.4200000e+00, -2.4100000e+00,\n",
       "       -2.4000000e+00, -2.3900000e+00, -2.3800000e+00, -2.3700000e+00,\n",
       "       -2.3600000e+00, -2.3500000e+00, -2.3400000e+00, -2.3300000e+00,\n",
       "       -2.3200000e+00, -2.3100000e+00, -2.3000000e+00, -2.2900000e+00,\n",
       "       -2.2800000e+00, -2.2700000e+00, -2.2600000e+00, -2.2500000e+00,\n",
       "       -2.2400000e+00, -2.2300000e+00, -2.2200000e+00, -2.2100000e+00,\n",
       "       -2.2000000e+00, -2.1900000e+00, -2.1800000e+00, -2.1700000e+00,\n",
       "       -2.1600000e+00, -2.1500000e+00, -2.1400000e+00, -2.1300000e+00,\n",
       "       -2.1200000e+00, -2.1100000e+00, -2.1000000e+00, -2.0900000e+00,\n",
       "       -2.0800000e+00, -2.0700000e+00, -2.0600000e+00, -2.0500000e+00,\n",
       "       -2.0400000e+00, -2.0300000e+00, -2.0200000e+00, -2.0100000e+00,\n",
       "       -2.0000000e+00, -1.9900000e+00, -1.9800000e+00, -1.9700000e+00,\n",
       "       -1.9600000e+00, -1.9500000e+00, -1.9400000e+00, -1.9300000e+00,\n",
       "       -1.9200000e+00, -1.9100000e+00, -1.9000000e+00, -1.8900000e+00,\n",
       "       -1.8800000e+00, -1.8700000e+00, -1.8600000e+00, -1.8500000e+00,\n",
       "       -1.8400000e+00, -1.8300000e+00, -1.8200000e+00, -1.8100000e+00,\n",
       "       -1.8000000e+00, -1.7900000e+00, -1.7800000e+00, -1.7700000e+00,\n",
       "       -1.7600000e+00, -1.7500000e+00, -1.7400000e+00, -1.7300000e+00,\n",
       "       -1.7200000e+00, -1.7100000e+00, -1.7000000e+00, -1.6900000e+00,\n",
       "       -1.6800000e+00, -1.6700000e+00, -1.6600000e+00, -1.6500000e+00,\n",
       "       -1.6400000e+00, -1.6300000e+00, -1.6200000e+00, -1.6100000e+00,\n",
       "       -1.6000000e+00, -1.5900000e+00, -1.5800000e+00, -1.5700000e+00,\n",
       "       -1.5600000e+00, -1.5500000e+00, -1.5400000e+00, -1.5300000e+00,\n",
       "       -1.5200000e+00, -1.5100000e+00, -1.5000000e+00, -1.4900000e+00,\n",
       "       -1.4800000e+00, -1.4700000e+00, -1.4600000e+00, -1.4500000e+00,\n",
       "       -1.4400000e+00, -1.4300000e+00, -1.4200000e+00, -1.4100000e+00,\n",
       "       -1.4000000e+00, -1.3900000e+00, -1.3800000e+00, -1.3700000e+00,\n",
       "       -1.3600000e+00, -1.3500000e+00, -1.3400000e+00, -1.3300000e+00,\n",
       "       -1.3200000e+00, -1.3100000e+00, -1.3000000e+00, -1.2900000e+00,\n",
       "       -1.2800000e+00, -1.2700000e+00, -1.2600000e+00, -1.2500000e+00,\n",
       "       -1.2400000e+00, -1.2300000e+00, -1.2200000e+00, -1.2100000e+00,\n",
       "       -1.2000000e+00, -1.1900000e+00, -1.1800000e+00, -1.1700000e+00,\n",
       "       -1.1600000e+00, -1.1500000e+00, -1.1400000e+00, -1.1300000e+00,\n",
       "       -1.1200000e+00, -1.1100000e+00, -1.1000000e+00, -1.0900000e+00,\n",
       "       -1.0800000e+00, -1.0700000e+00, -1.0600000e+00, -1.0500000e+00,\n",
       "       -1.0400000e+00, -1.0300000e+00, -1.0200000e+00, -1.0100000e+00,\n",
       "       -1.0000000e+00, -9.9000000e-01, -9.8000000e-01, -9.7000000e-01,\n",
       "       -9.6000000e-01, -9.5000000e-01, -9.4000000e-01, -9.3000000e-01,\n",
       "       -9.2000000e-01, -9.1000000e-01, -9.0000000e-01, -8.9000000e-01,\n",
       "       -8.8000000e-01, -8.7000000e-01, -8.6000000e-01, -8.5000000e-01,\n",
       "       -8.4000000e-01, -8.3000000e-01, -8.2000000e-01, -8.1000000e-01,\n",
       "       -8.0000000e-01, -7.9000000e-01, -7.8000000e-01, -7.7000000e-01,\n",
       "       -7.6000000e-01, -7.5000000e-01, -7.4000000e-01, -7.3000000e-01,\n",
       "       -7.2000000e-01, -7.1000000e-01, -7.0000000e-01, -6.9000000e-01,\n",
       "       -6.8000000e-01, -6.7000000e-01, -6.6000000e-01, -6.5000000e-01,\n",
       "       -6.4000000e-01, -6.3000000e-01, -6.2000000e-01, -6.1000000e-01,\n",
       "       -6.0000000e-01, -5.9000000e-01, -5.8000000e-01, -5.7000000e-01,\n",
       "       -5.6000000e-01, -5.5000000e-01, -5.4000000e-01, -5.3000000e-01,\n",
       "       -5.2000000e-01, -5.1000000e-01, -5.0000000e-01, -4.9000000e-01,\n",
       "       -4.8000000e-01, -4.7000000e-01, -4.6000000e-01, -4.5000000e-01,\n",
       "       -4.4000000e-01, -4.3000000e-01, -4.2000000e-01, -4.1000000e-01,\n",
       "       -4.0000000e-01, -3.9000000e-01, -3.8000000e-01, -3.7000000e-01,\n",
       "       -3.6000000e-01, -3.5000000e-01, -3.4000000e-01, -3.3000000e-01,\n",
       "       -3.2000000e-01, -3.1000000e-01, -3.0000000e-01, -2.9000000e-01,\n",
       "       -2.8000000e-01, -2.7000000e-01, -2.6000000e-01, -2.5000000e-01,\n",
       "       -2.4000000e-01, -2.3000000e-01, -2.2000000e-01, -2.1000000e-01,\n",
       "       -2.0000000e-01, -1.9000000e-01, -1.8000000e-01, -1.7000000e-01,\n",
       "       -1.6000000e-01, -1.5000000e-01, -1.4000000e-01, -1.3000000e-01,\n",
       "       -1.2000000e-01, -1.1000000e-01, -1.0000000e-01, -9.0000000e-02,\n",
       "       -8.0000000e-02, -7.0000000e-02, -6.0000000e-02, -5.0000000e-02,\n",
       "       -4.0000000e-02, -3.0000000e-02, -2.0000000e-02, -1.0000000e-02,\n",
       "       -1.0658141e-13,  1.0000000e-02,  2.0000000e-02,  3.0000000e-02,\n",
       "        4.0000000e-02,  5.0000000e-02,  6.0000000e-02,  7.0000000e-02,\n",
       "        8.0000000e-02,  9.0000000e-02,  1.0000000e-01,  1.1000000e-01,\n",
       "        1.2000000e-01,  1.3000000e-01,  1.4000000e-01,  1.5000000e-01,\n",
       "        1.6000000e-01,  1.7000000e-01,  1.8000000e-01,  1.9000000e-01,\n",
       "        2.0000000e-01,  2.1000000e-01,  2.2000000e-01,  2.3000000e-01,\n",
       "        2.4000000e-01,  2.5000000e-01,  2.6000000e-01,  2.7000000e-01,\n",
       "        2.8000000e-01,  2.9000000e-01,  3.0000000e-01,  3.1000000e-01,\n",
       "        3.2000000e-01,  3.3000000e-01,  3.4000000e-01,  3.5000000e-01,\n",
       "        3.6000000e-01,  3.7000000e-01,  3.8000000e-01,  3.9000000e-01,\n",
       "        4.0000000e-01,  4.1000000e-01,  4.2000000e-01,  4.3000000e-01,\n",
       "        4.4000000e-01,  4.5000000e-01,  4.6000000e-01,  4.7000000e-01,\n",
       "        4.8000000e-01,  4.9000000e-01,  5.0000000e-01,  5.1000000e-01,\n",
       "        5.2000000e-01,  5.3000000e-01,  5.4000000e-01,  5.5000000e-01,\n",
       "        5.6000000e-01,  5.7000000e-01,  5.8000000e-01,  5.9000000e-01,\n",
       "        6.0000000e-01,  6.1000000e-01,  6.2000000e-01,  6.3000000e-01,\n",
       "        6.4000000e-01,  6.5000000e-01,  6.6000000e-01,  6.7000000e-01,\n",
       "        6.8000000e-01,  6.9000000e-01,  7.0000000e-01,  7.1000000e-01,\n",
       "        7.2000000e-01,  7.3000000e-01,  7.4000000e-01,  7.5000000e-01,\n",
       "        7.6000000e-01,  7.7000000e-01,  7.8000000e-01,  7.9000000e-01,\n",
       "        8.0000000e-01,  8.1000000e-01,  8.2000000e-01,  8.3000000e-01,\n",
       "        8.4000000e-01,  8.5000000e-01,  8.6000000e-01,  8.7000000e-01,\n",
       "        8.8000000e-01,  8.9000000e-01,  9.0000000e-01,  9.1000000e-01,\n",
       "        9.2000000e-01,  9.3000000e-01,  9.4000000e-01,  9.5000000e-01,\n",
       "        9.6000000e-01,  9.7000000e-01,  9.8000000e-01,  9.9000000e-01,\n",
       "        1.0000000e+00,  1.0100000e+00,  1.0200000e+00,  1.0300000e+00,\n",
       "        1.0400000e+00,  1.0500000e+00,  1.0600000e+00,  1.0700000e+00,\n",
       "        1.0800000e+00,  1.0900000e+00,  1.1000000e+00,  1.1100000e+00,\n",
       "        1.1200000e+00,  1.1300000e+00,  1.1400000e+00,  1.1500000e+00,\n",
       "        1.1600000e+00,  1.1700000e+00,  1.1800000e+00,  1.1900000e+00,\n",
       "        1.2000000e+00,  1.2100000e+00,  1.2200000e+00,  1.2300000e+00,\n",
       "        1.2400000e+00,  1.2500000e+00,  1.2600000e+00,  1.2700000e+00,\n",
       "        1.2800000e+00,  1.2900000e+00,  1.3000000e+00,  1.3100000e+00,\n",
       "        1.3200000e+00,  1.3300000e+00,  1.3400000e+00,  1.3500000e+00,\n",
       "        1.3600000e+00,  1.3700000e+00,  1.3800000e+00,  1.3900000e+00,\n",
       "        1.4000000e+00,  1.4100000e+00,  1.4200000e+00,  1.4300000e+00,\n",
       "        1.4400000e+00,  1.4500000e+00,  1.4600000e+00,  1.4700000e+00,\n",
       "        1.4800000e+00,  1.4900000e+00,  1.5000000e+00,  1.5100000e+00,\n",
       "        1.5200000e+00,  1.5300000e+00,  1.5400000e+00,  1.5500000e+00,\n",
       "        1.5600000e+00,  1.5700000e+00,  1.5800000e+00,  1.5900000e+00,\n",
       "        1.6000000e+00,  1.6100000e+00,  1.6200000e+00,  1.6300000e+00,\n",
       "        1.6400000e+00,  1.6500000e+00,  1.6600000e+00,  1.6700000e+00,\n",
       "        1.6800000e+00,  1.6900000e+00,  1.7000000e+00,  1.7100000e+00,\n",
       "        1.7200000e+00,  1.7300000e+00,  1.7400000e+00,  1.7500000e+00,\n",
       "        1.7600000e+00,  1.7700000e+00,  1.7800000e+00,  1.7900000e+00,\n",
       "        1.8000000e+00,  1.8100000e+00,  1.8200000e+00,  1.8300000e+00,\n",
       "        1.8400000e+00,  1.8500000e+00,  1.8600000e+00,  1.8700000e+00,\n",
       "        1.8800000e+00,  1.8900000e+00,  1.9000000e+00,  1.9100000e+00,\n",
       "        1.9200000e+00,  1.9300000e+00,  1.9400000e+00,  1.9500000e+00,\n",
       "        1.9600000e+00,  1.9700000e+00,  1.9800000e+00,  1.9900000e+00,\n",
       "        2.0000000e+00,  2.0100000e+00,  2.0200000e+00,  2.0300000e+00,\n",
       "        2.0400000e+00,  2.0500000e+00,  2.0600000e+00,  2.0700000e+00,\n",
       "        2.0800000e+00,  2.0900000e+00,  2.1000000e+00,  2.1100000e+00,\n",
       "        2.1200000e+00,  2.1300000e+00,  2.1400000e+00,  2.1500000e+00,\n",
       "        2.1600000e+00,  2.1700000e+00,  2.1800000e+00,  2.1900000e+00,\n",
       "        2.2000000e+00,  2.2100000e+00,  2.2200000e+00,  2.2300000e+00,\n",
       "        2.2400000e+00,  2.2500000e+00,  2.2600000e+00,  2.2700000e+00,\n",
       "        2.2800000e+00,  2.2900000e+00,  2.3000000e+00,  2.3100000e+00,\n",
       "        2.3200000e+00,  2.3300000e+00,  2.3400000e+00,  2.3500000e+00,\n",
       "        2.3600000e+00,  2.3700000e+00,  2.3800000e+00,  2.3900000e+00,\n",
       "        2.4000000e+00,  2.4100000e+00,  2.4200000e+00,  2.4300000e+00,\n",
       "        2.4400000e+00,  2.4500000e+00,  2.4600000e+00,  2.4700000e+00,\n",
       "        2.4800000e+00,  2.4900000e+00,  2.5000000e+00,  2.5100000e+00,\n",
       "        2.5200000e+00,  2.5300000e+00,  2.5400000e+00,  2.5500000e+00,\n",
       "        2.5600000e+00,  2.5700000e+00,  2.5800000e+00,  2.5900000e+00,\n",
       "        2.6000000e+00,  2.6100000e+00,  2.6200000e+00,  2.6300000e+00,\n",
       "        2.6400000e+00,  2.6500000e+00,  2.6600000e+00,  2.6700000e+00,\n",
       "        2.6800000e+00,  2.6900000e+00,  2.7000000e+00,  2.7100000e+00,\n",
       "        2.7200000e+00,  2.7300000e+00,  2.7400000e+00,  2.7500000e+00,\n",
       "        2.7600000e+00,  2.7700000e+00,  2.7800000e+00,  2.7900000e+00,\n",
       "        2.8000000e+00,  2.8100000e+00,  2.8200000e+00,  2.8300000e+00,\n",
       "        2.8400000e+00,  2.8500000e+00,  2.8600000e+00,  2.8700000e+00,\n",
       "        2.8800000e+00,  2.8900000e+00,  2.9000000e+00,  2.9100000e+00,\n",
       "        2.9200000e+00,  2.9300000e+00,  2.9400000e+00,  2.9500000e+00,\n",
       "        2.9600000e+00,  2.9700000e+00,  2.9800000e+00,  2.9900000e+00,\n",
       "        3.0000000e+00,  3.0100000e+00,  3.0200000e+00,  3.0300000e+00,\n",
       "        3.0400000e+00,  3.0500000e+00,  3.0600000e+00,  3.0700000e+00,\n",
       "        3.0800000e+00,  3.0900000e+00,  3.1000000e+00,  3.1100000e+00,\n",
       "        3.1200000e+00,  3.1300000e+00,  3.1400000e+00,  3.1500000e+00,\n",
       "        3.1600000e+00,  3.1700000e+00,  3.1800000e+00,  3.1900000e+00,\n",
       "        3.2000000e+00,  3.2100000e+00,  3.2200000e+00,  3.2300000e+00,\n",
       "        3.2400000e+00,  3.2500000e+00,  3.2600000e+00,  3.2700000e+00,\n",
       "        3.2800000e+00,  3.2900000e+00,  3.3000000e+00,  3.3100000e+00,\n",
       "        3.3200000e+00,  3.3300000e+00,  3.3400000e+00,  3.3500000e+00,\n",
       "        3.3600000e+00,  3.3700000e+00,  3.3800000e+00,  3.3900000e+00,\n",
       "        3.4000000e+00,  3.4100000e+00,  3.4200000e+00,  3.4300000e+00,\n",
       "        3.4400000e+00,  3.4500000e+00,  3.4600000e+00,  3.4700000e+00,\n",
       "        3.4800000e+00,  3.4900000e+00,  3.5000000e+00,  3.5100000e+00,\n",
       "        3.5200000e+00,  3.5300000e+00,  3.5400000e+00,  3.5500000e+00,\n",
       "        3.5600000e+00,  3.5700000e+00,  3.5800000e+00,  3.5900000e+00,\n",
       "        3.6000000e+00,  3.6100000e+00,  3.6200000e+00,  3.6300000e+00,\n",
       "        3.6400000e+00,  3.6500000e+00,  3.6600000e+00,  3.6700000e+00,\n",
       "        3.6800000e+00,  3.6900000e+00,  3.7000000e+00,  3.7100000e+00,\n",
       "        3.7200000e+00,  3.7300000e+00,  3.7400000e+00,  3.7500000e+00,\n",
       "        3.7600000e+00,  3.7700000e+00,  3.7800000e+00,  3.7900000e+00,\n",
       "        3.8000000e+00,  3.8100000e+00,  3.8200000e+00,  3.8300000e+00,\n",
       "        3.8400000e+00,  3.8500000e+00,  3.8600000e+00,  3.8700000e+00,\n",
       "        3.8800000e+00,  3.8900000e+00,  3.9000000e+00,  3.9100000e+00,\n",
       "        3.9200000e+00,  3.9300000e+00,  3.9400000e+00,  3.9500000e+00,\n",
       "        3.9600000e+00,  3.9700000e+00,  3.9800000e+00,  3.9900000e+00,\n",
       "        4.0000000e+00,  4.0100000e+00,  4.0200000e+00,  4.0300000e+00,\n",
       "        4.0400000e+00,  4.0500000e+00,  4.0600000e+00,  4.0700000e+00,\n",
       "        4.0800000e+00,  4.0900000e+00,  4.1000000e+00,  4.1100000e+00,\n",
       "        4.1200000e+00,  4.1300000e+00,  4.1400000e+00,  4.1500000e+00,\n",
       "        4.1600000e+00,  4.1700000e+00,  4.1800000e+00,  4.1900000e+00,\n",
       "        4.2000000e+00,  4.2100000e+00,  4.2200000e+00,  4.2300000e+00,\n",
       "        4.2400000e+00,  4.2500000e+00,  4.2600000e+00,  4.2700000e+00,\n",
       "        4.2800000e+00,  4.2900000e+00,  4.3000000e+00,  4.3100000e+00,\n",
       "        4.3200000e+00,  4.3300000e+00,  4.3400000e+00,  4.3500000e+00,\n",
       "        4.3600000e+00,  4.3700000e+00,  4.3800000e+00,  4.3900000e+00,\n",
       "        4.4000000e+00,  4.4100000e+00,  4.4200000e+00,  4.4300000e+00,\n",
       "        4.4400000e+00,  4.4500000e+00,  4.4600000e+00,  4.4700000e+00,\n",
       "        4.4800000e+00,  4.4900000e+00,  4.5000000e+00,  4.5100000e+00,\n",
       "        4.5200000e+00,  4.5300000e+00,  4.5400000e+00,  4.5500000e+00,\n",
       "        4.5600000e+00,  4.5700000e+00,  4.5800000e+00,  4.5900000e+00,\n",
       "        4.6000000e+00,  4.6100000e+00,  4.6200000e+00,  4.6300000e+00,\n",
       "        4.6400000e+00,  4.6500000e+00,  4.6600000e+00,  4.6700000e+00,\n",
       "        4.6800000e+00,  4.6900000e+00,  4.7000000e+00,  4.7100000e+00,\n",
       "        4.7200000e+00,  4.7300000e+00,  4.7400000e+00,  4.7500000e+00,\n",
       "        4.7600000e+00,  4.7700000e+00,  4.7800000e+00,  4.7900000e+00,\n",
       "        4.8000000e+00,  4.8100000e+00,  4.8200000e+00,  4.8300000e+00,\n",
       "        4.8400000e+00,  4.8500000e+00,  4.8600000e+00,  4.8700000e+00,\n",
       "        4.8800000e+00,  4.8900000e+00,  4.9000000e+00,  4.9100000e+00,\n",
       "        4.9200000e+00,  4.9300000e+00,  4.9400000e+00,  4.9500000e+00,\n",
       "        4.9600000e+00,  4.9700000e+00,  4.9800000e+00,  4.9900000e+00])"
      ]
     },
     "execution_count": 189,
     "metadata": {},
     "output_type": "execute_result"
    }
   ],
   "source": [
    "points"
   ]
  },
  {
   "cell_type": "code",
   "execution_count": 190,
   "metadata": {},
   "outputs": [],
   "source": [
    "points1 = np.linspace(-5,5,1000, endpoint=False, dtype=np.float64)"
   ]
  },
  {
   "cell_type": "code",
   "execution_count": 191,
   "metadata": {},
   "outputs": [
    {
     "data": {
      "text/plain": [
       "(1000,)"
      ]
     },
     "execution_count": 191,
     "metadata": {},
     "output_type": "execute_result"
    }
   ],
   "source": [
    "points1.shape"
   ]
  },
  {
   "cell_type": "code",
   "execution_count": 192,
   "metadata": {},
   "outputs": [
    {
     "data": {
      "text/plain": [
       "array([-5.  , -4.99, -4.98, -4.97, -4.96, -4.95, -4.94, -4.93, -4.92,\n",
       "       -4.91, -4.9 , -4.89, -4.88, -4.87, -4.86, -4.85, -4.84, -4.83,\n",
       "       -4.82, -4.81, -4.8 , -4.79, -4.78, -4.77, -4.76, -4.75, -4.74,\n",
       "       -4.73, -4.72, -4.71, -4.7 , -4.69, -4.68, -4.67, -4.66, -4.65,\n",
       "       -4.64, -4.63, -4.62, -4.61, -4.6 , -4.59, -4.58, -4.57, -4.56,\n",
       "       -4.55, -4.54, -4.53, -4.52, -4.51, -4.5 , -4.49, -4.48, -4.47,\n",
       "       -4.46, -4.45, -4.44, -4.43, -4.42, -4.41, -4.4 , -4.39, -4.38,\n",
       "       -4.37, -4.36, -4.35, -4.34, -4.33, -4.32, -4.31, -4.3 , -4.29,\n",
       "       -4.28, -4.27, -4.26, -4.25, -4.24, -4.23, -4.22, -4.21, -4.2 ,\n",
       "       -4.19, -4.18, -4.17, -4.16, -4.15, -4.14, -4.13, -4.12, -4.11,\n",
       "       -4.1 , -4.09, -4.08, -4.07, -4.06, -4.05, -4.04, -4.03, -4.02,\n",
       "       -4.01, -4.  , -3.99, -3.98, -3.97, -3.96, -3.95, -3.94, -3.93,\n",
       "       -3.92, -3.91, -3.9 , -3.89, -3.88, -3.87, -3.86, -3.85, -3.84,\n",
       "       -3.83, -3.82, -3.81, -3.8 , -3.79, -3.78, -3.77, -3.76, -3.75,\n",
       "       -3.74, -3.73, -3.72, -3.71, -3.7 , -3.69, -3.68, -3.67, -3.66,\n",
       "       -3.65, -3.64, -3.63, -3.62, -3.61, -3.6 , -3.59, -3.58, -3.57,\n",
       "       -3.56, -3.55, -3.54, -3.53, -3.52, -3.51, -3.5 , -3.49, -3.48,\n",
       "       -3.47, -3.46, -3.45, -3.44, -3.43, -3.42, -3.41, -3.4 , -3.39,\n",
       "       -3.38, -3.37, -3.36, -3.35, -3.34, -3.33, -3.32, -3.31, -3.3 ,\n",
       "       -3.29, -3.28, -3.27, -3.26, -3.25, -3.24, -3.23, -3.22, -3.21,\n",
       "       -3.2 , -3.19, -3.18, -3.17, -3.16, -3.15, -3.14, -3.13, -3.12,\n",
       "       -3.11, -3.1 , -3.09, -3.08, -3.07, -3.06, -3.05, -3.04, -3.03,\n",
       "       -3.02, -3.01, -3.  , -2.99, -2.98, -2.97, -2.96, -2.95, -2.94,\n",
       "       -2.93, -2.92, -2.91, -2.9 , -2.89, -2.88, -2.87, -2.86, -2.85,\n",
       "       -2.84, -2.83, -2.82, -2.81, -2.8 , -2.79, -2.78, -2.77, -2.76,\n",
       "       -2.75, -2.74, -2.73, -2.72, -2.71, -2.7 , -2.69, -2.68, -2.67,\n",
       "       -2.66, -2.65, -2.64, -2.63, -2.62, -2.61, -2.6 , -2.59, -2.58,\n",
       "       -2.57, -2.56, -2.55, -2.54, -2.53, -2.52, -2.51, -2.5 , -2.49,\n",
       "       -2.48, -2.47, -2.46, -2.45, -2.44, -2.43, -2.42, -2.41, -2.4 ,\n",
       "       -2.39, -2.38, -2.37, -2.36, -2.35, -2.34, -2.33, -2.32, -2.31,\n",
       "       -2.3 , -2.29, -2.28, -2.27, -2.26, -2.25, -2.24, -2.23, -2.22,\n",
       "       -2.21, -2.2 , -2.19, -2.18, -2.17, -2.16, -2.15, -2.14, -2.13,\n",
       "       -2.12, -2.11, -2.1 , -2.09, -2.08, -2.07, -2.06, -2.05, -2.04,\n",
       "       -2.03, -2.02, -2.01, -2.  , -1.99, -1.98, -1.97, -1.96, -1.95,\n",
       "       -1.94, -1.93, -1.92, -1.91, -1.9 , -1.89, -1.88, -1.87, -1.86,\n",
       "       -1.85, -1.84, -1.83, -1.82, -1.81, -1.8 , -1.79, -1.78, -1.77,\n",
       "       -1.76, -1.75, -1.74, -1.73, -1.72, -1.71, -1.7 , -1.69, -1.68,\n",
       "       -1.67, -1.66, -1.65, -1.64, -1.63, -1.62, -1.61, -1.6 , -1.59,\n",
       "       -1.58, -1.57, -1.56, -1.55, -1.54, -1.53, -1.52, -1.51, -1.5 ,\n",
       "       -1.49, -1.48, -1.47, -1.46, -1.45, -1.44, -1.43, -1.42, -1.41,\n",
       "       -1.4 , -1.39, -1.38, -1.37, -1.36, -1.35, -1.34, -1.33, -1.32,\n",
       "       -1.31, -1.3 , -1.29, -1.28, -1.27, -1.26, -1.25, -1.24, -1.23,\n",
       "       -1.22, -1.21, -1.2 , -1.19, -1.18, -1.17, -1.16, -1.15, -1.14,\n",
       "       -1.13, -1.12, -1.11, -1.1 , -1.09, -1.08, -1.07, -1.06, -1.05,\n",
       "       -1.04, -1.03, -1.02, -1.01, -1.  , -0.99, -0.98, -0.97, -0.96,\n",
       "       -0.95, -0.94, -0.93, -0.92, -0.91, -0.9 , -0.89, -0.88, -0.87,\n",
       "       -0.86, -0.85, -0.84, -0.83, -0.82, -0.81, -0.8 , -0.79, -0.78,\n",
       "       -0.77, -0.76, -0.75, -0.74, -0.73, -0.72, -0.71, -0.7 , -0.69,\n",
       "       -0.68, -0.67, -0.66, -0.65, -0.64, -0.63, -0.62, -0.61, -0.6 ,\n",
       "       -0.59, -0.58, -0.57, -0.56, -0.55, -0.54, -0.53, -0.52, -0.51,\n",
       "       -0.5 , -0.49, -0.48, -0.47, -0.46, -0.45, -0.44, -0.43, -0.42,\n",
       "       -0.41, -0.4 , -0.39, -0.38, -0.37, -0.36, -0.35, -0.34, -0.33,\n",
       "       -0.32, -0.31, -0.3 , -0.29, -0.28, -0.27, -0.26, -0.25, -0.24,\n",
       "       -0.23, -0.22, -0.21, -0.2 , -0.19, -0.18, -0.17, -0.16, -0.15,\n",
       "       -0.14, -0.13, -0.12, -0.11, -0.1 , -0.09, -0.08, -0.07, -0.06,\n",
       "       -0.05, -0.04, -0.03, -0.02, -0.01,  0.  ,  0.01,  0.02,  0.03,\n",
       "        0.04,  0.05,  0.06,  0.07,  0.08,  0.09,  0.1 ,  0.11,  0.12,\n",
       "        0.13,  0.14,  0.15,  0.16,  0.17,  0.18,  0.19,  0.2 ,  0.21,\n",
       "        0.22,  0.23,  0.24,  0.25,  0.26,  0.27,  0.28,  0.29,  0.3 ,\n",
       "        0.31,  0.32,  0.33,  0.34,  0.35,  0.36,  0.37,  0.38,  0.39,\n",
       "        0.4 ,  0.41,  0.42,  0.43,  0.44,  0.45,  0.46,  0.47,  0.48,\n",
       "        0.49,  0.5 ,  0.51,  0.52,  0.53,  0.54,  0.55,  0.56,  0.57,\n",
       "        0.58,  0.59,  0.6 ,  0.61,  0.62,  0.63,  0.64,  0.65,  0.66,\n",
       "        0.67,  0.68,  0.69,  0.7 ,  0.71,  0.72,  0.73,  0.74,  0.75,\n",
       "        0.76,  0.77,  0.78,  0.79,  0.8 ,  0.81,  0.82,  0.83,  0.84,\n",
       "        0.85,  0.86,  0.87,  0.88,  0.89,  0.9 ,  0.91,  0.92,  0.93,\n",
       "        0.94,  0.95,  0.96,  0.97,  0.98,  0.99,  1.  ,  1.01,  1.02,\n",
       "        1.03,  1.04,  1.05,  1.06,  1.07,  1.08,  1.09,  1.1 ,  1.11,\n",
       "        1.12,  1.13,  1.14,  1.15,  1.16,  1.17,  1.18,  1.19,  1.2 ,\n",
       "        1.21,  1.22,  1.23,  1.24,  1.25,  1.26,  1.27,  1.28,  1.29,\n",
       "        1.3 ,  1.31,  1.32,  1.33,  1.34,  1.35,  1.36,  1.37,  1.38,\n",
       "        1.39,  1.4 ,  1.41,  1.42,  1.43,  1.44,  1.45,  1.46,  1.47,\n",
       "        1.48,  1.49,  1.5 ,  1.51,  1.52,  1.53,  1.54,  1.55,  1.56,\n",
       "        1.57,  1.58,  1.59,  1.6 ,  1.61,  1.62,  1.63,  1.64,  1.65,\n",
       "        1.66,  1.67,  1.68,  1.69,  1.7 ,  1.71,  1.72,  1.73,  1.74,\n",
       "        1.75,  1.76,  1.77,  1.78,  1.79,  1.8 ,  1.81,  1.82,  1.83,\n",
       "        1.84,  1.85,  1.86,  1.87,  1.88,  1.89,  1.9 ,  1.91,  1.92,\n",
       "        1.93,  1.94,  1.95,  1.96,  1.97,  1.98,  1.99,  2.  ,  2.01,\n",
       "        2.02,  2.03,  2.04,  2.05,  2.06,  2.07,  2.08,  2.09,  2.1 ,\n",
       "        2.11,  2.12,  2.13,  2.14,  2.15,  2.16,  2.17,  2.18,  2.19,\n",
       "        2.2 ,  2.21,  2.22,  2.23,  2.24,  2.25,  2.26,  2.27,  2.28,\n",
       "        2.29,  2.3 ,  2.31,  2.32,  2.33,  2.34,  2.35,  2.36,  2.37,\n",
       "        2.38,  2.39,  2.4 ,  2.41,  2.42,  2.43,  2.44,  2.45,  2.46,\n",
       "        2.47,  2.48,  2.49,  2.5 ,  2.51,  2.52,  2.53,  2.54,  2.55,\n",
       "        2.56,  2.57,  2.58,  2.59,  2.6 ,  2.61,  2.62,  2.63,  2.64,\n",
       "        2.65,  2.66,  2.67,  2.68,  2.69,  2.7 ,  2.71,  2.72,  2.73,\n",
       "        2.74,  2.75,  2.76,  2.77,  2.78,  2.79,  2.8 ,  2.81,  2.82,\n",
       "        2.83,  2.84,  2.85,  2.86,  2.87,  2.88,  2.89,  2.9 ,  2.91,\n",
       "        2.92,  2.93,  2.94,  2.95,  2.96,  2.97,  2.98,  2.99,  3.  ,\n",
       "        3.01,  3.02,  3.03,  3.04,  3.05,  3.06,  3.07,  3.08,  3.09,\n",
       "        3.1 ,  3.11,  3.12,  3.13,  3.14,  3.15,  3.16,  3.17,  3.18,\n",
       "        3.19,  3.2 ,  3.21,  3.22,  3.23,  3.24,  3.25,  3.26,  3.27,\n",
       "        3.28,  3.29,  3.3 ,  3.31,  3.32,  3.33,  3.34,  3.35,  3.36,\n",
       "        3.37,  3.38,  3.39,  3.4 ,  3.41,  3.42,  3.43,  3.44,  3.45,\n",
       "        3.46,  3.47,  3.48,  3.49,  3.5 ,  3.51,  3.52,  3.53,  3.54,\n",
       "        3.55,  3.56,  3.57,  3.58,  3.59,  3.6 ,  3.61,  3.62,  3.63,\n",
       "        3.64,  3.65,  3.66,  3.67,  3.68,  3.69,  3.7 ,  3.71,  3.72,\n",
       "        3.73,  3.74,  3.75,  3.76,  3.77,  3.78,  3.79,  3.8 ,  3.81,\n",
       "        3.82,  3.83,  3.84,  3.85,  3.86,  3.87,  3.88,  3.89,  3.9 ,\n",
       "        3.91,  3.92,  3.93,  3.94,  3.95,  3.96,  3.97,  3.98,  3.99,\n",
       "        4.  ,  4.01,  4.02,  4.03,  4.04,  4.05,  4.06,  4.07,  4.08,\n",
       "        4.09,  4.1 ,  4.11,  4.12,  4.13,  4.14,  4.15,  4.16,  4.17,\n",
       "        4.18,  4.19,  4.2 ,  4.21,  4.22,  4.23,  4.24,  4.25,  4.26,\n",
       "        4.27,  4.28,  4.29,  4.3 ,  4.31,  4.32,  4.33,  4.34,  4.35,\n",
       "        4.36,  4.37,  4.38,  4.39,  4.4 ,  4.41,  4.42,  4.43,  4.44,\n",
       "        4.45,  4.46,  4.47,  4.48,  4.49,  4.5 ,  4.51,  4.52,  4.53,\n",
       "        4.54,  4.55,  4.56,  4.57,  4.58,  4.59,  4.6 ,  4.61,  4.62,\n",
       "        4.63,  4.64,  4.65,  4.66,  4.67,  4.68,  4.69,  4.7 ,  4.71,\n",
       "        4.72,  4.73,  4.74,  4.75,  4.76,  4.77,  4.78,  4.79,  4.8 ,\n",
       "        4.81,  4.82,  4.83,  4.84,  4.85,  4.86,  4.87,  4.88,  4.89,\n",
       "        4.9 ,  4.91,  4.92,  4.93,  4.94,  4.95,  4.96,  4.97,  4.98,\n",
       "        4.99])"
      ]
     },
     "execution_count": 192,
     "metadata": {},
     "output_type": "execute_result"
    }
   ],
   "source": [
    "points1"
   ]
  },
  {
   "cell_type": "code",
   "execution_count": 193,
   "metadata": {},
   "outputs": [
    {
     "data": {
      "text/plain": [
       "array([ True,  True,  True, False, False, False, False, False, False,\n",
       "       False, False, False, False, False, False, False, False, False,\n",
       "       False, False, False, False, False, False, False, False, False,\n",
       "       False, False, False, False, False, False, False, False, False,\n",
       "       False, False, False, False, False, False, False, False, False,\n",
       "       False, False, False, False, False, False, False, False, False,\n",
       "       False, False, False, False, False, False, False, False, False,\n",
       "       False, False, False, False, False, False, False, False, False,\n",
       "       False, False, False, False, False, False, False, False, False,\n",
       "       False, False, False, False, False, False, False, False, False,\n",
       "       False, False, False, False, False, False, False, False, False,\n",
       "       False, False, False, False, False, False, False, False, False,\n",
       "       False, False, False, False, False, False, False, False, False,\n",
       "       False, False, False, False, False, False, False, False, False,\n",
       "       False, False, False, False, False, False, False, False, False,\n",
       "       False, False, False, False, False, False, False, False, False,\n",
       "       False, False, False, False, False, False, False, False, False,\n",
       "       False, False, False, False, False, False, False, False, False,\n",
       "       False, False, False, False, False, False, False, False, False,\n",
       "       False, False, False, False, False, False, False, False, False,\n",
       "       False, False, False, False, False, False, False, False, False,\n",
       "       False, False, False, False, False, False, False, False, False,\n",
       "       False, False, False, False, False, False, False, False, False,\n",
       "       False, False, False, False, False, False, False, False, False,\n",
       "       False, False, False, False, False, False, False, False, False,\n",
       "       False, False, False, False, False, False, False, False, False,\n",
       "       False, False, False, False, False, False, False, False, False,\n",
       "       False, False, False, False, False, False, False, False, False,\n",
       "       False, False, False, False, False, False, False, False, False,\n",
       "       False, False, False, False, False, False, False, False, False,\n",
       "       False, False, False, False, False, False, False, False, False,\n",
       "       False, False, False, False, False, False, False, False, False,\n",
       "       False, False, False, False, False, False, False, False, False,\n",
       "       False, False, False, False, False, False, False, False, False,\n",
       "       False, False, False, False, False, False, False, False, False,\n",
       "       False, False, False, False, False, False, False, False, False,\n",
       "       False, False, False, False, False, False, False, False, False,\n",
       "       False, False, False, False, False, False, False, False, False,\n",
       "       False, False, False, False, False, False, False, False, False,\n",
       "       False, False, False, False, False, False, False, False, False,\n",
       "       False, False, False, False, False, False, False, False, False,\n",
       "       False, False, False, False, False, False, False, False, False,\n",
       "       False, False, False, False, False, False, False, False, False,\n",
       "       False, False, False, False, False, False, False, False, False,\n",
       "       False, False, False, False, False, False, False, False, False,\n",
       "       False, False, False, False, False, False, False, False, False,\n",
       "       False, False, False, False, False, False, False, False, False,\n",
       "       False, False, False, False, False, False, False, False, False,\n",
       "       False, False, False, False, False, False, False, False, False,\n",
       "       False, False, False, False, False, False, False, False, False,\n",
       "       False, False, False, False, False, False, False, False, False,\n",
       "       False, False, False, False, False, False, False, False, False,\n",
       "       False, False, False, False, False, False, False, False, False,\n",
       "       False, False, False, False, False, False, False, False, False,\n",
       "       False, False, False, False, False, False, False, False, False,\n",
       "       False, False, False, False, False, False, False, False, False,\n",
       "       False, False, False, False, False, False, False, False, False,\n",
       "       False, False, False, False, False, False, False, False, False,\n",
       "       False, False, False, False, False, False, False, False, False,\n",
       "       False, False, False, False, False, False, False, False, False,\n",
       "       False, False, False, False, False, False, False, False, False,\n",
       "       False, False, False, False, False, False, False, False, False,\n",
       "       False, False, False, False, False, False, False, False, False,\n",
       "       False, False, False, False, False, False, False, False, False,\n",
       "       False, False, False, False, False, False, False, False, False,\n",
       "       False, False, False, False, False, False, False, False, False,\n",
       "       False, False, False, False, False, False, False, False, False,\n",
       "       False, False, False, False, False, False, False, False, False,\n",
       "       False, False, False, False, False, False, False, False, False,\n",
       "       False, False, False, False, False, False, False, False, False,\n",
       "       False, False, False, False, False, False, False, False, False,\n",
       "       False, False, False, False, False, False, False, False, False,\n",
       "       False, False, False, False, False, False, False, False, False,\n",
       "       False, False, False, False, False, False, False, False, False,\n",
       "       False, False, False, False, False, False, False, False, False,\n",
       "       False, False, False, False, False, False, False, False, False,\n",
       "       False, False, False, False, False, False, False, False, False,\n",
       "       False, False, False, False, False, False, False, False, False,\n",
       "       False, False, False, False, False, False, False, False, False,\n",
       "       False, False, False, False, False, False, False, False, False,\n",
       "       False, False, False, False, False, False, False, False, False,\n",
       "       False, False, False, False, False, False, False, False, False,\n",
       "       False, False, False, False, False, False, False, False, False,\n",
       "       False, False, False, False, False, False, False, False, False,\n",
       "       False, False, False, False, False, False, False, False, False,\n",
       "       False, False, False, False, False, False, False, False, False,\n",
       "       False, False, False, False, False, False, False, False, False,\n",
       "       False, False, False, False, False, False, False, False, False,\n",
       "       False, False, False, False, False, False, False, False, False,\n",
       "       False, False, False, False, False, False, False, False, False,\n",
       "       False, False, False, False, False, False, False, False, False,\n",
       "       False, False, False, False, False, False, False, False, False,\n",
       "       False, False, False, False, False, False, False, False, False,\n",
       "       False, False, False, False, False, False, False, False, False,\n",
       "       False, False, False, False, False, False, False, False, False,\n",
       "       False, False, False, False, False, False, False, False, False,\n",
       "       False, False, False, False, False, False, False, False, False,\n",
       "       False, False, False, False, False, False, False, False, False,\n",
       "       False, False, False, False, False, False, False, False, False,\n",
       "       False, False, False, False, False, False, False, False, False,\n",
       "       False, False, False, False, False, False, False, False, False,\n",
       "       False, False, False, False, False, False, False, False, False,\n",
       "       False, False, False, False, False, False, False, False, False,\n",
       "       False, False, False, False, False, False, False, False, False,\n",
       "       False, False, False, False, False, False, False, False, False,\n",
       "       False, False, False, False, False, False, False, False, False,\n",
       "       False, False, False, False, False, False, False, False, False,\n",
       "       False, False, False, False, False, False, False, False, False,\n",
       "       False, False, False, False, False, False, False, False, False,\n",
       "       False, False, False, False, False, False, False, False, False,\n",
       "       False, False, False, False, False, False, False, False, False,\n",
       "       False])"
      ]
     },
     "execution_count": 193,
     "metadata": {},
     "output_type": "execute_result"
    }
   ],
   "source": [
    "points == points1"
   ]
  },
  {
   "cell_type": "markdown",
   "metadata": {},
   "source": [
    "The essential difference between NumPy linspace and NumPy arange is that linspace enables you to control the precise end value, whereas arange gives you more direct control over the increments between values in the sequence.\n",
    "\n",
    "To be clear, if you use them carefully, both linspace and arange can be used to create evenly spaced sequences. To a large extent, these are two similar different tools for creating sequences, and which you use will be a matter of preference. I personally find np.arange to be more intuitive, so I tend to prefer arange over linspace. Again though, this will mostly be a matter of preference, so try them both and see which you prefer."
   ]
  },
  {
   "cell_type": "code",
   "execution_count": 196,
   "metadata": {},
   "outputs": [
    {
     "data": {
      "text/plain": [
       "[<matplotlib.lines.Line2D at 0x7fe08c1872b0>]"
      ]
     },
     "execution_count": 196,
     "metadata": {},
     "output_type": "execute_result"
    },
    {
     "data": {
      "image/png": "[encoded data removed]",
      "text/plain": [
       "<Figure size 432x288 with 1 Axes>"
      ]
     },
     "metadata": {
      "needs_background": "light"
     },
     "output_type": "display_data"
    }
   ],
   "source": [
    "import matplotlib.pyplot as plt\n",
    "%matplotlib inline\n",
    "plt.plot(points, points1)"
   ]
  },
  {
   "cell_type": "code",
   "execution_count": 197,
   "metadata": {},
   "outputs": [],
   "source": [
    "xs, ys = np.meshgrid(points, points1)"
   ]
  },
  {
   "cell_type": "code",
   "execution_count": 198,
   "metadata": {},
   "outputs": [
    {
     "data": {
      "text/plain": [
       "array([[-5.  , -4.99, -4.98, ...,  4.97,  4.98,  4.99],\n",
       "       [-5.  , -4.99, -4.98, ...,  4.97,  4.98,  4.99],\n",
       "       [-5.  , -4.99, -4.98, ...,  4.97,  4.98,  4.99],\n",
       "       ...,\n",
       "       [-5.  , -4.99, -4.98, ...,  4.97,  4.98,  4.99],\n",
       "       [-5.  , -4.99, -4.98, ...,  4.97,  4.98,  4.99],\n",
       "       [-5.  , -4.99, -4.98, ...,  4.97,  4.98,  4.99]])"
      ]
     },
     "execution_count": 198,
     "metadata": {},
     "output_type": "execute_result"
    }
   ],
   "source": [
    "xs"
   ]
  },
  {
   "cell_type": "markdown",
   "metadata": {},
   "source": [
    "The np.meshgrid function takes two 1D arrays and produces two 2D matrices corresponding to all pairs of (x, y) in the two arrays:"
   ]
  },
  {
   "cell_type": "code",
   "execution_count": 199,
   "metadata": {},
   "outputs": [],
   "source": [
    "z = np.sqrt(xs**2, ys**2)"
   ]
  },
  {
   "cell_type": "markdown",
   "metadata": {},
   "source": [
    "### Expressing Conditional Logic as Array Operations"
   ]
  },
  {
   "cell_type": "code",
   "execution_count": 200,
   "metadata": {},
   "outputs": [],
   "source": [
    "xarr = np.array([1.1, 1.2, 1.3, 1.4, 1.5])\n",
    "\n",
    "yarr = np.array([2.1, 2.2, 2.3, 2.4, 2.5])\n",
    "\n",
    "cond = np.array([True, False, True, True, False])"
   ]
  },
  {
   "cell_type": "code",
   "execution_count": 201,
   "metadata": {},
   "outputs": [],
   "source": [
    "result = np.where(cond, xarr, yarr)"
   ]
  },
  {
   "cell_type": "code",
   "execution_count": 202,
   "metadata": {},
   "outputs": [
    {
     "data": {
      "text/plain": [
       "array([1.1, 2.2, 1.3, 1.4, 2.5])"
      ]
     },
     "execution_count": 202,
     "metadata": {},
     "output_type": "execute_result"
    }
   ],
   "source": [
    "result"
   ]
  },
  {
   "cell_type": "code",
   "execution_count": 203,
   "metadata": {},
   "outputs": [
    {
     "data": {
      "text/plain": [
       "array([[ 1.7347347 ,  0.28386504, -0.22791167,  1.36971482],\n",
       "       [-0.71567586,  0.38794004,  0.930493  , -1.40110011],\n",
       "       [-0.65293538,  0.43215415,  0.26161341, -1.6731832 ],\n",
       "       [ 1.47348455,  0.52390281, -0.94591781, -0.12912405]])"
      ]
     },
     "execution_count": 203,
     "metadata": {},
     "output_type": "execute_result"
    }
   ],
   "source": [
    "arr = np.random.randn(4,4)\n",
    "arr"
   ]
  },
  {
   "cell_type": "code",
   "execution_count": 204,
   "metadata": {},
   "outputs": [
    {
     "data": {
      "text/plain": [
       "array([[1.7347347 , 0.28386504, 0.        , 1.36971482],\n",
       "       [0.        , 0.38794004, 0.930493  , 0.        ],\n",
       "       [0.        , 0.43215415, 0.26161341, 0.        ],\n",
       "       [1.47348455, 0.52390281, 0.        , 0.        ]])"
      ]
     },
     "execution_count": 204,
     "metadata": {},
     "output_type": "execute_result"
    }
   ],
   "source": [
    "np.where(arr < 0, 0, arr) # set only negative values to 0"
   ]
  },
  {
   "cell_type": "markdown",
   "metadata": {},
   "source": [
    "### Mathematical and statistical methods"
   ]
  },
  {
   "cell_type": "code",
   "execution_count": 205,
   "metadata": {},
   "outputs": [],
   "source": [
    "arr = np.random.randn(5,4)"
   ]
  },
  {
   "cell_type": "code",
   "execution_count": 206,
   "metadata": {},
   "outputs": [
    {
     "data": {
      "text/plain": [
       "array([[ 0.5599978 , -1.10763687, -0.03671797,  1.66748292],\n",
       "       [-0.89258515,  0.6999842 ,  1.50880038,  0.60554385],\n",
       "       [ 0.73226649, -0.20442411,  0.97432007,  0.30182561],\n",
       "       [-1.66260567, -1.13264573,  0.4592122 , -1.43144348],\n",
       "       [ 0.40022341, -0.74020127,  0.5334593 ,  0.45764127]])"
      ]
     },
     "execution_count": 206,
     "metadata": {},
     "output_type": "execute_result"
    }
   ],
   "source": [
    "arr"
   ]
  },
  {
   "cell_type": "code",
   "execution_count": 207,
   "metadata": {},
   "outputs": [
    {
     "data": {
      "text/plain": [
       "0.0846248629554689"
      ]
     },
     "execution_count": 207,
     "metadata": {},
     "output_type": "execute_result"
    }
   ],
   "source": [
    "arr.mean()"
   ]
  },
  {
   "cell_type": "code",
   "execution_count": 208,
   "metadata": {},
   "outputs": [
    {
     "data": {
      "text/plain": [
       "0.0846248629554689"
      ]
     },
     "execution_count": 208,
     "metadata": {},
     "output_type": "execute_result"
    }
   ],
   "source": [
    "np.mean(arr)"
   ]
  },
  {
   "cell_type": "code",
   "execution_count": 212,
   "metadata": {},
   "outputs": [
    {
     "data": {
      "text/plain": [
       "0.27078146999999997"
      ]
     },
     "execution_count": 212,
     "metadata": {},
     "output_type": "execute_result"
    }
   ],
   "source": [
    " (0.5599978 + -1.10763687 + -0.03671797 +  1.66748292)/4"
   ]
  },
  {
   "cell_type": "markdown",
   "metadata": {},
   "source": [
    " arr.mean(1) means “compute mean across the columns” where arr.sum(0) means “compute sum down the rows.”"
   ]
  },
  {
   "cell_type": "code",
   "execution_count": 211,
   "metadata": {},
   "outputs": [
    {
     "data": {
      "text/plain": [
       "array([ 0.27078147,  0.48043582,  0.45099702, -0.94187067,  0.16278068])"
      ]
     },
     "execution_count": 211,
     "metadata": {},
     "output_type": "execute_result"
    }
   ],
   "source": [
    "arr.mean(axis=1)"
   ]
  },
  {
   "cell_type": "code",
   "execution_count": 213,
   "metadata": {},
   "outputs": [
    {
     "data": {
      "text/plain": [
       "array([ 0.27078147,  0.48043582,  0.45099702, -0.94187067,  0.16278068])"
      ]
     },
     "execution_count": 213,
     "metadata": {},
     "output_type": "execute_result"
    }
   ],
   "source": [
    "np.mean(arr, axis=1)"
   ]
  },
  {
   "cell_type": "code",
   "execution_count": 214,
   "metadata": {},
   "outputs": [
    {
     "data": {
      "text/plain": [
       "array([ 0.5599978 , -0.54763906, -0.58435703,  1.08312589,  0.19054074,\n",
       "        0.89052494,  2.39932532,  3.00486917,  3.73713566,  3.53271155,\n",
       "        4.50703162,  4.80885723,  3.14625156,  2.01360583,  2.47281803,\n",
       "        1.04137455,  1.44159796,  0.70139669,  1.23485599,  1.69249726])"
      ]
     },
     "execution_count": 214,
     "metadata": {},
     "output_type": "execute_result"
    }
   ],
   "source": [
    "arr.cumsum()"
   ]
  },
  {
   "cell_type": "code",
   "execution_count": 215,
   "metadata": {},
   "outputs": [
    {
     "data": {
      "text/plain": [
       "array([[ 0.5599978 , -1.10763687, -0.03671797,  1.66748292],\n",
       "       [-0.33258735, -0.40765267,  1.47208241,  2.27302677],\n",
       "       [ 0.39967914, -0.61207678,  2.44640249,  2.57485239],\n",
       "       [-1.26292654, -1.74472251,  2.90561469,  1.1434089 ],\n",
       "       [-0.86270312, -2.48492378,  3.43907399,  1.60105017]])"
      ]
     },
     "execution_count": 215,
     "metadata": {},
     "output_type": "execute_result"
    }
   ],
   "source": [
    "arr.cumsum(axis=0)"
   ]
  },
  {
   "cell_type": "markdown",
   "metadata": {},
   "source": [
    "### Methods for Boolean Arrays"
   ]
  },
  {
   "cell_type": "code",
   "execution_count": 221,
   "metadata": {},
   "outputs": [],
   "source": [
    "arr = np.random.randn(1000)"
   ]
  },
  {
   "cell_type": "code",
   "execution_count": 222,
   "metadata": {},
   "outputs": [
    {
     "data": {
      "text/plain": [
       "513"
      ]
     },
     "execution_count": 222,
     "metadata": {},
     "output_type": "execute_result"
    }
   ],
   "source": [
    "(arr > 0).sum()"
   ]
  },
  {
   "cell_type": "code",
   "execution_count": 223,
   "metadata": {},
   "outputs": [
    {
     "data": {
      "text/plain": [
       "False"
      ]
     },
     "execution_count": 223,
     "metadata": {},
     "output_type": "execute_result"
    }
   ],
   "source": [
    "(arr > 0).all()"
   ]
  },
  {
   "cell_type": "code",
   "execution_count": 224,
   "metadata": {},
   "outputs": [
    {
     "data": {
      "text/plain": [
       "True"
      ]
     },
     "execution_count": 224,
     "metadata": {},
     "output_type": "execute_result"
    }
   ],
   "source": [
    "(arr > 0).any()"
   ]
  },
  {
   "cell_type": "markdown",
   "metadata": {},
   "source": [
    "### Sorting a numpy array"
   ]
  },
  {
   "cell_type": "code",
   "execution_count": 230,
   "metadata": {},
   "outputs": [],
   "source": [
    "arr = np.random.randn(1000)"
   ]
  },
  {
   "cell_type": "code",
   "execution_count": 231,
   "metadata": {},
   "outputs": [
    {
     "data": {
      "text/plain": [
       "array([ 3.51712755e-01,  2.68356580e-01,  1.13045508e-01, -6.47402868e-01,\n",
       "        5.89957756e-01,  2.81642355e-01,  1.88894600e+00,  6.91157800e-01,\n",
       "        3.51863552e-01, -1.77864080e+00,  6.10615112e-01, -5.95472259e-01,\n",
       "        2.05772869e+00, -1.29173690e+00,  8.40860232e-01,  8.64557173e-01,\n",
       "       -6.73301920e-02,  3.07663344e-01, -2.49817158e-01,  1.70917098e+00,\n",
       "       -2.46318150e+00,  2.35788119e-01,  4.13245026e-01, -7.48805283e-01,\n",
       "       -3.00132338e-01,  1.43758135e+00, -1.41078382e-01,  1.14007994e+00,\n",
       "       -1.01090014e+00, -1.19911588e+00, -3.89564058e-02, -3.16333909e-01,\n",
       "       -4.32169438e-01,  4.42099582e-02,  2.17076634e-01,  1.15920358e-01,\n",
       "        3.91306033e-01,  1.96164669e+00, -8.85952094e-01,  1.15121315e+00,\n",
       "        1.65148565e-02, -4.32258890e-02, -1.39757572e+00,  7.74324610e-01,\n",
       "       -1.69817171e-01, -7.56617619e-01,  1.04182575e+00,  1.97349733e+00,\n",
       "        1.37924006e+00, -3.33436888e-01, -5.39849019e-01, -2.13971682e+00,\n",
       "       -3.36205800e+00,  1.86708284e-01,  8.47244824e-01,  1.82932107e+00,\n",
       "       -6.68738557e-02, -1.03442148e+00, -1.80282218e+00,  6.12321142e-01,\n",
       "        2.38770786e+00,  4.98993471e-01, -2.82490141e-01,  4.27275172e-01,\n",
       "       -1.91478777e-01,  3.54977881e-01, -7.70823676e-01, -5.42666093e-01,\n",
       "       -9.63515540e-01, -6.34253969e-01,  1.42402387e+00, -7.15729817e-01,\n",
       "        1.06687122e+00, -1.39345102e+00,  1.18475645e+00,  1.66366265e+00,\n",
       "        1.17583217e+00,  8.01333494e-02,  2.10301478e+00, -2.19700812e+00,\n",
       "        1.52696009e+00, -1.82947227e+00,  3.88446107e-01, -3.93659621e-01,\n",
       "        2.51587161e+00, -9.58905133e-01,  3.82016234e-01,  7.33819119e-01,\n",
       "        1.87887858e+00,  1.42358876e+00, -2.57981058e-01,  5.68790941e-01,\n",
       "       -7.09482324e-01,  8.20899222e-01,  1.91450830e-02,  7.05779015e-01,\n",
       "       -1.32642449e+00, -1.56356817e+00,  3.25897300e-01, -4.27452476e-02,\n",
       "       -5.11743372e-01, -4.86857821e-01, -8.61770242e-01,  4.76020979e-01,\n",
       "        1.17997952e-01,  8.89937504e-01, -8.35839318e-01, -2.37052529e-01,\n",
       "        1.83652670e-01, -9.45854282e-01, -4.56062496e-01,  3.98508052e-01,\n",
       "       -7.01493464e-01,  2.20172018e-01, -9.89093789e-01, -2.33407795e-01,\n",
       "       -6.71224497e-01,  1.81406977e+00,  4.66037137e-02, -2.17468570e+00,\n",
       "       -9.42226282e-01, -6.08122691e-01, -6.25256013e-02,  9.41254823e-01,\n",
       "       -1.86917810e+00,  4.67532624e-01,  5.71005819e-01, -7.85672555e-01,\n",
       "       -1.36484160e+00,  2.85570920e-01,  1.24507541e+00, -2.72962493e-01,\n",
       "       -5.12145287e-01,  2.87850742e-01,  2.41118642e-01,  5.86690608e-01,\n",
       "       -3.30300669e-01,  1.85490943e+00, -1.34650452e+00,  1.64875519e+00,\n",
       "        8.75552070e-01,  1.57109202e-01,  8.52099986e-01, -9.90933031e-01,\n",
       "        1.96522680e-01, -2.23215540e+00,  4.52026582e-01,  1.04473213e+00,\n",
       "       -3.78096697e-02,  1.62759870e+00, -2.85564269e-01,  3.30637742e-01,\n",
       "        4.48927470e-01,  4.13398504e-01, -1.81666140e+00,  9.09060605e-01,\n",
       "       -1.71514512e+00, -4.32801964e-02, -6.67530698e-01, -3.72578063e-01,\n",
       "        1.72438685e+00, -3.06041003e-01,  3.56519798e-01,  2.34299887e-01,\n",
       "       -7.83963514e-01,  9.00415564e-01,  5.01651983e-01, -6.68979183e-01,\n",
       "       -7.49314103e-01,  4.15991029e-01,  5.74556699e-02, -9.03182156e-01,\n",
       "       -3.21647732e-01, -3.69144353e-01, -5.29925742e-01,  6.80796087e-01,\n",
       "        1.25232704e+00,  5.54167992e-01,  1.65528977e+00,  3.86892271e-01,\n",
       "        6.63300035e-01,  1.70748734e+00,  1.06369575e-01,  7.30512646e-01,\n",
       "        7.02794472e-01, -4.46628185e-01, -1.26443562e+00,  6.36925896e-01,\n",
       "        7.28208757e-01,  2.44711163e-01,  4.11769783e-02,  6.87467245e-01,\n",
       "       -1.88426219e+00, -9.06600371e-01,  2.22709827e+00,  2.09509497e+00,\n",
       "        1.80817878e-01,  1.41987427e+00,  7.01230379e-01, -7.41628875e-01,\n",
       "       -2.60878642e-02, -6.22996364e-01, -4.98081240e-01, -1.52036078e+00,\n",
       "       -7.16118750e-01, -1.15197423e+00, -1.58925840e-01, -3.10224680e-01,\n",
       "        1.12621975e+00,  5.97604799e-01, -2.05023970e+00, -4.36944196e-02,\n",
       "        9.46718422e-01, -7.38705348e-01, -4.52323480e-01,  6.83872186e-01,\n",
       "       -4.24582139e-01,  2.21030708e+00, -9.37476545e-02, -1.53293085e+00,\n",
       "        1.43759261e+00,  1.81320624e+00,  7.13231077e-01, -1.83282018e+00,\n",
       "       -4.57376860e-01,  8.47410384e-03,  5.13097547e-01,  1.03961488e+00,\n",
       "        3.08327397e-01, -1.09739166e+00, -1.44411546e+00, -8.86672659e-01,\n",
       "        1.28877041e+00,  8.13312691e-01, -1.73037862e+00, -2.73947981e-01,\n",
       "        1.97554855e+00,  1.51176301e-01, -1.06136367e-02,  1.15565946e-01,\n",
       "       -6.18447257e-02, -1.58821750e+00, -8.66587780e-01,  2.46743050e-01,\n",
       "       -2.76328452e-01,  1.12484584e+00, -2.53943196e-01, -1.60122579e-01,\n",
       "       -8.24451967e-01, -1.39404110e+00,  4.05834111e-01,  8.30198494e-01,\n",
       "        1.27485927e+00, -1.26130381e+00,  7.14206955e-01, -1.51102094e+00,\n",
       "       -1.61724971e+00,  2.59875587e-01, -1.57516198e+00,  2.05075767e+00,\n",
       "        1.20612751e+00,  6.00868102e-01,  1.21431732e-01, -1.01412962e+00,\n",
       "        3.86847131e-01, -1.22182776e+00,  5.28885320e-01, -1.67468574e+00,\n",
       "       -1.01609960e+00,  2.00999497e+00, -1.31793536e+00, -2.31168862e+00,\n",
       "       -3.65424569e-01,  1.29285522e+00,  1.46714931e-01,  6.81350169e-01,\n",
       "       -1.47438760e-02, -9.98111033e-01, -3.21262424e-01, -1.89187505e+00,\n",
       "       -1.47764172e+00,  6.58713862e-01, -5.18992345e-01,  3.78185412e-01,\n",
       "       -1.77484652e+00,  9.08051898e-02,  7.30631956e-01, -8.77628721e-01,\n",
       "       -7.09385789e-01,  7.24457548e-01, -5.31096213e-01,  5.04446130e-01,\n",
       "       -1.04427477e+00, -2.70286891e-01, -1.14939036e+00, -4.97949554e-01,\n",
       "        4.75880952e-01,  3.31345334e-01, -3.40877173e-01,  2.29389423e-01,\n",
       "       -2.32458289e-01, -1.14197086e+00,  2.81606706e-01, -2.59770397e-01,\n",
       "       -1.08192896e-01, -2.25304779e-01,  2.65854440e-01, -2.02606913e-01,\n",
       "       -2.57418973e-01,  9.76236943e-01, -2.17354845e+00,  7.04298944e-01,\n",
       "        1.72066997e-01,  4.19175263e-01,  7.37908830e-02, -6.31708711e-01,\n",
       "        7.91588677e-01,  1.26610772e+00, -1.54184028e-01,  2.63242427e-01,\n",
       "        1.80015755e+00,  3.56401904e-01, -3.13309745e-01,  1.26587245e+00,\n",
       "       -3.50002914e-02, -7.21595210e-01, -3.96530249e-01, -3.91116672e-01,\n",
       "       -5.05871987e-01, -1.28080129e+00,  6.35200569e-01,  6.68694668e-01,\n",
       "       -5.07404468e-01,  4.11221056e-01,  1.60460387e+00,  6.47050807e-01,\n",
       "        1.48445824e+00, -9.01784242e-02, -2.82817639e-01, -1.97696606e+00,\n",
       "       -1.31553086e+00,  1.00590707e+00, -3.21008111e-01, -1.79619437e+00,\n",
       "       -9.69722473e-01,  6.88802411e-01, -8.12289402e-02, -2.84029805e-01,\n",
       "        5.10149403e-01,  1.96831305e+00, -9.05938876e-01,  3.01587587e-02,\n",
       "        1.37367865e+00,  6.16342508e-01, -7.09826215e-01,  2.86099567e-01,\n",
       "        1.80421893e-01,  6.02711025e-01,  9.49093917e-01, -7.47668487e-01,\n",
       "       -6.91310448e-01,  1.65575823e+00,  1.30468642e+00,  3.16710411e-01,\n",
       "       -1.45190216e-01, -1.55411953e+00,  4.06513465e-01, -3.97085945e-01,\n",
       "       -1.12029207e-01, -1.16703550e+00, -7.15521704e-02,  1.02427835e+00,\n",
       "       -4.52450708e-01,  7.14641531e-01, -1.76440353e+00, -6.81738141e-01,\n",
       "       -3.35438842e+00,  1.05753542e+00, -1.31693727e+00,  3.50116696e-01,\n",
       "       -2.70304146e-01,  1.25912016e+00,  1.10011251e+00,  1.19756413e+00,\n",
       "       -1.33533199e+00, -2.88149878e-01,  4.03944216e-01, -4.02377140e-02,\n",
       "        1.84185995e-01,  2.65044559e-01, -1.04521151e+00, -2.46945531e-01,\n",
       "        5.14094978e-01,  9.98213054e-01, -1.14940600e+00, -1.72567662e+00,\n",
       "       -9.93677089e-01, -7.34376723e-01, -1.73211201e+00, -1.29717689e-01,\n",
       "       -8.74900155e-01,  3.17987543e-01, -1.52255658e+00, -1.31462690e+00,\n",
       "       -5.33959636e-01, -1.51180137e-01, -9.10013879e-01, -1.85534594e-01,\n",
       "       -8.72814256e-01,  1.44276737e-02,  2.03107108e-01, -2.90688388e-01,\n",
       "       -1.96406732e+00, -2.65901117e-01,  4.97704875e-01,  1.14703820e+00,\n",
       "        5.36725051e-01,  2.05176732e+00,  3.41040916e-01, -4.65157637e-02,\n",
       "       -1.40689425e+00,  5.62215059e-01,  8.36586509e-01, -5.87732273e-02,\n",
       "        1.51833928e+00, -6.45946146e-01,  3.40481675e-01, -9.83077681e-01,\n",
       "        1.70924147e+00,  9.04172544e-01, -7.71808303e-01, -2.66350404e-01,\n",
       "       -7.78970191e-01,  4.49358386e-01, -1.09034137e+00, -8.19312563e-01,\n",
       "        1.05542468e-01, -9.30417985e-01, -3.26977948e-02,  3.59461111e-01,\n",
       "        6.92041291e-01, -1.12092816e+00,  1.09819592e-01,  1.02396706e+00,\n",
       "       -1.18526255e+00, -3.35648980e-01, -1.89877273e+00,  9.98079312e-01,\n",
       "        1.15193898e+00, -1.49811091e+00, -3.32498147e-01,  2.65852061e-01,\n",
       "        5.24862103e-01, -9.17441685e-01,  1.24813324e-01, -1.03924709e+00,\n",
       "       -8.05509686e-01,  1.12576905e+00, -1.45060683e+00,  1.43038723e+00,\n",
       "        2.91072996e-01,  1.19407500e+00, -4.09432233e-01, -7.89280166e-02,\n",
       "       -1.29388268e+00,  3.01884173e-01,  1.73365480e-01, -3.87346739e-01,\n",
       "        5.75434997e-01, -1.95107297e+00, -1.86200726e+00,  4.55678289e-01,\n",
       "       -2.02391440e+00,  1.93093282e+00,  1.40480773e+00, -1.05661903e+00,\n",
       "       -1.43563567e-01, -8.83714362e-02,  9.13603469e-01, -6.17250510e-01,\n",
       "        2.65958184e-01,  5.37880856e-01, -3.18416221e-01, -6.57407320e-01,\n",
       "       -1.08513909e+00,  1.55550170e-01, -4.75233138e-01, -2.41964050e-01,\n",
       "       -1.88855129e+00, -6.24134777e-01, -8.20160831e-02, -7.61799971e-01,\n",
       "       -9.93592511e-02,  8.26325455e-01, -6.45606869e-01, -4.75804246e-01,\n",
       "       -7.75894353e-01, -4.88199712e-01,  3.03620412e-01, -1.20941377e+00,\n",
       "       -5.88544595e-01, -7.28097956e-01,  4.71793708e-01,  9.69569746e-01,\n",
       "       -3.26121626e-01,  4.70450077e-01, -6.42079084e-01, -7.31390679e-01,\n",
       "        9.93200189e-02,  1.99128335e+00,  1.81110053e+00,  1.57461025e+00,\n",
       "        1.49755243e-01, -8.93126493e-01,  5.43275373e-01,  1.03901404e+00,\n",
       "        4.62727172e-01, -1.10053815e+00, -4.57225563e-01, -1.05371056e+00,\n",
       "       -6.02652682e-01, -1.02934948e-01,  4.35449245e-01,  2.00391250e+00,\n",
       "        7.87619919e-02, -8.43201084e-01,  7.91376195e-01,  1.82762525e+00,\n",
       "       -2.98490245e-02,  2.62232019e-01,  2.56820577e-01,  8.65902627e-01,\n",
       "       -1.03145023e+00,  1.07565629e+00, -7.28295892e-01, -9.64903119e-01,\n",
       "        5.23591731e-01,  1.04045629e+00, -3.50921344e-02, -5.27379089e-01,\n",
       "        1.54277432e+00, -5.08799394e-01, -1.55573320e+00, -6.78026218e-01,\n",
       "       -8.88795545e-01,  3.33401219e-01, -1.26012546e-01,  8.87271423e-02,\n",
       "        7.09248150e-01,  4.63998096e-01,  2.10139720e-01,  7.30182084e-01,\n",
       "       -9.28261902e-01,  2.53298931e-02, -2.41722472e-01,  1.65087415e+00,\n",
       "        5.19821842e-02,  1.73182942e+00,  1.76333205e+00,  1.03186044e+00,\n",
       "        9.37170438e-02,  1.24131019e+00, -2.18092543e+00, -2.67226166e+00,\n",
       "       -1.30376048e-01,  6.40773615e-01, -1.55649474e-02,  6.08822675e-01,\n",
       "       -2.48469489e-01,  6.00465680e-02,  1.38953729e+00, -4.43303855e-01,\n",
       "       -1.04060103e+00, -1.25038532e+00, -6.28363637e-01, -3.25574237e-01,\n",
       "        3.72210157e-01, -1.93462171e+00, -4.17340367e-01, -4.56860784e-01,\n",
       "        5.49276534e-02,  6.34068186e-01, -3.07620594e-01, -7.35666470e-01,\n",
       "       -4.30463771e-02,  7.46057245e-02, -6.50831338e-01,  4.93218464e-01,\n",
       "        4.85664093e-01, -2.65005373e-01,  4.44299296e-01, -6.69666358e-01,\n",
       "       -9.58503404e-01, -5.19512544e-01, -7.09235918e-01, -9.31864789e-01,\n",
       "        1.00703448e+00, -1.32433984e+00,  1.89766499e-01,  2.03646662e+00,\n",
       "        4.51843644e-01, -5.51834320e-01, -7.08878448e-02, -1.92628150e+00,\n",
       "        6.59674791e-02,  2.50860538e-01,  1.08451897e+00, -1.25474084e-01,\n",
       "        5.51283173e-01,  3.58136840e-02, -5.15477753e-01,  1.61753852e+00,\n",
       "       -2.28237293e+00, -4.03689594e-01,  5.40112513e-01, -1.54933986e-01,\n",
       "        1.67382370e+00,  3.22784178e-01, -3.98295222e-01,  1.98973529e+00,\n",
       "        1.66996095e-01,  1.84844294e+00,  1.90660476e-01, -1.53254873e+00,\n",
       "        6.47797395e-01, -1.00083187e+00,  3.24784077e-01,  3.92264814e-02,\n",
       "        6.23251917e-01, -3.00733589e+00, -1.26191922e-01,  3.14272782e-01,\n",
       "        4.90746055e-01, -9.08597238e-01,  1.84851334e+00, -6.91431890e-01,\n",
       "       -4.02906540e-01,  1.24327701e+00,  1.31335478e+00, -2.66941477e-02,\n",
       "       -1.97206059e+00,  8.78257761e-01,  8.93352441e-01,  7.71701792e-01,\n",
       "        1.14653410e+00, -1.72012465e+00, -1.42378397e+00,  1.12684019e+00,\n",
       "       -1.49532134e+00, -6.50860956e-01, -1.79886213e+00,  1.66685123e+00,\n",
       "       -7.65776728e-01,  2.50961442e+00,  5.31101372e-01,  3.98431987e-01,\n",
       "        7.05650971e-01, -4.22985942e-01,  9.65202774e-01, -1.23942007e+00,\n",
       "        4.68874108e-01,  1.34308922e+00,  2.61132335e+00,  7.69311575e-01,\n",
       "       -1.27174883e-01, -1.96675846e+00,  9.25927823e-01, -5.85408954e-01,\n",
       "       -3.91530763e-01,  1.01862911e+00, -2.59054185e-01,  2.01612514e+00,\n",
       "       -8.34715609e-01, -2.01796694e-02, -3.08324285e-01, -1.32853989e+00,\n",
       "        1.26560990e-03, -8.96779703e-01,  6.93371223e-01,  1.07666960e+00,\n",
       "        8.48791025e-01,  2.89430312e-01, -7.91153474e-01,  5.53026596e-01,\n",
       "       -9.83508579e-01, -9.68264923e-01, -1.80905622e-01, -2.25901413e-01,\n",
       "       -1.00623639e+00, -1.01661527e+00, -8.92094946e-01, -1.20722746e+00,\n",
       "        8.78508326e-01,  1.22247126e+00, -2.35774164e-02, -8.22890588e-01,\n",
       "       -1.38196532e+00,  7.18408422e-01, -8.22604889e-01, -6.90746081e-01,\n",
       "        8.44339819e-01,  8.74737324e-01, -5.35836150e-01,  2.08157462e+00,\n",
       "       -5.42511760e-01,  8.04598849e-01,  4.53186325e-01,  7.06689278e-01,\n",
       "        3.98792110e-01,  4.57761887e-01,  2.76836695e-01, -5.31715322e-01,\n",
       "       -1.35733881e+00,  1.97191582e-01, -2.54074775e-01, -8.46565157e-01,\n",
       "        1.03576767e+00, -1.82349835e-01, -8.18713278e-01, -1.36160693e+00,\n",
       "        4.92702118e-01, -1.49861062e+00,  1.15576181e+00,  1.89554282e-01,\n",
       "        1.48021097e-01, -9.55330329e-01, -5.42329485e-01, -2.68489180e-01,\n",
       "        6.92400524e-01,  1.74855138e-01, -8.95515526e-01,  1.90694208e-01,\n",
       "       -1.52015196e+00,  1.19454953e+00,  5.12029166e-01,  5.33336098e-01,\n",
       "        1.30424219e+00, -1.89286707e-01, -4.47842579e-01,  3.83035986e-01,\n",
       "        8.54107236e-01,  1.29108352e+00, -2.77254028e-01, -1.16063931e+00,\n",
       "       -6.31233142e-02, -6.21089900e-01, -2.09895623e-01, -4.55077731e-03,\n",
       "        7.08320987e-02, -7.61790711e-02,  2.64346446e+00, -3.92825208e-01,\n",
       "       -9.72513166e-01, -6.09776405e-01, -1.83602833e+00, -1.59652242e-01,\n",
       "        5.52570915e-01, -1.55529028e+00, -1.30678719e+00, -9.29474065e-01,\n",
       "       -5.95537998e-01,  1.26905123e-01,  1.76845834e-01, -5.28869193e-01,\n",
       "       -8.85704089e-02,  9.40510168e-01,  1.97286059e+00,  7.40193357e-01,\n",
       "        1.24570251e+00,  1.12412183e+00, -5.79300294e-01, -5.34146547e-01,\n",
       "        3.37602674e-01,  1.81459419e-01, -9.54655577e-01,  3.10637686e-02,\n",
       "        3.47798206e-01, -2.21215558e+00,  2.85126471e-01,  2.25149619e-01,\n",
       "       -2.32096844e+00, -5.60980653e-01, -1.56020936e+00, -8.21053118e-01,\n",
       "       -1.66452696e+00, -2.20916167e+00, -3.43760750e-01,  4.32891539e-01,\n",
       "        2.55813154e-01, -2.49009023e-01, -5.78784859e-01,  4.98687490e-01,\n",
       "        9.02222869e-01,  1.39908465e+00, -1.78752395e-02, -2.81641901e-03,\n",
       "        3.91592208e-01,  1.03238713e+00, -1.64957704e+00, -2.56964517e-01,\n",
       "       -4.16969919e-01, -8.89475183e-01,  1.98067323e+00, -1.78670760e+00,\n",
       "        2.67438279e-01, -9.84434202e-01,  3.56273472e-01,  9.54583656e-01,\n",
       "       -1.64174678e+00, -1.55442710e+00, -3.54664930e-01,  1.75914650e+00,\n",
       "        8.50943301e-01, -1.34480024e+00,  4.94128485e-01, -2.41207751e-01,\n",
       "        1.46041380e+00, -8.18720138e-01,  9.60464672e-01,  1.08766998e+00,\n",
       "        7.20775708e-01, -5.50228074e-01, -1.27127161e+00,  9.64937187e-01,\n",
       "       -1.06066122e+00, -1.05140729e+00,  4.42058212e-01, -3.69241279e-01,\n",
       "        9.87568910e-01,  5.79747948e-01,  1.41425230e+00,  1.17403363e+00,\n",
       "        1.49178266e-01, -1.06665839e+00,  1.50559426e+00,  1.20825659e-01,\n",
       "       -3.24729284e-01, -1.47893897e+00,  1.69742357e+00,  1.68029511e+00,\n",
       "        8.25453049e-01,  3.66502996e-01,  7.41763436e-01, -9.52336497e-01,\n",
       "       -1.33535134e+00,  2.92855649e-01,  1.43742581e+00, -7.78062322e-01,\n",
       "        3.87578664e-01, -1.10407010e+00, -7.40228494e-01, -1.03242730e+00,\n",
       "        4.53804253e-01,  8.78070788e-01,  2.16149763e-01, -4.05118714e-02,\n",
       "        3.01289113e-01, -1.47082952e-01,  2.21882820e+00,  2.52765947e-01,\n",
       "       -1.48340243e-01,  5.60145560e-02, -6.02965101e-01, -5.30502386e-01,\n",
       "        1.86359094e+00, -1.53259355e+00,  1.50785455e+00,  1.20560606e+00,\n",
       "        5.45071526e-01,  1.34629799e+00,  9.23737458e-01,  1.31076238e+00,\n",
       "       -1.16754730e+00,  2.27363484e+00,  8.76940411e-02,  1.72544127e+00,\n",
       "        7.33993607e-01,  9.92346552e-01,  1.48683089e-01, -4.18866216e-01,\n",
       "        9.56809500e-01,  1.13719625e+00, -2.23311358e+00,  1.33084599e+00,\n",
       "       -3.28839874e-01,  8.47872077e-02, -2.90715783e-01, -2.02107043e-01,\n",
       "        9.24245023e-01, -1.79204645e-01,  2.14392976e-01, -2.07444752e-01,\n",
       "       -2.04807220e-01, -4.07521570e-01, -1.03823016e-01, -1.03425672e+00,\n",
       "       -1.42828828e+00,  4.39334194e-01,  6.41770097e-01, -3.98024134e-02,\n",
       "        2.98130449e-01, -8.36058068e-01, -4.19921675e-01, -1.01080982e-02,\n",
       "        2.88811417e-02, -1.16513495e+00, -9.37405094e-01,  7.31455058e-01,\n",
       "        4.81095976e-01,  1.41979530e+00, -2.45878093e-01, -3.17211089e-01,\n",
       "       -9.83137947e-01,  1.37792900e+00, -8.62120551e-01,  1.48658651e+00,\n",
       "        1.56383776e-01, -7.34087853e-01,  2.15234083e+00, -6.18617193e-01,\n",
       "        8.32674038e-02, -1.80062847e+00, -2.75304358e-01, -6.11733063e-01,\n",
       "       -7.68285389e-01, -6.35370243e-02,  7.11834757e-01,  7.40219907e-01,\n",
       "        2.08870833e+00, -7.01633103e-01, -9.89899334e-01, -3.30379412e-01,\n",
       "       -9.31798386e-01,  2.50210867e+00,  1.42108434e-01, -1.18346054e+00,\n",
       "       -1.25177030e-01,  8.32561603e-01,  8.94049647e-02, -1.26102909e+00,\n",
       "       -3.55350026e-01,  7.64104716e-01,  1.89168182e+00,  9.52126332e-01,\n",
       "       -2.83311817e-01, -2.27456745e-01, -6.60321896e-01, -1.28104226e-01,\n",
       "       -3.10520947e+00,  1.06386399e-01,  5.71876337e-01,  7.24617521e-01,\n",
       "       -2.58210583e+00, -6.27245137e-01, -1.14469110e-01,  1.14500959e+00,\n",
       "        1.25012446e+00, -1.28819968e+00, -2.93838006e-01,  5.54479317e-01,\n",
       "        2.16937052e-01, -8.64070477e-01, -1.64008983e+00,  2.00047327e+00,\n",
       "       -4.96815600e-01,  2.38367886e-01, -8.92088915e-01,  1.00945077e-01,\n",
       "       -9.52661752e-01, -1.82539894e-01, -1.60209543e-01,  4.04397208e-01,\n",
       "       -6.17016420e-01,  2.93249055e-01,  2.42862196e-01, -1.03429186e-01,\n",
       "       -2.01360760e-01,  1.37539382e+00, -1.59865062e+00, -2.37533912e-01,\n",
       "        1.30458584e+00,  4.41915677e-01, -1.74904425e-01,  2.99274346e-01,\n",
       "        6.26601128e-01, -1.30794883e+00, -4.06762327e-01,  6.31204231e-01,\n",
       "        3.03564164e-01,  7.35644231e-01,  1.73238305e+00, -1.44733213e+00,\n",
       "       -5.43543601e-01,  2.14189735e+00, -1.21370836e+00, -2.87816143e-01,\n",
       "        9.42799040e-01,  3.04907370e-01, -9.54609099e-02, -3.87822202e-01])"
      ]
     },
     "execution_count": 231,
     "metadata": {},
     "output_type": "execute_result"
    }
   ],
   "source": [
    "arr"
   ]
  },
  {
   "cell_type": "code",
   "execution_count": 233,
   "metadata": {},
   "outputs": [],
   "source": [
    "arr.sort() # sort array inplace"
   ]
  },
  {
   "cell_type": "code",
   "execution_count": 234,
   "metadata": {},
   "outputs": [
    {
     "data": {
      "text/plain": [
       "array([-3.36205800e+00, -3.35438842e+00, -3.10520947e+00, -3.00733589e+00,\n",
       "       -2.67226166e+00, -2.58210583e+00, -2.46318150e+00, -2.32096844e+00,\n",
       "       -2.31168862e+00, -2.28237293e+00, -2.23311358e+00, -2.23215540e+00,\n",
       "       -2.21215558e+00, -2.20916167e+00, -2.19700812e+00, -2.18092543e+00,\n",
       "       -2.17468570e+00, -2.17354845e+00, -2.13971682e+00, -2.05023970e+00,\n",
       "       -2.02391440e+00, -1.97696606e+00, -1.97206059e+00, -1.96675846e+00,\n",
       "       -1.96406732e+00, -1.95107297e+00, -1.93462171e+00, -1.92628150e+00,\n",
       "       -1.89877273e+00, -1.89187505e+00, -1.88855129e+00, -1.88426219e+00,\n",
       "       -1.86917810e+00, -1.86200726e+00, -1.83602833e+00, -1.83282018e+00,\n",
       "       -1.82947227e+00, -1.81666140e+00, -1.80282218e+00, -1.80062847e+00,\n",
       "       -1.79886213e+00, -1.79619437e+00, -1.78670760e+00, -1.77864080e+00,\n",
       "       -1.77484652e+00, -1.76440353e+00, -1.73211201e+00, -1.73037862e+00,\n",
       "       -1.72567662e+00, -1.72012465e+00, -1.71514512e+00, -1.67468574e+00,\n",
       "       -1.66452696e+00, -1.64957704e+00, -1.64174678e+00, -1.64008983e+00,\n",
       "       -1.61724971e+00, -1.59865062e+00, -1.58821750e+00, -1.57516198e+00,\n",
       "       -1.56356817e+00, -1.56020936e+00, -1.55573320e+00, -1.55529028e+00,\n",
       "       -1.55442710e+00, -1.55411953e+00, -1.53293085e+00, -1.53259355e+00,\n",
       "       -1.53254873e+00, -1.52255658e+00, -1.52036078e+00, -1.52015196e+00,\n",
       "       -1.51102094e+00, -1.49861062e+00, -1.49811091e+00, -1.49532134e+00,\n",
       "       -1.47893897e+00, -1.47764172e+00, -1.45060683e+00, -1.44733213e+00,\n",
       "       -1.44411546e+00, -1.42828828e+00, -1.42378397e+00, -1.40689425e+00,\n",
       "       -1.39757572e+00, -1.39404110e+00, -1.39345102e+00, -1.38196532e+00,\n",
       "       -1.36484160e+00, -1.36160693e+00, -1.35733881e+00, -1.34650452e+00,\n",
       "       -1.34480024e+00, -1.33535134e+00, -1.33533199e+00, -1.32853989e+00,\n",
       "       -1.32642449e+00, -1.32433984e+00, -1.31793536e+00, -1.31693727e+00,\n",
       "       -1.31553086e+00, -1.31462690e+00, -1.30794883e+00, -1.30678719e+00,\n",
       "       -1.29388268e+00, -1.29173690e+00, -1.28819968e+00, -1.28080129e+00,\n",
       "       -1.27127161e+00, -1.26443562e+00, -1.26130381e+00, -1.26102909e+00,\n",
       "       -1.25038532e+00, -1.23942007e+00, -1.22182776e+00, -1.21370836e+00,\n",
       "       -1.20941377e+00, -1.20722746e+00, -1.19911588e+00, -1.18526255e+00,\n",
       "       -1.18346054e+00, -1.16754730e+00, -1.16703550e+00, -1.16513495e+00,\n",
       "       -1.16063931e+00, -1.15197423e+00, -1.14940600e+00, -1.14939036e+00,\n",
       "       -1.14197086e+00, -1.12092816e+00, -1.10407010e+00, -1.10053815e+00,\n",
       "       -1.09739166e+00, -1.09034137e+00, -1.08513909e+00, -1.06665839e+00,\n",
       "       -1.06066122e+00, -1.05661903e+00, -1.05371056e+00, -1.05140729e+00,\n",
       "       -1.04521151e+00, -1.04427477e+00, -1.04060103e+00, -1.03924709e+00,\n",
       "       -1.03442148e+00, -1.03425672e+00, -1.03242730e+00, -1.03145023e+00,\n",
       "       -1.01661527e+00, -1.01609960e+00, -1.01412962e+00, -1.01090014e+00,\n",
       "       -1.00623639e+00, -1.00083187e+00, -9.98111033e-01, -9.93677089e-01,\n",
       "       -9.90933031e-01, -9.89899334e-01, -9.89093789e-01, -9.84434202e-01,\n",
       "       -9.83508579e-01, -9.83137947e-01, -9.83077681e-01, -9.72513166e-01,\n",
       "       -9.69722473e-01, -9.68264923e-01, -9.64903119e-01, -9.63515540e-01,\n",
       "       -9.58905133e-01, -9.58503404e-01, -9.55330329e-01, -9.54655577e-01,\n",
       "       -9.52661752e-01, -9.52336497e-01, -9.45854282e-01, -9.42226282e-01,\n",
       "       -9.37405094e-01, -9.31864789e-01, -9.31798386e-01, -9.30417985e-01,\n",
       "       -9.29474065e-01, -9.28261902e-01, -9.17441685e-01, -9.10013879e-01,\n",
       "       -9.08597238e-01, -9.06600371e-01, -9.05938876e-01, -9.03182156e-01,\n",
       "       -8.96779703e-01, -8.95515526e-01, -8.93126493e-01, -8.92094946e-01,\n",
       "       -8.92088915e-01, -8.89475183e-01, -8.88795545e-01, -8.86672659e-01,\n",
       "       -8.85952094e-01, -8.77628721e-01, -8.74900155e-01, -8.72814256e-01,\n",
       "       -8.66587780e-01, -8.64070477e-01, -8.62120551e-01, -8.61770242e-01,\n",
       "       -8.46565157e-01, -8.43201084e-01, -8.36058068e-01, -8.35839318e-01,\n",
       "       -8.34715609e-01, -8.24451967e-01, -8.22890588e-01, -8.22604889e-01,\n",
       "       -8.21053118e-01, -8.19312563e-01, -8.18720138e-01, -8.18713278e-01,\n",
       "       -8.05509686e-01, -7.91153474e-01, -7.85672555e-01, -7.83963514e-01,\n",
       "       -7.78970191e-01, -7.78062322e-01, -7.75894353e-01, -7.71808303e-01,\n",
       "       -7.70823676e-01, -7.68285389e-01, -7.65776728e-01, -7.61799971e-01,\n",
       "       -7.56617619e-01, -7.49314103e-01, -7.48805283e-01, -7.47668487e-01,\n",
       "       -7.41628875e-01, -7.40228494e-01, -7.38705348e-01, -7.35666470e-01,\n",
       "       -7.34376723e-01, -7.34087853e-01, -7.31390679e-01, -7.28295892e-01,\n",
       "       -7.28097956e-01, -7.21595210e-01, -7.16118750e-01, -7.15729817e-01,\n",
       "       -7.09826215e-01, -7.09482324e-01, -7.09385789e-01, -7.09235918e-01,\n",
       "       -7.01633103e-01, -7.01493464e-01, -6.91431890e-01, -6.91310448e-01,\n",
       "       -6.90746081e-01, -6.81738141e-01, -6.78026218e-01, -6.71224497e-01,\n",
       "       -6.69666358e-01, -6.68979183e-01, -6.67530698e-01, -6.60321896e-01,\n",
       "       -6.57407320e-01, -6.50860956e-01, -6.50831338e-01, -6.47402868e-01,\n",
       "       -6.45946146e-01, -6.45606869e-01, -6.42079084e-01, -6.34253969e-01,\n",
       "       -6.31708711e-01, -6.28363637e-01, -6.27245137e-01, -6.24134777e-01,\n",
       "       -6.22996364e-01, -6.21089900e-01, -6.18617193e-01, -6.17250510e-01,\n",
       "       -6.17016420e-01, -6.11733063e-01, -6.09776405e-01, -6.08122691e-01,\n",
       "       -6.02965101e-01, -6.02652682e-01, -5.95537998e-01, -5.95472259e-01,\n",
       "       -5.88544595e-01, -5.85408954e-01, -5.79300294e-01, -5.78784859e-01,\n",
       "       -5.60980653e-01, -5.51834320e-01, -5.50228074e-01, -5.43543601e-01,\n",
       "       -5.42666093e-01, -5.42511760e-01, -5.42329485e-01, -5.39849019e-01,\n",
       "       -5.35836150e-01, -5.34146547e-01, -5.33959636e-01, -5.31715322e-01,\n",
       "       -5.31096213e-01, -5.30502386e-01, -5.29925742e-01, -5.28869193e-01,\n",
       "       -5.27379089e-01, -5.19512544e-01, -5.18992345e-01, -5.15477753e-01,\n",
       "       -5.12145287e-01, -5.11743372e-01, -5.08799394e-01, -5.07404468e-01,\n",
       "       -5.05871987e-01, -4.98081240e-01, -4.97949554e-01, -4.96815600e-01,\n",
       "       -4.88199712e-01, -4.86857821e-01, -4.75804246e-01, -4.75233138e-01,\n",
       "       -4.57376860e-01, -4.57225563e-01, -4.56860784e-01, -4.56062496e-01,\n",
       "       -4.52450708e-01, -4.52323480e-01, -4.47842579e-01, -4.46628185e-01,\n",
       "       -4.43303855e-01, -4.32169438e-01, -4.24582139e-01, -4.22985942e-01,\n",
       "       -4.19921675e-01, -4.18866216e-01, -4.17340367e-01, -4.16969919e-01,\n",
       "       -4.09432233e-01, -4.07521570e-01, -4.06762327e-01, -4.03689594e-01,\n",
       "       -4.02906540e-01, -3.98295222e-01, -3.97085945e-01, -3.96530249e-01,\n",
       "       -3.93659621e-01, -3.92825208e-01, -3.91530763e-01, -3.91116672e-01,\n",
       "       -3.87822202e-01, -3.87346739e-01, -3.72578063e-01, -3.69241279e-01,\n",
       "       -3.69144353e-01, -3.65424569e-01, -3.55350026e-01, -3.54664930e-01,\n",
       "       -3.43760750e-01, -3.40877173e-01, -3.35648980e-01, -3.33436888e-01,\n",
       "       -3.32498147e-01, -3.30379412e-01, -3.30300669e-01, -3.28839874e-01,\n",
       "       -3.26121626e-01, -3.25574237e-01, -3.24729284e-01, -3.21647732e-01,\n",
       "       -3.21262424e-01, -3.21008111e-01, -3.18416221e-01, -3.17211089e-01,\n",
       "       -3.16333909e-01, -3.13309745e-01, -3.10224680e-01, -3.08324285e-01,\n",
       "       -3.07620594e-01, -3.06041003e-01, -3.00132338e-01, -2.93838006e-01,\n",
       "       -2.90715783e-01, -2.90688388e-01, -2.88149878e-01, -2.87816143e-01,\n",
       "       -2.85564269e-01, -2.84029805e-01, -2.83311817e-01, -2.82817639e-01,\n",
       "       -2.82490141e-01, -2.77254028e-01, -2.76328452e-01, -2.75304358e-01,\n",
       "       -2.73947981e-01, -2.72962493e-01, -2.70304146e-01, -2.70286891e-01,\n",
       "       -2.68489180e-01, -2.66350404e-01, -2.65901117e-01, -2.65005373e-01,\n",
       "       -2.59770397e-01, -2.59054185e-01, -2.57981058e-01, -2.57418973e-01,\n",
       "       -2.56964517e-01, -2.54074775e-01, -2.53943196e-01, -2.49817158e-01,\n",
       "       -2.49009023e-01, -2.48469489e-01, -2.46945531e-01, -2.45878093e-01,\n",
       "       -2.41964050e-01, -2.41722472e-01, -2.41207751e-01, -2.37533912e-01,\n",
       "       -2.37052529e-01, -2.33407795e-01, -2.32458289e-01, -2.27456745e-01,\n",
       "       -2.25901413e-01, -2.25304779e-01, -2.09895623e-01, -2.07444752e-01,\n",
       "       -2.04807220e-01, -2.02606913e-01, -2.02107043e-01, -2.01360760e-01,\n",
       "       -1.91478777e-01, -1.89286707e-01, -1.85534594e-01, -1.82539894e-01,\n",
       "       -1.82349835e-01, -1.80905622e-01, -1.79204645e-01, -1.74904425e-01,\n",
       "       -1.69817171e-01, -1.60209543e-01, -1.60122579e-01, -1.59652242e-01,\n",
       "       -1.58925840e-01, -1.54933986e-01, -1.54184028e-01, -1.51180137e-01,\n",
       "       -1.48340243e-01, -1.47082952e-01, -1.45190216e-01, -1.43563567e-01,\n",
       "       -1.41078382e-01, -1.30376048e-01, -1.29717689e-01, -1.28104226e-01,\n",
       "       -1.27174883e-01, -1.26191922e-01, -1.26012546e-01, -1.25474084e-01,\n",
       "       -1.25177030e-01, -1.14469110e-01, -1.12029207e-01, -1.08192896e-01,\n",
       "       -1.03823016e-01, -1.03429186e-01, -1.02934948e-01, -9.93592511e-02,\n",
       "       -9.54609099e-02, -9.37476545e-02, -9.01784242e-02, -8.85704089e-02,\n",
       "       -8.83714362e-02, -8.20160831e-02, -8.12289402e-02, -7.89280166e-02,\n",
       "       -7.61790711e-02, -7.15521704e-02, -7.08878448e-02, -6.73301920e-02,\n",
       "       -6.68738557e-02, -6.35370243e-02, -6.31233142e-02, -6.25256013e-02,\n",
       "       -6.18447257e-02, -5.87732273e-02, -4.65157637e-02, -4.36944196e-02,\n",
       "       -4.32801964e-02, -4.32258890e-02, -4.30463771e-02, -4.27452476e-02,\n",
       "       -4.05118714e-02, -4.02377140e-02, -3.98024134e-02, -3.89564058e-02,\n",
       "       -3.78096697e-02, -3.50921344e-02, -3.50002914e-02, -3.26977948e-02,\n",
       "       -2.98490245e-02, -2.66941477e-02, -2.60878642e-02, -2.35774164e-02,\n",
       "       -2.01796694e-02, -1.78752395e-02, -1.55649474e-02, -1.47438760e-02,\n",
       "       -1.06136367e-02, -1.01080982e-02, -4.55077731e-03, -2.81641901e-03,\n",
       "        1.26560990e-03,  8.47410384e-03,  1.44276737e-02,  1.65148565e-02,\n",
       "        1.91450830e-02,  2.53298931e-02,  2.88811417e-02,  3.01587587e-02,\n",
       "        3.10637686e-02,  3.58136840e-02,  3.92264814e-02,  4.11769783e-02,\n",
       "        4.42099582e-02,  4.66037137e-02,  5.19821842e-02,  5.49276534e-02,\n",
       "        5.60145560e-02,  5.74556699e-02,  6.00465680e-02,  6.59674791e-02,\n",
       "        7.08320987e-02,  7.37908830e-02,  7.46057245e-02,  7.87619919e-02,\n",
       "        8.01333494e-02,  8.32674038e-02,  8.47872077e-02,  8.76940411e-02,\n",
       "        8.87271423e-02,  8.94049647e-02,  9.08051898e-02,  9.37170438e-02,\n",
       "        9.93200189e-02,  1.00945077e-01,  1.05542468e-01,  1.06369575e-01,\n",
       "        1.06386399e-01,  1.09819592e-01,  1.13045508e-01,  1.15565946e-01,\n",
       "        1.15920358e-01,  1.17997952e-01,  1.20825659e-01,  1.21431732e-01,\n",
       "        1.24813324e-01,  1.26905123e-01,  1.42108434e-01,  1.46714931e-01,\n",
       "        1.48021097e-01,  1.48683089e-01,  1.49178266e-01,  1.49755243e-01,\n",
       "        1.51176301e-01,  1.55550170e-01,  1.56383776e-01,  1.57109202e-01,\n",
       "        1.66996095e-01,  1.72066997e-01,  1.73365480e-01,  1.74855138e-01,\n",
       "        1.76845834e-01,  1.80421893e-01,  1.80817878e-01,  1.81459419e-01,\n",
       "        1.83652670e-01,  1.84185995e-01,  1.86708284e-01,  1.89554282e-01,\n",
       "        1.89766499e-01,  1.90660476e-01,  1.90694208e-01,  1.96522680e-01,\n",
       "        1.97191582e-01,  2.03107108e-01,  2.10139720e-01,  2.14392976e-01,\n",
       "        2.16149763e-01,  2.16937052e-01,  2.17076634e-01,  2.20172018e-01,\n",
       "        2.25149619e-01,  2.29389423e-01,  2.34299887e-01,  2.35788119e-01,\n",
       "        2.38367886e-01,  2.41118642e-01,  2.42862196e-01,  2.44711163e-01,\n",
       "        2.46743050e-01,  2.50860538e-01,  2.52765947e-01,  2.55813154e-01,\n",
       "        2.56820577e-01,  2.59875587e-01,  2.62232019e-01,  2.63242427e-01,\n",
       "        2.65044559e-01,  2.65852061e-01,  2.65854440e-01,  2.65958184e-01,\n",
       "        2.67438279e-01,  2.68356580e-01,  2.76836695e-01,  2.81606706e-01,\n",
       "        2.81642355e-01,  2.85126471e-01,  2.85570920e-01,  2.86099567e-01,\n",
       "        2.87850742e-01,  2.89430312e-01,  2.91072996e-01,  2.92855649e-01,\n",
       "        2.93249055e-01,  2.98130449e-01,  2.99274346e-01,  3.01289113e-01,\n",
       "        3.01884173e-01,  3.03564164e-01,  3.03620412e-01,  3.04907370e-01,\n",
       "        3.07663344e-01,  3.08327397e-01,  3.14272782e-01,  3.16710411e-01,\n",
       "        3.17987543e-01,  3.22784178e-01,  3.24784077e-01,  3.25897300e-01,\n",
       "        3.30637742e-01,  3.31345334e-01,  3.33401219e-01,  3.37602674e-01,\n",
       "        3.40481675e-01,  3.41040916e-01,  3.47798206e-01,  3.50116696e-01,\n",
       "        3.51712755e-01,  3.51863552e-01,  3.54977881e-01,  3.56273472e-01,\n",
       "        3.56401904e-01,  3.56519798e-01,  3.59461111e-01,  3.66502996e-01,\n",
       "        3.72210157e-01,  3.78185412e-01,  3.82016234e-01,  3.83035986e-01,\n",
       "        3.86847131e-01,  3.86892271e-01,  3.87578664e-01,  3.88446107e-01,\n",
       "        3.91306033e-01,  3.91592208e-01,  3.98431987e-01,  3.98508052e-01,\n",
       "        3.98792110e-01,  4.03944216e-01,  4.04397208e-01,  4.05834111e-01,\n",
       "        4.06513465e-01,  4.11221056e-01,  4.13245026e-01,  4.13398504e-01,\n",
       "        4.15991029e-01,  4.19175263e-01,  4.27275172e-01,  4.32891539e-01,\n",
       "        4.35449245e-01,  4.39334194e-01,  4.41915677e-01,  4.42058212e-01,\n",
       "        4.44299296e-01,  4.48927470e-01,  4.49358386e-01,  4.51843644e-01,\n",
       "        4.52026582e-01,  4.53186325e-01,  4.53804253e-01,  4.55678289e-01,\n",
       "        4.57761887e-01,  4.62727172e-01,  4.63998096e-01,  4.67532624e-01,\n",
       "        4.68874108e-01,  4.70450077e-01,  4.71793708e-01,  4.75880952e-01,\n",
       "        4.76020979e-01,  4.81095976e-01,  4.85664093e-01,  4.90746055e-01,\n",
       "        4.92702118e-01,  4.93218464e-01,  4.94128485e-01,  4.97704875e-01,\n",
       "        4.98687490e-01,  4.98993471e-01,  5.01651983e-01,  5.04446130e-01,\n",
       "        5.10149403e-01,  5.12029166e-01,  5.13097547e-01,  5.14094978e-01,\n",
       "        5.23591731e-01,  5.24862103e-01,  5.28885320e-01,  5.31101372e-01,\n",
       "        5.33336098e-01,  5.36725051e-01,  5.37880856e-01,  5.40112513e-01,\n",
       "        5.43275373e-01,  5.45071526e-01,  5.51283173e-01,  5.52570915e-01,\n",
       "        5.53026596e-01,  5.54167992e-01,  5.54479317e-01,  5.62215059e-01,\n",
       "        5.68790941e-01,  5.71005819e-01,  5.71876337e-01,  5.75434997e-01,\n",
       "        5.79747948e-01,  5.86690608e-01,  5.89957756e-01,  5.97604799e-01,\n",
       "        6.00868102e-01,  6.02711025e-01,  6.08822675e-01,  6.10615112e-01,\n",
       "        6.12321142e-01,  6.16342508e-01,  6.23251917e-01,  6.26601128e-01,\n",
       "        6.31204231e-01,  6.34068186e-01,  6.35200569e-01,  6.36925896e-01,\n",
       "        6.40773615e-01,  6.41770097e-01,  6.47050807e-01,  6.47797395e-01,\n",
       "        6.58713862e-01,  6.63300035e-01,  6.68694668e-01,  6.80796087e-01,\n",
       "        6.81350169e-01,  6.83872186e-01,  6.87467245e-01,  6.88802411e-01,\n",
       "        6.91157800e-01,  6.92041291e-01,  6.92400524e-01,  6.93371223e-01,\n",
       "        7.01230379e-01,  7.02794472e-01,  7.04298944e-01,  7.05650971e-01,\n",
       "        7.05779015e-01,  7.06689278e-01,  7.09248150e-01,  7.11834757e-01,\n",
       "        7.13231077e-01,  7.14206955e-01,  7.14641531e-01,  7.18408422e-01,\n",
       "        7.20775708e-01,  7.24457548e-01,  7.24617521e-01,  7.28208757e-01,\n",
       "        7.30182084e-01,  7.30512646e-01,  7.30631956e-01,  7.31455058e-01,\n",
       "        7.33819119e-01,  7.33993607e-01,  7.35644231e-01,  7.40193357e-01,\n",
       "        7.40219907e-01,  7.41763436e-01,  7.64104716e-01,  7.69311575e-01,\n",
       "        7.71701792e-01,  7.74324610e-01,  7.91376195e-01,  7.91588677e-01,\n",
       "        8.04598849e-01,  8.13312691e-01,  8.20899222e-01,  8.25453049e-01,\n",
       "        8.26325455e-01,  8.30198494e-01,  8.32561603e-01,  8.36586509e-01,\n",
       "        8.40860232e-01,  8.44339819e-01,  8.47244824e-01,  8.48791025e-01,\n",
       "        8.50943301e-01,  8.52099986e-01,  8.54107236e-01,  8.64557173e-01,\n",
       "        8.65902627e-01,  8.74737324e-01,  8.75552070e-01,  8.78070788e-01,\n",
       "        8.78257761e-01,  8.78508326e-01,  8.89937504e-01,  8.93352441e-01,\n",
       "        9.00415564e-01,  9.02222869e-01,  9.04172544e-01,  9.09060605e-01,\n",
       "        9.13603469e-01,  9.23737458e-01,  9.24245023e-01,  9.25927823e-01,\n",
       "        9.40510168e-01,  9.41254823e-01,  9.42799040e-01,  9.46718422e-01,\n",
       "        9.49093917e-01,  9.52126332e-01,  9.54583656e-01,  9.56809500e-01,\n",
       "        9.60464672e-01,  9.64937187e-01,  9.65202774e-01,  9.69569746e-01,\n",
       "        9.76236943e-01,  9.87568910e-01,  9.92346552e-01,  9.98079312e-01,\n",
       "        9.98213054e-01,  1.00590707e+00,  1.00703448e+00,  1.01862911e+00,\n",
       "        1.02396706e+00,  1.02427835e+00,  1.03186044e+00,  1.03238713e+00,\n",
       "        1.03576767e+00,  1.03901404e+00,  1.03961488e+00,  1.04045629e+00,\n",
       "        1.04182575e+00,  1.04473213e+00,  1.05753542e+00,  1.06687122e+00,\n",
       "        1.07565629e+00,  1.07666960e+00,  1.08451897e+00,  1.08766998e+00,\n",
       "        1.10011251e+00,  1.12412183e+00,  1.12484584e+00,  1.12576905e+00,\n",
       "        1.12621975e+00,  1.12684019e+00,  1.13719625e+00,  1.14007994e+00,\n",
       "        1.14500959e+00,  1.14653410e+00,  1.14703820e+00,  1.15121315e+00,\n",
       "        1.15193898e+00,  1.15576181e+00,  1.17403363e+00,  1.17583217e+00,\n",
       "        1.18475645e+00,  1.19407500e+00,  1.19454953e+00,  1.19756413e+00,\n",
       "        1.20560606e+00,  1.20612751e+00,  1.22247126e+00,  1.24131019e+00,\n",
       "        1.24327701e+00,  1.24507541e+00,  1.24570251e+00,  1.25012446e+00,\n",
       "        1.25232704e+00,  1.25912016e+00,  1.26587245e+00,  1.26610772e+00,\n",
       "        1.27485927e+00,  1.28877041e+00,  1.29108352e+00,  1.29285522e+00,\n",
       "        1.30424219e+00,  1.30458584e+00,  1.30468642e+00,  1.31076238e+00,\n",
       "        1.31335478e+00,  1.33084599e+00,  1.34308922e+00,  1.34629799e+00,\n",
       "        1.37367865e+00,  1.37539382e+00,  1.37792900e+00,  1.37924006e+00,\n",
       "        1.38953729e+00,  1.39908465e+00,  1.40480773e+00,  1.41425230e+00,\n",
       "        1.41979530e+00,  1.41987427e+00,  1.42358876e+00,  1.42402387e+00,\n",
       "        1.43038723e+00,  1.43742581e+00,  1.43758135e+00,  1.43759261e+00,\n",
       "        1.46041380e+00,  1.48445824e+00,  1.48658651e+00,  1.50559426e+00,\n",
       "        1.50785455e+00,  1.51833928e+00,  1.52696009e+00,  1.54277432e+00,\n",
       "        1.57461025e+00,  1.60460387e+00,  1.61753852e+00,  1.62759870e+00,\n",
       "        1.64875519e+00,  1.65087415e+00,  1.65528977e+00,  1.65575823e+00,\n",
       "        1.66366265e+00,  1.66685123e+00,  1.67382370e+00,  1.68029511e+00,\n",
       "        1.69742357e+00,  1.70748734e+00,  1.70917098e+00,  1.70924147e+00,\n",
       "        1.72438685e+00,  1.72544127e+00,  1.73182942e+00,  1.73238305e+00,\n",
       "        1.75914650e+00,  1.76333205e+00,  1.80015755e+00,  1.81110053e+00,\n",
       "        1.81320624e+00,  1.81406977e+00,  1.82762525e+00,  1.82932107e+00,\n",
       "        1.84844294e+00,  1.84851334e+00,  1.85490943e+00,  1.86359094e+00,\n",
       "        1.87887858e+00,  1.88894600e+00,  1.89168182e+00,  1.93093282e+00,\n",
       "        1.96164669e+00,  1.96831305e+00,  1.97286059e+00,  1.97349733e+00,\n",
       "        1.97554855e+00,  1.98067323e+00,  1.98973529e+00,  1.99128335e+00,\n",
       "        2.00047327e+00,  2.00391250e+00,  2.00999497e+00,  2.01612514e+00,\n",
       "        2.03646662e+00,  2.05075767e+00,  2.05176732e+00,  2.05772869e+00,\n",
       "        2.08157462e+00,  2.08870833e+00,  2.09509497e+00,  2.10301478e+00,\n",
       "        2.14189735e+00,  2.15234083e+00,  2.21030708e+00,  2.21882820e+00,\n",
       "        2.22709827e+00,  2.27363484e+00,  2.38770786e+00,  2.50210867e+00,\n",
       "        2.50961442e+00,  2.51587161e+00,  2.61132335e+00,  2.64346446e+00])"
      ]
     },
     "execution_count": 234,
     "metadata": {},
     "output_type": "execute_result"
    }
   ],
   "source": [
    "arr"
   ]
  },
  {
   "cell_type": "code",
   "execution_count": 235,
   "metadata": {},
   "outputs": [],
   "source": [
    "arr = np.random.randn(5,3)"
   ]
  },
  {
   "cell_type": "code",
   "execution_count": 236,
   "metadata": {},
   "outputs": [
    {
     "data": {
      "text/plain": [
       "array([[ 1.11475196,  0.31447436,  0.2039119 ],\n",
       "       [-0.3234363 , -0.1972912 , -0.30920845],\n",
       "       [ 0.37951898,  0.93278907,  0.21824531],\n",
       "       [ 0.27902074,  1.59985755,  1.91596128],\n",
       "       [-2.87217809,  0.8202177 , -0.95065004]])"
      ]
     },
     "execution_count": 236,
     "metadata": {},
     "output_type": "execute_result"
    }
   ],
   "source": [
    "arr"
   ]
  },
  {
   "cell_type": "code",
   "execution_count": 237,
   "metadata": {},
   "outputs": [],
   "source": [
    "arr.sort(axis=1) # sort inplace across columns"
   ]
  },
  {
   "cell_type": "code",
   "execution_count": 238,
   "metadata": {},
   "outputs": [
    {
     "data": {
      "text/plain": [
       "array([[ 0.2039119 ,  0.31447436,  1.11475196],\n",
       "       [-0.3234363 , -0.30920845, -0.1972912 ],\n",
       "       [ 0.21824531,  0.37951898,  0.93278907],\n",
       "       [ 0.27902074,  1.59985755,  1.91596128],\n",
       "       [-2.87217809, -0.95065004,  0.8202177 ]])"
      ]
     },
     "execution_count": 238,
     "metadata": {},
     "output_type": "execute_result"
    }
   ],
   "source": [
    "arr"
   ]
  },
  {
   "cell_type": "markdown",
   "metadata": {},
   "source": [
    "### Unique and other set logic"
   ]
  },
  {
   "cell_type": "code",
   "execution_count": 239,
   "metadata": {},
   "outputs": [
    {
     "data": {
      "text/plain": [
       "array(['Bob', 'Joe', 'Will'], dtype='<U4')"
      ]
     },
     "execution_count": 239,
     "metadata": {},
     "output_type": "execute_result"
    }
   ],
   "source": [
    "names = np.array(['Bob', 'Joe', 'Will', 'Bob', 'Will', 'Joe', 'Joe'])\n",
    "\n",
    "np.unique(names)"
   ]
  },
  {
   "cell_type": "code",
   "execution_count": 240,
   "metadata": {},
   "outputs": [],
   "source": [
    "ints = np.array([3, 3, 3, 2, 2, 1, 1, 4, 4])"
   ]
  },
  {
   "cell_type": "code",
   "execution_count": 242,
   "metadata": {},
   "outputs": [
    {
     "data": {
      "text/plain": [
       "array([1, 2, 3, 4])"
      ]
     },
     "execution_count": 242,
     "metadata": {},
     "output_type": "execute_result"
    }
   ],
   "source": [
    "np.unique(ints)"
   ]
  },
  {
   "cell_type": "code",
   "execution_count": 243,
   "metadata": {},
   "outputs": [
    {
     "data": {
      "text/plain": [
       "(array([ True, False, False,  True,  True, False,  True]), array([3, 5]))"
      ]
     },
     "execution_count": 243,
     "metadata": {},
     "output_type": "execute_result"
    }
   ],
   "source": [
    "values = np.array([6, 0, 0, 3, 2, 5, 6])\n",
    "\n",
    "np.in1d(values, [2, 3, 6]), np.intersect1d(values,[1,3,5])"
   ]
  },
  {
   "cell_type": "markdown",
   "metadata": {},
   "source": [
    "### Numpy array saving and loading"
   ]
  },
  {
   "cell_type": "code",
   "execution_count": 246,
   "metadata": {},
   "outputs": [],
   "source": [
    "arr = np.random.randn(7,3)"
   ]
  },
  {
   "cell_type": "code",
   "execution_count": 247,
   "metadata": {},
   "outputs": [],
   "source": [
    "np.save('arr1', arr)\n",
    "arr1 = np.load('arr1.npy')"
   ]
  },
  {
   "cell_type": "code",
   "execution_count": 248,
   "metadata": {},
   "outputs": [
    {
     "data": {
      "text/plain": [
       "True"
      ]
     },
     "execution_count": 248,
     "metadata": {},
     "output_type": "execute_result"
    }
   ],
   "source": [
    "(arr == arr1).all()"
   ]
  },
  {
   "cell_type": "code",
   "execution_count": 249,
   "metadata": {},
   "outputs": [],
   "source": [
    "a = np.random.randn(3,3)\n",
    "b = np.random.randn(4,4)\n",
    "\n",
    "np.savez('archive.npz', a=a, b=b)"
   ]
  },
  {
   "cell_type": "code",
   "execution_count": 250,
   "metadata": {},
   "outputs": [],
   "source": [
    "d = np.load('archive.npz')"
   ]
  },
  {
   "cell_type": "code",
   "execution_count": 251,
   "metadata": {},
   "outputs": [
    {
     "data": {
      "text/plain": [
       "(True, True)"
      ]
     },
     "execution_count": 251,
     "metadata": {},
     "output_type": "execute_result"
    }
   ],
   "source": [
    "(d['a'] == a).all(), (d['b']).all()"
   ]
  },
  {
   "cell_type": "markdown",
   "metadata": {},
   "source": [
    "## Linear Algebra with numpy"
   ]
  },
  {
   "cell_type": "code",
   "execution_count": 253,
   "metadata": {},
   "outputs": [],
   "source": [
    "x = np.array([[4., 5., 6.], [2., 4., 6.]])\n",
    "y = np.array([[6., 23.], [-1, 7], [8, 9]])"
   ]
  },
  {
   "cell_type": "code",
   "execution_count": 256,
   "metadata": {},
   "outputs": [
    {
     "data": {
      "text/plain": [
       "array([[4., 5., 6.],\n",
       "       [2., 4., 6.]])"
      ]
     },
     "execution_count": 256,
     "metadata": {},
     "output_type": "execute_result"
    }
   ],
   "source": [
    "x"
   ]
  },
  {
   "cell_type": "code",
   "execution_count": 257,
   "metadata": {},
   "outputs": [
    {
     "data": {
      "text/plain": [
       "array([[ 6., 23.],\n",
       "       [-1.,  7.],\n",
       "       [ 8.,  9.]])"
      ]
     },
     "execution_count": 257,
     "metadata": {},
     "output_type": "execute_result"
    }
   ],
   "source": [
    "y"
   ]
  },
  {
   "cell_type": "code",
   "execution_count": 255,
   "metadata": {},
   "outputs": [
    {
     "data": {
      "text/plain": [
       "((2, 3), (3, 2))"
      ]
     },
     "execution_count": 255,
     "metadata": {},
     "output_type": "execute_result"
    }
   ],
   "source": [
    "x.shape, y.shape"
   ]
  },
  {
   "cell_type": "code",
   "execution_count": 254,
   "metadata": {},
   "outputs": [
    {
     "data": {
      "text/plain": [
       "array([[ 67., 181.],\n",
       "       [ 56., 128.]])"
      ]
     },
     "execution_count": 254,
     "metadata": {},
     "output_type": "execute_result"
    }
   ],
   "source": [
    "x.dot(y)"
   ]
  },
  {
   "cell_type": "code",
   "execution_count": 258,
   "metadata": {},
   "outputs": [
    {
     "data": {
      "text/plain": [
       "array([1., 1., 1.])"
      ]
     },
     "execution_count": 258,
     "metadata": {},
     "output_type": "execute_result"
    }
   ],
   "source": [
    "np.ones(3)"
   ]
  },
  {
   "cell_type": "code",
   "execution_count": 259,
   "metadata": {},
   "outputs": [
    {
     "data": {
      "text/plain": [
       "array([15., 12.])"
      ]
     },
     "execution_count": 259,
     "metadata": {},
     "output_type": "execute_result"
    }
   ],
   "source": [
    "x @ np.ones(3) # @ operator since python 3.5 performs matrix multiplcation"
   ]
  },
  {
   "cell_type": "markdown",
   "metadata": {},
   "source": [
    "### numpy.linalg has a standard set of matrix decompositions and things like inverse and determinant."
   ]
  },
  {
   "cell_type": "code",
   "execution_count": 261,
   "metadata": {},
   "outputs": [
    {
     "data": {
      "text/plain": [
       "array([[ 1.00000000e+00, -4.24986744e-16, -4.11018403e-17,\n",
       "        -6.28443314e-17, -4.32979479e-16],\n",
       "       [-8.88058023e-17,  1.00000000e+00,  4.42287711e-16,\n",
       "         5.74326218e-16, -7.94202260e-17],\n",
       "       [ 2.89413365e-16, -1.37759905e-15,  1.00000000e+00,\n",
       "        -1.03342340e-16, -5.21989958e-16],\n",
       "       [-5.56263265e-17,  9.93230984e-16,  1.59603861e-17,\n",
       "         1.00000000e+00, -4.86022663e-16],\n",
       "       [ 9.09324539e-16,  1.34729587e-16,  1.76562674e-16,\n",
       "         7.93212267e-17,  1.00000000e+00]])"
      ]
     },
     "execution_count": 261,
     "metadata": {},
     "output_type": "execute_result"
    }
   ],
   "source": [
    "from numpy.linalg import inv, qr\n",
    "\n",
    "X = np.random.randn(5, 5)\n",
    "\n",
    "mat = X.T.dot(X)\n",
    "\n",
    "mat.dot(inv(mat))"
   ]
  },
  {
   "cell_type": "markdown",
   "metadata": {},
   "source": [
    "You can see this is close to an identity matrix"
   ]
  },
  {
   "cell_type": "markdown",
   "metadata": {},
   "source": [
    "![Figure 6](imgs/numpy_linalg_001.png)\n",
    "![Figure 7](imgs/numpy_linalg_002.png)"
   ]
  },
  {
   "cell_type": "markdown",
   "metadata": {},
   "source": [
    "## Pseudo random number generator"
   ]
  },
  {
   "cell_type": "markdown",
   "metadata": {},
   "source": [
    "The numpy.random module supplements the built-in Python random with functions for efficiently generating whole arrays of sample values from many kinds of probability distributions."
   ]
  },
  {
   "cell_type": "code",
   "execution_count": 264,
   "metadata": {},
   "outputs": [],
   "source": [
    "np.random.seed(1234)"
   ]
  },
  {
   "cell_type": "code",
   "execution_count": 265,
   "metadata": {},
   "outputs": [
    {
     "data": {
      "text/plain": [
       "array([ 0.47143516, -1.19097569,  1.43270697, -0.3126519 , -0.72058873,\n",
       "        0.88716294,  0.85958841, -0.6365235 ,  0.01569637, -2.24268495])"
      ]
     },
     "execution_count": 265,
     "metadata": {},
     "output_type": "execute_result"
    }
   ],
   "source": [
    "np.random.randn(10)"
   ]
  },
  {
   "cell_type": "code",
   "execution_count": 266,
   "metadata": {},
   "outputs": [],
   "source": [
    "np.random.seed(1234)"
   ]
  },
  {
   "cell_type": "code",
   "execution_count": 267,
   "metadata": {},
   "outputs": [
    {
     "data": {
      "text/plain": [
       "array([ 0.47143516, -1.19097569,  1.43270697, -0.3126519 , -0.72058873,\n",
       "        0.88716294,  0.85958841, -0.6365235 ,  0.01569637, -2.24268495])"
      ]
     },
     "execution_count": 267,
     "metadata": {},
     "output_type": "execute_result"
    }
   ],
   "source": [
    "np.random.randn(10)"
   ]
  },
  {
   "cell_type": "markdown",
   "metadata": {},
   "source": [
    "We say that these are pseudorandom numbers because they are generated by an algorithm with deterministic behavior based on the\n",
    " seed of the random number generator. You can change NumPy’s random number generation seed using np.random.seed\n",
    " The data generation functions in numpy.random use a global random seed. To avoid global state, you can use numpy.random.RandomState to create a random number generator isolated from others:\n"
   ]
  },
  {
   "cell_type": "code",
   "execution_count": 268,
   "metadata": {},
   "outputs": [
    {
     "data": {
      "text/plain": [
       "array([ 0.47143516, -1.19097569,  1.43270697, -0.3126519 , -0.72058873,\n",
       "        0.88716294,  0.85958841, -0.6365235 ,  0.01569637, -2.24268495])"
      ]
     },
     "execution_count": 268,
     "metadata": {},
     "output_type": "execute_result"
    }
   ],
   "source": [
    "rng = np.random.RandomState(1234)\n",
    "\n",
    "rng.randn(10)"
   ]
  },
  {
   "cell_type": "markdown",
   "metadata": {},
   "source": [
    "![Figure 8](imgs/numpy_random_001.png)"
   ]
  },
  {
   "cell_type": "markdown",
   "metadata": {},
   "source": [
    "## Broadcasting"
   ]
  },
  {
   "cell_type": "markdown",
   "metadata": {},
   "source": [
    "Broadcasting describes how arithmetic works between arrays of different shapes. It can be a powerful feature, but one that can cause confusion, even for experienced users. The simplest example of broadcasting occurs when combining a scalar value with an array:\n"
   ]
  },
  {
   "cell_type": "code",
   "execution_count": 284,
   "metadata": {},
   "outputs": [],
   "source": [
    "arr = np.arange(5)"
   ]
  },
  {
   "cell_type": "code",
   "execution_count": 285,
   "metadata": {},
   "outputs": [
    {
     "data": {
      "text/plain": [
       "array([0, 1, 2, 3, 4])"
      ]
     },
     "execution_count": 285,
     "metadata": {},
     "output_type": "execute_result"
    }
   ],
   "source": [
    "arr"
   ]
  },
  {
   "cell_type": "code",
   "execution_count": 286,
   "metadata": {},
   "outputs": [
    {
     "data": {
      "text/plain": [
       "array([ 0,  4,  8, 12, 16])"
      ]
     },
     "execution_count": 286,
     "metadata": {},
     "output_type": "execute_result"
    }
   ],
   "source": [
    "arr * 4"
   ]
  },
  {
   "cell_type": "markdown",
   "metadata": {},
   "source": [
    "\n",
    "Here we say that the scalar value 4 has been broadcast to all of the other elements in the multiplication operation."
   ]
  },
  {
   "cell_type": "markdown",
   "metadata": {},
   "source": [
    "Two arrays are compatible for broadcasting if for each trailing dimension (i.e., starting from the end) the axis lengths match or if either of the lengths is 1. Broadcasting is then performed over the missing or length 1 dimensions."
   ]
  },
  {
   "cell_type": "markdown",
   "metadata": {},
   "source": [
    "### Broadcasting over axes"
   ]
  },
  {
   "cell_type": "code",
   "execution_count": 287,
   "metadata": {},
   "outputs": [],
   "source": [
    "arr = np.zeros((4, 4))"
   ]
  },
  {
   "cell_type": "code",
   "execution_count": 288,
   "metadata": {},
   "outputs": [
    {
     "data": {
      "text/plain": [
       "array([[0., 0., 0., 0.],\n",
       "       [0., 0., 0., 0.],\n",
       "       [0., 0., 0., 0.],\n",
       "       [0., 0., 0., 0.]])"
      ]
     },
     "execution_count": 288,
     "metadata": {},
     "output_type": "execute_result"
    }
   ],
   "source": [
    "arr"
   ]
  },
  {
   "cell_type": "code",
   "execution_count": 289,
   "metadata": {},
   "outputs": [
    {
     "data": {
      "text/plain": [
       "(4, 4)"
      ]
     },
     "execution_count": 289,
     "metadata": {},
     "output_type": "execute_result"
    }
   ],
   "source": [
    "arr.shape"
   ]
  },
  {
   "cell_type": "code",
   "execution_count": 290,
   "metadata": {},
   "outputs": [],
   "source": [
    "arr_3d = arr[:, np.newaxis, :]"
   ]
  },
  {
   "cell_type": "code",
   "execution_count": 291,
   "metadata": {},
   "outputs": [
    {
     "data": {
      "text/plain": [
       "(4, 1, 4)"
      ]
     },
     "execution_count": 291,
     "metadata": {},
     "output_type": "execute_result"
    }
   ],
   "source": [
    "arr_3d.shape"
   ]
  },
  {
   "cell_type": "code",
   "execution_count": 292,
   "metadata": {},
   "outputs": [
    {
     "data": {
      "text/plain": [
       "array([[[0., 0., 0., 0.]],\n",
       "\n",
       "       [[0., 0., 0., 0.]],\n",
       "\n",
       "       [[0., 0., 0., 0.]],\n",
       "\n",
       "       [[0., 0., 0., 0.]]])"
      ]
     },
     "execution_count": 292,
     "metadata": {},
     "output_type": "execute_result"
    }
   ],
   "source": [
    "arr_3d"
   ]
  },
  {
   "cell_type": "code",
   "execution_count": 295,
   "metadata": {},
   "outputs": [
    {
     "data": {
      "text/plain": [
       "(array([ 0.29784049,  0.64251903, -0.32138457]), (3,))"
      ]
     },
     "execution_count": 295,
     "metadata": {},
     "output_type": "execute_result"
    }
   ],
   "source": [
    "arr_1d = np.random.normal(size=3)\n",
    "arr_1d, arr_1d.shape"
   ]
  },
  {
   "cell_type": "code",
   "execution_count": 296,
   "metadata": {},
   "outputs": [
    {
     "data": {
      "text/plain": [
       "array([[ 0.29784049],\n",
       "       [ 0.64251903],\n",
       "       [-0.32138457]])"
      ]
     },
     "execution_count": 296,
     "metadata": {},
     "output_type": "execute_result"
    }
   ],
   "source": [
    "arr_1d[:, np.newaxis]"
   ]
  },
  {
   "cell_type": "code",
   "execution_count": 294,
   "metadata": {},
   "outputs": [
    {
     "data": {
      "text/plain": [
       "(3,)"
      ]
     },
     "execution_count": 294,
     "metadata": {},
     "output_type": "execute_result"
    }
   ],
   "source": [
    "arr_1d.shape"
   ]
  },
  {
   "cell_type": "code",
   "execution_count": 297,
   "metadata": {},
   "outputs": [
    {
     "name": "stdout",
     "output_type": "stream",
     "text": [
      "[[5. 5. 5.]\n",
      " [5. 5. 5.]\n",
      " [5. 5. 5.]\n",
      " [5. 5. 5.]]\n"
     ]
    }
   ],
   "source": [
    "arr = np.zeros((4, 3))\n",
    "\n",
    "arr[:] = 5\n",
    "\n",
    "print(arr)\n"
   ]
  },
  {
   "cell_type": "markdown",
   "metadata": {},
   "source": [
    "However, if we had a one-dimensional array of values we wanted to set into the columns of the array, \n",
    "we can do that as long as the shape is compatible:"
   ]
  },
  {
   "cell_type": "code",
   "execution_count": 298,
   "metadata": {},
   "outputs": [],
   "source": [
    "col = np.array([1.28, -0.42, 0.44, 1.6])\n",
    "\n",
    "arr[:] = col[:, np.newaxis]"
   ]
  },
  {
   "cell_type": "code",
   "execution_count": 299,
   "metadata": {},
   "outputs": [
    {
     "data": {
      "text/plain": [
       "array([[ 1.28,  1.28,  1.28],\n",
       "       [-0.42, -0.42, -0.42],\n",
       "       [ 0.44,  0.44,  0.44],\n",
       "       [ 1.6 ,  1.6 ,  1.6 ]])"
      ]
     },
     "execution_count": 299,
     "metadata": {},
     "output_type": "execute_result"
    }
   ],
   "source": [
    "arr\n"
   ]
  },
  {
   "cell_type": "markdown",
   "metadata": {},
   "source": [
    "## Advanced ufunc usage"
   ]
  },
  {
   "cell_type": "markdown",
   "metadata": {},
   "source": [
    "Each of NumPy’s binary ufuncs has special methods for performing certain kinds of special vectorized operations. These are summarized in Table A-2, but I’ll give a few concrete examples to illustrate how they work.\n",
    "reduce takes a single array and aggregates its values, optionally along an axis, by performing a sequence of binary operations."
   ]
  },
  {
   "cell_type": "markdown",
   "metadata": {},
   "source": [
    "For example, an alternative way to sum elements in an array is to use np.add.reduce:"
   ]
  },
  {
   "cell_type": "code",
   "execution_count": 304,
   "metadata": {},
   "outputs": [
    {
     "name": "stdout",
     "output_type": "stream",
     "text": [
      "CPU times: user 0 ns, sys: 0 ns, total: 0 ns\n",
      "Wall time: 353 µs\n"
     ]
    }
   ],
   "source": [
    "%%time\n",
    "arr = np.arange(10000)\n",
    "np.add.reduce(arr)"
   ]
  },
  {
   "cell_type": "code",
   "execution_count": 305,
   "metadata": {},
   "outputs": [
    {
     "name": "stdout",
     "output_type": "stream",
     "text": [
      "CPU times: user 0 ns, sys: 0 ns, total: 0 ns\n",
      "Wall time: 115 µs\n"
     ]
    },
    {
     "data": {
      "text/plain": [
       "49995000"
      ]
     },
     "execution_count": 305,
     "metadata": {},
     "output_type": "execute_result"
    }
   ],
   "source": [
    "%%time\n",
    "arr.sum()"
   ]
  },
  {
   "cell_type": "markdown",
   "metadata": {},
   "source": [
    "The starting value (0 for add) depends on the ufunc. If an axis is passed, the reduction is performed along that axis. This allows you to answer certain kinds of questions in a concise way. As a less trivial example, we can use np.logical_and to check whether the values in each row of an array are sorted:\n"
   ]
  },
  {
   "cell_type": "code",
   "execution_count": 306,
   "metadata": {},
   "outputs": [
    {
     "data": {
      "text/plain": [
       "array([[ True,  True,  True,  True],\n",
       "       [False,  True, False, False],\n",
       "       [ True,  True,  True,  True],\n",
       "       [ True, False,  True,  True],\n",
       "       [ True,  True,  True,  True]])"
      ]
     },
     "execution_count": 306,
     "metadata": {},
     "output_type": "execute_result"
    }
   ],
   "source": [
    "np.random.seed(12346)  # for reproducibility\n",
    "\n",
    "arr = np.random.randn(5, 5)\n",
    "\n",
    "arr[::2].sort(1) # sort a few rows\n",
    "\n",
    "arr[:, :-1] < arr[:, 1:]"
   ]
  },
  {
   "cell_type": "markdown",
   "metadata": {},
   "source": [
    "## Writing fast numpy functions with numba\n"
   ]
  },
  {
   "cell_type": "markdown",
   "metadata": {},
   "source": [
    "Numba is an open source project that creates fast functions for NumPy-like data using CPUs, GPUs, or other hardware. It uses the LLVM Project to translate Python code into compiled machine code."
   ]
  },
  {
   "cell_type": "code",
   "execution_count": 307,
   "metadata": {},
   "outputs": [],
   "source": [
    "def mean_distance(x, y):\n",
    "    nx = len(x)\n",
    "    result = 0.0\n",
    "    count = 0\n",
    "    for i in range(nx):\n",
    "        result += x[i] - y[i]\n",
    "        count += 1\n",
    "    return result / count"
   ]
  },
  {
   "cell_type": "code",
   "execution_count": 309,
   "metadata": {},
   "outputs": [],
   "source": [
    "x = np.random.randn(10000)\n",
    "y = np.random.randn(10000)\n"
   ]
  },
  {
   "cell_type": "code",
   "execution_count": 317,
   "metadata": {},
   "outputs": [
    {
     "name": "stdout",
     "output_type": "stream",
     "text": [
      "CPU times: user 12 ms, sys: 0 ns, total: 12 ms\n",
      "Wall time: 14.1 ms\n"
     ]
    },
    {
     "data": {
      "text/plain": [
       "-0.006885054366850348"
      ]
     },
     "execution_count": 317,
     "metadata": {},
     "output_type": "execute_result"
    }
   ],
   "source": [
    "%%time\n",
    "mean_distance(x,y) # python version"
   ]
  },
  {
   "cell_type": "code",
   "execution_count": 314,
   "metadata": {},
   "outputs": [
    {
     "name": "stdout",
     "output_type": "stream",
     "text": [
      "-0.006885054366850335\n",
      "CPU times: user 0 ns, sys: 0 ns, total: 0 ns\n",
      "Wall time: 793 µs\n"
     ]
    }
   ],
   "source": [
    "%%time\n",
    "print((x-y).mean()) # numpy version"
   ]
  },
  {
   "cell_type": "code",
   "execution_count": 322,
   "metadata": {},
   "outputs": [],
   "source": [
    "import numba as nb\n",
    "\n",
    "@nb.jit\n",
    "def mean_distance_nb(x, y):\n",
    "    nx = len(x)\n",
    "    result = 0.0\n",
    "    count = 0\n",
    "    for i in range(nx):\n",
    "        result += x[i] - y[i]\n",
    "        count += 1\n",
    "    return result / count"
   ]
  },
  {
   "cell_type": "code",
   "execution_count": 324,
   "metadata": {},
   "outputs": [
    {
     "name": "stdout",
     "output_type": "stream",
     "text": [
      "CPU times: user 0 ns, sys: 0 ns, total: 0 ns\n",
      "Wall time: 63.7 µs\n"
     ]
    },
    {
     "data": {
      "text/plain": [
       "-0.006885054366850348"
      ]
     },
     "execution_count": 324,
     "metadata": {},
     "output_type": "execute_result"
    }
   ],
   "source": [
    "%%time\n",
    "mean_distance_nb(x,y)"
   ]
  },
  {
   "cell_type": "code",
   "execution_count": 325,
   "metadata": {},
   "outputs": [],
   "source": [
    "from numba import vectorize\n",
    "\n",
    "@vectorize\n",
    "def nb_add(x,y):\n",
    "    return x+y\n"
   ]
  },
  {
   "cell_type": "code",
   "execution_count": 329,
   "metadata": {},
   "outputs": [
    {
     "name": "stdout",
     "output_type": "stream",
     "text": [
      "CPU times: user 0 ns, sys: 0 ns, total: 0 ns\n",
      "Wall time: 557 µs\n"
     ]
    },
    {
     "data": {
      "text/plain": [
       "array([-1.31959259, -0.29212358,  0.20887047, ...,  1.38422692,\n",
       "        0.66812248,  4.12295099])"
      ]
     },
     "execution_count": 329,
     "metadata": {},
     "output_type": "execute_result"
    }
   ],
   "source": [
    "%%time\n",
    "nb_add(x,y)"
   ]
  },
  {
   "cell_type": "code",
   "execution_count": 330,
   "metadata": {},
   "outputs": [
    {
     "name": "stdout",
     "output_type": "stream",
     "text": [
      "CPU times: user 0 ns, sys: 0 ns, total: 0 ns\n",
      "Wall time: 271 µs\n"
     ]
    },
    {
     "data": {
      "text/plain": [
       "array([-1.31959259, -0.29212358,  0.20887047, ...,  1.38422692,\n",
       "        0.66812248,  4.12295099])"
      ]
     },
     "execution_count": 330,
     "metadata": {},
     "output_type": "execute_result"
    }
   ],
   "source": [
    "%%time\n",
    "x+y"
   ]
  },
  {
   "cell_type": "markdown",
   "metadata": {},
   "source": [
    "## Memory Mapped files"
   ]
  },
  {
   "cell_type": "code",
   "execution_count": null,
   "metadata": {},
   "outputs": [],
   "source": [
    "np.memmap"
   ]
  },
  {
   "cell_type": "code",
   "execution_count": null,
   "metadata": {},
   "outputs": [],
   "source": []
  },
  {
   "cell_type": "markdown",
   "metadata": {},
   "source": [
    "# Some probability distributions"
   ]
  },
  {
   "cell_type": "markdown",
   "metadata": {},
   "source": [
    "## Binomial Distribution"
   ]
  },
  {
   "cell_type": "markdown",
   "metadata": {},
   "source": [
    "When you flip a coin, there are two possible outcomes: heads and tails. Each outcome has a fixed probability, the same from trial to trial. In the case of coins, heads and tails each have the same probability of 1/2. More generally, there are situations in which the coin is biased, so that heads and tails have different probabilities. Here we consider probability distributions for which there are just two possible outcomes with fixed probabilities summing to one. These distributions are called binomial distributions.\n",
    "\n",
    "For eg. we toss a coin N=2 times with p = 0.5."
   ]
  },
  {
   "cell_type": "markdown",
   "metadata": {},
   "source": [
    "![Figure 9a](imgs/binomial_002.png)"
   ]
  },
  {
   "cell_type": "markdown",
   "metadata": {},
   "source": [
    "![Figure 9b](imgs/binomial_001.png)"
   ]
  },
  {
   "cell_type": "markdown",
   "metadata": {},
   "source": [
    "A binomial distribution is very different from a normal distribution, and yet if the sample size is large enough, the shapes will be quite similar.\n",
    "\n",
    "The key difference is that a binomial distribution is discrete, not continuous. In other words, it is NOT possible to find a data value between any two data values.\n",
    "\n",
    "The requirements for a binomial distribution are\n",
    "\n",
    "1) The r.v. of interest is the count of successes in n trials\n",
    "\n",
    "2) The number of trials (or sample size), n, is fixed\n",
    "\n",
    "3) Trials are independent, with fixed value p = P(success on a trial)\n",
    "\n",
    "4) There are only two possible outcomes on each trial, called \"success\" and \"failure.\" (This is where the \"bi\" prefix in \"binomial\" comes from. If there were several possible outcomes, we would need to use a multinomial distribution to account for them, but we don't study multinomial distributions in the beginning AP Statistics course.)\n",
    "\n",
    "Consider X = number of sixes when a fair die is rolled 31 times.\n",
    "\n",
    "Is X a binomial r.v.? Let us check...\n",
    "\n",
    "1) X counts the number of successes (sixes) in 31 trials. CHECK!\n",
    "\n",
    "2) The sample size (31) is fixed. CHECK!\n",
    "\n",
    "3) Trials are independent, with p = P(six) = 1/6, a fixed value. CHECK!\n",
    "\n",
    "4) There are only two possible outcomes on each trial. Either we get a six (success), or we fail to get a six (failure). We say p = 1/6 and q = 5/6. CHECK!\n",
    "\n",
    "Since X is binomial, we say X follows the B(31, 1/6) distribution. Do you see why X is discrete? X could equal 4, or 5, or 6, for example, but there is no way that X could ever equal 4.25 or 4.37. (Note, however, that the mean and s.d. of X could have messy decimal values.)\n"
   ]
  },
  {
   "cell_type": "markdown",
   "metadata": {},
   "source": [
    "## Beta distribution"
   ]
  },
  {
   "cell_type": "markdown",
   "metadata": {},
   "source": [
    "An excellent explanation from https://stats.stackexchange.com/questions/47771/what-is-the-intuition-behind-beta-distribution"
   ]
  },
  {
   "cell_type": "markdown",
   "metadata": {},
   "source": [
    "The short version is that the Beta distribution can be understood as representing a distribution of probabilities- that is, it represents all the possible values of a probability when we don't know what that probability is. Here is my favorite intuitive explanation of this:\n",
    "\n",
    "Anyone who follows baseball is familiar with batting averages- simply the number of times a player gets a base hit divided by the number of times he goes up at bat (so it's just a percentage between 0 and 1). .266 is in general considered an average batting average, while .300 is considered an excellent one.\n",
    "\n",
    "Imagine we have a baseball player, and we want to predict what his season-long batting average will be. You might say we can just use his batting average so far- but this will be a very poor measure at the start of a season! If a player goes up to bat once and gets a single, his batting average is briefly 1.000, while if he strikes out, his batting average is 0.000. It doesn't get much better if you go up to bat five or six times- you could get a lucky streak and get an average of 1.000, or an unlucky streak and get an average of 0, neither of which are a remotely good predictor of how you will bat that season.\n",
    "\n",
    "Why is your batting average in the first few hits not a good predictor of your eventual batting average? When a player's first at-bat is a strikeout, why does no one predict that he'll never get a hit all season? Because we're going in with prior expectations. We know that in history, most batting averages over a season have hovered between something like .215 and .360, with some extremely rare exceptions on either side. We know that if a player gets a few strikeouts in a row at the start, that might indicate he'll end up a bit worse than average, but we know he probably won't deviate from that range.\n",
    "\n",
    "Given our batting average problem, which can be represented with a binomial distribution (a series of successes and failures), the best way to represent these prior expectations (what we in statistics just call a prior) is with the Beta distribution- it's saying, before we've seen the player take his first swing, what we roughly expect his batting average to be. The domain of the Beta distribution is (0, 1), just like a probability, so we already know we're on the right track- but the appropriateness of the Beta for this task goes far beyond that.\n",
    "\n",
    "We expect that the player's season-long batting average will be most likely around .27, but that it could reasonably range from .21 to .35. This can be represented with a Beta distribution with parameters α=81 and β=219:"
   ]
  },
  {
   "cell_type": "markdown",
   "metadata": {},
   "source": [
    "![Figure 9](imgs/beta_dist_001.png)"
   ]
  },
  {
   "cell_type": "markdown",
   "metadata": {},
   "source": [
    "The Beta distribution is best for representing a probabilistic distribution of probabilities- the case where we don't know what a probability is in advance, but we have some reasonable guesses."
   ]
  },
  {
   "cell_type": "code",
   "execution_count": 270,
   "metadata": {},
   "outputs": [],
   "source": [
    "X = np.random.randn(100000)"
   ]
  },
  {
   "cell_type": "code",
   "execution_count": 278,
   "metadata": {},
   "outputs": [
    {
     "data": {
      "text/plain": [
       "(array([  1.,   1.,   0.,   0.,   0.,   0.,   0.,   0.,   0.,   1.,   0.,\n",
       "          0.,   2.,   0.,   0.,   0.,   0.,   2.,   0.,   0.,   0.,   0.,\n",
       "          2.,   0.,   1.,   0.,   0.,   0.,   0.,   0.,   2.,   0.,   0.,\n",
       "          0.,   1.,   0.,   0.,   0.,   0.,   0.,   0.,   0.,   0.,   2.,\n",
       "          1.,   1.,   0.,   1.,   1.,   0.,   1.,   1.,   0.,   0.,   1.,\n",
       "          0.,   1.,   2.,   1.,   1.,   1.,   0.,   2.,   2.,   2.,   1.,\n",
       "          0.,   3.,   1.,   1.,   2.,   0.,   1.,   3.,   3.,   1.,   2.,\n",
       "          0.,   0.,   2.,   2.,   1.,   1.,   1.,   3.,   2.,   3.,   2.,\n",
       "          2.,   3.,   1.,   1.,   3.,   2.,   2.,   4.,   2.,   2.,   5.,\n",
       "          4.,   0.,   0.,   3.,   1.,   3.,   1.,   1.,   2.,   4.,   2.,\n",
       "          3.,   2.,   4.,   3.,   1.,   2.,   2.,   3.,   3.,   3.,   6.,\n",
       "          6.,   4.,   3.,   3.,   2.,   3.,   4.,   5.,  10.,   3.,   5.,\n",
       "          8.,   4.,   8.,   8.,   7.,   9.,   4.,   6.,   7.,   5.,   5.,\n",
       "          5.,   9.,   4.,   4.,   9.,   5.,   9.,   2.,   6.,   5.,   6.,\n",
       "         10.,   8.,   8.,   6.,   5.,   6.,   7.,  11.,  16.,  16.,  12.,\n",
       "         12.,  10.,   9.,  15.,   8.,  15.,   9.,  10.,   6.,  19.,  12.,\n",
       "         12.,  11.,  10.,  13.,   9.,  10.,  23.,  17.,  10.,  15.,  19.,\n",
       "         14.,  16.,  24.,  16.,  15.,  25.,  20.,  16.,  28.,  20.,  21.,\n",
       "         16.,  29.,  26.,  22.,  22.,  33.,  28.,  19.,  27.,  22.,  26.,\n",
       "         31.,  39.,  35.,  27.,  31.,  35.,  33.,  32.,  26.,  27.,  33.,\n",
       "         30.,  36.,  31.,  28.,  36.,  29.,  38.,  37.,  31.,  28.,  48.,\n",
       "         40.,  39.,  28.,  41.,  45.,  33.,  38.,  34.,  38.,  40.,  41.,\n",
       "         38.,  44.,  51.,  49.,  59.,  49.,  50.,  55.,  55.,  63.,  58.,\n",
       "         47.,  56.,  59.,  62.,  67.,  58.,  61.,  48.,  74.,  70.,  71.,\n",
       "         70.,  51.,  61.,  64.,  72.,  61.,  66.,  71.,  71.,  70.,  91.,\n",
       "         81.,  68.,  70.,  83.,  82.,  92.,  57.,  82.,  99.,  83., 104.,\n",
       "        110.,  84.,  90., 105.,  92.,  78.,  88., 100.,  87., 105.,  93.,\n",
       "        100., 105.,  85., 100.,  96., 123., 112.,  99., 115., 109., 113.,\n",
       "        119., 118., 130., 107., 131., 113., 127., 126., 142., 129., 130.,\n",
       "        125., 127., 147., 119., 137., 140., 132., 148., 133., 145., 148.,\n",
       "        130., 163., 144., 150., 173., 157., 140., 173., 171., 151., 149.,\n",
       "        167., 150., 175., 169., 191., 178., 165., 186., 156., 170., 182.,\n",
       "        149., 175., 192., 187., 179., 180., 193., 204., 190., 188., 202.,\n",
       "        185., 218., 210., 206., 206., 213., 195., 225., 235., 223., 199.,\n",
       "        227., 194., 208., 222., 210., 226., 245., 226., 234., 245., 227.,\n",
       "        243., 231., 231., 263., 261., 227., 249., 262., 234., 240., 260.,\n",
       "        267., 234., 269., 234., 284., 270., 266., 252., 284., 258., 294.,\n",
       "        249., 249., 267., 276., 248., 269., 298., 261., 264., 273., 284.,\n",
       "        293., 261., 290., 283., 297., 315., 256., 281., 307., 276., 292.,\n",
       "        320., 297., 292., 343., 292., 311., 291., 307., 323., 306., 316.,\n",
       "        311., 330., 288., 351., 322., 315., 319., 291., 313., 293., 307.,\n",
       "        287., 319., 286., 295., 302., 320., 303., 336., 310., 269., 321.,\n",
       "        294., 310., 334., 343., 297., 302., 348., 323., 322., 312., 329.,\n",
       "        319., 340., 336., 310., 336., 324., 313., 298., 328., 336., 337.,\n",
       "        362., 326., 341., 329., 339., 293., 338., 295., 333., 322., 339.,\n",
       "        303., 320., 301., 311., 294., 315., 286., 331., 330., 308., 304.,\n",
       "        301., 303., 321., 312., 316., 303., 348., 313., 310., 300., 322.,\n",
       "        296., 354., 308., 321., 314., 305., 333., 290., 315., 311., 313.,\n",
       "        335., 322., 275., 299., 293., 279., 310., 290., 285., 331., 265.,\n",
       "        278., 312., 280., 285., 283., 303., 312., 280., 311., 286., 254.,\n",
       "        279., 286., 282., 274., 281., 273., 258., 255., 279., 266., 264.,\n",
       "        282., 270., 249., 266., 277., 245., 259., 255., 251., 244., 259.,\n",
       "        290., 264., 263., 256., 258., 231., 236., 236., 229., 232., 281.,\n",
       "        221., 229., 243., 214., 210., 231., 256., 226., 198., 198., 214.,\n",
       "        207., 210., 204., 208., 215., 204., 204., 213., 202., 215., 201.,\n",
       "        210., 187., 195., 192., 221., 225., 169., 181., 187., 201., 182.,\n",
       "        183., 179., 189., 165., 177., 179., 170., 148., 180., 167., 184.,\n",
       "        158., 153., 182., 153., 173., 137., 160., 139., 145., 157., 148.,\n",
       "        163., 159., 144., 129., 160., 154., 144., 132., 146., 149., 131.,\n",
       "        146., 129., 119., 153., 132., 119., 129., 123., 118., 120., 121.,\n",
       "        120., 117., 103., 117., 104., 106., 114., 126., 114., 107.,  92.,\n",
       "        104.,  89., 105., 114.,  96.,  90., 107., 109., 100., 108.,  91.,\n",
       "         99.,  98.,  89.,  90.,  96.,  72.,  78.,  84.,  78.,  85.,  80.,\n",
       "         71.,  68.,  71.,  77.,  81.,  80.,  71.,  69.,  68.,  81.,  69.,\n",
       "         77.,  54.,  57.,  50.,  62.,  53.,  67.,  61.,  65.,  65.,  59.,\n",
       "         47.,  46.,  75.,  58.,  55.,  47.,  37.,  43.,  52.,  61.,  49.,\n",
       "         42.,  54.,  49.,  35.,  58.,  45.,  57.,  37.,  47.,  32.,  46.,\n",
       "         32.,  40.,  39.,  30.,  36.,  30.,  37.,  45.,  38.,  45.,  34.,\n",
       "         32.,  30.,  34.,  33.,  30.,  32.,  34.,  25.,  40.,  23.,  30.,\n",
       "         22.,  27.,  24.,  21.,  14.,  27.,  23.,  30.,  16.,  18.,  28.,\n",
       "         18.,  27.,  27.,  13.,  16.,  19.,  21.,  19.,  15.,  17.,  13.,\n",
       "         13.,  11.,  12.,  16.,  18.,  16.,  17.,   7.,  14.,  15.,  17.,\n",
       "         16.,  11.,  11.,  12.,   9.,  12.,   8.,   7.,   8.,   9.,  11.,\n",
       "         11.,  13.,  15.,  13.,   6.,   4.,   9.,   5.,  10.,  13.,   6.,\n",
       "          5.,   8.,   9.,  11.,  13.,   4.,   8.,  16.,  12.,   6.,   6.,\n",
       "          6.,   5.,   4.,   7.,   9.,   4.,   3.,   8.,   8.,   9.,   4.,\n",
       "          6.,   7.,   4.,   5.,   1.,  11.,   8.,   5.,   8.,   3.,   2.,\n",
       "          4.,   5.,   2.,   2.,   3.,   6.,   3.,   5.,   4.,   2.,   5.,\n",
       "          4.,   1.,   5.,   0.,   0.,   1.,   3.,   2.,   3.,   3.,   3.,\n",
       "          2.,   1.,   3.,   4.,   1.,   1.,   2.,   3.,   3.,   3.,   1.,\n",
       "          3.,   2.,   0.,   0.,   1.,   2.,   2.,   2.,   4.,   0.,   1.,\n",
       "          1.,   0.,   5.,   0.,   0.,   1.,   0.,   3.,   1.,   2.,   0.,\n",
       "          0.,   0.,   2.,   0.,   1.,   0.,   0.,   0.,   1.,   1.,   2.,\n",
       "          1.,   0.,   0.,   0.,   0.,   0.,   1.,   0.,   0.,   0.,   0.,\n",
       "          1.,   1.,   0.,   1.,   0.,   0.,   0.,   0.,   1.,   0.,   1.,\n",
       "          0.,   0.,   0.,   1.,   0.,   2.,   1.,   0.,   0.,   0.,   0.,\n",
       "          0.,   0.,   1.,   1.,   0.,   0.,   0.,   0.,   0.,   0.,   0.,\n",
       "          0.,   0.,   1.,   0.,   0.,   0.,   0.,   0.,   0.,   0.,   0.,\n",
       "          0.,   0.,   0.,   0.,   0.,   1.,   0.,   0.,   0.,   0.,   0.,\n",
       "          0.,   0.,   1.,   0.,   0.,   0.,   0.,   0.,   0.,   0.,   0.,\n",
       "          0.,   0.,   0.,   0.,   0.,   0.,   0.,   0.,   0.,   1.]),\n",
       " array([-3.95731341, -3.94915542, -3.94099744, ...,  4.18435526,\n",
       "         4.19251325,  4.20067123]),\n",
       " <a list of 1000 Patch objects>)"
      ]
     },
     "execution_count": 278,
     "metadata": {},
     "output_type": "execute_result"
    },
    {
     "data": {
      "image/png": "[encoded data removed]",
      "text/plain": [
       "<Figure size 432x288 with 1 Axes>"
      ]
     },
     "metadata": {
      "needs_background": "light"
     },
     "output_type": "display_data"
    }
   ],
   "source": [
    "plt.hist(X, bins=1000)"
   ]
  },
  {
   "cell_type": "code",
   "execution_count": 280,
   "metadata": {},
   "outputs": [],
   "source": [
    "Y = np.array([  1.,   1.,   0.,   0.,   0.,   0.,   0.,   0.,   0.,   1.,   0.,\n",
    "          0.,   2.,   0.,   0.,   0.,   0.,   2.,   0.,   0.,   0.,   0.,\n",
    "          2.,   0.,   1.,   0.,   0.,   0.,   0.,   0.,   2.,   0.,   0.,\n",
    "          0.,   1.,   0.,   0.,   0.,   0.,   0.,   0.,   0.,   0.,   2.,\n",
    "          1.,   1.,   0.,   1.,   1.,   0.,   1.,   1.,   0.,   0.,   1.,\n",
    "          0.,   1.,   2.,   1.,   1.,   1.,   0.,   2.,   2.,   2.,   1.,\n",
    "          0.,   3.,   1.,   1.,   2.,   0.,   1.,   3.,   3.,   1.,   2.,\n",
    "          0.,   0.,   2.,   2.,   1.,   1.,   1.,   3.,   2.,   3.,   2.,\n",
    "          2.,   3.,   1.,   1.,   3.,   2.,   2.,   4.,   2.,   2.,   5.,\n",
    "          4.,   0.,   0.,   3.,   1.,   3.,   1.,   1.,   2.,   4.,   2.,\n",
    "          3.,   2.,   4.,   3.,   1.,   2.,   2.,   3.,   3.,   3.,   6.,\n",
    "          6.,   4.,   3.,   3.,   2.,   3.,   4.,   5.,  10.,   3.,   5.,\n",
    "          8.,   4.,   8.,   8.,   7.,   9.,   4.,   6.,   7.,   5.,   5.,\n",
    "          5.,   9.,   4.,   4.,   9.,   5.,   9.,   2.,   6.,   5.,   6.,\n",
    "         10.,   8.,   8.,   6.,   5.,   6.,   7.,  11.,  16.,  16.,  12.,\n",
    "         12.,  10.,   9.,  15.,   8.,  15.,   9.,  10.,   6.,  19.,  12.,\n",
    "         12.,  11.,  10.,  13.,   9.,  10.,  23.,  17.,  10.,  15.,  19.,\n",
    "         14.,  16.,  24.,  16.,  15.,  25.,  20.,  16.,  28.,  20.,  21.,\n",
    "         16.,  29.,  26.,  22.,  22.,  33.,  28.,  19.,  27.,  22.,  26.,\n",
    "         31.,  39.,  35.,  27.,  31.,  35.,  33.,  32.,  26.,  27.,  33.,\n",
    "         30.,  36.,  31.,  28.,  36.,  29.,  38.,  37.,  31.,  28.,  48.,\n",
    "         40.,  39.,  28.,  41.,  45.,  33.,  38.,  34.,  38.,  40.,  41.,\n",
    "         38.,  44.,  51.,  49.,  59.,  49.,  50.,  55.,  55.,  63.,  58.,\n",
    "         47.,  56.,  59.,  62.,  67.,  58.,  61.,  48.,  74.,  70.,  71.,\n",
    "         70.,  51.,  61.,  64.,  72.,  61.,  66.,  71.,  71.,  70.,  91.,\n",
    "         81.,  68.,  70.,  83.,  82.,  92.,  57.,  82.,  99.,  83., 104.,\n",
    "        110.,  84.,  90., 105.,  92.,  78.,  88., 100.,  87., 105.,  93.,\n",
    "        100., 105.,  85., 100.,  96., 123., 112.,  99., 115., 109., 113.,\n",
    "        119., 118., 130., 107., 131., 113., 127., 126., 142., 129., 130.,\n",
    "        125., 127., 147., 119., 137., 140., 132., 148., 133., 145., 148.,\n",
    "        130., 163., 144., 150., 173., 157., 140., 173., 171., 151., 149.,\n",
    "        167., 150., 175., 169., 191., 178., 165., 186., 156., 170., 182.,\n",
    "        149., 175., 192., 187., 179., 180., 193., 204., 190., 188., 202.,\n",
    "        185., 218., 210., 206., 206., 213., 195., 225., 235., 223., 199.,\n",
    "        227., 194., 208., 222., 210., 226., 245., 226., 234., 245., 227.,\n",
    "        243., 231., 231., 263., 261., 227., 249., 262., 234., 240., 260.,\n",
    "        267., 234., 269., 234., 284., 270., 266., 252., 284., 258., 294.,\n",
    "        249., 249., 267., 276., 248., 269., 298., 261., 264., 273., 284.,\n",
    "        293., 261., 290., 283., 297., 315., 256., 281., 307., 276., 292.,\n",
    "        320., 297., 292., 343., 292., 311., 291., 307., 323., 306., 316.,\n",
    "        311., 330., 288., 351., 322., 315., 319., 291., 313., 293., 307.,\n",
    "        287., 319., 286., 295., 302., 320., 303., 336., 310., 269., 321.,\n",
    "        294., 310., 334., 343., 297., 302., 348., 323., 322., 312., 329.,\n",
    "        319., 340., 336., 310., 336., 324., 313., 298., 328., 336., 337.,\n",
    "        362., 326., 341., 329., 339., 293., 338., 295., 333., 322., 339.,\n",
    "        303., 320., 301., 311., 294., 315., 286., 331., 330., 308., 304.,\n",
    "        301., 303., 321., 312., 316., 303., 348., 313., 310., 300., 322.,\n",
    "        296., 354., 308., 321., 314., 305., 333., 290., 315., 311., 313.,\n",
    "        335., 322., 275., 299., 293., 279., 310., 290., 285., 331., 265.,\n",
    "        278., 312., 280., 285., 283., 303., 312., 280., 311., 286., 254.,\n",
    "        279., 286., 282., 274., 281., 273., 258., 255., 279., 266., 264.,\n",
    "        282., 270., 249., 266., 277., 245., 259., 255., 251., 244., 259.,\n",
    "        290., 264., 263., 256., 258., 231., 236., 236., 229., 232., 281.,\n",
    "        221., 229., 243., 214., 210., 231., 256., 226., 198., 198., 214.,\n",
    "        207., 210., 204., 208., 215., 204., 204., 213., 202., 215., 201.,\n",
    "        210., 187., 195., 192., 221., 225., 169., 181., 187., 201., 182.,\n",
    "        183., 179., 189., 165., 177., 179., 170., 148., 180., 167., 184.,\n",
    "        158., 153., 182., 153., 173., 137., 160., 139., 145., 157., 148.,\n",
    "        163., 159., 144., 129., 160., 154., 144., 132., 146., 149., 131.,\n",
    "        146., 129., 119., 153., 132., 119., 129., 123., 118., 120., 121.,\n",
    "        120., 117., 103., 117., 104., 106., 114., 126., 114., 107.,  92.,\n",
    "        104.,  89., 105., 114.,  96.,  90., 107., 109., 100., 108.,  91.,\n",
    "         99.,  98.,  89.,  90.,  96.,  72.,  78.,  84.,  78.,  85.,  80.,\n",
    "         71.,  68.,  71.,  77.,  81.,  80.,  71.,  69.,  68.,  81.,  69.,\n",
    "         77.,  54.,  57.,  50.,  62.,  53.,  67.,  61.,  65.,  65.,  59.,\n",
    "         47.,  46.,  75.,  58.,  55.,  47.,  37.,  43.,  52.,  61.,  49.,\n",
    "         42.,  54.,  49.,  35.,  58.,  45.,  57.,  37.,  47.,  32.,  46.,\n",
    "         32.,  40.,  39.,  30.,  36.,  30.,  37.,  45.,  38.,  45.,  34.,\n",
    "         32.,  30.,  34.,  33.,  30.,  32.,  34.,  25.,  40.,  23.,  30.,\n",
    "         22.,  27.,  24.,  21.,  14.,  27.,  23.,  30.,  16.,  18.,  28.,\n",
    "         18.,  27.,  27.,  13.,  16.,  19.,  21.,  19.,  15.,  17.,  13.,\n",
    "         13.,  11.,  12.,  16.,  18.,  16.,  17.,   7.,  14.,  15.,  17.,\n",
    "         16.,  11.,  11.,  12.,   9.,  12.,   8.,   7.,   8.,   9.,  11.,\n",
    "         11.,  13.,  15.,  13.,   6.,   4.,   9.,   5.,  10.,  13.,   6.,\n",
    "          5.,   8.,   9.,  11.,  13.,   4.,   8.,  16.,  12.,   6.,   6.,\n",
    "          6.,   5.,   4.,   7.,   9.,   4.,   3.,   8.,   8.,   9.,   4.,\n",
    "          6.,   7.,   4.,   5.,   1.,  11.,   8.,   5.,   8.,   3.,   2.,\n",
    "          4.,   5.,   2.,   2.,   3.,   6.,   3.,   5.,   4.,   2.,   5.,\n",
    "          4.,   1.,   5.,   0.,   0.,   1.,   3.,   2.,   3.,   3.,   3.,\n",
    "          2.,   1.,   3.,   4.,   1.,   1.,   2.,   3.,   3.,   3.,   1.,\n",
    "          3.,   2.,   0.,   0.,   1.,   2.,   2.,   2.,   4.,   0.,   1.,\n",
    "          1.,   0.,   5.,   0.,   0.,   1.,   0.,   3.,   1.,   2.,   0.,\n",
    "          0.,   0.,   2.,   0.,   1.,   0.,   0.,   0.,   1.,   1.,   2.,\n",
    "          1.,   0.,   0.,   0.,   0.,   0.,   1.,   0.,   0.,   0.,   0.,\n",
    "          1.,   1.,   0.,   1.,   0.,   0.,   0.,   0.,   1.,   0.,   1.,\n",
    "          0.,   0.,   0.,   1.,   0.,   2.,   1.,   0.,   0.,   0.,   0.,\n",
    "          0.,   0.,   1.,   1.,   0.,   0.,   0.,   0.,   0.,   0.,   0.,\n",
    "          0.,   0.,   1.,   0.,   0.,   0.,   0.,   0.,   0.,   0.,   0.,\n",
    "          0.,   0.,   0.,   0.,   0.,   1.,   0.,   0.,   0.,   0.,   0.,\n",
    "          0.,   0.,   1.,   0.,   0.,   0.,   0.,   0.,   0.,   0.,   0.,\n",
    "          0.,   0.,   0.,   0.,   0.,   0.,   0.,   0.,   0.,   1.])"
   ]
  },
  {
   "cell_type": "code",
   "execution_count": 281,
   "metadata": {},
   "outputs": [
    {
     "data": {
      "text/plain": [
       "[<matplotlib.lines.Line2D at 0x7fe02a30fe10>]"
      ]
     },
     "execution_count": 281,
     "metadata": {},
     "output_type": "execute_result"
    },
    {
     "data": {
      "image/png": "[encoded data removed]",
      "text/plain": [
       "<Figure size 432x288 with 1 Axes>"
      ]
     },
     "metadata": {
      "needs_background": "light"
     },
     "output_type": "display_data"
    }
   ],
   "source": [
    "plt.plot(Y)"
   ]
  },
  {
   "cell_type": "markdown",
   "metadata": {},
   "source": [
    "## Chi Square Distribution"
   ]
  },
  {
   "cell_type": "markdown",
   "metadata": {},
   "source": [
    "Refer http://onlinestatbook.com/2/chi_square/distribution.html"
   ]
  },
  {
   "cell_type": "code",
   "execution_count": null,
   "metadata": {},
   "outputs": [],
   "source": []
  }
 ],
 "metadata": {
  "kernelspec": {
   "display_name": "itv",
   "language": "python",
   "name": "itv"
  },
  "language_info": {
   "codemirror_mode": {
    "name": "ipython",
    "version": 3
   },
   "file_extension": ".py",
   "mimetype": "text/x-python",
   "name": "python",
   "nbconvert_exporter": "python",
   "pygments_lexer": "ipython3",
   "version": "3.6.3"
  }
 },
 "nbformat": 4,
 "nbformat_minor": 2
}
