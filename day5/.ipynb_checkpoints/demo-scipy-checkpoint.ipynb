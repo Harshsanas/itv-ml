{
 "cells": [
  {
   "cell_type": "markdown",
   "metadata": {},
   "source": [
    "# Scipy"
   ]
  },
  {
   "cell_type": "markdown",
   "metadata": {},
   "source": [
    "It’s a package that utilizes NumPy arrays and manipulations to take on standard problems that scientists and engineers commonly face: integration, determining a function’s maxima or minima, finding eigenvectors for large sparse matrices, testing whether two distributions are the same, and much more. \n",
    "\n",
    "We will cover just the basics here, which will allow you to take advantage of the more complex features in SciPy by going through easy examples that are applicable to real-world problems"
   ]
  },
  {
   "cell_type": "markdown",
   "metadata": {},
   "source": [
    "## Scipy For Linear Algebra"
   ]
  },
  {
   "cell_type": "markdown",
   "metadata": {},
   "source": [
    "We will start with the treatment of matrices (whether normal or sparse) with the modules on Linear Algebra—linalg and sparse. Note that linalg expands on the NumPy module with the same name."
   ]
  },
  {
   "cell_type": "code",
   "execution_count": 139,
   "metadata": {},
   "outputs": [
    {
     "name": "stdout",
     "output_type": "stream",
     "text": [
      "[-12  24 -12]\n",
      "[ 12 -24  12]\n"
     ]
    }
   ],
   "source": [
    "import numpy as np\n",
    "\n",
    "vectorA = np.array([5, 6, 7])\n",
    "vectorB = np.array([7, 6, 5])\n",
    "crossProduct = np.cross(vectorA,vectorB)\n",
    "print(crossProduct)\n",
    "\n",
    "# Further, we perform a cross operation of vectorB over vectorA:\n",
    "crossProduct = np.cross(vectorB,vectorA)\n",
    "print(crossProduct)"
   ]
  },
  {
   "cell_type": "markdown",
   "metadata": {},
   "source": [
    "A matrix is said to be sparse if most of its entries are zero.\n",
    "SciPy provides different procedures to store such matrices effectively in memory. Most of the usual methods to input sparse matrices are contemplated in SciPy as routines in the scipy.sparse module. Some of those methods are block sparse row (bsr_matrix), coordinate format (coo_matrix), compressed sparse column or row (csc_matrix, csr_matrix), sparse matrix with diagonal storage (dia_matrix), dictionary with Keys-based sorting (dok_matrix), and Row-based linked list (lil_matrix)."
   ]
  },
  {
   "cell_type": "code",
   "execution_count": 140,
   "metadata": {},
   "outputs": [
    {
     "name": "stdout",
     "output_type": "stream",
     "text": [
      "  (0, 1)\t10\n",
      "  (1, 2)\t20\n",
      "  (2, 3)\t30\n",
      "  (3, 4)\t40\n",
      "[[ 0 10  0  0  0]\n",
      " [ 0  0 20  0  0]\n",
      " [ 0  0  0 30  0]\n",
      " [ 0  0  0  0 40]]\n"
     ]
    }
   ],
   "source": [
    "rows=np.array([0,1,2,3])\n",
    "cols=np.array([1,2,3,4])\n",
    "vals=np.array([10,20,30,40])\n",
    "\n",
    "# We create the matrix A as follows:\n",
    "import scipy.sparse\n",
    "A=scipy.sparse.coo_matrix( (vals,(rows,cols)) )\n",
    "print (A); print (A.todense())"
   ]
  },
  {
   "cell_type": "markdown",
   "metadata": {},
   "source": [
    "### Stacking matrices with bmat command"
   ]
  },
  {
   "cell_type": "code",
   "execution_count": 143,
   "metadata": {},
   "outputs": [
    {
     "name": "stdout",
     "output_type": "stream",
     "text": [
      "[[1. 1. 1. 0. 0. 0.]\n",
      " [1. 1. 1. 0. 0. 0.]\n",
      " [1. 1. 1. 0. 0. 0.]\n",
      " [0. 0. 0. 1. 1. 1.]\n",
      " [0. 0. 0. 1. 1. 1.]\n",
      " [0. 0. 0. 1. 1. 1.]]\n"
     ]
    }
   ],
   "source": [
    "B=np.mat(np.ones((3,3)))\n",
    "W=np.mat(np.zeros((3,3)))\n",
    "print (np.bmat('B,W;W,B'))\n",
    "\n",
    "# The output is shown as follows:\n",
    "# [[ 1.  1.  1.  0.  0.  0.]\n",
    "#  [ 1.  1.  1.  0.  0.  0.]\n",
    "#  [ 1.  1.  1.  0.  0.  0.]\n",
    "#  [ 0.  0.  0.  1.  1.  1.]\n",
    "#  [ 0.  0.  0.  1.  1.  1.]\n",
    "#  [ 0.  0.  0.  1.  1.  1.]]"
   ]
  },
  {
   "cell_type": "code",
   "execution_count": 144,
   "metadata": {},
   "outputs": [],
   "source": [
    "a=np.array([[1,2],[3,4]])\n",
    "b=np.array([[1,2,3],[3,4,5]])"
   ]
  },
  {
   "cell_type": "code",
   "execution_count": 146,
   "metadata": {},
   "outputs": [],
   "source": [
    "A = np.matrix(np.dot(a,b))"
   ]
  },
  {
   "cell_type": "code",
   "execution_count": 147,
   "metadata": {},
   "outputs": [
    {
     "data": {
      "text/plain": [
       "matrix([[ 7, 10, 13],\n",
       "        [15, 22, 29]])"
      ]
     },
     "execution_count": 147,
     "metadata": {},
     "output_type": "execute_result"
    }
   ],
   "source": [
    "A"
   ]
  },
  {
   "cell_type": "code",
   "execution_count": 150,
   "metadata": {},
   "outputs": [
    {
     "data": {
      "text/plain": [
       "matrix([[ 7, 15],\n",
       "        [10, 22],\n",
       "        [13, 29]])"
      ]
     },
     "execution_count": 150,
     "metadata": {},
     "output_type": "execute_result"
    }
   ],
   "source": [
    "A.T"
   ]
  },
  {
   "cell_type": "code",
   "execution_count": 151,
   "metadata": {},
   "outputs": [
    {
     "data": {
      "text/plain": [
       "matrix([[ 318,  702],\n",
       "        [ 702, 1550]])"
      ]
     },
     "execution_count": 151,
     "metadata": {},
     "output_type": "execute_result"
    }
   ],
   "source": [
    "A.dot(A.T)"
   ]
  },
  {
   "cell_type": "code",
   "execution_count": 152,
   "metadata": {},
   "outputs": [
    {
     "data": {
      "text/plain": [
       "array([[-11874.98146147, -19162.1059127 ],\n",
       "       [ 45234.98898361,  72988.42686875]])"
      ]
     },
     "execution_count": 152,
     "metadata": {},
     "output_type": "execute_result"
    }
   ],
   "source": [
    "import scipy.linalg as slin\n",
    "slin.expm(A.dot(A.T))"
   ]
  },
  {
   "cell_type": "markdown",
   "metadata": {},
   "source": [
    "### EigenValue problems and matrix decomposition"
   ]
  },
  {
   "cell_type": "code",
   "execution_count": 156,
   "metadata": {},
   "outputs": [
    {
     "data": {
      "text/plain": [
       "matrix([[ 1, -3, -3],\n",
       "        [ 3, -5, -3],\n",
       "        [ 6, -6,  4]])"
      ]
     },
     "execution_count": 156,
     "metadata": {},
     "output_type": "execute_result"
    }
   ],
   "source": [
    "A = np.matrix([[1,-3,-3],[3,-5,-3],[6,-6,4]])\n",
    "A"
   ]
  },
  {
   "cell_type": "code",
   "execution_count": 157,
   "metadata": {},
   "outputs": [
    {
     "data": {
      "text/plain": [
       "array([-2.+7.8444124e-08j, -2.-7.8444124e-08j,  4.+0.0000000e+00j])"
      ]
     },
     "execution_count": 157,
     "metadata": {},
     "output_type": "execute_result"
    }
   ],
   "source": [
    "slin.eigvals(A)"
   ]
  },
  {
   "cell_type": "markdown",
   "metadata": {},
   "source": [
    "Eigen values are 4 and -2"
   ]
  },
  {
   "cell_type": "code",
   "execution_count": 160,
   "metadata": {},
   "outputs": [],
   "source": [
    "e_val, e_vec = slin.eig(A)"
   ]
  },
  {
   "cell_type": "code",
   "execution_count": 161,
   "metadata": {},
   "outputs": [
    {
     "data": {
      "text/plain": [
       "(array([-2.+7.8444124e-08j, -2.-7.8444124e-08j,  4.+0.0000000e+00j]),\n",
       " array([[ 7.07106781e-01+0.00000000e+00j,  7.07106781e-01-0.00000000e+00j,\n",
       "         -4.08248290e-01+0.00000000e+00j],\n",
       "        [ 7.07106781e-01-9.24472868e-09j,  7.07106781e-01+9.24472868e-09j,\n",
       "         -4.08248290e-01+0.00000000e+00j],\n",
       "        [-3.21063990e-16-9.24472868e-09j, -3.21063990e-16+9.24472868e-09j,\n",
       "          8.16496581e-01+0.00000000e+00j]]))"
      ]
     },
     "execution_count": 161,
     "metadata": {},
     "output_type": "execute_result"
    }
   ],
   "source": [
    "e_val, e_vec"
   ]
  },
  {
   "cell_type": "markdown",
   "metadata": {},
   "source": [
    "### SVD - Image Compression via SVD"
   ]
  },
  {
   "cell_type": "markdown",
   "metadata": {},
   "source": [
    "Singular value decomposition: This function allows us to use the svd command. To compute the singular values, we issue svdvals. If we wish to compose the sigma matrix in the singular value decomposition from its singular values, we do so with the diagsvd routine. If we wish to compute an orthogonal basis for the range of a matrix using SVD, we can accomplish this with the orth command."
   ]
  },
  {
   "cell_type": "code",
   "execution_count": null,
   "metadata": {},
   "outputs": [],
   "source": []
  },
  {
   "cell_type": "markdown",
   "metadata": {},
   "source": [
    "## Optimization and Minimization"
   ]
  },
  {
   "cell_type": "markdown",
   "metadata": {},
   "source": [
    "The optimization package in SciPy allows us to solve minimization problems easily and\n",
    "quickly. What is minimization and how can it help you with your work? Some\n",
    "classic examples are performing linear regression, finding a function’s minimum and\n",
    "maximum values, determining the root of a function, and finding where two functions\n",
    "intersect."
   ]
  },
  {
   "cell_type": "markdown",
   "metadata": {},
   "source": [
    "### Data Modeling and Fitting"
   ]
  },
  {
   "cell_type": "markdown",
   "metadata": {},
   "source": [
    "There are several ways to fit data with a linear regression. In this section we will use\n",
    "curve_fit, which is a χ2-based method (in other words, a best-fit method). In the\n",
    "example below, we generate data from a known function with noise, and then fit the\n",
    "noisy data with curve_fit. The function we will model in the example is a simple linear\n",
    "equation, f (x) = ax + b."
   ]
  },
  {
   "cell_type": "code",
   "execution_count": 1,
   "metadata": {},
   "outputs": [],
   "source": [
    "import numpy as np\n",
    "from scipy.optimize import curve_fit"
   ]
  },
  {
   "cell_type": "code",
   "execution_count": 2,
   "metadata": {},
   "outputs": [
    {
     "name": "stdout",
     "output_type": "stream",
     "text": [
      "[1.00655759 1.87126155]\n"
     ]
    }
   ],
   "source": [
    "# Creating a function to model and create data\n",
    "def func(x, a, b):\n",
    "    return a*x+b\n",
    "\n",
    "# Generating clean data\n",
    "x = np.linspace(0, 10, 100)\n",
    "y = func(x, 1, 2)\n",
    "\n",
    "# Adding noise to the data\n",
    "yn = y + 0.9 * np.random.normal(size=len(x))\n",
    "\n",
    "# Executing curve_fit on noisy data\n",
    "popt, pcov = curve_fit(func, x, yn)\n",
    "\n",
    "# popt returns the best fit values for parameters of\n",
    "# the given model (func).\n",
    "print(popt)"
   ]
  },
  {
   "cell_type": "code",
   "execution_count": 10,
   "metadata": {},
   "outputs": [],
   "source": [
    "y_ret = 1.00655759*x + 1.87126155"
   ]
  },
  {
   "cell_type": "markdown",
   "metadata": {},
   "source": [
    "Optimal values for the parameters so that the sum of the squared residuals of f(xdata, *popt) - ydata is minimized\n",
    "\n",
    "pcov : 2d array\n",
    "The estimated covariance of popt. The diagonals provide the variance of the parameter estimate. To compute one standard deviation errors on the parameters use perr = np.sqrt(np.diag(pcov)).\n"
   ]
  },
  {
   "cell_type": "code",
   "execution_count": 6,
   "metadata": {},
   "outputs": [],
   "source": [
    "import matplotlib.pyplot as plt\n",
    "%matplotlib inline"
   ]
  },
  {
   "cell_type": "code",
   "execution_count": 14,
   "metadata": {},
   "outputs": [
    {
     "data": {
      "text/plain": [
       "<matplotlib.collections.PathCollection at 0x7f02736bf128>"
      ]
     },
     "execution_count": 14,
     "metadata": {},
     "output_type": "execute_result"
    },
    {
     "data": {
      "image/png": "[encoded data removed]",
      "text/plain": [
       "<Figure size 432x288 with 1 Axes>"
      ]
     },
     "metadata": {
      "needs_background": "light"
     },
     "output_type": "display_data"
    }
   ],
   "source": [
    "plt.scatter(x, y, marker='*')\n",
    "plt.scatter(x, yn)\n"
   ]
  },
  {
   "cell_type": "code",
   "execution_count": 15,
   "metadata": {},
   "outputs": [
    {
     "data": {
      "text/plain": [
       "[<matplotlib.lines.Line2D at 0x7f027374b748>]"
      ]
     },
     "execution_count": 15,
     "metadata": {},
     "output_type": "execute_result"
    },
    {
     "data": {
      "image/png": "[encoded data removed]",
      "text/plain": [
       "<Figure size 432x288 with 1 Axes>"
      ]
     },
     "metadata": {
      "needs_background": "light"
     },
     "output_type": "display_data"
    }
   ],
   "source": [
    "plt.scatter(x, yn)\n",
    "plt.plot(x, y_ret, color='red')"
   ]
  },
  {
   "cell_type": "markdown",
   "metadata": {},
   "source": [
    "### Solution to Functions"
   ]
  },
  {
   "cell_type": "markdown",
   "metadata": {},
   "source": [
    "Let’s start simply, by solving for the root of an equation"
   ]
  },
  {
   "cell_type": "markdown",
   "metadata": {},
   "source": [
    "Assume the following function:\n",
    "\n",
    "f(x) = x * cos(x-4)\n"
   ]
  },
  {
   "cell_type": "code",
   "execution_count": 54,
   "metadata": {},
   "outputs": [
    {
     "data": {
      "text/plain": [
       "[<matplotlib.lines.Line2D at 0x7f02731cf978>]"
      ]
     },
     "execution_count": 54,
     "metadata": {},
     "output_type": "execute_result"
    },
    {
     "data": {
      "image/png": "[encoded data removed]",
      "text/plain": [
       "<Figure size 432x288 with 1 Axes>"
      ]
     },
     "metadata": {
      "needs_background": "light"
     },
     "output_type": "display_data"
    }
   ],
   "source": [
    "import math\n",
    "\n",
    "f = lambda x: x * np.cos(x-4)\n",
    "x = np.linspace(-5,5,100)\n",
    "\n",
    "plt.plot(x, f(x))\n",
    "plt.plot(x, np.zeros(len(x)))"
   ]
  },
  {
   "cell_type": "code",
   "execution_count": 56,
   "metadata": {},
   "outputs": [
    {
     "name": "stdout",
     "output_type": "stream",
     "text": [
      "[-3.85398163]\n"
     ]
    }
   ],
   "source": [
    "from scipy.optimize import fsolve\n",
    "solution = fsolve(f, -3.9) # -3.9 is a guess\n",
    "print(solution)"
   ]
  },
  {
   "cell_type": "code",
   "execution_count": 57,
   "metadata": {},
   "outputs": [
    {
     "name": "stdout",
     "output_type": "stream",
     "text": [
      "[-0.71238898]\n"
     ]
    }
   ],
   "source": [
    "from scipy.optimize import fsolve\n",
    "solution = fsolve(f, -1) # -3.9 is a guess\n",
    "print(solution)"
   ]
  },
  {
   "cell_type": "code",
   "execution_count": 58,
   "metadata": {},
   "outputs": [
    {
     "name": "stdout",
     "output_type": "stream",
     "text": [
      "[0.]\n"
     ]
    }
   ],
   "source": [
    "from scipy.optimize import fsolve\n",
    "solution = fsolve(f, 0) # -3.9 is a guess\n",
    "print(solution)"
   ]
  },
  {
   "cell_type": "code",
   "execution_count": 59,
   "metadata": {},
   "outputs": [
    {
     "name": "stdout",
     "output_type": "stream",
     "text": [
      "[2.42920367]\n"
     ]
    }
   ],
   "source": [
    "from scipy.optimize import fsolve\n",
    "solution = fsolve(f, 2.2) # -3.9 is a guess\n",
    "print(solution)"
   ]
  },
  {
   "cell_type": "code",
   "execution_count": 39,
   "metadata": {},
   "outputs": [
    {
     "name": "stdout",
     "output_type": "stream",
     "text": [
      "[1.]\n"
     ]
    },
    {
     "data": {
      "image/png": "[encoded data removed]",
      "text/plain": [
       "<Figure size 432x288 with 1 Axes>"
      ]
     },
     "metadata": {
      "needs_background": "light"
     },
     "output_type": "display_data"
    }
   ],
   "source": [
    "from scipy.optimize import fsolve\n",
    "import numpy as np\n",
    "\n",
    "curve = lambda x:x**2 - 4*x +3\n",
    "x = np.linspace(-5,5,100)\n",
    "plt.plot(x, curve(x))\n",
    "plt.plot(x, np.zeros(len(x)))\n",
    "solution = fsolve(curve, 0.9)\n",
    "print(solution)"
   ]
  },
  {
   "cell_type": "code",
   "execution_count": 40,
   "metadata": {},
   "outputs": [
    {
     "name": "stdout",
     "output_type": "stream",
     "text": [
      "[3.]\n"
     ]
    }
   ],
   "source": [
    "solution = fsolve(curve, 2.8)\n",
    "print(solution)"
   ]
  },
  {
   "cell_type": "markdown",
   "metadata": {},
   "source": [
    "### Interpolation"
   ]
  },
  {
   "cell_type": "markdown",
   "metadata": {},
   "source": [
    "Data that contains information usually has a functional form, and as analysts we want\n",
    "to model it. Given a set of sample data, obtaining the intermediate values between the\n",
    "points is useful to understand and predict what the data will do in the non-sampled domain.\n",
    "SciPy offers well over a dozen different functions for interpolation, ranging from\n",
    "those for simple univariate cases to those for complex multivariate ones. Univariate\n",
    "interpolation is used when the sampled data is likely led by one independent variable,\n",
    "whereas multivariate interpolation assumes there is more than one independent\n",
    "variable.\n",
    "\n",
    "There are two basic methods of interpolation: (1) Fit one function to an entire dataset\n",
    "or (2) fit different parts of the dataset with several functions where the joints of each\n",
    "function are joined smoothly. The second type is known as a spline interpolation, which\n",
    "can be a very powerful tool when the functional form of data is complex. We will\n",
    "first show how to interpolate a simple function, and then proceed to a more complex\n",
    "case"
   ]
  },
  {
   "cell_type": "code",
   "execution_count": 63,
   "metadata": {},
   "outputs": [
    {
     "data": {
      "text/plain": [
       "<matplotlib.legend.Legend at 0x7f0271660c18>"
      ]
     },
     "execution_count": 63,
     "metadata": {},
     "output_type": "execute_result"
    },
    {
     "data": {
      "image/png": "[encoded data removed]",
      "text/plain": [
       "<Figure size 432x288 with 1 Axes>"
      ]
     },
     "metadata": {
      "needs_background": "light"
     },
     "output_type": "display_data"
    }
   ],
   "source": [
    "import numpy as np\n",
    "from scipy.interpolate import interp1d\n",
    "\n",
    "# Setting up fake data\n",
    "x = np.linspace(0, 10 * np.pi, 20)\n",
    "y = np.cos(x)\n",
    "\n",
    "plt.scatter(x,y)\n",
    "\n",
    "# Interpolating data\n",
    "fl = interp1d(x, y, kind='linear')\n",
    "fq = interp1d(x, y, kind='quadratic')\n",
    "\n",
    "# x.min and x.max are used to make sure we do not\n",
    "# go beyond the boundaries of the data for the\n",
    "# interpolation.\n",
    "xint = np.linspace(x.min(), x.max(), 1000)\n",
    "yintl = fl(xint)\n",
    "yintq = fq(xint)\n",
    "plt.plot(xint, yintl, label='linear')\n",
    "plt.plot(xint, yintq, label='quadratic')\n",
    "plt.legend()"
   ]
  },
  {
   "cell_type": "code",
   "execution_count": 64,
   "metadata": {},
   "outputs": [
    {
     "data": {
      "text/plain": [
       "<matplotlib.collections.PathCollection at 0x7f027330e080>"
      ]
     },
     "execution_count": 64,
     "metadata": {},
     "output_type": "execute_result"
    },
    {
     "data": {
      "image/png": "[encoded data removed]",
      "text/plain": [
       "<Figure size 432x288 with 1 Axes>"
      ]
     },
     "metadata": {
      "needs_background": "light"
     },
     "output_type": "display_data"
    }
   ],
   "source": [
    "plt.scatter(xint, yintl, label='linear')"
   ]
  },
  {
   "cell_type": "markdown",
   "metadata": {},
   "source": [
    "### Interpolate noisy data"
   ]
  },
  {
   "cell_type": "code",
   "execution_count": 65,
   "metadata": {},
   "outputs": [
    {
     "data": {
      "text/plain": [
       "[<matplotlib.lines.Line2D at 0x7f027333d2e8>]"
      ]
     },
     "execution_count": 65,
     "metadata": {},
     "output_type": "execute_result"
    },
    {
     "data": {
      "image/png": "[encoded data removed]",
      "text/plain": [
       "<Figure size 432x288 with 1 Axes>"
      ]
     },
     "metadata": {
      "needs_background": "light"
     },
     "output_type": "display_data"
    }
   ],
   "source": [
    "import numpy as np\n",
    "import matplotlib.pyplot as mpl\n",
    "from scipy.interpolate import UnivariateSpline\n",
    "\n",
    "# Setting up fake data with artificial noise\n",
    "sample = 30\n",
    "x = np.linspace(1, 10 * np.pi, sample)\n",
    "y = np.cos(x) + np.log10(x) + np.random.randn(sample) / 10\n",
    "plt.scatter(x,y)\n",
    "\n",
    "# Interpolating the data\n",
    "f = UnivariateSpline(x, y, s=1)\n",
    "\n",
    "# x.min and x.max are used to make sure we do not\n",
    "# go beyond the boundaries of the data for the\n",
    "# interpolation.\n",
    "xint = np.linspace(x.min(), x.max(), 1000)\n",
    "yint = f(xint)\n",
    "plt.plot(xint, yint, label='UVSpline')"
   ]
  },
  {
   "cell_type": "markdown",
   "metadata": {},
   "source": [
    "### Integration"
   ]
  },
  {
   "cell_type": "markdown",
   "metadata": {},
   "source": [
    "Integration is a crucial tool in math and science, as differentiation and integration are\n",
    "the two key components of calculus. Given a curve from a function or a dataset, we\n",
    "can calculate the area below it. In the traditional classroom setting we would integrate\n",
    "a function analytically, but data in the research setting is rarely given in this form, and\n",
    "we need to approximate its definite integral."
   ]
  },
  {
   "cell_type": "markdown",
   "metadata": {},
   "source": [
    "We will implement the following integration"
   ]
  },
  {
   "cell_type": "markdown",
   "metadata": {},
   "source": [
    "![Fig](imgs/scipy_001.png)"
   ]
  },
  {
   "cell_type": "code",
   "execution_count": 66,
   "metadata": {},
   "outputs": [
    {
     "name": "stdout",
     "output_type": "stream",
     "text": [
      "(1.296467785724373, 1.3977971863744082e-09)\n"
     ]
    }
   ],
   "source": [
    "from scipy.integrate import quad\n",
    "# Defining function to integrate\n",
    "func = lambda x: np.cos(np.exp(x)) ** 2\n",
    "\n",
    "# Integrating function with upper and lower\n",
    "# limits of 0 and 3, respectively\n",
    "solution = quad(func, 0, 3)\n",
    "print(solution)\n",
    "\n",
    "# The first element is the desired value\n",
    "# and the second is the error.\n",
    "# (1.296467785724373, 1.397797186265988e-09)"
   ]
  },
  {
   "cell_type": "code",
   "execution_count": 69,
   "metadata": {},
   "outputs": [
    {
     "data": {
      "text/plain": [
       "[<matplotlib.lines.Line2D at 0x7f02733b6a58>]"
      ]
     },
     "execution_count": 69,
     "metadata": {},
     "output_type": "execute_result"
    },
    {
     "data": {
      "image/png": "[encoded data removed]",
      "text/plain": [
       "<Figure size 432x288 with 1 Axes>"
      ]
     },
     "metadata": {
      "needs_background": "light"
     },
     "output_type": "display_data"
    }
   ],
   "source": [
    "x = np.linspace(1, 10 * np.pi, sample)\n",
    "y = func(x)\n",
    "plt.plot(x,y)"
   ]
  },
  {
   "cell_type": "markdown",
   "metadata": {},
   "source": [
    "### Numerical Integration"
   ]
  },
  {
   "cell_type": "code",
   "execution_count": 70,
   "metadata": {},
   "outputs": [
    {
     "name": "stdout",
     "output_type": "stream",
     "text": [
      "fsolution=5.100345067540932\n",
      "dsolution=5.1202357637390215\n",
      "The difference is 0.019890696198089586\n"
     ]
    }
   ],
   "source": [
    "from scipy.integrate import quad, trapz\n",
    "\n",
    "# Setting up fake data\n",
    "x = np.sort(np.random.randn(150)*4+ 4).clip(0,5)\n",
    "func = lambda x: np.sin(x) * np.cos(x ** 2) + 1\n",
    "y = func(x)\n",
    "\n",
    "# Integrating function with upper and lower\n",
    "# limits of 0 and 5, respectively\n",
    "fsolution = quad(func, 0, 5)\n",
    "dsolution = trapz(y, x=x)\n",
    "\n",
    "print('fsolution='+ str(fsolution[0]))\n",
    "print('dsolution='+ str(dsolution))\n",
    "print('The difference is ' + str(np.abs(fsolution[0] - dsolution)))"
   ]
  },
  {
   "cell_type": "markdown",
   "metadata": {},
   "source": [
    "## Statistics"
   ]
  },
  {
   "cell_type": "code",
   "execution_count": 71,
   "metadata": {},
   "outputs": [],
   "source": [
    "# Constructing a random array with 1000 elements\n",
    "x = np.random.randn(1000)\n",
    "\n",
    "# Calculating several of the built-in methods\n",
    "# that numpy.array has\n",
    "mean = x.mean()\n",
    "std = x.std()\n",
    "var = x.var()"
   ]
  },
  {
   "cell_type": "markdown",
   "metadata": {},
   "source": [
    "### Continuous and discrete distributions"
   ]
  },
  {
   "cell_type": "markdown",
   "metadata": {},
   "source": [
    "There are roughly 80 continuous distributions and over 10 discrete distributions.\n",
    "Twenty of the continuous functions are shown in Figure as probability density\n",
    "functions (PDFs) to give a visual impression of what the scipy.stats package provides.\n",
    "These distributions are useful as random number generators, similar to the functions\n",
    "found in numpy.random. Yet the rich variety of functions SciPy provides stands in contrast\n",
    "to the numpy.random functions, which are limited to uniform and Gaussian-like\n",
    "distributions.\n",
    "\n",
    "When we call a distribution from scipy.stats, we can extract its information in several\n",
    "ways: probability density functions (PDFs), cumulative distribution functions (CDFs),\n",
    "random variable samples (RVSs), percent point functions (PPFs), and more. \n",
    "\n",
    "Defn: The cumulative distribution function (CDF) of a real-valued random variable  X, or just distribution function of X, evaluated at x, is the probability that X will take a value less than or equal to x. Percent point function is the inverse of CDF."
   ]
  },
  {
   "cell_type": "code",
   "execution_count": null,
   "metadata": {},
   "outputs": [],
   "source": []
  },
  {
   "cell_type": "markdown",
   "metadata": {},
   "source": [
    "![Fig](imgs/scipy_002.png)"
   ]
  },
  {
   "cell_type": "code",
   "execution_count": 74,
   "metadata": {},
   "outputs": [],
   "source": [
    "from scipy.stats import norm\n",
    "\n",
    "# Set up the sample range\n",
    "x = np.linspace(-5,5,1000)\n",
    "\n",
    "# Here set up the parameters for the normal distribution,\n",
    "# where loc is the mean and scale is the standard deviation.\n",
    "\n",
    "dist = norm(loc=0, scale=1)\n",
    "\n",
    "# Retrieving norm's PDF and CDF\n",
    "pdf = dist.pdf(x)\n",
    "cdf = dist.cdf(x)\n",
    "\n",
    "# Here we draw out 500 random values from the norm.\n",
    "sample = dist.rvs(500)"
   ]
  },
  {
   "cell_type": "code",
   "execution_count": 75,
   "metadata": {},
   "outputs": [
    {
     "data": {
      "text/plain": [
       "[<matplotlib.lines.Line2D at 0x7f02c8752be0>]"
      ]
     },
     "execution_count": 75,
     "metadata": {},
     "output_type": "execute_result"
    },
    {
     "data": {
      "image/png": "[encoded data removed]",
      "text/plain": [
       "<Figure size 432x288 with 1 Axes>"
      ]
     },
     "metadata": {
      "needs_background": "light"
     },
     "output_type": "display_data"
    }
   ],
   "source": [
    "plt.plot(x, pdf)"
   ]
  },
  {
   "cell_type": "code",
   "execution_count": 76,
   "metadata": {},
   "outputs": [
    {
     "data": {
      "text/plain": [
       "[<matplotlib.lines.Line2D at 0x7f02c86ba3c8>]"
      ]
     },
     "execution_count": 76,
     "metadata": {},
     "output_type": "execute_result"
    },
    {
     "data": {
      "image/png": "[encoded data removed]",
      "text/plain": [
       "<Figure size 432x288 with 1 Axes>"
      ]
     },
     "metadata": {
      "needs_background": "light"
     },
     "output_type": "display_data"
    }
   ],
   "source": [
    "plt.plot(x, cdf)"
   ]
  },
  {
   "cell_type": "code",
   "execution_count": 77,
   "metadata": {},
   "outputs": [
    {
     "data": {
      "text/plain": [
       "[<matplotlib.lines.Line2D at 0x7f02c868eba8>]"
      ]
     },
     "execution_count": 77,
     "metadata": {},
     "output_type": "execute_result"
    },
    {
     "data": {
      "image/png": "[encoded data removed]",
      "text/plain": [
       "<Figure size 432x288 with 1 Axes>"
      ]
     },
     "metadata": {
      "needs_background": "light"
     },
     "output_type": "display_data"
    }
   ],
   "source": [
    "plt.plot(x, 1/cdf)"
   ]
  },
  {
   "cell_type": "markdown",
   "metadata": {},
   "source": [
    "Unlike continuous distributions, discrete distributions are useful for problems\n",
    "where a given number of events occur in a fixed interval of time/space, the events occur\n",
    "with a known average rate, and each event is independent of the prior event"
   ]
  },
  {
   "cell_type": "code",
   "execution_count": 78,
   "metadata": {},
   "outputs": [
    {
     "data": {
      "text/plain": [
       "[<matplotlib.lines.Line2D at 0x7f02c3cba780>]"
      ]
     },
     "execution_count": 78,
     "metadata": {},
     "output_type": "execute_result"
    },
    {
     "data": {
      "image/png": "[encoded data removed]",
      "text/plain": [
       "<Figure size 432x288 with 1 Axes>"
      ]
     },
     "metadata": {
      "needs_background": "light"
     },
     "output_type": "display_data"
    }
   ],
   "source": [
    "from scipy.stats import geom\n",
    "\n",
    "# Here set up the parameters for the geometric distribution.\n",
    "p = 0.5\n",
    "dist = geom(p)\n",
    "\n",
    "# Set up the sample range.\n",
    "x = np.linspace(0, 5, 1000)\n",
    "\n",
    "# Retrieving geom's PMF and CDF\n",
    "pmf = dist.pmf(x)\n",
    "cdf = dist.cdf(x)\n",
    "\n",
    "# Here we draw out 500 random values.\n",
    "sample = dist.rvs(500)\n",
    "\n",
    "plt.plot(x, pmf)"
   ]
  },
  {
   "cell_type": "code",
   "execution_count": 79,
   "metadata": {},
   "outputs": [
    {
     "data": {
      "text/plain": [
       "[<matplotlib.lines.Line2D at 0x7f02c3c98160>]"
      ]
     },
     "execution_count": 79,
     "metadata": {},
     "output_type": "execute_result"
    },
    {
     "data": {
      "image/png": "[encoded data removed]",
      "text/plain": [
       "<Figure size 432x288 with 1 Axes>"
      ]
     },
     "metadata": {
      "needs_background": "light"
     },
     "output_type": "display_data"
    }
   ],
   "source": [
    "plt.plot(x, cdf)"
   ]
  },
  {
   "cell_type": "markdown",
   "metadata": {},
   "source": [
    "## Spatial and Clustering Analysis"
   ]
  },
  {
   "cell_type": "markdown",
   "metadata": {},
   "source": [
    "From biological to astrophysical sciences, spatial and clustering analysis are key to identifying\n",
    "patterns, groups, and clusters. In biology, for example, the spacing of different\n",
    "plant species hints at how seeds are dispersed, interact with the environment, and grow.\n",
    "In astrophysics, these analysis techniques are used to seek and identify star clusters,\n",
    "galaxy clusters, and large-scale filaments (composed of galaxy clusters). In the computer\n",
    "science domain, identifying and mapping complex networks of nodes and information\n",
    "is a vital study all on its own"
   ]
  },
  {
   "cell_type": "markdown",
   "metadata": {},
   "source": [
    "SciPy provides a spatial analysis class (scipy.spatial) and a cluster analysis class\n",
    "(scipy.cluster). The spatial class includes functions to analyze distances between data\n",
    "points (e.g., k-d trees). The cluster class provides two overarching subclasses: vector\n",
    "quantization (vq) and hierarchical clustering (hierarchy). Vector quantization groups\n",
    "large sets of data points (vectors) where each group is represented by centroids. The\n",
    "hierarchy subclass contains functions to construct clusters and analyze their substructures."
   ]
  },
  {
   "cell_type": "markdown",
   "metadata": {},
   "source": [
    "### Vector Quantization"
   ]
  },
  {
   "cell_type": "markdown",
   "metadata": {},
   "source": [
    "Vector quantization is a general term that can be associated with signal processing, data\n",
    "compression, and clustering. Here we will focus on the clustering component, starting\n",
    "with how to feed data to the vq package in order to identify clusters."
   ]
  },
  {
   "cell_type": "code",
   "execution_count": 101,
   "metadata": {},
   "outputs": [
    {
     "name": "stdout",
     "output_type": "stream",
     "text": [
      "(180, 2)\n"
     ]
    }
   ],
   "source": [
    "from scipy.cluster import vq\n",
    "\n",
    "# Creating data\n",
    "c1 = np.random.randn(100, 2) + 5\n",
    "c2 = np.random.randn(30, 2) - 5\n",
    "c3 = np.random.randn(50, 2)\n",
    "f = lambda x: x + 100\n",
    "\n",
    "# Pooling all the data into one 180 x 2 array\n",
    "data = np.vstack([c1, c2, c3])\n",
    "print(data.shape)"
   ]
  },
  {
   "cell_type": "code",
   "execution_count": 102,
   "metadata": {},
   "outputs": [
    {
     "name": "stdout",
     "output_type": "stream",
     "text": [
      "(3, 2) [[-5.19235946e+00 -5.05055429e+00]\n",
      " [ 4.95981263e+00  4.96210008e+00]\n",
      " [ 2.36610831e-02  3.27305186e-03]] ()\n"
     ]
    }
   ],
   "source": [
    "# Calculating the cluster centroids and variance\n",
    "# from kmeans\n",
    "centroids, variance = vq.kmeans(data, 3)\n",
    "print(centroids.shape, centroids, variance.shape)\n",
    "\n",
    "# The identified variable contains the information\n",
    "# we need to separate the points in clusters\n",
    "# based on the vq function.\n",
    "identified, distance = vq.vq(data, centroids)\n",
    "\n",
    "# Retrieving coordinates for points in each vq\n",
    "# identified core\n",
    "vqc1 = data[identified == 0]\n",
    "vqc2 = data[identified == 1]\n",
    "vqc3 = data[identified == 2]"
   ]
  },
  {
   "cell_type": "code",
   "execution_count": 128,
   "metadata": {},
   "outputs": [
    {
     "data": {
      "text/plain": [
       "((30, 2), (100, 2), (50, 2))"
      ]
     },
     "execution_count": 128,
     "metadata": {},
     "output_type": "execute_result"
    }
   ],
   "source": [
    "vqc1.shape, vqc2.shape, vqc3.shape"
   ]
  },
  {
   "cell_type": "code",
   "execution_count": 137,
   "metadata": {},
   "outputs": [
    {
     "data": {
      "text/plain": [
       "Text(-11, 10, 'Predicted')"
      ]
     },
     "execution_count": 137,
     "metadata": {},
     "output_type": "execute_result"
    },
    {
     "data": {
      "image/png": "[encoded data removed]",
      "text/plain": [
       "<Figure size 432x288 with 2 Axes>"
      ]
     },
     "metadata": {
      "needs_background": "light"
     },
     "output_type": "display_data"
    }
   ],
   "source": [
    "fig = mpl.figure()\n",
    "fig.subplots_adjust(hspace=0.1, wspace=0.1)\n",
    "\n",
    "ax1 = fig.add_subplot(121, aspect='equal')\n",
    "ax1.scatter(data[:,0], data[:,1], lw=0.5, color='#00CC00')\n",
    "ax1.text(-11, 10, 'Original')\n",
    "\n",
    "ax2 = fig.add_subplot(122, aspect='equal')\n",
    "ax2.scatter(vqc1[:,0], vqc1[:,1], lw=0.5, color='#00CC00')\n",
    "ax2.scatter(vqc2[:,0], vqc2[:,1], lw=0.5, color='#028E9B')\n",
    "ax2.scatter(vqc3[:,0], vqc3[:,1], lw=0.5, color='#FF7800')\n",
    "ax2.xaxis.set_visible(False)\n",
    "ax2.yaxis.set_visible(False)\n",
    "x1 = np.min(data[:,0])\n",
    "x2 = np.max(data[:,0])\n",
    "\n",
    "y1 = np.min(data[:,1])\n",
    "y2 = np.max(data[:,1])\n",
    "\n",
    "ax2.set_xlim(x1, x2)\n",
    "ax2.set_ylim(y1, y2)\n",
    "ax2.text(-11, 10, 'Predicted')"
   ]
  },
  {
   "cell_type": "markdown",
   "metadata": {},
   "source": [
    "### Hierarchical Clustering"
   ]
  },
  {
   "cell_type": "markdown",
   "metadata": {},
   "source": [
    "Hierarchical clustering is a powerful tool for identifying structures that are nested\n",
    "within larger structures. But working with the output can be tricky, as we do not get\n",
    "cleanly identified clusters like we do with the kmeans technique. Below is an example\n",
    "wherein we generate a system of multiple clusters. "
   ]
  },
  {
   "cell_type": "markdown",
   "metadata": {},
   "source": [
    "### Sparse Matrices"
   ]
  },
  {
   "cell_type": "markdown",
   "metadata": {},
   "source": [
    "With NumPy we can operate with reasonable speeds on arrays containing 106 elements.\n",
    "Once we go up to 107 elements, operations can start to slow down and Python’s memory\n",
    "will become limited, depending on the amount of RAM available. What’s the best\n",
    "solution if you need to work with an array that is far larger—say, 1010 elements? If\n",
    "these massive arrays primarily contain zeros, then you’re in luck, as this is the property\n",
    "of sparse matrices. If a sparse matrix is treated correctly, operation time and memory\n",
    "usage can go down drastically"
   ]
  },
  {
   "cell_type": "markdown",
   "metadata": {},
   "source": [
    "You can determine the byte size of a numpy.array by calling its method\n",
    "nbytes. This can be especially useful when trying to determine what is\n",
    "hogging memory in your code. To do the same with sparse matrices, you\n",
    "can use data.nbytes."
   ]
  },
  {
   "cell_type": "code",
   "execution_count": 126,
   "metadata": {},
   "outputs": [
    {
     "name": "stdout",
     "output_type": "stream",
     "text": [
      "The numpy array data size: 72000000 bytes\n",
      "The sparse matrix data size: 720000 bytes\n",
      "Non-sparse operation takes 3.604 seconds\n",
      "Sparse operation takes 0.32 seconds\n"
     ]
    }
   ],
   "source": [
    "from scipy.sparse.linalg import eigsh\n",
    "from scipy.linalg import eigh\n",
    "import scipy.sparse\n",
    "import time\n",
    "N = 3000\n",
    "\n",
    "# Creating a random sparse matrix\n",
    "m = scipy.sparse.rand(N, N)\n",
    "\n",
    "# Creating an array clone of it\n",
    "a = m.toarray()\n",
    "print('The numpy array data size: ' + str(a.nbytes) + ' bytes')\n",
    "print('The sparse matrix data size: ' + str(m.data.nbytes) + ' bytes')\n",
    "\n",
    "# Non-sparse\n",
    "t0 = time.time()\n",
    "res1 = eigh(a)\n",
    "dt = str(np.round(time.time() - t0, 3)) + ' seconds'\n",
    "print('Non-sparse operation takes ' + dt)\n",
    "\n",
    "# Sparse\n",
    "t0 = time.time()\n",
    "res2 = eigsh(m)\n",
    "dt = str(np.round(time.time() - t0, 3)) + ' seconds'\n",
    "print('Sparse operation takes ' + dt)"
   ]
  },
  {
   "cell_type": "code",
   "execution_count": null,
   "metadata": {},
   "outputs": [],
   "source": []
  }
 ],
 "metadata": {
  "kernelspec": {
   "display_name": "itv",
   "language": "python",
   "name": "itv"
  },
  "language_info": {
   "codemirror_mode": {
    "name": "ipython",
    "version": 3
   },
   "file_extension": ".py",
   "mimetype": "text/x-python",
   "name": "python",
   "nbconvert_exporter": "python",
   "pygments_lexer": "ipython3",
   "version": "3.6.3"
  }
 },
 "nbformat": 4,
 "nbformat_minor": 2
}
