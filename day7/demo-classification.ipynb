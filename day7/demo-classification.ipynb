{
 "cells": [
  {
   "cell_type": "markdown",
   "metadata": {},
   "source": [
    "# Classification"
   ]
  },
  {
   "cell_type": "markdown",
   "metadata": {},
   "source": [
    "Qualitative variables take values in an unordered set C, such as: eye color ∈ {black, brown, blue, green}\n",
    "    email∈ {spam, not-spam}\n",
    "    \n",
    "• Given a feature vector X and a qualitative response Y taking values in the set C, the classification task is to <br>build a function C(X) that takes as input the feature vector X and predicts its value for Y ; i.e. C(X) ∈ C. <br>\n",
    "• Often we are more interested in estimating the probabilities that X belongs to each category in C."
   ]
  },
  {
   "cell_type": "markdown",
   "metadata": {},
   "source": [
    "## Use case - Credit Card Default\n",
    "\n",
    "![Fig](imgs/lin_reg_024.png)"
   ]
  },
  {
   "cell_type": "markdown",
   "metadata": {},
   "source": [
    "Suppose for the Default classification task that we code <br>\n",
    "Y = 0 if No 1 if Yes. <br>\n",
    "\n",
    "Can we simply perform a linear regression of Y on X and classify as Yes if Y-hat > 0.5? <br>\n",
    "\n",
    "• In this case of a binary outcome, linear regression does a good job as a classifier, and is equivalent to linear<br>\n",
    "discriminant analysis which we discuss later. <br>\n",
    "\n",
    "• Since in the population E(Y |X = x) = Pr(Y = 1|X = x), we might think that regression is perfect for this task.\n",
    "\n",
    "However, linear regression might produce probabilities less than zero or bigger than one. Logistic regression is more appropriate."
   ]
  },
  {
   "cell_type": "markdown",
   "metadata": {},
   "source": [
    "Now suppose we have a response variable with three possible values. A patient presents at the emergency room, and we must classify them according to their symptoms.<br>\n",
    "\n",
    "Y = 1 if stroke; 2 if drug overdose; 3 if epileptic seizure.<br>\n",
    "\n",
    "This coding suggests an ordering, and in fact implies that the difference between stroke and drug overdose is the same as between drug overdose and epileptic seizure.<br>\n",
    "\n",
    "Linear regression is not appropriate here. Multiclass Logistic Regression or Discriminant Analysis are more appropriate"
   ]
  },
  {
   "cell_type": "markdown",
   "metadata": {},
   "source": [
    "## Logistic Regression"
   ]
  },
  {
   "cell_type": "markdown",
   "metadata": {},
   "source": [
    "Let’s write p(X) = Pr(Y = 1|X) for short and consider using balance to predict default. Logistic regression uses the form\n"
   ]
  },
  {
   "cell_type": "markdown",
   "metadata": {},
   "source": [
    "![Fig](imgs/lin_reg_025.png)"
   ]
  },
  {
   "cell_type": "markdown",
   "metadata": {},
   "source": [
    "(e ≈ 2.71828 is a mathematical constant [Euler’s number.])\n",
    "It is easy to see that no matter what values β0, β1 or X take, p(X) will have values between 0 and 1.\n",
    "A bit of rearrangement gives"
   ]
  },
  {
   "cell_type": "markdown",
   "metadata": {},
   "source": [
    "![Fig](imgs/lin_reg_026.png)"
   ]
  },
  {
   "cell_type": "markdown",
   "metadata": {},
   "source": [
    "This monotone transformation is called the log odds or logit transformation of p(X). (by log we mean natural log: ln.)"
   ]
  },
  {
   "cell_type": "markdown",
   "metadata": {},
   "source": [
    "## Maximum likelihood"
   ]
  },
  {
   "cell_type": "markdown",
   "metadata": {},
   "source": [
    "We use maximum likelihood to estimate the parameters."
   ]
  },
  {
   "cell_type": "markdown",
   "metadata": {},
   "source": [
    "![Fig](imgs/lin_reg_027.png)"
   ]
  },
  {
   "cell_type": "markdown",
   "metadata": {},
   "source": [
    "This likelihood gives the probability of the observed zeros and ones in the data. We pick β0 and β1 to maximize the likelihood of the observed data"
   ]
  },
  {
   "cell_type": "markdown",
   "metadata": {},
   "source": [
    "For example, upon running the logisitic regression on the credit card default problem we get the following -"
   ]
  },
  {
   "cell_type": "markdown",
   "metadata": {},
   "source": [
    "![Fig](imgs/lin_reg_028.png)"
   ]
  },
  {
   "cell_type": "markdown",
   "metadata": {},
   "source": [
    "Estimated probabilty of default with a balance of $1000"
   ]
  },
  {
   "cell_type": "markdown",
   "metadata": {},
   "source": [
    "![Fig](imgs/lin_reg_029.png)"
   ]
  },
  {
   "cell_type": "markdown",
   "metadata": {},
   "source": [
    "Estimated probabilty of default with a balance of $2000"
   ]
  },
  {
   "cell_type": "markdown",
   "metadata": {},
   "source": [
    "![Fig](imgs/lin_reg_030.png)"
   ]
  },
  {
   "cell_type": "markdown",
   "metadata": {},
   "source": [
    "### Logistic Regression with several variables"
   ]
  },
  {
   "cell_type": "markdown",
   "metadata": {},
   "source": [
    "![Fig](imgs/lin_reg_031.png)"
   ]
  },
  {
   "cell_type": "markdown",
   "metadata": {},
   "source": [
    "## Discriminant Analysis"
   ]
  },
  {
   "cell_type": "markdown",
   "metadata": {},
   "source": [
    "Here the approach is to model the distribution of X in each of\n",
    "the classes separately, and then use Bayes theorem to flip things\n",
    "around and obtain Pr(Y |X).<br>\n",
    "When we use normal (Gaussian) distributions for each class,\n",
    "this leads to linear or quadratic discriminant analysis.<br>\n",
    "However, this approach is quite general, and other distributions\n",
    "can be used as well. We will focus on normal distributions."
   ]
  },
  {
   "cell_type": "markdown",
   "metadata": {},
   "source": [
    "Bayes' Theorem\n",
    "\n",
    "![Fig](imgs/lin_reg_032.png)"
   ]
  },
  {
   "cell_type": "markdown",
   "metadata": {},
   "source": [
    "One can write this slightly differently -\n",
    "\n",
    "![Fig](imgs/lin_reg_033.png)"
   ]
  },
  {
   "cell_type": "markdown",
   "metadata": {},
   "source": [
    "• fk(x) = Pr(X = x|Y = k) is the density for X in class k.\n",
    "Here we will use normal densities for these, separately in\n",
    "each class.<br>\n",
    "• πk = Pr(Y = k) is the marginal or prior probability for\n",
    "class k.<br>"
   ]
  },
  {
   "cell_type": "markdown",
   "metadata": {},
   "source": [
    "### Why Discriminant Analysis\n",
    "\n",
    "When the classes are well-separated, the parameter\n",
    "estimates for the logistic regression model are surprisingly\n",
    "unstable. Linear discriminant analysis does not suffer from\n",
    "this problem.<br>\n",
    "• If n is small and the distribution of the predictors X is\n",
    "approximately normal in each of the classes, the linear\n",
    "discriminant model is again more stable than the logistic\n",
    "regression model.<br>\n",
    "• Linear discriminant analysis is popular when we have more\n",
    "than two response classes, because it also provides\n",
    "low-dimensional views of the data.<br>"
   ]
  },
  {
   "cell_type": "markdown",
   "metadata": {},
   "source": [
    "The Gaussian Density has the form -\n",
    "\n",
    "![Fig](imgs/lin_reg_034.png)"
   ]
  },
  {
   "cell_type": "markdown",
   "metadata": {},
   "source": [
    "Here µk is the mean, and σ2k the variance (in class k). \n",
    "We will assume that all the σk = σ are the same.<br>\n",
    "Plugging this into Bayes formula, we get a rather complex\n",
    "expression for pk(x) = Pr(Y = k|X = x):<br>"
   ]
  },
  {
   "cell_type": "markdown",
   "metadata": {},
   "source": [
    "![Fig](imgs/lin_reg_035.png)"
   ]
  },
  {
   "cell_type": "markdown",
   "metadata": {},
   "source": [
    "To classify at the value X = x, we need to see which of the\n",
    "pk(x) is largest. Taking logs, and discarding terms that do not\n",
    "depend on k, we see that this is equivalent to assigning x to the\n",
    "class with the largest discriminant score:"
   ]
  },
  {
   "cell_type": "markdown",
   "metadata": {},
   "source": [
    "![Fig](imgs/lin_reg_036.png)"
   ]
  },
  {
   "cell_type": "markdown",
   "metadata": {},
   "source": [
    "Note that δk(x) is a linear function of x.\n",
    "If there are K = 2 classes and π1 = π2 = 0.5, then one can see that the decision boundary is at<br>\n",
    "x = (µ1 + µ2)/2"
   ]
  },
  {
   "cell_type": "markdown",
   "metadata": {},
   "source": [
    "### Example\n",
    "\n",
    "![Fig](imgs/lin_reg_037.png)"
   ]
  },
  {
   "cell_type": "markdown",
   "metadata": {},
   "source": [
    "Once we have estimates ˆδk(x), we can turn these into estimates for class probabilities:\n",
    "    \n",
    "So classifying to the largest ˆδk(x) amounts to classifying to the class for which Pr( c Y = k|X = x) is largest."
   ]
  },
  {
   "cell_type": "markdown",
   "metadata": {},
   "source": [
    "![Fig](imgs/lin_reg_038.png)"
   ]
  },
  {
   "cell_type": "markdown",
   "metadata": {},
   "source": [
    "For a two-class problem, one can show that for LDA\n",
    "\n",
    "![Fig](imgs/lin_reg_039.png)"
   ]
  },
  {
   "cell_type": "markdown",
   "metadata": {},
   "source": [
    "So it has the same form as logistic regression.\n",
    "\n",
    "The difference is in how the parameters are estimated.\n",
    "• Logistic regression uses the conditional likelihood based on\n",
    "Pr(Y |X) (known as discriminative learning). <br>\n",
    "• LDA uses the full likelihood based on Pr(X, Y ) (known as\n",
    "generative learning). <br>\n",
    "• Despite these differences, in practice the results are often\n",
    "very similar."
   ]
  },
  {
   "cell_type": "markdown",
   "metadata": {},
   "source": [
    "Logistic regression is very popular for classification,\n",
    "especially when K = 2.<br>\n",
    "• LDA is useful when n is small, or the classes are well\n",
    "separated, and Gaussian assumptions are reasonable. Also\n",
    "when K > 2."
   ]
  },
  {
   "cell_type": "markdown",
   "metadata": {},
   "source": [
    "## Binary Classification with logistic regression"
   ]
  },
  {
   "cell_type": "markdown",
   "metadata": {},
   "source": [
    "Ordinary linear regression assumes that the response variable is normally distributed. Normal distribution, or Gaussian distribution, is a function that describes the probability that an observation will have a value between any two real numbers. Normally distributed data is symmetrical; half of the values are greater than the mean and half of the values are less than the mean. The mean, median, and mode of normally distributed data are also equal. Many natural phenomena are approximately normally distributed. For instance, the height of people is normally distributed: most people are of average height, a few are tall, and a few are short. \n",
    "\n",
    "In some problems the response variable is not normally distributed. For instance, a coin toss can result in two outcomes: heads or tails.<br>\n",
    "Bernoulli distribution describes the probability distribution of a random variable that can take the positive case with probability P or the negative case with probability 1 - P. If the response variable represents a probability, it must be constrained to the range [0, 1]. Linear regression assumes that a constant change in the value of a feature results in a constant change in the value of the response variable, an assumption that cannot hold if the value of the response variable represents a probability.\n",
    "\n",
    "In logistic regression, the response variable describes the probability that the outcome is the positive case. If the response variable is equal to or exceeds a discrimination threshold, the positive class is predicted; otherwise, the negative class is predicted."
   ]
  },
  {
   "cell_type": "markdown",
   "metadata": {},
   "source": [
    "### Spam Filtering"
   ]
  },
  {
   "cell_type": "markdown",
   "metadata": {},
   "source": [
    "Our first problem is a modern version of the canonical binary classification problem: spam filtering. In our version, however, we will classify spam and ham SMS messages rather than e-mail. We will extract tf-idf features from the messages"
   ]
  },
  {
   "cell_type": "code",
   "execution_count": 61,
   "metadata": {},
   "outputs": [],
   "source": [
    "import numpy as np\n",
    "import pandas as pd\n",
    "\n",
    "import matplotlib.pyplot as plt\n",
    "%matplotlib inline"
   ]
  },
  {
   "cell_type": "code",
   "execution_count": 6,
   "metadata": {},
   "outputs": [
    {
     "name": "stdout",
     "output_type": "stream",
     "text": [
      "      0                                                  1\n",
      "0   ham  Go until jurong point, crazy.. Available only ...\n",
      "1   ham                      Ok lar... Joking wif u oni...\n",
      "2  spam  Free entry in 2 a wkly comp to win FA Cup fina...\n",
      "3   ham  U dun say so early hor... U c already then say...\n",
      "4   ham  Nah I don't think he goes to usf, he lives aro...\n"
     ]
    }
   ],
   "source": [
    "df = pd.read_csv('../datasets/SMSSpamCollection', delimiter='\\t', header=None)\n",
    "print(df.head())"
   ]
  },
  {
   "cell_type": "code",
   "execution_count": 7,
   "metadata": {},
   "outputs": [
    {
     "name": "stdout",
     "output_type": "stream",
     "text": [
      "Number of spam messages: 747\n",
      "Number of ham messages: 4825\n"
     ]
    }
   ],
   "source": [
    "print('Number of spam messages: %s' % df[df[0] == 'spam'][0].count())\n",
    "print('Number of ham messages: %s' % df[df[0] == 'ham'][0].count())"
   ]
  },
  {
   "cell_type": "code",
   "execution_count": 12,
   "metadata": {},
   "outputs": [],
   "source": [
    "from sklearn.feature_extraction.text import TfidfVectorizer\n",
    "from sklearn.linear_model.logistic import LogisticRegression\n",
    "from sklearn.model_selection import train_test_split, cross_val_score"
   ]
  },
  {
   "cell_type": "code",
   "execution_count": 13,
   "metadata": {},
   "outputs": [],
   "source": [
    "X = df[1].values\n",
    "y = df[0].values"
   ]
  },
  {
   "cell_type": "code",
   "execution_count": 14,
   "metadata": {},
   "outputs": [],
   "source": [
    "# By default, train_test_split assigns 75% of the samples to the training set and allocates \n",
    "# the remaining 25% of the samples to the test set.\n",
    "\n",
    "X_train, X_test, y_train, y_test = train_test_split(X, y)"
   ]
  },
  {
   "cell_type": "code",
   "execution_count": 16,
   "metadata": {},
   "outputs": [
    {
     "data": {
      "text/plain": [
       "array(['I have 2 sleeping bags, 1 blanket and paper and  phone details. Anything else?',\n",
       "       'K:)k..its good:)when are you going?',\n",
       "       'Princess, i like to make love  &lt;#&gt;  times per night. Hope thats not a problem!',\n",
       "       ...,\n",
       "       'Eat at old airport road... But now 630 oredi... Got a lot of pple...',\n",
       "       'If I get there before you after your ten billion calls and texts so help me god',\n",
       "       'alright babe, justthought i\\x92d sayhey! how u doin?nearly the endof me wk offdam nevamind!We will have 2Hook up sn if uwant m8? loveJen x.'],\n",
       "      dtype=object)"
      ]
     },
     "execution_count": 16,
     "metadata": {},
     "output_type": "execute_result"
    }
   ],
   "source": [
    "X_train"
   ]
  },
  {
   "cell_type": "code",
   "execution_count": 23,
   "metadata": {},
   "outputs": [
    {
     "data": {
      "text/plain": [
       "array(['ham', 'ham', 'ham', ..., 'ham', 'ham', 'ham'], dtype=object)"
      ]
     },
     "execution_count": 23,
     "metadata": {},
     "output_type": "execute_result"
    }
   ],
   "source": [
    "y_train"
   ]
  },
  {
   "cell_type": "code",
   "execution_count": 17,
   "metadata": {},
   "outputs": [
    {
     "data": {
      "text/plain": [
       "(4179,)"
      ]
     },
     "execution_count": 17,
     "metadata": {},
     "output_type": "execute_result"
    }
   ],
   "source": [
    "X_train.shape"
   ]
  },
  {
   "cell_type": "code",
   "execution_count": 18,
   "metadata": {},
   "outputs": [],
   "source": [
    "vectorizer = TfidfVectorizer()\n",
    "X_train = vectorizer.fit_transform(X_train)\n",
    "X_test = vectorizer.transform(X_test)"
   ]
  },
  {
   "cell_type": "code",
   "execution_count": 19,
   "metadata": {},
   "outputs": [
    {
     "data": {
      "text/plain": [
       "<4179x7503 sparse matrix of type '<class 'numpy.float64'>'\n",
       "\twith 55790 stored elements in Compressed Sparse Row format>"
      ]
     },
     "execution_count": 19,
     "metadata": {},
     "output_type": "execute_result"
    }
   ],
   "source": [
    "X_train"
   ]
  },
  {
   "cell_type": "code",
   "execution_count": 20,
   "metadata": {},
   "outputs": [
    {
     "data": {
      "text/plain": [
       "(4179, 7503)"
      ]
     },
     "execution_count": 20,
     "metadata": {},
     "output_type": "execute_result"
    }
   ],
   "source": [
    "X_train.shape"
   ]
  },
  {
   "cell_type": "code",
   "execution_count": 22,
   "metadata": {},
   "outputs": [
    {
     "name": "stdout",
     "output_type": "stream",
     "text": [
      "(1393, 7503) (1393,)\n",
      "Predicted: ham, message:   (0, 7190)\t0.5402654382792247\n",
      "  (0, 6616)\t0.2909364536439576\n",
      "  (0, 4073)\t0.31987519905654305\n",
      "  (0, 3682)\t0.6043182267660555\n",
      "  (0, 2398)\t0.3949032463387733\n",
      "Predicted: ham, message:   (0, 6726)\t0.41246605059147523\n",
      "  (0, 6616)\t0.26624234619426723\n",
      "  (0, 6576)\t0.2854945993147583\n",
      "  (0, 6108)\t0.3102233241593166\n",
      "  (0, 4030)\t0.26037565835568804\n",
      "  (0, 3672)\t0.5530248977979713\n",
      "  (0, 3011)\t0.23922913235815044\n",
      "  (0, 1630)\t0.33872788800824466\n",
      "  (0, 945)\t0.18879065702549436\n",
      "Predicted: ham, message:   (0, 7469)\t0.10269115144375009\n",
      "  (0, 7245)\t0.18224449087542738\n",
      "  (0, 7212)\t0.2849161953195871\n",
      "  (0, 6979)\t0.1773833777589743\n",
      "  (0, 6965)\t0.1785512839002398\n",
      "  (0, 5749)\t0.29880151767185836\n",
      "  (0, 5029)\t0.22275938441195167\n",
      "  (0, 4883)\t0.32801576792730536\n",
      "  (0, 4526)\t0.2954158317565044\n",
      "  (0, 4321)\t0.2936923495403374\n",
      "  (0, 3937)\t0.2890949991503397\n",
      "  (0, 3753)\t0.17077159320227983\n",
      "  (0, 3373)\t0.22380341042246246\n",
      "  (0, 3357)\t0.20679022857781026\n",
      "  (0, 3245)\t0.1534976174505054\n",
      "  (0, 3120)\t0.22765652040339612\n",
      "  (0, 3073)\t0.19440318757666636\n",
      "  (0, 1095)\t0.16913671719272286\n",
      "  (0, 1028)\t0.16105715004224025\n",
      "  (0, 945)\t0.13556327737668605\n",
      "Predicted: ham, message:   (0, 7469)\t0.1842782649230892\n",
      "  (0, 7147)\t0.36065044719908385\n",
      "  (0, 4895)\t0.6093369814742533\n",
      "  (0, 4215)\t0.463628243412826\n",
      "  (0, 3405)\t0.32005550851082737\n",
      "  (0, 2073)\t0.38378971117227073\n",
      "Predicted: spam, message:   (0, 7405)\t0.154117547367644\n",
      "  (0, 6903)\t0.16579761889176794\n",
      "  (0, 6747)\t0.20846549797269104\n",
      "  (0, 6746)\t0.17979365603198266\n",
      "  (0, 6604)\t0.08272571416094032\n",
      "  (0, 5626)\t0.23226302148789024\n",
      "  (0, 5554)\t0.1441691472589317\n",
      "  (0, 5414)\t0.23226302148789024\n",
      "  (0, 5137)\t0.20207469703078948\n",
      "  (0, 4847)\t0.24474257611171257\n",
      "  (0, 4829)\t0.11300708493439987\n",
      "  (0, 4818)\t0.21092908194742868\n",
      "  (0, 4608)\t0.19520670251808653\n",
      "  (0, 4449)\t0.15215647853550013\n",
      "  (0, 4438)\t0.2535969610283518\n",
      "  (0, 4007)\t0.26607651565217416\n",
      "  (0, 4006)\t0.26607651565217416\n",
      "  (0, 4005)\t0.26607651565217416\n",
      "  (0, 3049)\t0.12433688938399895\n",
      "  (0, 3011)\t0.11510015956569644\n",
      "  (0, 2506)\t0.22340863657125104\n",
      "  (0, 1812)\t0.173872762977625\n",
      "  (0, 1297)\t0.17711558778314482\n",
      "  (0, 1004)\t0.19227321065580502\n",
      "  (0, 451)\t0.2535969610283518\n"
     ]
    }
   ],
   "source": [
    "classifier = LogisticRegression()\n",
    "classifier.fit(X_train, y_train)\n",
    "predictions = classifier.predict(X_test)\n",
    "print(X_test.shape, predictions.shape)\n",
    "for i, prediction in enumerate(predictions[:5]):\n",
    "    print('Predicted: %s, message: %s' % (prediction,\n",
    "      X_test[i]))"
   ]
  },
  {
   "cell_type": "code",
   "execution_count": 32,
   "metadata": {},
   "outputs": [
    {
     "name": "stdout",
     "output_type": "stream",
     "text": [
      "0.9655419956927495\n"
     ]
    }
   ],
   "source": [
    "print(classifier.score(X_test, y_test))"
   ]
  },
  {
   "cell_type": "markdown",
   "metadata": {},
   "source": [
    "### Binary Class Performace Metrics"
   ]
  },
  {
   "cell_type": "markdown",
   "metadata": {},
   "source": [
    "A variety of metrics exist for evaluating the performance of binary classifiers against trusted labels. The most common metrics are accuracy, precision, recall, F1 measure, and ROC AUC score. All of these measures depend on the concept of true positives, true negatives, false positives, and false negatives. Positive and negative refer to the classes. True and false denote whether the predicted class is the same as the true class.\n",
    "\n",
    "A confusion matrix, or contingency table, can be used to visualize true and false positives and negatives."
   ]
  },
  {
   "cell_type": "code",
   "execution_count": 24,
   "metadata": {},
   "outputs": [
    {
     "data": {
      "text/plain": [
       "array([[1209,    0],\n",
       "       [  48,  136]])"
      ]
     },
     "execution_count": 24,
     "metadata": {},
     "output_type": "execute_result"
    }
   ],
   "source": [
    "from sklearn.metrics import confusion_matrix\n",
    "confusion_matrix(y_test, predictions)"
   ]
  },
  {
   "cell_type": "code",
   "execution_count": 25,
   "metadata": {},
   "outputs": [
    {
     "data": {
      "text/html": [
       "<div>\n",
       "<style scoped>\n",
       "    .dataframe tbody tr th:only-of-type {\n",
       "        vertical-align: middle;\n",
       "    }\n",
       "\n",
       "    .dataframe tbody tr th {\n",
       "        vertical-align: top;\n",
       "    }\n",
       "\n",
       "    .dataframe thead th {\n",
       "        text-align: right;\n",
       "    }\n",
       "</style>\n",
       "<table border=\"1\" class=\"dataframe\">\n",
       "  <thead>\n",
       "    <tr style=\"text-align: right;\">\n",
       "      <th>Predicted</th>\n",
       "      <th>ham</th>\n",
       "      <th>spam</th>\n",
       "      <th>All</th>\n",
       "    </tr>\n",
       "    <tr>\n",
       "      <th>Actual</th>\n",
       "      <th></th>\n",
       "      <th></th>\n",
       "      <th></th>\n",
       "    </tr>\n",
       "  </thead>\n",
       "  <tbody>\n",
       "    <tr>\n",
       "      <th>ham</th>\n",
       "      <td>1209</td>\n",
       "      <td>0</td>\n",
       "      <td>1209</td>\n",
       "    </tr>\n",
       "    <tr>\n",
       "      <th>spam</th>\n",
       "      <td>48</td>\n",
       "      <td>136</td>\n",
       "      <td>184</td>\n",
       "    </tr>\n",
       "    <tr>\n",
       "      <th>All</th>\n",
       "      <td>1257</td>\n",
       "      <td>136</td>\n",
       "      <td>1393</td>\n",
       "    </tr>\n",
       "  </tbody>\n",
       "</table>\n",
       "</div>"
      ],
      "text/plain": [
       "Predicted   ham  spam   All\n",
       "Actual                     \n",
       "ham        1209     0  1209\n",
       "spam         48   136   184\n",
       "All        1257   136  1393"
      ]
     },
     "execution_count": 25,
     "metadata": {},
     "output_type": "execute_result"
    }
   ],
   "source": [
    "pd.crosstab(y_test, predictions, rownames=['Actual'], colnames=['Predicted'], margins=True)"
   ]
  },
  {
   "cell_type": "markdown",
   "metadata": {},
   "source": [
    "True Positives (TP) - These are the correctly predicted positive values which means that the value of actual class is yes and the value of predicted class is also yes. E.g. if actual class value indicates that this is ham and predicted class tells you the same thing.\n",
    "\n",
    "True Negatives (TN) - These are the correctly predicted negative values which means that the value of actual class is no and value of predicted class is also no. E.g. if actual class says this is spam and predicted class tells you the same thing.\n",
    "\n",
    "False positives and false negatives, these values occur when your actual class contradicts with the predicted class.\n",
    "\n",
    "False Positives (FP) – When actual class is no and predicted class is yes. E.g. if actual class says this is spam but predicted class tells you that this ham.\n",
    "\n",
    "False Negatives (FN) – When actual class is yes but predicted class in no. E.g. if actual class value indicates that this is ham and predicted class tells you that this is spam.\n",
    "\n",
    "Once you understand these four parameters then we can calculate Accuracy, Precision, Recall and F1 score.\n",
    "\n",
    "Accuracy - Accuracy is the most intuitive performance measure and it is simply a ratio of correctly predicted observation to the total observations. One may think that, if we have high accuracy then our model is best. Yes, accuracy is a great measure but only when you have symmetric datasets where values of false positive and false negatives are almost same. Therefore, you have to look at other parameters to evaluate the performance of your model. For our model, we have got 0.965 which means our model is approx. 96.5% accurate.\n",
    "\n",
    "Accuracy = TP+TN/TP+FP+FN+TN\n",
    "\n",
    "Precision - Precision is the ratio of correctly predicted positive observations to the total predicted positive observations. The question that this metric answer is of all test messages that labeled as ham, how many are actually ham? High precision relates to the low false positive rate. We have got 0.9618 precision which is pretty good.\n",
    "\n",
    "Precision = TP/TP+FP\n",
    "\n",
    "Recall (Sensitivity) - Recall is the ratio of correctly predicted positive observations to the all observations in actual class - yes. The question recall answers is: Of all the messages that are truly ham, how many did we label? We have got recall of 1.0 which is good for this model as it’s above 0.5.\n",
    "\n",
    "Recall = TP/TP+FN\n",
    "\n",
    "F1 score - F1 Score is the weighted average of Precision and Recall. Therefore, this score takes both false positives and false negatives into account. Intuitively it is not as easy to understand as accuracy, but F1 is usually more useful than accuracy, especially if you have an uneven class distribution. Accuracy works best if false positives and false negatives have similar cost. If the cost of false positives and false negatives are very different, it’s better to look at both Precision and Recall. In our case, F1 score is 0.701.\n",
    "\n",
    "F1 Score = 2*(Recall * Precision) / (Recall + Precision)"
   ]
  },
  {
   "cell_type": "markdown",
   "metadata": {},
   "source": [
    "Sensitivity: \n",
    "\n",
    "If a person has a disease, how often will the test be positive (true positive rate)? \n",
    "Put another way, if the test is highly sensitive and the test result is negative you can be nearly certain that they don’t have disease. \n",
    "A Sensitive test helps rule out disease (when the result is negative). \n",
    "\n",
    "Sensitivity= true positives/(true positive + false negative)\n",
    "\n",
    "Specificity: \n",
    "\n",
    "If a person does not have the disease how often will the test be negative (true negative rate)?\n",
    "In other terms, if the test result for a highly specific test is positive you can be nearly certain that they actually have the disease.\n",
    "Specificity=true negatives/(true negative + false positives)"
   ]
  },
  {
   "cell_type": "code",
   "execution_count": 39,
   "metadata": {},
   "outputs": [],
   "source": [
    "TP = 1209\n",
    "TN = 136\n",
    "FP = 48\n",
    "FN = 0"
   ]
  },
  {
   "cell_type": "code",
   "execution_count": 40,
   "metadata": {},
   "outputs": [
    {
     "name": "stdout",
     "output_type": "stream",
     "text": [
      "0.9655419956927495\n"
     ]
    }
   ],
   "source": [
    "Accuracy = (TP+TN)/(TP+FP+FN+TN)\n",
    "print(Accuracy)"
   ]
  },
  {
   "cell_type": "code",
   "execution_count": 41,
   "metadata": {},
   "outputs": [
    {
     "name": "stdout",
     "output_type": "stream",
     "text": [
      "0.9618138424821002\n"
     ]
    }
   ],
   "source": [
    "Precision = TP/(TP + FP)\n",
    "print(Precision)"
   ]
  },
  {
   "cell_type": "code",
   "execution_count": 42,
   "metadata": {},
   "outputs": [
    {
     "name": "stdout",
     "output_type": "stream",
     "text": [
      "1.0\n"
     ]
    }
   ],
   "source": [
    "Recall = TP/(TP+FN)\n",
    "print(Recall)"
   ]
  },
  {
   "cell_type": "code",
   "execution_count": 43,
   "metadata": {},
   "outputs": [
    {
     "name": "stdout",
     "output_type": "stream",
     "text": [
      "0.9805352798053527\n"
     ]
    }
   ],
   "source": [
    "F1_Score = 2*(Recall * Precision) / (Recall + Precision)\n",
    "print(F1_Score)"
   ]
  },
  {
   "cell_type": "code",
   "execution_count": 51,
   "metadata": {},
   "outputs": [
    {
     "name": "stdout",
     "output_type": "stream",
     "text": [
      "[0.9557945  0.96052632 0.96052632 0.96407186 0.94371257]\n"
     ]
    },
    {
     "name": "stderr",
     "output_type": "stream",
     "text": [
      "/home/watts/anaconda3/envs/itv/lib/python3.6/site-packages/sklearn/linear_model/logistic.py:432: FutureWarning: Default solver will be changed to 'lbfgs' in 0.22. Specify a solver to silence this warning.\n",
      "  FutureWarning)\n"
     ]
    }
   ],
   "source": [
    "scores = cross_val_score(classifier, X_train, y_train, cv=5)\n",
    "print(scores)"
   ]
  },
  {
   "cell_type": "code",
   "execution_count": 54,
   "metadata": {},
   "outputs": [
    {
     "name": "stdout",
     "output_type": "stream",
     "text": [
      "0.9618138424821002 1.0 0.9805352798053527\n"
     ]
    }
   ],
   "source": [
    "from sklearn.metrics import auc, f1_score, roc_curve, precision_recall_fscore_support\n",
    "precision, recall, fbeta_score, support = precision_recall_fscore_support(y_test, predictions)\n",
    "print(precision[0], recall[0], fbeta_score[0])"
   ]
  },
  {
   "cell_type": "markdown",
   "metadata": {},
   "source": [
    "A Receiver Operating Characteristic (ROC) curve, visualizes a classifier's performance. Unlike accuracy, the ROC curve is insensitive to datasets with unbalanced class proportions; unlike precision and recall, the ROC curve illustrates the classifier's performance for all values of the discrimination threshold. ROC curves plot the classifier's recall against its fall-out. Fall-out, or the false positive rate, is the number of false positives divided by the total number of negatives."
   ]
  },
  {
   "cell_type": "code",
   "execution_count": 59,
   "metadata": {},
   "outputs": [],
   "source": [
    "??roc_curve"
   ]
  },
  {
   "cell_type": "code",
   "execution_count": 65,
   "metadata": {},
   "outputs": [
    {
     "data": {
      "image/png": "[encoded data removed]",
      "text/plain": [
       "<Figure size 432x288 with 1 Axes>"
      ]
     },
     "metadata": {
      "needs_background": "light"
     },
     "output_type": "display_data"
    }
   ],
   "source": [
    "\n",
    "predictions = classifier.predict_proba(X_test)\n",
    "false_positive_rate, recall, thresholds = roc_curve(y_test,predictions[:,1], pos_label='spam')\n",
    "roc_auc = auc(false_positive_rate, recall)\n",
    "plt.title('Receiver Operating Characteristic')\n",
    "plt.plot(false_positive_rate, recall, 'b', label='AUC = %0.2f' % \n",
    "  roc_auc)\n",
    "plt.legend(loc='lower right')\n",
    "plt.plot([0, 1], [0, 1], 'r--')\n",
    "plt.xlim([0.0, 1.0])\n",
    "plt.ylim([0.0, 1.0])\n",
    "plt.ylabel('Recall')\n",
    "plt.xlabel('Fall-out(FPR)')\n",
    "plt.show()"
   ]
  },
  {
   "cell_type": "markdown",
   "metadata": {},
   "source": [
    "## Turing models with grid search"
   ]
  },
  {
   "cell_type": "code",
   "execution_count": 68,
   "metadata": {},
   "outputs": [],
   "source": [
    "from sklearn.preprocessing import LabelEncoder\n",
    "from sklearn.feature_extraction.text import TfidfVectorizer\n",
    "from sklearn.linear_model.logistic import LogisticRegression\n",
    "from sklearn.model_selection import GridSearchCV\n",
    "from sklearn.pipeline import Pipeline\n",
    "from sklearn.model_selection import train_test_split\n",
    "from sklearn.metrics import precision_score, recall_score,accuracy_score"
   ]
  },
  {
   "cell_type": "code",
   "execution_count": 69,
   "metadata": {},
   "outputs": [],
   "source": [
    "pipeline = Pipeline([\n",
    "    ('vect', TfidfVectorizer(stop_words='english')),\n",
    "    ('clf', LogisticRegression())\n",
    "])\n",
    "parameters = {\n",
    "    'vect__max_df': (0.25, 0.5, 0.75),\n",
    "    'vect__stop_words': ('english', None),\n",
    "    'vect__max_features': (2500, 5000, 10000, None),\n",
    "    'vect__ngram_range': ((1, 1), (1, 2)),\n",
    "    'vect__use_idf': (True, False),\n",
    "    'vect__norm': ('l1', 'l2'),\n",
    "    'clf__penalty': ('l1', 'l2'),\n",
    "    'clf__C': (0.01, 0.1, 1, 10),\n",
    "}"
   ]
  },
  {
   "cell_type": "code",
   "execution_count": 70,
   "metadata": {},
   "outputs": [
    {
     "name": "stdout",
     "output_type": "stream",
     "text": [
      "Fitting 3 folds for each of 1536 candidates, totalling 4608 fits\n"
     ]
    },
    {
     "name": "stderr",
     "output_type": "stream",
     "text": [
      "[Parallel(n_jobs=-1)]: Using backend LokyBackend with 24 concurrent workers.\n",
      "[Parallel(n_jobs=-1)]: Done   2 tasks      | elapsed:    1.5s\n",
      "[Parallel(n_jobs=-1)]: Done 152 tasks      | elapsed:    4.4s\n",
      "[Parallel(n_jobs=-1)]: Done 402 tasks      | elapsed:    9.0s\n",
      "[Parallel(n_jobs=-1)]: Done 752 tasks      | elapsed:   15.8s\n",
      "[Parallel(n_jobs=-1)]: Done 1202 tasks      | elapsed:   24.1s\n",
      "[Parallel(n_jobs=-1)]: Done 1752 tasks      | elapsed:   34.3s\n",
      "[Parallel(n_jobs=-1)]: Done 2402 tasks      | elapsed:   46.6s\n",
      "[Parallel(n_jobs=-1)]: Done 3152 tasks      | elapsed:  1.0min\n",
      "[Parallel(n_jobs=-1)]: Done 4002 tasks      | elapsed:  1.7min\n",
      "[Parallel(n_jobs=-1)]: Done 4608 out of 4608 | elapsed:  1.9min finished\n"
     ]
    },
    {
     "name": "stdout",
     "output_type": "stream",
     "text": [
      "Best score: 0.985\n",
      "Best parameters set:\n"
     ]
    },
    {
     "name": "stderr",
     "output_type": "stream",
     "text": [
      "/home/watts/anaconda3/envs/itv/lib/python3.6/site-packages/sklearn/linear_model/logistic.py:432: FutureWarning: Default solver will be changed to 'lbfgs' in 0.22. Specify a solver to silence this warning.\n",
      "  FutureWarning)\n"
     ]
    }
   ],
   "source": [
    "df = pd.read_csv('../datasets/SMSSpamCollection', delimiter='\\t',header=None)\n",
    "X = df[1].values\n",
    "y = df[0].values\n",
    "label_encoder = LabelEncoder()\n",
    "y = label_encoder.fit_transform(y)\n",
    "X_train, X_test, y_train, y_test = train_test_split(X, y)\n",
    "\n",
    "grid_search = GridSearchCV(pipeline, parameters, n_jobs=-1,\n",
    "  verbose=1, scoring='accuracy', cv=3)\n",
    "grid_search.fit(X_train, y_train)\n",
    "print('Best score: %0.3f' % grid_search.best_score_)\n",
    "print('Best parameters set:')"
   ]
  },
  {
   "cell_type": "code",
   "execution_count": 71,
   "metadata": {},
   "outputs": [
    {
     "name": "stdout",
     "output_type": "stream",
     "text": [
      "tclf__C: 10\n",
      "Accuracy: 0.9856424982053122\n",
      "Precision: 0.9826589595375722\n",
      "Recall: 0.9090909090909091\n",
      "tclf__penalty: 'l2'\n",
      "Accuracy: 0.9856424982053122\n",
      "Precision: 0.9826589595375722\n",
      "Recall: 0.9090909090909091\n",
      "tvect__max_df: 0.5\n",
      "Accuracy: 0.9856424982053122\n",
      "Precision: 0.9826589595375722\n",
      "Recall: 0.9090909090909091\n",
      "tvect__max_features: 10000\n",
      "Accuracy: 0.9856424982053122\n",
      "Precision: 0.9826589595375722\n",
      "Recall: 0.9090909090909091\n",
      "tvect__ngram_range: (1, 2)\n",
      "Accuracy: 0.9856424982053122\n",
      "Precision: 0.9826589595375722\n",
      "Recall: 0.9090909090909091\n",
      "tvect__norm: 'l2'\n",
      "Accuracy: 0.9856424982053122\n",
      "Precision: 0.9826589595375722\n",
      "Recall: 0.9090909090909091\n",
      "tvect__stop_words: None\n",
      "Accuracy: 0.9856424982053122\n",
      "Precision: 0.9826589595375722\n",
      "Recall: 0.9090909090909091\n",
      "tvect__use_idf: True\n",
      "Accuracy: 0.9856424982053122\n",
      "Precision: 0.9826589595375722\n",
      "Recall: 0.9090909090909091\n"
     ]
    }
   ],
   "source": [
    "best_parameters = grid_search.best_estimator_.get_params()\n",
    "for param_name in sorted(parameters.keys()):\n",
    "    print('t%s: %r' % (param_name, best_parameters[param_name]))\n",
    "    predictions = grid_search.predict(X_test)\n",
    "    print('Accuracy:', accuracy_score(y_test, predictions))\n",
    "    print('Precision:', precision_score(y_test, predictions))\n",
    "    print('Recall:', recall_score(y_test, predictions))"
   ]
  },
  {
   "cell_type": "markdown",
   "metadata": {},
   "source": [
    "## Multiclass Classification"
   ]
  },
  {
   "cell_type": "markdown",
   "metadata": {},
   "source": [
    "In previous section, we learned to use logistic regression for binary classification. In many classification problems, however, there are more than two classes that are of interest. We might wish to predict the genres of songs from samples of audio, or to classify images of galaxies by their types. The goal of multi-class classification is to assign an instance to one of set of classes. scikit-learn uses a strategy called one-versus-all, or one-versus-the-rest, to support multi-class classification. One-versus-all classification uses one binary classifier for each of the possible classes. The class that is predicted with the greatest confidence is assigned to the instance. LogisticRegression supports multi-class classification using the one-versus-all strategy out of the box. Let's use LogisticRegression for a multi-class classification problem."
   ]
  },
  {
   "cell_type": "markdown",
   "metadata": {},
   "source": [
    "In this example, we will classify the sentiments of phrases taken from movie reviews in the Rotten Tomatoes dataset. Each phrase can be classified as one of the following sentiments: negative, somewhat negative, neutral, somewhat positive, or positive."
   ]
  },
  {
   "cell_type": "code",
   "execution_count": 75,
   "metadata": {},
   "outputs": [
    {
     "name": "stdout",
     "output_type": "stream",
     "text": [
      "Fitting 3 folds for each of 24 candidates, totalling 72 fits\n"
     ]
    },
    {
     "name": "stderr",
     "output_type": "stream",
     "text": [
      "/home/watts/anaconda3/envs/itv/lib/python3.6/site-packages/ipykernel_launcher.py:9: FutureWarning: Method .as_matrix will be removed in a future version. Use .values instead.\n",
      "  if __name__ == '__main__':\n",
      "/home/watts/anaconda3/envs/itv/lib/python3.6/site-packages/sklearn/model_selection/_split.py:1943: FutureWarning: You should specify a value for 'cv' instead of relying on the default value. The default value will change from 3 to 5 in version 0.22.\n",
      "  warnings.warn(CV_WARNING, FutureWarning)\n",
      "[Parallel(n_jobs=-1)]: Using backend LokyBackend with 24 concurrent workers.\n",
      "[Parallel(n_jobs=-1)]: Done   2 tasks      | elapsed:    5.4s\n",
      "[Parallel(n_jobs=-1)]: Done  72 out of  72 | elapsed:   32.1s finished\n",
      "/home/watts/anaconda3/envs/itv/lib/python3.6/site-packages/sklearn/linear_model/logistic.py:432: FutureWarning: Default solver will be changed to 'lbfgs' in 0.22. Specify a solver to silence this warning.\n",
      "  FutureWarning)\n",
      "/home/watts/anaconda3/envs/itv/lib/python3.6/site-packages/sklearn/linear_model/logistic.py:459: FutureWarning: Default multi_class will be changed to 'auto' in 0.22. Specify the multi_class option to silence this warning.\n",
      "  \"this warning.\", FutureWarning)\n"
     ]
    },
    {
     "name": "stdout",
     "output_type": "stream",
     "text": [
      "Best score: 0.619\n",
      "Best parameters set:\n",
      "tclf__C: 10\n",
      "tvect__max_df: 0.25\n",
      "tvect__ngram_range: (1, 2)\n",
      "tvect__use_idf: False\n"
     ]
    }
   ],
   "source": [
    "from sklearn.feature_extraction.text import TfidfVectorizer\n",
    "from sklearn.linear_model.logistic import LogisticRegression\n",
    "from sklearn.model_selection import train_test_split\n",
    "from sklearn.metrics import classification_report, accuracy_score, confusion_matrix\n",
    "from sklearn.pipeline import Pipeline\n",
    "from sklearn.model_selection import GridSearchCV\n",
    "\n",
    "df = pd.read_csv('../datasets/movie-review/train.tsv', header=0, delimiter='\\t')\n",
    "X, y = df['Phrase'], df['Sentiment'].as_matrix()\n",
    "X_train, X_test, y_train, y_test = train_test_split(X, y,\n",
    "  train_size=0.5)\n",
    "\n",
    "pipeline = Pipeline([\n",
    "    ('vect', TfidfVectorizer(stop_words='english')),\n",
    "    ('clf', LogisticRegression())\n",
    "])\n",
    "parameters = {\n",
    "    'vect__max_df': (0.25, 0.5),\n",
    "    'vect__ngram_range': ((1, 1), (1, 2)),\n",
    "    'vect__use_idf': (True, False),\n",
    "    'clf__C': (0.1, 1, 10),\n",
    "}\n",
    "grid_search = GridSearchCV(pipeline, parameters, n_jobs=-1, \n",
    "  verbose=1, scoring='accuracy')\n",
    "grid_search.fit(X_train, y_train)\n",
    "print('Best score: %0.3f' % grid_search.best_score_)\n",
    "print('Best parameters set:')\n",
    "best_parameters = grid_search.best_estimator_.get_params()\n",
    "for param_name in sorted(parameters.keys()):\n",
    "    print('t%s: %r' % (param_name, best_parameters[param_name]))\n",
    "\n"
   ]
  },
  {
   "cell_type": "code",
   "execution_count": 77,
   "metadata": {},
   "outputs": [
    {
     "data": {
      "text/html": [
       "<div>\n",
       "<style scoped>\n",
       "    .dataframe tbody tr th:only-of-type {\n",
       "        vertical-align: middle;\n",
       "    }\n",
       "\n",
       "    .dataframe tbody tr th {\n",
       "        vertical-align: top;\n",
       "    }\n",
       "\n",
       "    .dataframe thead th {\n",
       "        text-align: right;\n",
       "    }\n",
       "</style>\n",
       "<table border=\"1\" class=\"dataframe\">\n",
       "  <thead>\n",
       "    <tr style=\"text-align: right;\">\n",
       "      <th></th>\n",
       "      <th>PhraseId</th>\n",
       "      <th>SentenceId</th>\n",
       "      <th>Phrase</th>\n",
       "      <th>Sentiment</th>\n",
       "    </tr>\n",
       "  </thead>\n",
       "  <tbody>\n",
       "    <tr>\n",
       "      <th>0</th>\n",
       "      <td>1</td>\n",
       "      <td>1</td>\n",
       "      <td>A series of escapades demonstrating the adage ...</td>\n",
       "      <td>1</td>\n",
       "    </tr>\n",
       "    <tr>\n",
       "      <th>1</th>\n",
       "      <td>2</td>\n",
       "      <td>1</td>\n",
       "      <td>A series of escapades demonstrating the adage ...</td>\n",
       "      <td>2</td>\n",
       "    </tr>\n",
       "    <tr>\n",
       "      <th>2</th>\n",
       "      <td>3</td>\n",
       "      <td>1</td>\n",
       "      <td>A series</td>\n",
       "      <td>2</td>\n",
       "    </tr>\n",
       "    <tr>\n",
       "      <th>3</th>\n",
       "      <td>4</td>\n",
       "      <td>1</td>\n",
       "      <td>A</td>\n",
       "      <td>2</td>\n",
       "    </tr>\n",
       "    <tr>\n",
       "      <th>4</th>\n",
       "      <td>5</td>\n",
       "      <td>1</td>\n",
       "      <td>series</td>\n",
       "      <td>2</td>\n",
       "    </tr>\n",
       "  </tbody>\n",
       "</table>\n",
       "</div>"
      ],
      "text/plain": [
       "   PhraseId  SentenceId                                             Phrase  \\\n",
       "0         1           1  A series of escapades demonstrating the adage ...   \n",
       "1         2           1  A series of escapades demonstrating the adage ...   \n",
       "2         3           1                                           A series   \n",
       "3         4           1                                                  A   \n",
       "4         5           1                                             series   \n",
       "\n",
       "   Sentiment  \n",
       "0          1  \n",
       "1          2  \n",
       "2          2  \n",
       "3          2  \n",
       "4          2  "
      ]
     },
     "execution_count": 77,
     "metadata": {},
     "output_type": "execute_result"
    }
   ],
   "source": [
    "df.head()"
   ]
  },
  {
   "cell_type": "code",
   "execution_count": 78,
   "metadata": {},
   "outputs": [
    {
     "data": {
      "text/plain": [
       "5"
      ]
     },
     "execution_count": 78,
     "metadata": {},
     "output_type": "execute_result"
    }
   ],
   "source": [
    "df['Sentiment'].nunique()"
   ]
  },
  {
   "cell_type": "code",
   "execution_count": 79,
   "metadata": {},
   "outputs": [
    {
     "data": {
      "text/plain": [
       "2    79582\n",
       "3    32927\n",
       "1    27273\n",
       "4     9206\n",
       "0     7072\n",
       "Name: Sentiment, dtype: int64"
      ]
     },
     "execution_count": 79,
     "metadata": {},
     "output_type": "execute_result"
    }
   ],
   "source": [
    "df['Sentiment'].value_counts()"
   ]
  },
  {
   "cell_type": "code",
   "execution_count": 94,
   "metadata": {},
   "outputs": [
    {
     "name": "stdout",
     "output_type": "stream",
     "text": [
      "Fitting 5 folds for each of 24 candidates, totalling 120 fits\n"
     ]
    },
    {
     "name": "stderr",
     "output_type": "stream",
     "text": [
      "[Parallel(n_jobs=-1)]: Using backend LokyBackend with 24 concurrent workers.\n",
      "[Parallel(n_jobs=-1)]: Done   2 tasks      | elapsed:    7.7s\n",
      "[Parallel(n_jobs=-1)]: Done 120 out of 120 | elapsed:  1.1min finished\n",
      "/home/watts/anaconda3/envs/itv/lib/python3.6/site-packages/sklearn/linear_model/logistic.py:432: FutureWarning: Default solver will be changed to 'lbfgs' in 0.22. Specify a solver to silence this warning.\n",
      "  FutureWarning)\n",
      "/home/watts/anaconda3/envs/itv/lib/python3.6/site-packages/sklearn/linear_model/logistic.py:459: FutureWarning: Default multi_class will be changed to 'auto' in 0.22. Specify the multi_class option to silence this warning.\n",
      "  \"this warning.\", FutureWarning)\n"
     ]
    },
    {
     "name": "stdout",
     "output_type": "stream",
     "text": [
      "Best score: 0.627\n",
      "Best parameters set:\n",
      "tclf__C: 10\n",
      "tvect__max_df: 0.25\n",
      "tvect__ngram_range: (1, 2)\n",
      "tvect__use_idf: False\n"
     ]
    }
   ],
   "source": [
    "from sklearn.metrics import make_scorer\n",
    "from sklearn.metrics import accuracy_score, f1_score\n",
    "scoring = {'Accuracy': make_scorer(accuracy_score), 'F1_score': make_scorer(f1_score, average='micro')}\n",
    "grid_search = GridSearchCV(pipeline, parameters, n_jobs=-1, verbose=1, scoring=scoring, refit='F1_score', cv=5)\n",
    "grid_search.fit(X_train, y_train)\n",
    "print('Best score: %0.3f' % grid_search.best_score_)\n",
    "print('Best parameters set:')\n",
    "best_parameters = grid_search.best_estimator_.get_params()\n",
    "for param_name in sorted(parameters.keys()):\n",
    "    print('t%s: %r' % (param_name, best_parameters[param_name]))\n"
   ]
  },
  {
   "cell_type": "markdown",
   "metadata": {},
   "source": [
    "### Multiclass Performance metrics"
   ]
  },
  {
   "cell_type": "code",
   "execution_count": 95,
   "metadata": {},
   "outputs": [
    {
     "name": "stdout",
     "output_type": "stream",
     "text": [
      "Accuracy: 0.636485966935794\n",
      "Confusion Matrix:\n",
      "[[ 1134  1683   647    69     8]\n",
      " [  897  6092  6157   548    40]\n",
      " [  210  3141 32639  3690   141]\n",
      " [   22   448  6417  8160  1307]\n",
      " [    3    36   474  2427  1640]]\n",
      "Classification Report:\n",
      "              precision    recall  f1-score   support\n",
      "\n",
      "           0       0.50      0.32      0.39      3541\n",
      "           1       0.53      0.44      0.48     13734\n",
      "           2       0.70      0.82      0.76     39821\n",
      "           3       0.55      0.50      0.52     16354\n",
      "           4       0.52      0.36      0.43      4580\n",
      "\n",
      "   micro avg       0.64      0.64      0.64     78030\n",
      "   macro avg       0.56      0.49      0.52     78030\n",
      "weighted avg       0.62      0.64      0.62     78030\n",
      "\n"
     ]
    }
   ],
   "source": [
    "predictions = grid_search.predict(X_test)\n",
    "print('Accuracy: %s' % accuracy_score(y_test, predictions))\n",
    "print('Confusion Matrix:')\n",
    "print(confusion_matrix(y_test, predictions))\n",
    "print('Classification Report:')\n",
    "print(classification_report(y_test, predictions))"
   ]
  },
  {
   "cell_type": "markdown",
   "metadata": {},
   "source": [
    "While our classifier is an improvement over the baseline classifier, it frequently mistakes Somewhat Positive and Somewhat Negative for Neutral."
   ]
  },
  {
   "cell_type": "markdown",
   "metadata": {},
   "source": [
    "### Multi-label classfication and problem transformation"
   ]
  },
  {
   "cell_type": "markdown",
   "metadata": {},
   "source": [
    "We discussed binary classification, in which each instance must be assigned to one of two classes, and multi-class classification, in which each instance must be assigned to one of a set of classes. The final type of classification problem that we will discuss is multi-label classification, in which each instance can be assigned a subset of the set of classes. Examples of multi-label classification include assigning tags to messages posted to a forum and classifying objects present in an image."
   ]
  },
  {
   "cell_type": "markdown",
   "metadata": {},
   "source": [
    "Problem transformation methods are techniques that cast the original multi-label problem as a set of single-label classification problems. The first problem transformation method that we will review converts each set of labels encountered in the training data to a single label. For example, consider a multi-label classification problem in which news articles must be assigned to one or more categories from a set. The following training data contains seven articles that can pertain to one or more of five categories:"
   ]
  },
  {
   "cell_type": "markdown",
   "metadata": {},
   "source": [
    "![Fig](imgs/lin_reg_040.png)"
   ]
  },
  {
   "cell_type": "markdown",
   "metadata": {},
   "source": [
    "![Fig](imgs/lin_reg_041.png)"
   ]
  },
  {
   "cell_type": "markdown",
   "metadata": {},
   "source": [
    "A second problem transformation strategy is to train one binary classifier for each of the labels in the training set. Each classifier predicts whether or not the instance belongs to one label. Our example would require five binary classifiers; the first classifier will predict whether or not an instance should be classified as Local, the second classifier will predict whether or not an instance should be classified as US, and so on. The final prediction is the union of the predictions from all of the binary classifiers."
   ]
  },
  {
   "cell_type": "markdown",
   "metadata": {},
   "source": [
    "### Multi-label Classification performance metrics"
   ]
  },
  {
   "cell_type": "markdown",
   "metadata": {},
   "source": [
    "Two of the most common performance metrics are hamming loss and Jaccard similarity. Hamming loss is the average fraction of incorrect labels. Note that hamming loss is a loss function and that the perfect score is 0. Jaccard similarity, or the Jaccard index, is the size of the intersection of the predicted labels and the true labels divided by the size of the union of the predicted and true labels. It ranges from 0 to 1, and 1 is the perfect score."
   ]
  },
  {
   "cell_type": "markdown",
   "metadata": {},
   "source": [
    "![Fig](imgs/lin_reg_042.png)"
   ]
  },
  {
   "cell_type": "code",
   "execution_count": 99,
   "metadata": {},
   "outputs": [
    {
     "name": "stdout",
     "output_type": "stream",
     "text": [
      "0.0\n"
     ]
    }
   ],
   "source": [
    "from sklearn.metrics import hamming_loss, jaccard_similarity_score\n",
    "\n",
    "print(hamming_loss(np.array([[0.0, 1.0], [1.0, 1.0]]),np.array([[0.0, 1.0],[1.0, 1.0]])))"
   ]
  },
  {
   "cell_type": "code",
   "execution_count": 102,
   "metadata": {},
   "outputs": [
    {
     "name": "stdout",
     "output_type": "stream",
     "text": [
      "0.5\n"
     ]
    }
   ],
   "source": [
    "print(hamming_loss(np.array([[0.0, 1.0], [1.0, 1.0]]),np.array([[1.0, 1.0],[0.0, 1.0]])))"
   ]
  },
  {
   "cell_type": "code",
   "execution_count": 103,
   "metadata": {},
   "outputs": [
    {
     "name": "stdout",
     "output_type": "stream",
     "text": [
      "1.0\n"
     ]
    }
   ],
   "source": [
    "print(jaccard_similarity_score(np.array([[0.0, 1.0], [1.0, 1.0]]),np.array([[0.0, 1.0], [1.0, 1.0]])))"
   ]
  },
  {
   "cell_type": "markdown",
   "metadata": {},
   "source": [
    "## Example of Logisitc Regression (Binary Classification)"
   ]
  },
  {
   "cell_type": "markdown",
   "metadata": {},
   "source": [
    "[Titanic Machine Learning From Diasaster](https://www.kaggle.com/c/titanic)"
   ]
  },
  {
   "cell_type": "markdown",
   "metadata": {},
   "source": [
    "The sinking of the RMS Titanic is one of the most infamous shipwrecks in history.  On April 15, 1912, during her maiden voyage, the Titanic sank after colliding with an iceberg, killing 1502 out of 2224 passengers and crew. This sensational tragedy shocked the international community and led to better safety regulations for ships.\n",
    "\n",
    "One of the reasons that the shipwreck led to such loss of life was that there were not enough lifeboats for the passengers and crew. Although there was some element of luck involved in surviving the sinking, some groups of people were more likely to survive than others, such as women, children, and the upper-class."
   ]
  },
  {
   "cell_type": "markdown",
   "metadata": {},
   "source": [
    "![Fig](imgs/lin_reg_043.png)"
   ]
  },
  {
   "cell_type": "code",
   "execution_count": 1,
   "metadata": {},
   "outputs": [],
   "source": [
    "import numpy as np \n",
    "import pandas as pd \n",
    "\n",
    "from sklearn import preprocessing\n",
    "import matplotlib.pyplot as plt \n",
    "plt.rc(\"font\", size=14)\n",
    "import seaborn as sns\n",
    "sns.set(style=\"white\") #white background style for seaborn plots\n",
    "sns.set(style=\"whitegrid\", color_codes=True)"
   ]
  },
  {
   "cell_type": "code",
   "execution_count": 59,
   "metadata": {},
   "outputs": [
    {
     "data": {
      "text/html": [
       "<div>\n",
       "<style scoped>\n",
       "    .dataframe tbody tr th:only-of-type {\n",
       "        vertical-align: middle;\n",
       "    }\n",
       "\n",
       "    .dataframe tbody tr th {\n",
       "        vertical-align: top;\n",
       "    }\n",
       "\n",
       "    .dataframe thead th {\n",
       "        text-align: right;\n",
       "    }\n",
       "</style>\n",
       "<table border=\"1\" class=\"dataframe\">\n",
       "  <thead>\n",
       "    <tr style=\"text-align: right;\">\n",
       "      <th></th>\n",
       "      <th>PassengerId</th>\n",
       "      <th>Survived</th>\n",
       "      <th>Pclass</th>\n",
       "      <th>Name</th>\n",
       "      <th>Sex</th>\n",
       "      <th>Age</th>\n",
       "      <th>SibSp</th>\n",
       "      <th>Parch</th>\n",
       "      <th>Ticket</th>\n",
       "      <th>Fare</th>\n",
       "      <th>Cabin</th>\n",
       "      <th>Embarked</th>\n",
       "    </tr>\n",
       "  </thead>\n",
       "  <tbody>\n",
       "    <tr>\n",
       "      <th>0</th>\n",
       "      <td>1</td>\n",
       "      <td>0</td>\n",
       "      <td>3</td>\n",
       "      <td>Braund, Mr. Owen Harris</td>\n",
       "      <td>male</td>\n",
       "      <td>22.0</td>\n",
       "      <td>1</td>\n",
       "      <td>0</td>\n",
       "      <td>A/5 21171</td>\n",
       "      <td>7.2500</td>\n",
       "      <td>NaN</td>\n",
       "      <td>S</td>\n",
       "    </tr>\n",
       "    <tr>\n",
       "      <th>1</th>\n",
       "      <td>2</td>\n",
       "      <td>1</td>\n",
       "      <td>1</td>\n",
       "      <td>Cumings, Mrs. John Bradley (Florence Briggs Th...</td>\n",
       "      <td>female</td>\n",
       "      <td>38.0</td>\n",
       "      <td>1</td>\n",
       "      <td>0</td>\n",
       "      <td>PC 17599</td>\n",
       "      <td>71.2833</td>\n",
       "      <td>C85</td>\n",
       "      <td>C</td>\n",
       "    </tr>\n",
       "    <tr>\n",
       "      <th>2</th>\n",
       "      <td>3</td>\n",
       "      <td>1</td>\n",
       "      <td>3</td>\n",
       "      <td>Heikkinen, Miss. Laina</td>\n",
       "      <td>female</td>\n",
       "      <td>26.0</td>\n",
       "      <td>0</td>\n",
       "      <td>0</td>\n",
       "      <td>STON/O2. 3101282</td>\n",
       "      <td>7.9250</td>\n",
       "      <td>NaN</td>\n",
       "      <td>S</td>\n",
       "    </tr>\n",
       "    <tr>\n",
       "      <th>3</th>\n",
       "      <td>4</td>\n",
       "      <td>1</td>\n",
       "      <td>1</td>\n",
       "      <td>Futrelle, Mrs. Jacques Heath (Lily May Peel)</td>\n",
       "      <td>female</td>\n",
       "      <td>35.0</td>\n",
       "      <td>1</td>\n",
       "      <td>0</td>\n",
       "      <td>113803</td>\n",
       "      <td>53.1000</td>\n",
       "      <td>C123</td>\n",
       "      <td>S</td>\n",
       "    </tr>\n",
       "    <tr>\n",
       "      <th>4</th>\n",
       "      <td>5</td>\n",
       "      <td>0</td>\n",
       "      <td>3</td>\n",
       "      <td>Allen, Mr. William Henry</td>\n",
       "      <td>male</td>\n",
       "      <td>35.0</td>\n",
       "      <td>0</td>\n",
       "      <td>0</td>\n",
       "      <td>373450</td>\n",
       "      <td>8.0500</td>\n",
       "      <td>NaN</td>\n",
       "      <td>S</td>\n",
       "    </tr>\n",
       "  </tbody>\n",
       "</table>\n",
       "</div>"
      ],
      "text/plain": [
       "   PassengerId  Survived  Pclass  \\\n",
       "0            1         0       3   \n",
       "1            2         1       1   \n",
       "2            3         1       3   \n",
       "3            4         1       1   \n",
       "4            5         0       3   \n",
       "\n",
       "                                                Name     Sex   Age  SibSp  \\\n",
       "0                            Braund, Mr. Owen Harris    male  22.0      1   \n",
       "1  Cumings, Mrs. John Bradley (Florence Briggs Th...  female  38.0      1   \n",
       "2                             Heikkinen, Miss. Laina  female  26.0      0   \n",
       "3       Futrelle, Mrs. Jacques Heath (Lily May Peel)  female  35.0      1   \n",
       "4                           Allen, Mr. William Henry    male  35.0      0   \n",
       "\n",
       "   Parch            Ticket     Fare Cabin Embarked  \n",
       "0      0         A/5 21171   7.2500   NaN        S  \n",
       "1      0          PC 17599  71.2833   C85        C  \n",
       "2      0  STON/O2. 3101282   7.9250   NaN        S  \n",
       "3      0            113803  53.1000  C123        S  \n",
       "4      0            373450   8.0500   NaN        S  "
      ]
     },
     "execution_count": 59,
     "metadata": {},
     "output_type": "execute_result"
    }
   ],
   "source": [
    "# Read CSV train data file into DataFrame\n",
    "train = pd.read_csv(\"../datasets/titanic/train.csv\")\n",
    "\n",
    "# Read CSV test data file into DataFrame\n",
    "test = pd.read_csv(\"../datasets/titanic/test.csv\")\n",
    "\n",
    "# preview train data\n",
    "train.head()"
   ]
  },
  {
   "cell_type": "code",
   "execution_count": 60,
   "metadata": {},
   "outputs": [
    {
     "data": {
      "text/plain": [
       "((891, 12), 891)"
      ]
     },
     "execution_count": 60,
     "metadata": {},
     "output_type": "execute_result"
    }
   ],
   "source": [
    "train.shape, train.PassengerId.nunique()"
   ]
  },
  {
   "cell_type": "code",
   "execution_count": 61,
   "metadata": {},
   "outputs": [],
   "source": [
    "y = train['Survived'].values\n",
    "train = train.drop('Survived', axis=1)\n",
    "train = train.drop('PassengerId', axis=1)\n",
    "test = test.drop('PassengerId', axis=1)\n",
    "train = train.drop('Name', axis=1)\n",
    "test = test.drop('Name', axis=1)\n",
    "data = pd.concat([train, test], axis=0)\n"
   ]
  },
  {
   "cell_type": "code",
   "execution_count": 62,
   "metadata": {},
   "outputs": [
    {
     "data": {
      "text/plain": [
       "(1309, 9)"
      ]
     },
     "execution_count": 62,
     "metadata": {},
     "output_type": "execute_result"
    }
   ],
   "source": [
    "data.shape"
   ]
  },
  {
   "cell_type": "code",
   "execution_count": 63,
   "metadata": {},
   "outputs": [
    {
     "data": {
      "text/plain": [
       "Pclass        0\n",
       "Sex           0\n",
       "Age         177\n",
       "SibSp         0\n",
       "Parch         0\n",
       "Ticket        0\n",
       "Fare          0\n",
       "Cabin       687\n",
       "Embarked      2\n",
       "dtype: int64"
      ]
     },
     "execution_count": 63,
     "metadata": {},
     "output_type": "execute_result"
    }
   ],
   "source": [
    "train.isnull().sum()"
   ]
  },
  {
   "cell_type": "code",
   "execution_count": 7,
   "metadata": {},
   "outputs": [
    {
     "data": {
      "text/plain": [
       "((891, 9), (418, 9))"
      ]
     },
     "execution_count": 7,
     "metadata": {},
     "output_type": "execute_result"
    }
   ],
   "source": [
    "train.shape, test.shape"
   ]
  },
  {
   "cell_type": "code",
   "execution_count": 8,
   "metadata": {},
   "outputs": [
    {
     "data": {
      "text/plain": [
       "NaN       177\n",
       " 24.00     30\n",
       " 22.00     27\n",
       " 18.00     26\n",
       " 28.00     25\n",
       " 19.00     25\n",
       " 30.00     25\n",
       " 21.00     24\n",
       " 25.00     23\n",
       " 36.00     22\n",
       " 29.00     20\n",
       " 32.00     18\n",
       " 26.00     18\n",
       " 35.00     18\n",
       " 27.00     18\n",
       " 16.00     17\n",
       " 31.00     17\n",
       " 34.00     15\n",
       " 23.00     15\n",
       " 33.00     15\n",
       " 20.00     15\n",
       " 39.00     14\n",
       " 17.00     13\n",
       " 42.00     13\n",
       " 40.00     13\n",
       " 45.00     12\n",
       " 38.00     11\n",
       " 50.00     10\n",
       " 2.00      10\n",
       " 4.00      10\n",
       "         ... \n",
       " 28.50      2\n",
       " 63.00      2\n",
       " 0.83       2\n",
       " 30.50      2\n",
       " 70.00      2\n",
       " 57.00      2\n",
       " 0.75       2\n",
       " 13.00      2\n",
       " 59.00      2\n",
       " 10.00      2\n",
       " 64.00      2\n",
       " 40.50      2\n",
       " 45.50      2\n",
       " 32.50      2\n",
       " 20.50      1\n",
       " 24.50      1\n",
       " 0.67       1\n",
       " 70.50      1\n",
       " 0.92       1\n",
       " 74.00      1\n",
       " 34.50      1\n",
       " 14.50      1\n",
       " 80.00      1\n",
       " 12.00      1\n",
       " 53.00      1\n",
       " 36.50      1\n",
       " 55.50      1\n",
       " 66.00      1\n",
       " 23.50      1\n",
       " 0.42       1\n",
       "Name: Age, Length: 89, dtype: int64"
      ]
     },
     "execution_count": 8,
     "metadata": {},
     "output_type": "execute_result"
    }
   ],
   "source": [
    "train['Age'].value_counts(dropna=False)"
   ]
  },
  {
   "cell_type": "code",
   "execution_count": 9,
   "metadata": {},
   "outputs": [
    {
     "data": {
      "image/png": "[encoded data removed]",
      "text/plain": [
       "<Figure size 432x288 with 1 Axes>"
      ]
     },
     "metadata": {
      "needs_background": "light"
     },
     "output_type": "display_data"
    }
   ],
   "source": [
    "ax = train[\"Age\"].hist(bins=15, density=True, stacked=True, color='teal', alpha=0.6)\n",
    "train[\"Age\"].plot(kind='density', color='teal')\n",
    "ax.set(xlabel='Age')\n",
    "plt.xlim(-10,85)\n",
    "plt.show()"
   ]
  },
  {
   "cell_type": "markdown",
   "metadata": {},
   "source": [
    "Since \"Age\" is (right) skewed, using the mean might give us biased results by filling in ages that are older than desired. To deal with this, we'll use the median to impute the missing values."
   ]
  },
  {
   "cell_type": "code",
   "execution_count": 10,
   "metadata": {},
   "outputs": [
    {
     "name": "stdout",
     "output_type": "stream",
     "text": [
      "The mean of train \"Age\" is 29.70\n",
      "The mean of train+test \"Age\" is 29.88\n",
      "The median of train \"Age\" is 28.00\n",
      "The median of train+test \"Age\" is 28.00\n"
     ]
    }
   ],
   "source": [
    "# mean age\n",
    "print('The mean of train \"Age\" is %.2f' %(train[\"Age\"].mean(skipna=True)))\n",
    "print('The mean of train+test \"Age\" is %.2f' %(data[\"Age\"].mean(skipna=True)))\n",
    "# median age\n",
    "print('The median of train \"Age\" is %.2f' %(train[\"Age\"].median(skipna=True)))\n",
    "print('The median of train+test \"Age\" is %.2f' %(data[\"Age\"].median(skipna=True)))"
   ]
  },
  {
   "cell_type": "code",
   "execution_count": 11,
   "metadata": {},
   "outputs": [],
   "source": [
    "data['Age'].fillna(28.00, inplace=True)"
   ]
  },
  {
   "cell_type": "code",
   "execution_count": 12,
   "metadata": {},
   "outputs": [
    {
     "data": {
      "text/plain": [
       "(80.0, 0.17)"
      ]
     },
     "execution_count": 12,
     "metadata": {},
     "output_type": "execute_result"
    }
   ],
   "source": [
    "np.max(data['Age']), np.min(data['Age'])"
   ]
  },
  {
   "cell_type": "code",
   "execution_count": 68,
   "metadata": {},
   "outputs": [],
   "source": [
    "num_cols = ['Fare']\n",
    "cat_cols = [col for col in list(train.columns) if col not in num_cols ]"
   ]
  },
  {
   "cell_type": "code",
   "execution_count": 14,
   "metadata": {},
   "outputs": [],
   "source": [
    "data_num = data[num_cols]\n",
    "data_cat = pd.DataFrame()"
   ]
  },
  {
   "cell_type": "code",
   "execution_count": 15,
   "metadata": {},
   "outputs": [
    {
     "data": {
      "text/plain": [
       "(1309, 17)"
      ]
     },
     "execution_count": 15,
     "metadata": {},
     "output_type": "execute_result"
    }
   ],
   "source": [
    "bins = [5,10,15,20,25,30,35,40,45,50,55,60,65,70,75,80,85,90]\n",
    "cols = ['Age_'+str(x) for x in bins[1:]]\n",
    "Age_bins = pd.get_dummies(pd.cut(data['Age'], bins))\n",
    "Age_bins.columns = cols\n",
    "Age_bins.shape"
   ]
  },
  {
   "cell_type": "code",
   "execution_count": 16,
   "metadata": {},
   "outputs": [
    {
     "data": {
      "text/html": [
       "<div>\n",
       "<style scoped>\n",
       "    .dataframe tbody tr th:only-of-type {\n",
       "        vertical-align: middle;\n",
       "    }\n",
       "\n",
       "    .dataframe tbody tr th {\n",
       "        vertical-align: top;\n",
       "    }\n",
       "\n",
       "    .dataframe thead th {\n",
       "        text-align: right;\n",
       "    }\n",
       "</style>\n",
       "<table border=\"1\" class=\"dataframe\">\n",
       "  <thead>\n",
       "    <tr style=\"text-align: right;\">\n",
       "      <th></th>\n",
       "      <th>Age_10</th>\n",
       "      <th>Age_15</th>\n",
       "      <th>Age_20</th>\n",
       "      <th>Age_25</th>\n",
       "      <th>Age_30</th>\n",
       "      <th>Age_35</th>\n",
       "      <th>Age_40</th>\n",
       "      <th>Age_45</th>\n",
       "      <th>Age_50</th>\n",
       "      <th>Age_55</th>\n",
       "      <th>Age_60</th>\n",
       "      <th>Age_65</th>\n",
       "      <th>Age_70</th>\n",
       "      <th>Age_75</th>\n",
       "      <th>Age_80</th>\n",
       "      <th>Age_85</th>\n",
       "      <th>Age_90</th>\n",
       "    </tr>\n",
       "  </thead>\n",
       "  <tbody>\n",
       "    <tr>\n",
       "      <th>0</th>\n",
       "      <td>0</td>\n",
       "      <td>0</td>\n",
       "      <td>0</td>\n",
       "      <td>1</td>\n",
       "      <td>0</td>\n",
       "      <td>0</td>\n",
       "      <td>0</td>\n",
       "      <td>0</td>\n",
       "      <td>0</td>\n",
       "      <td>0</td>\n",
       "      <td>0</td>\n",
       "      <td>0</td>\n",
       "      <td>0</td>\n",
       "      <td>0</td>\n",
       "      <td>0</td>\n",
       "      <td>0</td>\n",
       "      <td>0</td>\n",
       "    </tr>\n",
       "    <tr>\n",
       "      <th>1</th>\n",
       "      <td>0</td>\n",
       "      <td>0</td>\n",
       "      <td>0</td>\n",
       "      <td>0</td>\n",
       "      <td>0</td>\n",
       "      <td>0</td>\n",
       "      <td>1</td>\n",
       "      <td>0</td>\n",
       "      <td>0</td>\n",
       "      <td>0</td>\n",
       "      <td>0</td>\n",
       "      <td>0</td>\n",
       "      <td>0</td>\n",
       "      <td>0</td>\n",
       "      <td>0</td>\n",
       "      <td>0</td>\n",
       "      <td>0</td>\n",
       "    </tr>\n",
       "    <tr>\n",
       "      <th>2</th>\n",
       "      <td>0</td>\n",
       "      <td>0</td>\n",
       "      <td>0</td>\n",
       "      <td>0</td>\n",
       "      <td>1</td>\n",
       "      <td>0</td>\n",
       "      <td>0</td>\n",
       "      <td>0</td>\n",
       "      <td>0</td>\n",
       "      <td>0</td>\n",
       "      <td>0</td>\n",
       "      <td>0</td>\n",
       "      <td>0</td>\n",
       "      <td>0</td>\n",
       "      <td>0</td>\n",
       "      <td>0</td>\n",
       "      <td>0</td>\n",
       "    </tr>\n",
       "    <tr>\n",
       "      <th>3</th>\n",
       "      <td>0</td>\n",
       "      <td>0</td>\n",
       "      <td>0</td>\n",
       "      <td>0</td>\n",
       "      <td>0</td>\n",
       "      <td>1</td>\n",
       "      <td>0</td>\n",
       "      <td>0</td>\n",
       "      <td>0</td>\n",
       "      <td>0</td>\n",
       "      <td>0</td>\n",
       "      <td>0</td>\n",
       "      <td>0</td>\n",
       "      <td>0</td>\n",
       "      <td>0</td>\n",
       "      <td>0</td>\n",
       "      <td>0</td>\n",
       "    </tr>\n",
       "    <tr>\n",
       "      <th>4</th>\n",
       "      <td>0</td>\n",
       "      <td>0</td>\n",
       "      <td>0</td>\n",
       "      <td>0</td>\n",
       "      <td>0</td>\n",
       "      <td>1</td>\n",
       "      <td>0</td>\n",
       "      <td>0</td>\n",
       "      <td>0</td>\n",
       "      <td>0</td>\n",
       "      <td>0</td>\n",
       "      <td>0</td>\n",
       "      <td>0</td>\n",
       "      <td>0</td>\n",
       "      <td>0</td>\n",
       "      <td>0</td>\n",
       "      <td>0</td>\n",
       "    </tr>\n",
       "  </tbody>\n",
       "</table>\n",
       "</div>"
      ],
      "text/plain": [
       "   Age_10  Age_15  Age_20  Age_25  Age_30  Age_35  Age_40  Age_45  Age_50  \\\n",
       "0       0       0       0       1       0       0       0       0       0   \n",
       "1       0       0       0       0       0       0       1       0       0   \n",
       "2       0       0       0       0       1       0       0       0       0   \n",
       "3       0       0       0       0       0       1       0       0       0   \n",
       "4       0       0       0       0       0       1       0       0       0   \n",
       "\n",
       "   Age_55  Age_60  Age_65  Age_70  Age_75  Age_80  Age_85  Age_90  \n",
       "0       0       0       0       0       0       0       0       0  \n",
       "1       0       0       0       0       0       0       0       0  \n",
       "2       0       0       0       0       0       0       0       0  \n",
       "3       0       0       0       0       0       0       0       0  \n",
       "4       0       0       0       0       0       0       0       0  "
      ]
     },
     "execution_count": 16,
     "metadata": {},
     "output_type": "execute_result"
    }
   ],
   "source": [
    "Age_bins.head()"
   ]
  },
  {
   "cell_type": "code",
   "execution_count": 17,
   "metadata": {},
   "outputs": [],
   "source": [
    "data['Cabin'].fillna('UNK_Cabin', inplace=True)"
   ]
  },
  {
   "cell_type": "code",
   "execution_count": 18,
   "metadata": {},
   "outputs": [
    {
     "data": {
      "text/plain": [
       "S      914\n",
       "C      270\n",
       "Q      123\n",
       "NaN      2\n",
       "Name: Embarked, dtype: int64"
      ]
     },
     "execution_count": 18,
     "metadata": {},
     "output_type": "execute_result"
    }
   ],
   "source": [
    "data['Embarked'].value_counts(dropna=False)"
   ]
  },
  {
   "cell_type": "code",
   "execution_count": 19,
   "metadata": {},
   "outputs": [],
   "source": [
    "data['Embarked'].fillna('S', inplace=True)"
   ]
  },
  {
   "cell_type": "code",
   "execution_count": 20,
   "metadata": {},
   "outputs": [
    {
     "data": {
      "text/plain": [
       "Pclass      0\n",
       "Sex         0\n",
       "Age         0\n",
       "SibSp       0\n",
       "Parch       0\n",
       "Ticket      0\n",
       "Fare        1\n",
       "Cabin       0\n",
       "Embarked    0\n",
       "dtype: int64"
      ]
     },
     "execution_count": 20,
     "metadata": {},
     "output_type": "execute_result"
    }
   ],
   "source": [
    "data.isnull().sum()"
   ]
  },
  {
   "cell_type": "code",
   "execution_count": 21,
   "metadata": {},
   "outputs": [],
   "source": [
    "data1 = data.dropna()"
   ]
  },
  {
   "cell_type": "code",
   "execution_count": 22,
   "metadata": {},
   "outputs": [
    {
     "name": "stderr",
     "output_type": "stream",
     "text": [
      "/home/watts/anaconda3/envs/itv/lib/python3.6/site-packages/scipy/stats/stats.py:1633: FutureWarning: Using a non-tuple sequence for multidimensional indexing is deprecated; use `arr[tuple(seq)]` instead of `arr[seq]`. In the future this will be interpreted as an array index, `arr[np.array(seq)]`, which will result either in an error or a different result.\n",
      "  return np.add.reduce(sorted[indexer] * weights, axis=axis) / sumval\n"
     ]
    },
    {
     "data": {
      "text/plain": [
       "<matplotlib.axes._subplots.AxesSubplot at 0x7f2e970585c0>"
      ]
     },
     "execution_count": 22,
     "metadata": {},
     "output_type": "execute_result"
    },
    {
     "data": {
      "image/png": "[encoded data removed]",
      "text/plain": [
       "<Figure size 432x288 with 1 Axes>"
      ]
     },
     "metadata": {
      "needs_background": "light"
     },
     "output_type": "display_data"
    }
   ],
   "source": [
    "sns.distplot(data1['Fare'])"
   ]
  },
  {
   "cell_type": "code",
   "execution_count": 23,
   "metadata": {},
   "outputs": [
    {
     "data": {
      "text/plain": [
       "(14.4542, 33.29547928134557)"
      ]
     },
     "execution_count": 23,
     "metadata": {},
     "output_type": "execute_result"
    }
   ],
   "source": [
    "np.nanmedian(data['Fare']), np.nanmean(data['Fare'])"
   ]
  },
  {
   "cell_type": "code",
   "execution_count": 24,
   "metadata": {},
   "outputs": [],
   "source": [
    "data['Fare'].fillna(np.nanmedian(data['Fare']), inplace=True)"
   ]
  },
  {
   "cell_type": "code",
   "execution_count": 25,
   "metadata": {},
   "outputs": [],
   "source": [
    "data['Fare1'] = np.log1p(np.log1p(np.log1p(data['Fare']+50)))"
   ]
  },
  {
   "cell_type": "code",
   "execution_count": 26,
   "metadata": {},
   "outputs": [
    {
     "data": {
      "text/plain": [
       "(512.3292, 0.0)"
      ]
     },
     "execution_count": 26,
     "metadata": {},
     "output_type": "execute_result"
    }
   ],
   "source": [
    "np.max(data['Fare']), np.min(data['Fare'])"
   ]
  },
  {
   "cell_type": "code",
   "execution_count": 27,
   "metadata": {},
   "outputs": [
    {
     "data": {
      "text/plain": [
       "<matplotlib.axes._subplots.AxesSubplot at 0x7f2e966bfb70>"
      ]
     },
     "execution_count": 27,
     "metadata": {},
     "output_type": "execute_result"
    },
    {
     "data": {
      "image/png": "[encoded data removed]",
      "text/plain": [
       "<Figure size 432x288 with 1 Axes>"
      ]
     },
     "metadata": {
      "needs_background": "light"
     },
     "output_type": "display_data"
    }
   ],
   "source": [
    "sns.distplot(data['Fare1'])"
   ]
  },
  {
   "cell_type": "code",
   "execution_count": 28,
   "metadata": {},
   "outputs": [
    {
     "name": "stdout",
     "output_type": "stream",
     "text": [
      "['Fare_5', 'Fare_10', 'Fare_15', 'Fare_20', 'Fare_25', 'Fare_30', 'Fare_35', 'Fare_40', 'Fare_45', 'Fare_50', 'Fare_55', 'Fare_60', 'Fare_65', 'Fare_70', 'Fare_75', 'Fare_80', 'Fare_85', 'Fare_90', 'Fare_95', 'Fare_100', 'Fare_105', 'Fare_110', 'Fare_115', 'Fare_120', 'Fare_125', 'Fare_130', 'Fare_135', 'Fare_140', 'Fare_145', 'Fare_150', 'Fare_155', 'Fare_160', 'Fare_165', 'Fare_170', 'Fare_175', 'Fare_180', 'Fare_185', 'Fare_190', 'Fare_195', 'Fare_200', 'Fare_205', 'Fare_210', 'Fare_215', 'Fare_220', 'Fare_225', 'Fare_230', 'Fare_235', 'Fare_240', 'Fare_245', 'Fare_250', 'Fare_255', 'Fare_260', 'Fare_265', 'Fare_270', 'Fare_275', 'Fare_280', 'Fare_285', 'Fare_290', 'Fare_295', 'Fare_300', 'Fare_305', 'Fare_310', 'Fare_315', 'Fare_320', 'Fare_325', 'Fare_330', 'Fare_335', 'Fare_340', 'Fare_345', 'Fare_350', 'Fare_355', 'Fare_360', 'Fare_365', 'Fare_370', 'Fare_375', 'Fare_380', 'Fare_385', 'Fare_390', 'Fare_395', 'Fare_400', 'Fare_405', 'Fare_410', 'Fare_415', 'Fare_420', 'Fare_425', 'Fare_430', 'Fare_435', 'Fare_440', 'Fare_445', 'Fare_450', 'Fare_455', 'Fare_460', 'Fare_465', 'Fare_470', 'Fare_475', 'Fare_480', 'Fare_485', 'Fare_490', 'Fare_495', 'Fare_500', 'Fare_505', 'Fare_510'] 102\n"
     ]
    },
    {
     "data": {
      "text/plain": [
       "(1309, 102)"
      ]
     },
     "execution_count": 28,
     "metadata": {},
     "output_type": "execute_result"
    }
   ],
   "source": [
    "bins = [i for i in np.arange(515, step=5)]\n",
    "cols = ['Fare_'+str(x) for x in bins[1:]]\n",
    "print(cols, len(cols))\n",
    "Fare_bins = pd.get_dummies(pd.cut(data['Fare'], bins), columns=cols)\n",
    "Fare_bins.columns = cols\n",
    "Fare_bins.shape"
   ]
  },
  {
   "cell_type": "code",
   "execution_count": 29,
   "metadata": {},
   "outputs": [
    {
     "data": {
      "text/html": [
       "<div>\n",
       "<style scoped>\n",
       "    .dataframe tbody tr th:only-of-type {\n",
       "        vertical-align: middle;\n",
       "    }\n",
       "\n",
       "    .dataframe tbody tr th {\n",
       "        vertical-align: top;\n",
       "    }\n",
       "\n",
       "    .dataframe thead th {\n",
       "        text-align: right;\n",
       "    }\n",
       "</style>\n",
       "<table border=\"1\" class=\"dataframe\">\n",
       "  <thead>\n",
       "    <tr style=\"text-align: right;\">\n",
       "      <th></th>\n",
       "      <th>Fare_5</th>\n",
       "      <th>Fare_10</th>\n",
       "      <th>Fare_15</th>\n",
       "      <th>Fare_20</th>\n",
       "      <th>Fare_25</th>\n",
       "      <th>Fare_30</th>\n",
       "      <th>Fare_35</th>\n",
       "      <th>Fare_40</th>\n",
       "      <th>Fare_45</th>\n",
       "      <th>Fare_50</th>\n",
       "      <th>...</th>\n",
       "      <th>Fare_465</th>\n",
       "      <th>Fare_470</th>\n",
       "      <th>Fare_475</th>\n",
       "      <th>Fare_480</th>\n",
       "      <th>Fare_485</th>\n",
       "      <th>Fare_490</th>\n",
       "      <th>Fare_495</th>\n",
       "      <th>Fare_500</th>\n",
       "      <th>Fare_505</th>\n",
       "      <th>Fare_510</th>\n",
       "    </tr>\n",
       "  </thead>\n",
       "  <tbody>\n",
       "    <tr>\n",
       "      <th>0</th>\n",
       "      <td>0</td>\n",
       "      <td>1</td>\n",
       "      <td>0</td>\n",
       "      <td>0</td>\n",
       "      <td>0</td>\n",
       "      <td>0</td>\n",
       "      <td>0</td>\n",
       "      <td>0</td>\n",
       "      <td>0</td>\n",
       "      <td>0</td>\n",
       "      <td>...</td>\n",
       "      <td>0</td>\n",
       "      <td>0</td>\n",
       "      <td>0</td>\n",
       "      <td>0</td>\n",
       "      <td>0</td>\n",
       "      <td>0</td>\n",
       "      <td>0</td>\n",
       "      <td>0</td>\n",
       "      <td>0</td>\n",
       "      <td>0</td>\n",
       "    </tr>\n",
       "    <tr>\n",
       "      <th>1</th>\n",
       "      <td>0</td>\n",
       "      <td>0</td>\n",
       "      <td>0</td>\n",
       "      <td>0</td>\n",
       "      <td>0</td>\n",
       "      <td>0</td>\n",
       "      <td>0</td>\n",
       "      <td>0</td>\n",
       "      <td>0</td>\n",
       "      <td>0</td>\n",
       "      <td>...</td>\n",
       "      <td>0</td>\n",
       "      <td>0</td>\n",
       "      <td>0</td>\n",
       "      <td>0</td>\n",
       "      <td>0</td>\n",
       "      <td>0</td>\n",
       "      <td>0</td>\n",
       "      <td>0</td>\n",
       "      <td>0</td>\n",
       "      <td>0</td>\n",
       "    </tr>\n",
       "    <tr>\n",
       "      <th>2</th>\n",
       "      <td>0</td>\n",
       "      <td>1</td>\n",
       "      <td>0</td>\n",
       "      <td>0</td>\n",
       "      <td>0</td>\n",
       "      <td>0</td>\n",
       "      <td>0</td>\n",
       "      <td>0</td>\n",
       "      <td>0</td>\n",
       "      <td>0</td>\n",
       "      <td>...</td>\n",
       "      <td>0</td>\n",
       "      <td>0</td>\n",
       "      <td>0</td>\n",
       "      <td>0</td>\n",
       "      <td>0</td>\n",
       "      <td>0</td>\n",
       "      <td>0</td>\n",
       "      <td>0</td>\n",
       "      <td>0</td>\n",
       "      <td>0</td>\n",
       "    </tr>\n",
       "    <tr>\n",
       "      <th>3</th>\n",
       "      <td>0</td>\n",
       "      <td>0</td>\n",
       "      <td>0</td>\n",
       "      <td>0</td>\n",
       "      <td>0</td>\n",
       "      <td>0</td>\n",
       "      <td>0</td>\n",
       "      <td>0</td>\n",
       "      <td>0</td>\n",
       "      <td>0</td>\n",
       "      <td>...</td>\n",
       "      <td>0</td>\n",
       "      <td>0</td>\n",
       "      <td>0</td>\n",
       "      <td>0</td>\n",
       "      <td>0</td>\n",
       "      <td>0</td>\n",
       "      <td>0</td>\n",
       "      <td>0</td>\n",
       "      <td>0</td>\n",
       "      <td>0</td>\n",
       "    </tr>\n",
       "    <tr>\n",
       "      <th>4</th>\n",
       "      <td>0</td>\n",
       "      <td>1</td>\n",
       "      <td>0</td>\n",
       "      <td>0</td>\n",
       "      <td>0</td>\n",
       "      <td>0</td>\n",
       "      <td>0</td>\n",
       "      <td>0</td>\n",
       "      <td>0</td>\n",
       "      <td>0</td>\n",
       "      <td>...</td>\n",
       "      <td>0</td>\n",
       "      <td>0</td>\n",
       "      <td>0</td>\n",
       "      <td>0</td>\n",
       "      <td>0</td>\n",
       "      <td>0</td>\n",
       "      <td>0</td>\n",
       "      <td>0</td>\n",
       "      <td>0</td>\n",
       "      <td>0</td>\n",
       "    </tr>\n",
       "  </tbody>\n",
       "</table>\n",
       "<p>5 rows × 102 columns</p>\n",
       "</div>"
      ],
      "text/plain": [
       "   Fare_5  Fare_10  Fare_15  Fare_20  Fare_25  Fare_30  Fare_35  Fare_40  \\\n",
       "0       0        1        0        0        0        0        0        0   \n",
       "1       0        0        0        0        0        0        0        0   \n",
       "2       0        1        0        0        0        0        0        0   \n",
       "3       0        0        0        0        0        0        0        0   \n",
       "4       0        1        0        0        0        0        0        0   \n",
       "\n",
       "   Fare_45  Fare_50    ...     Fare_465  Fare_470  Fare_475  Fare_480  \\\n",
       "0        0        0    ...            0         0         0         0   \n",
       "1        0        0    ...            0         0         0         0   \n",
       "2        0        0    ...            0         0         0         0   \n",
       "3        0        0    ...            0         0         0         0   \n",
       "4        0        0    ...            0         0         0         0   \n",
       "\n",
       "   Fare_485  Fare_490  Fare_495  Fare_500  Fare_505  Fare_510  \n",
       "0         0         0         0         0         0         0  \n",
       "1         0         0         0         0         0         0  \n",
       "2         0         0         0         0         0         0  \n",
       "3         0         0         0         0         0         0  \n",
       "4         0         0         0         0         0         0  \n",
       "\n",
       "[5 rows x 102 columns]"
      ]
     },
     "execution_count": 29,
     "metadata": {},
     "output_type": "execute_result"
    }
   ],
   "source": [
    "Fare_bins.head()"
   ]
  },
  {
   "cell_type": "code",
   "execution_count": 30,
   "metadata": {},
   "outputs": [
    {
     "data": {
      "application/vnd.jupyter.widget-view+json": {
       "model_id": "752105ad0fec474aa708fbd7a784797e",
       "version_major": 2,
       "version_minor": 0
      },
      "text/plain": [
       "HBox(children=(IntProgress(value=0, max=8), HTML(value='')))"
      ]
     },
     "metadata": {},
     "output_type": "display_data"
    },
    {
     "name": "stdout",
     "output_type": "stream",
     "text": [
      "\n"
     ]
    }
   ],
   "source": [
    "from tqdm import tqdm_notebook\n",
    "data_cat = pd.DataFrame()\n",
    "for col in tqdm_notebook(cat_cols):\n",
    "    data[col] = data[col].map(lambda x: col+str(x))\n",
    "    mydf = pd.get_dummies(data[col])\n",
    "    if len(data_cat) == 0:\n",
    "        data_cat = mydf\n",
    "    else:\n",
    "        data_cat = pd.concat([data_cat, mydf], axis=1)"
   ]
  },
  {
   "cell_type": "code",
   "execution_count": 31,
   "metadata": {},
   "outputs": [
    {
     "data": {
      "text/plain": [
       "(1309, 1237)"
      ]
     },
     "execution_count": 31,
     "metadata": {},
     "output_type": "execute_result"
    }
   ],
   "source": [
    "data_cat.shape"
   ]
  },
  {
   "cell_type": "code",
   "execution_count": 32,
   "metadata": {},
   "outputs": [
    {
     "data": {
      "text/plain": [
       "Pclass      0\n",
       "Sex         0\n",
       "Age         0\n",
       "SibSp       0\n",
       "Parch       0\n",
       "Ticket      0\n",
       "Fare        0\n",
       "Cabin       0\n",
       "Embarked    0\n",
       "Fare1       0\n",
       "dtype: int64"
      ]
     },
     "execution_count": 32,
     "metadata": {},
     "output_type": "execute_result"
    }
   ],
   "source": [
    "data.isnull().sum()"
   ]
  },
  {
   "cell_type": "code",
   "execution_count": 33,
   "metadata": {},
   "outputs": [],
   "source": [
    "data_num = data[['Fare']]"
   ]
  },
  {
   "cell_type": "code",
   "execution_count": 34,
   "metadata": {},
   "outputs": [
    {
     "name": "stderr",
     "output_type": "stream",
     "text": [
      "/home/watts/anaconda3/envs/itv/lib/python3.6/site-packages/ipykernel_launcher.py:1: SettingWithCopyWarning: \n",
      "A value is trying to be set on a copy of a slice from a DataFrame.\n",
      "Try using .loc[row_indexer,col_indexer] = value instead\n",
      "\n",
      "See the caveats in the documentation: http://pandas.pydata.org/pandas-docs/stable/indexing.html#indexing-view-versus-copy\n",
      "  \"\"\"Entry point for launching an IPython kernel.\n"
     ]
    }
   ],
   "source": [
    "data_num['Fare'] = data_num['Fare'].apply(np.log1p)"
   ]
  },
  {
   "cell_type": "code",
   "execution_count": 35,
   "metadata": {},
   "outputs": [],
   "source": [
    "data2 = data_cat.copy()\n",
    "data2['Fare'] = data_num['Fare']\n",
    "data2 = pd.concat([data2, Age_bins], axis=1)\n",
    "data2 = pd.concat([data2, Fare_bins], axis=1)"
   ]
  },
  {
   "cell_type": "code",
   "execution_count": 36,
   "metadata": {},
   "outputs": [
    {
     "data": {
      "text/plain": [
       "(1309, 1357)"
      ]
     },
     "execution_count": 36,
     "metadata": {},
     "output_type": "execute_result"
    }
   ],
   "source": [
    "data2.shape"
   ]
  },
  {
   "cell_type": "code",
   "execution_count": 37,
   "metadata": {},
   "outputs": [],
   "source": [
    "from scipy.sparse import csr_matrix, hstack"
   ]
  },
  {
   "cell_type": "code",
   "execution_count": 38,
   "metadata": {},
   "outputs": [],
   "source": [
    "data_mat_sparse = csr_matrix(data2.values)"
   ]
  },
  {
   "cell_type": "code",
   "execution_count": 39,
   "metadata": {},
   "outputs": [
    {
     "data": {
      "text/plain": [
       "(1309, 1357)"
      ]
     },
     "execution_count": 39,
     "metadata": {},
     "output_type": "execute_result"
    }
   ],
   "source": [
    "data_mat_sparse.shape"
   ]
  },
  {
   "cell_type": "code",
   "execution_count": 40,
   "metadata": {},
   "outputs": [],
   "source": [
    "data_mat_train = data_mat_sparse[:len(train)]\n",
    "data_mat_test = data_mat_sparse[len(train):]"
   ]
  },
  {
   "cell_type": "code",
   "execution_count": 41,
   "metadata": {},
   "outputs": [],
   "source": [
    "from sklearn.model_selection import train_test_split\n",
    "X = data_mat_train\n",
    "X_train, X_val, y_train, y_val = train_test_split(X, y, test_size=0.2, random_state=42)"
   ]
  },
  {
   "cell_type": "code",
   "execution_count": 42,
   "metadata": {},
   "outputs": [],
   "source": [
    "from sklearn.linear_model import LogisticRegression\n",
    "from sklearn.feature_selection import RFE"
   ]
  },
  {
   "cell_type": "code",
   "execution_count": 43,
   "metadata": {},
   "outputs": [
    {
     "name": "stderr",
     "output_type": "stream",
     "text": [
      "/home/watts/anaconda3/envs/itv/lib/python3.6/site-packages/sklearn/linear_model/logistic.py:432: FutureWarning: Default solver will be changed to 'lbfgs' in 0.22. Specify a solver to silence this warning.\n",
      "  FutureWarning)\n"
     ]
    },
    {
     "data": {
      "text/plain": [
       "LogisticRegression(C=1.0, class_weight=None, dual=False, fit_intercept=True,\n",
       "          intercept_scaling=1, max_iter=100, multi_class='warn',\n",
       "          n_jobs=None, penalty='l2', random_state=None, solver='warn',\n",
       "          tol=0.0001, verbose=0, warm_start=False)"
      ]
     },
     "execution_count": 43,
     "metadata": {},
     "output_type": "execute_result"
    }
   ],
   "source": [
    "model = LogisticRegression()\n",
    "model.fit(X_train, y_train)"
   ]
  },
  {
   "cell_type": "code",
   "execution_count": 44,
   "metadata": {},
   "outputs": [
    {
     "data": {
      "text/plain": [
       "0.7988826815642458"
      ]
     },
     "execution_count": 44,
     "metadata": {},
     "output_type": "execute_result"
    }
   ],
   "source": [
    "model.score(X_val, y_val)"
   ]
  },
  {
   "cell_type": "code",
   "execution_count": 45,
   "metadata": {},
   "outputs": [
    {
     "name": "stdout",
     "output_type": "stream",
     "text": [
      "Train/Test split results:\n",
      "LogisticRegression accuracy is 0.799\n",
      "LogisticRegression log_loss is 0.435\n",
      "LogisticRegression auc is 0.874\n"
     ]
    },
    {
     "data": {
      "image/png": "[encoded data removed]",
      "text/plain": [
       "<Figure size 432x288 with 1 Axes>"
      ]
     },
     "metadata": {
      "needs_background": "light"
     },
     "output_type": "display_data"
    },
    {
     "name": "stdout",
     "output_type": "stream",
     "text": [
      "Using a threshold of 0.083 guarantees a sensitivity of 0.959 and a specificity of 0.267, i.e. a false positive rate of 73.33%.\n"
     ]
    }
   ],
   "source": [
    "from sklearn.metrics import confusion_matrix, precision_recall_curve, roc_curve, auc, log_loss, accuracy_score\n",
    "\n",
    "y_pred = model.predict(X_val)\n",
    "y_pred_proba = model.predict_proba(X_val)[:, 1]\n",
    "[fpr, tpr, thr] = roc_curve(y_val, y_pred_proba)\n",
    "print('Train/Test split results:')\n",
    "print(model.__class__.__name__+\" accuracy is %2.3f\" % accuracy_score(y_val, y_pred))\n",
    "print(model.__class__.__name__+\" log_loss is %2.3f\" % log_loss(y_val, y_pred_proba))\n",
    "print(model.__class__.__name__+\" auc is %2.3f\" % auc(fpr, tpr))\n",
    "\n",
    "idx = np.min(np.where(tpr > 0.95)) # index of the first threshold for which the sensibility > 0.95\n",
    "\n",
    "plt.figure()\n",
    "plt.plot(fpr, tpr, color='coral', label='ROC curve (area = %0.3f)' % auc(fpr, tpr))\n",
    "plt.plot([0, 1], [0, 1], 'k--')\n",
    "plt.plot([0,fpr[idx]], [tpr[idx],tpr[idx]], 'k--', color='blue')\n",
    "plt.plot([fpr[idx],fpr[idx]], [0,tpr[idx]], 'k--', color='blue')\n",
    "plt.xlim([0.0, 1.0])\n",
    "plt.ylim([0.0, 1.05])\n",
    "plt.xlabel('False Positive Rate (1 - specificity)', fontsize=14)\n",
    "plt.ylabel('True Positive Rate (recall)', fontsize=14)\n",
    "plt.title('Receiver operating characteristic (ROC) curve')\n",
    "plt.legend(loc=\"lower right\")\n",
    "plt.show()\n",
    "\n",
    "print(\"Using a threshold of %.3f \" % thr[idx] + \"guarantees a sensitivity of %.3f \" % tpr[idx] +  \n",
    "      \"and a specificity of %.3f\" % (1-fpr[idx]) + \n",
    "      \", i.e. a false positive rate of %.2f%%.\" % (np.array(fpr[idx])*100))"
   ]
  },
  {
   "cell_type": "markdown",
   "metadata": {},
   "source": [
    "Lets drop Fare and check"
   ]
  },
  {
   "cell_type": "code",
   "execution_count": 46,
   "metadata": {},
   "outputs": [
    {
     "name": "stderr",
     "output_type": "stream",
     "text": [
      "/home/watts/anaconda3/envs/itv/lib/python3.6/site-packages/sklearn/linear_model/logistic.py:432: FutureWarning: Default solver will be changed to 'lbfgs' in 0.22. Specify a solver to silence this warning.\n",
      "  FutureWarning)\n"
     ]
    },
    {
     "data": {
      "text/plain": [
       "LogisticRegression(C=1.0, class_weight=None, dual=False, fit_intercept=True,\n",
       "          intercept_scaling=1, max_iter=100, multi_class='warn',\n",
       "          n_jobs=None, penalty='l2', random_state=None, solver='warn',\n",
       "          tol=0.0001, verbose=0, warm_start=False)"
      ]
     },
     "execution_count": 46,
     "metadata": {},
     "output_type": "execute_result"
    }
   ],
   "source": [
    "data2 = data_cat.copy()\n",
    "# data2['Fare'] = data_num['Fare']\n",
    "data2 = pd.concat([data2, Age_bins], axis=1)\n",
    "# data2 = pd.concat([data2, Fare_bins], axis=1)\n",
    "data_mat_sparse = csr_matrix(data2.values)\n",
    "data_mat_train = data_mat_sparse[:len(train)]\n",
    "data_mat_test = data_mat_sparse[len(train):]\n",
    "\n",
    "from sklearn.model_selection import train_test_split\n",
    "X = data_mat_train\n",
    "X_train, X_val, y_train, y_val = train_test_split(X, y, test_size=0.2, random_state=42)\n",
    "\n",
    "model = LogisticRegression()\n",
    "model.fit(X_train, y_train)"
   ]
  },
  {
   "cell_type": "code",
   "execution_count": 47,
   "metadata": {},
   "outputs": [
    {
     "name": "stdout",
     "output_type": "stream",
     "text": [
      "Train/Test split results:\n",
      "LogisticRegression accuracy is 0.793\n",
      "LogisticRegression log_loss is 0.442\n",
      "LogisticRegression auc is 0.870\n"
     ]
    },
    {
     "data": {
      "image/png": "[encoded data removed]",
      "text/plain": [
       "<Figure size 432x288 with 1 Axes>"
      ]
     },
     "metadata": {
      "needs_background": "light"
     },
     "output_type": "display_data"
    },
    {
     "name": "stdout",
     "output_type": "stream",
     "text": [
      "Using a threshold of 0.094 guarantees a sensitivity of 0.959 and a specificity of 0.390, i.e. a false positive rate of 60.95%.\n"
     ]
    }
   ],
   "source": [
    "y_pred = model.predict(X_val)\n",
    "y_pred_proba = model.predict_proba(X_val)[:, 1]\n",
    "[fpr, tpr, thr] = roc_curve(y_val, y_pred_proba)\n",
    "print('Train/Test split results:')\n",
    "print(model.__class__.__name__+\" accuracy is %2.3f\" % accuracy_score(y_val, y_pred))\n",
    "print(model.__class__.__name__+\" log_loss is %2.3f\" % log_loss(y_val, y_pred_proba))\n",
    "print(model.__class__.__name__+\" auc is %2.3f\" % auc(fpr, tpr))\n",
    "\n",
    "idx = np.min(np.where(tpr > 0.95)) # index of the first threshold for which the sensibility > 0.95\n",
    "\n",
    "plt.figure()\n",
    "plt.plot(fpr, tpr, color='coral', label='ROC curve (area = %0.3f)' % auc(fpr, tpr))\n",
    "plt.plot([0, 1], [0, 1], 'k--')\n",
    "plt.plot([0,fpr[idx]], [tpr[idx],tpr[idx]], 'k--', color='blue')\n",
    "plt.plot([fpr[idx],fpr[idx]], [0,tpr[idx]], 'k--', color='blue')\n",
    "plt.xlim([0.0, 1.0])\n",
    "plt.ylim([0.0, 1.05])\n",
    "plt.xlabel('False Positive Rate (1 - specificity)', fontsize=14)\n",
    "plt.ylabel('True Positive Rate (recall)', fontsize=14)\n",
    "plt.title('Receiver operating characteristic (ROC) curve')\n",
    "plt.legend(loc=\"lower right\")\n",
    "plt.show()\n",
    "\n",
    "print(\"Using a threshold of %.3f \" % thr[idx] + \"guarantees a sensitivity of %.3f \" % tpr[idx] +  \n",
    "      \"and a specificity of %.3f\" % (1-fpr[idx]) + \n",
    "      \", i.e. a false positive rate of %.2f%%.\" % (np.array(fpr[idx])*100))"
   ]
  },
  {
   "cell_type": "markdown",
   "metadata": {},
   "source": [
    "### Feature ranking with recursive feature elimination and cross-validation\n",
    "RFECV performs RFE in a cross-validation loop to find the optimal number or the best number of features. Hereafter a recursive feature elimination applied on logistic regression with automatic tuning of the number of features selected with cross-validation."
   ]
  },
  {
   "cell_type": "code",
   "execution_count": 48,
   "metadata": {},
   "outputs": [
    {
     "data": {
      "text/plain": [
       "RFECV(cv=10,\n",
       "   estimator=LogisticRegression(C=1.0, class_weight=None, dual=False, fit_intercept=True,\n",
       "          intercept_scaling=1, max_iter=100, multi_class='warn',\n",
       "          n_jobs=None, penalty='l2', random_state=None, solver='warn',\n",
       "          tol=0.0001, verbose=0, warm_start=False),\n",
       "   min_features_to_select=1, n_jobs=None, scoring='accuracy', step=1,\n",
       "   verbose=0)"
      ]
     },
     "execution_count": 48,
     "metadata": {},
     "output_type": "execute_result"
    }
   ],
   "source": [
    "from sklearn.feature_selection import RFECV\n",
    "\n",
    "import warnings\n",
    "warnings.filterwarnings('ignore')\n",
    "\n",
    "# Create the RFE object and compute a cross-validated score.\n",
    "# The \"accuracy\" scoring is proportional to the number of correct classifications\n",
    "rfecv = RFECV(estimator=LogisticRegression(), step=1, cv=10, scoring='accuracy')\n",
    "rfecv.fit(X, y)\n",
    "\n"
   ]
  },
  {
   "cell_type": "code",
   "execution_count": 49,
   "metadata": {},
   "outputs": [
    {
     "name": "stdout",
     "output_type": "stream",
     "text": [
      "Optimal number of features: 332\n",
      "Selected features: ['Pclass1', 'Pclass2', 'Pclass3', 'Sexfemale', 'Sexmale', 'Age0.42', 'Age0.67', 'Age0.83', 'Age0.92', 'Age1.0', 'Age10.0', 'Age12.0', 'Age14.5', 'Age15.0', 'Age18.0', 'Age2.0', 'Age21.0', 'Age27.0', 'Age28.0', 'Age3.0', 'Age30.0', 'Age30.5', 'Age32.0', 'Age35.0', 'Age36.0', 'Age36.5', 'Age37.0', 'Age4.0', 'Age41.0', 'Age42.0', 'Age43.0', 'Age46.0', 'Age47.0', 'Age48.0', 'Age5.0', 'Age54.0', 'Age57.0', 'Age61.0', 'Age63.0', 'Age64.0', 'Age65.0', 'Age70.0', 'Age71.0', 'Age8.0', 'Age80.0', 'SibSp0', 'SibSp1', 'SibSp2', 'SibSp3', 'SibSp5', 'SibSp8', 'Parch1', 'Parch4', 'Parch5', 'Ticket110465', 'Ticket110564', 'Ticket111369', 'Ticket111426', 'Ticket111427', 'Ticket111428', 'Ticket112277', 'Ticket113051', 'Ticket113055', 'Ticket113056', 'Ticket113501', 'Ticket113503', 'Ticket113509', 'Ticket113760', 'Ticket113773', 'Ticket113781', 'Ticket113784', 'Ticket113786', 'Ticket113788', 'Ticket113794', 'Ticket113804', 'Ticket113806', 'Ticket11668', 'Ticket11751', 'Ticket11753', 'Ticket11765', 'Ticket11774', 'Ticket11967', 'Ticket13049', 'Ticket13213', 'Ticket13567', 'Ticket1601', 'Ticket16988', 'Ticket17453', 'Ticket17474', 'Ticket17764', 'Ticket19928', 'Ticket19943', 'Ticket19947', 'Ticket19952', 'Ticket19988', 'Ticket19996', 'Ticket211536', 'Ticket220367', 'Ticket220845', 'Ticket230080', 'Ticket230433', 'Ticket237671', 'Ticket237798', 'Ticket239853', 'Ticket239865', 'Ticket244252', 'Ticket244270', 'Ticket244358', 'Ticket244373', 'Ticket248698', 'Ticket248738', 'Ticket248747', 'Ticket250644', 'Ticket250647', 'Ticket250649', 'Ticket250651', 'Ticket2620', 'Ticket2625', 'Ticket2627', 'Ticket2651', 'Ticket2653', 'Ticket2661', 'Ticket2663', 'Ticket2665', 'Ticket2666', 'Ticket2668', 'Ticket2677', 'Ticket2678', 'Ticket2689', 'Ticket2691', 'Ticket2699', 'Ticket27042', 'Ticket2908', 'Ticket29106', 'Ticket3101265', 'Ticket3101278', 'Ticket3101281', 'Ticket3101295', 'Ticket3101298', 'Ticket312991', 'Ticket315084', 'Ticket315096', 'Ticket315098', 'Ticket330909', 'Ticket330935', 'Ticket343095', 'Ticket343120', 'Ticket345572', 'Ticket345763', 'Ticket345764', 'Ticket345773', 'Ticket345774', 'Ticket345779', 'Ticket347054', 'Ticket347071', 'Ticket347073', 'Ticket347077', 'Ticket347080', 'Ticket347081', 'Ticket347082', 'Ticket347083', 'Ticket347085', 'Ticket347087', 'Ticket347088', 'Ticket347089', 'Ticket347742', 'Ticket349236', 'Ticket349237', 'Ticket349240', 'Ticket349245', 'Ticket349909', 'Ticket350034', 'Ticket350043', 'Ticket350046', 'Ticket350406', 'Ticket350407', 'Ticket350417', 'Ticket35281', 'Ticket363291', 'Ticket364516', 'Ticket364846', 'Ticket364848', 'Ticket364849', 'Ticket364850', 'Ticket365226', 'Ticket367226', 'Ticket367228', 'Ticket367230', 'Ticket370129', 'Ticket376564', 'Ticket382649', 'Ticket382651', 'Ticket382652', 'Ticket386525', 'Ticket392091', 'Ticket392096', 'Ticket4133', 'Ticket4134', 'Ticket4135', 'Ticket4136', 'Ticket4137', 'Ticket4138', 'Ticket65306', 'Ticket695', 'Ticket7546', 'Ticket7552', 'Ticket7553', 'Ticket7598', 'TicketA/5 3540', 'TicketA/5. 10482', 'TicketA/5. 3336', 'TicketC 17369', 'TicketC 7077', 'TicketC.A. 2315', 'TicketC.A. 33111', 'TicketC.A. 37671', 'TicketCA 2144', 'TicketCA. 2314', 'TicketCA. 2343', 'TicketF.C. 12750', 'TicketLINE', 'TicketPC 17473', 'TicketPC 17474', 'TicketPC 17476', 'TicketPC 17483', 'TicketPC 17485', 'TicketPC 17558', 'TicketPC 17572', 'TicketPC 17590', 'TicketPC 17593', 'TicketPC 17595', 'TicketPC 17596', 'TicketPC 17597', 'TicketPC 17611', 'TicketPC 17754', 'TicketPC 17755', 'TicketPC 17759', 'TicketPP 9549', 'TicketS.O./P.P. 3', 'TicketS.O.C. 14879', 'TicketS.W./PP 752', 'TicketSC/PARIS 2146', 'TicketSC/Paris 2163', 'TicketSOTON/O.Q. 392078', 'TicketSOTON/O.Q. 392087', 'TicketSOTON/OQ 392089', 'TicketSTON/O 2. 3101269', 'TicketSTON/O 2. 3101285', 'TicketSTON/O 2. 3101286', 'TicketSTON/O 2. 3101288', 'TicketSTON/O 2. 3101289', 'TicketSTON/O2. 3101271', 'TicketSTON/O2. 3101279', 'TicketSTON/O2. 3101290', 'TicketSW/PP 751', 'TicketW./C. 6607', 'TicketW./C. 6608', 'TicketW./C. 6609', 'CabinA10', 'CabinA20', 'CabinA23', 'CabinA24', 'CabinA26', 'CabinA31', 'CabinA32', 'CabinA6', 'CabinB102', 'CabinB20', 'CabinB30', 'CabinB37', 'CabinB38', 'CabinB41', 'CabinB49', 'CabinB58 B60', 'CabinB71', 'CabinB86', 'CabinB96 B98', 'CabinC104', 'CabinC106', 'CabinC111', 'CabinC118', 'CabinC124', 'CabinC126', 'CabinC128', 'CabinC148', 'CabinC22 C26', 'CabinC30', 'CabinC46', 'CabinC47', 'CabinC49', 'CabinC52', 'CabinC65', 'CabinC68', 'CabinC70', 'CabinC82', 'CabinC86', 'CabinC91', 'CabinC92', 'CabinC93', 'CabinD10 D12', 'CabinD19', 'CabinD26', 'CabinD30', 'CabinD33', 'CabinD35', 'CabinD45', 'CabinD48', 'CabinD56', 'CabinD6', 'CabinE10', 'CabinE12', 'CabinE121', 'CabinE17', 'CabinE24', 'CabinE25', 'CabinE50', 'CabinE67', 'CabinE77', 'CabinE8', 'CabinF2', 'CabinG6', 'CabinUNK_Cabin', 'EmbarkedS', 'Age_25', 'Age_40', 'Age_45', 'Age_50', 'Age_55', 'Age_60', 'Age_65', 'Age_70', 'Age_75']\n"
     ]
    },
    {
     "data": {
      "image/png": "[encoded data removed]",
      "text/plain": [
       "<Figure size 720x432 with 1 Axes>"
      ]
     },
     "metadata": {
      "needs_background": "light"
     },
     "output_type": "display_data"
    }
   ],
   "source": [
    "print(\"Optimal number of features: %d\" % rfecv.n_features_)\n",
    "print('Selected features: %s' % list(data2.columns[rfecv.support_]))\n",
    "\n",
    "# Plot number of features VS. cross-validation scores\n",
    "plt.figure(figsize=(10,6))\n",
    "plt.xlabel(\"Number of features selected\")\n",
    "plt.ylabel(\"Cross validation score (nb of correct classifications)\")\n",
    "plt.plot(range(1, len(rfecv.grid_scores_) + 1), rfecv.grid_scores_)\n",
    "plt.show()"
   ]
  },
  {
   "cell_type": "code",
   "execution_count": 50,
   "metadata": {},
   "outputs": [],
   "source": [
    "### Adding Feature Interactions"
   ]
  },
  {
   "cell_type": "code",
   "execution_count": 69,
   "metadata": {},
   "outputs": [
    {
     "data": {
      "text/plain": [
       "(1309, 9)"
      ]
     },
     "execution_count": 69,
     "metadata": {},
     "output_type": "execute_result"
    }
   ],
   "source": [
    "data.shape"
   ]
  },
  {
   "cell_type": "code",
   "execution_count": 70,
   "metadata": {},
   "outputs": [
    {
     "data": {
      "text/html": [
       "<div>\n",
       "<style scoped>\n",
       "    .dataframe tbody tr th:only-of-type {\n",
       "        vertical-align: middle;\n",
       "    }\n",
       "\n",
       "    .dataframe tbody tr th {\n",
       "        vertical-align: top;\n",
       "    }\n",
       "\n",
       "    .dataframe thead th {\n",
       "        text-align: right;\n",
       "    }\n",
       "</style>\n",
       "<table border=\"1\" class=\"dataframe\">\n",
       "  <thead>\n",
       "    <tr style=\"text-align: right;\">\n",
       "      <th></th>\n",
       "      <th>Pclass</th>\n",
       "      <th>Sex</th>\n",
       "      <th>Age</th>\n",
       "      <th>SibSp</th>\n",
       "      <th>Parch</th>\n",
       "      <th>Ticket</th>\n",
       "      <th>Fare</th>\n",
       "      <th>Cabin</th>\n",
       "      <th>Embarked</th>\n",
       "    </tr>\n",
       "  </thead>\n",
       "  <tbody>\n",
       "    <tr>\n",
       "      <th>0</th>\n",
       "      <td>3</td>\n",
       "      <td>male</td>\n",
       "      <td>22.0</td>\n",
       "      <td>1</td>\n",
       "      <td>0</td>\n",
       "      <td>A/5 21171</td>\n",
       "      <td>7.2500</td>\n",
       "      <td>NaN</td>\n",
       "      <td>S</td>\n",
       "    </tr>\n",
       "    <tr>\n",
       "      <th>1</th>\n",
       "      <td>1</td>\n",
       "      <td>female</td>\n",
       "      <td>38.0</td>\n",
       "      <td>1</td>\n",
       "      <td>0</td>\n",
       "      <td>PC 17599</td>\n",
       "      <td>71.2833</td>\n",
       "      <td>C85</td>\n",
       "      <td>C</td>\n",
       "    </tr>\n",
       "    <tr>\n",
       "      <th>2</th>\n",
       "      <td>3</td>\n",
       "      <td>female</td>\n",
       "      <td>26.0</td>\n",
       "      <td>0</td>\n",
       "      <td>0</td>\n",
       "      <td>STON/O2. 3101282</td>\n",
       "      <td>7.9250</td>\n",
       "      <td>NaN</td>\n",
       "      <td>S</td>\n",
       "    </tr>\n",
       "    <tr>\n",
       "      <th>3</th>\n",
       "      <td>1</td>\n",
       "      <td>female</td>\n",
       "      <td>35.0</td>\n",
       "      <td>1</td>\n",
       "      <td>0</td>\n",
       "      <td>113803</td>\n",
       "      <td>53.1000</td>\n",
       "      <td>C123</td>\n",
       "      <td>S</td>\n",
       "    </tr>\n",
       "    <tr>\n",
       "      <th>4</th>\n",
       "      <td>3</td>\n",
       "      <td>male</td>\n",
       "      <td>35.0</td>\n",
       "      <td>0</td>\n",
       "      <td>0</td>\n",
       "      <td>373450</td>\n",
       "      <td>8.0500</td>\n",
       "      <td>NaN</td>\n",
       "      <td>S</td>\n",
       "    </tr>\n",
       "  </tbody>\n",
       "</table>\n",
       "</div>"
      ],
      "text/plain": [
       "   Pclass     Sex   Age  SibSp  Parch            Ticket     Fare Cabin  \\\n",
       "0       3    male  22.0      1      0         A/5 21171   7.2500   NaN   \n",
       "1       1  female  38.0      1      0          PC 17599  71.2833   C85   \n",
       "2       3  female  26.0      0      0  STON/O2. 3101282   7.9250   NaN   \n",
       "3       1  female  35.0      1      0            113803  53.1000  C123   \n",
       "4       3    male  35.0      0      0            373450   8.0500   NaN   \n",
       "\n",
       "  Embarked  \n",
       "0        S  \n",
       "1        C  \n",
       "2        S  \n",
       "3        S  \n",
       "4        S  "
      ]
     },
     "execution_count": 70,
     "metadata": {},
     "output_type": "execute_result"
    }
   ],
   "source": [
    "data.head()"
   ]
  },
  {
   "cell_type": "code",
   "execution_count": 71,
   "metadata": {},
   "outputs": [
    {
     "data": {
      "text/plain": [
       "Index(['Pclass', 'Sex', 'Age', 'SibSp', 'Parch', 'Ticket', 'Fare', 'Cabin',\n",
       "       'Embarked'],\n",
       "      dtype='object')"
      ]
     },
     "execution_count": 71,
     "metadata": {},
     "output_type": "execute_result"
    }
   ],
   "source": [
    "data.columns"
   ]
  },
  {
   "cell_type": "code",
   "execution_count": 72,
   "metadata": {},
   "outputs": [
    {
     "data": {
      "text/plain": [
       "['Pclass', 'Sex', 'Age', 'SibSp', 'Parch', 'Ticket', 'Cabin', 'Embarked']"
      ]
     },
     "execution_count": 72,
     "metadata": {},
     "output_type": "execute_result"
    }
   ],
   "source": [
    "cat_cols"
   ]
  },
  {
   "cell_type": "code",
   "execution_count": 73,
   "metadata": {},
   "outputs": [
    {
     "data": {
      "application/vnd.jupyter.widget-view+json": {
       "model_id": "0c820394eedf4278a025abdbeb95d5fe",
       "version_major": 2,
       "version_minor": 0
      },
      "text/plain": [
       "HBox(children=(IntProgress(value=1, bar_style='info', max=1), HTML(value='')))"
      ]
     },
     "metadata": {},
     "output_type": "display_data"
    },
    {
     "name": "stdout",
     "output_type": "stream",
     "text": [
      "0\n",
      "1\n",
      "2\n",
      "3\n",
      "4\n",
      "5\n",
      "6\n",
      "7\n"
     ]
    }
   ],
   "source": [
    "new_cat_cols = []\n",
    "for i, col1 in tqdm_notebook(enumerate(cat_cols)):\n",
    "    print(i)\n",
    "    for col2 in cat_cols[(i+1):]:\n",
    "        col = col1 + '_' + col2\n",
    "        data[col] = data[col1].astype('str') + '_' + data[col2].astype('str')\n",
    "        new_cat_cols.append(col)"
   ]
  },
  {
   "cell_type": "code",
   "execution_count": 74,
   "metadata": {},
   "outputs": [
    {
     "data": {
      "text/plain": [
       "['Pclass_Sex',\n",
       " 'Pclass_Age',\n",
       " 'Pclass_SibSp',\n",
       " 'Pclass_Parch',\n",
       " 'Pclass_Ticket',\n",
       " 'Pclass_Cabin',\n",
       " 'Pclass_Embarked',\n",
       " 'Sex_Age',\n",
       " 'Sex_SibSp',\n",
       " 'Sex_Parch',\n",
       " 'Sex_Ticket',\n",
       " 'Sex_Cabin',\n",
       " 'Sex_Embarked',\n",
       " 'Age_SibSp',\n",
       " 'Age_Parch',\n",
       " 'Age_Ticket',\n",
       " 'Age_Cabin',\n",
       " 'Age_Embarked',\n",
       " 'SibSp_Parch',\n",
       " 'SibSp_Ticket',\n",
       " 'SibSp_Cabin',\n",
       " 'SibSp_Embarked',\n",
       " 'Parch_Ticket',\n",
       " 'Parch_Cabin',\n",
       " 'Parch_Embarked',\n",
       " 'Ticket_Cabin',\n",
       " 'Ticket_Embarked',\n",
       " 'Cabin_Embarked']"
      ]
     },
     "execution_count": 74,
     "metadata": {},
     "output_type": "execute_result"
    }
   ],
   "source": [
    "new_cat_cols"
   ]
  },
  {
   "cell_type": "code",
   "execution_count": 75,
   "metadata": {},
   "outputs": [],
   "source": [
    "cat_cols = cat_cols + new_cat_cols"
   ]
  },
  {
   "cell_type": "code",
   "execution_count": 76,
   "metadata": {},
   "outputs": [
    {
     "data": {
      "application/vnd.jupyter.widget-view+json": {
       "model_id": "2db76411a7ee4e238b547296e3fb1282",
       "version_major": 2,
       "version_minor": 0
      },
      "text/plain": [
       "HBox(children=(IntProgress(value=0, max=36), HTML(value='')))"
      ]
     },
     "metadata": {},
     "output_type": "display_data"
    }
   ],
   "source": [
    "from tqdm import tqdm_notebook\n",
    "data_cat = pd.DataFrame()\n",
    "for col in tqdm_notebook(cat_cols):\n",
    "    data[col] = data[col].map(lambda x: col+str(x))\n",
    "    mydf = pd.get_dummies(data[col])\n",
    "    if len(data_cat) == 0:\n",
    "        data_cat = mydf\n",
    "    else:\n",
    "        data_cat = pd.concat([data_cat, mydf], axis=1)"
   ]
  },
  {
   "cell_type": "code",
   "execution_count": 78,
   "metadata": {},
   "outputs": [
    {
     "data": {
      "text/plain": [
       "LogisticRegression(C=1.0, class_weight=None, dual=False, fit_intercept=True,\n",
       "          intercept_scaling=1, max_iter=100, multi_class='warn',\n",
       "          n_jobs=None, penalty='l2', random_state=None, solver='warn',\n",
       "          tol=0.0001, verbose=0, warm_start=False)"
      ]
     },
     "execution_count": 78,
     "metadata": {},
     "output_type": "execute_result"
    }
   ],
   "source": [
    "data2 = data_cat.copy()\n",
    "# data2['Fare'] = data_num['Fare']\n",
    "data2 = pd.concat([data2, Age_bins], axis=1)\n",
    "# data2 = pd.concat([data2, Fare_bins], axis=1)\n",
    "data_mat_sparse = csr_matrix(data2.values)\n",
    "data_mat_train = data_mat_sparse[:len(train)]\n",
    "data_mat_test = data_mat_sparse[len(train):]\n",
    "\n",
    "from sklearn.model_selection import train_test_split\n",
    "X = data_mat_train\n",
    "X_train, X_val, y_train, y_val = train_test_split(X, y, test_size=0.2, random_state=42)\n",
    "\n",
    "model = LogisticRegression()\n",
    "model.fit(X_train, y_train)"
   ]
  },
  {
   "cell_type": "code",
   "execution_count": 79,
   "metadata": {},
   "outputs": [
    {
     "name": "stdout",
     "output_type": "stream",
     "text": [
      "Train/Test split results:\n",
      "LogisticRegression accuracy is 0.816\n",
      "LogisticRegression log_loss is 0.443\n",
      "LogisticRegression auc is 0.883\n"
     ]
    },
    {
     "data": {
      "image/png": "[encoded data removed]",
      "text/plain": [
       "<Figure size 432x288 with 1 Axes>"
      ]
     },
     "metadata": {
      "needs_background": "light"
     },
     "output_type": "display_data"
    },
    {
     "name": "stdout",
     "output_type": "stream",
     "text": [
      "Using a threshold of 0.072 guarantees a sensitivity of 0.959 and a specificity of 0.514, i.e. a false positive rate of 48.57%.\n"
     ]
    }
   ],
   "source": [
    "y_pred = model.predict(X_val)\n",
    "y_pred_proba = model.predict_proba(X_val)[:, 1]\n",
    "[fpr, tpr, thr] = roc_curve(y_val, y_pred_proba)\n",
    "print('Train/Test split results:')\n",
    "print(model.__class__.__name__+\" accuracy is %2.3f\" % accuracy_score(y_val, y_pred))\n",
    "print(model.__class__.__name__+\" log_loss is %2.3f\" % log_loss(y_val, y_pred_proba))\n",
    "print(model.__class__.__name__+\" auc is %2.3f\" % auc(fpr, tpr))\n",
    "\n",
    "idx = np.min(np.where(tpr > 0.95)) # index of the first threshold for which the sensibility > 0.95\n",
    "\n",
    "plt.figure()\n",
    "plt.plot(fpr, tpr, color='coral', label='ROC curve (area = %0.3f)' % auc(fpr, tpr))\n",
    "plt.plot([0, 1], [0, 1], 'k--')\n",
    "plt.plot([0,fpr[idx]], [tpr[idx],tpr[idx]], 'k--', color='blue')\n",
    "plt.plot([fpr[idx],fpr[idx]], [0,tpr[idx]], 'k--', color='blue')\n",
    "plt.xlim([0.0, 1.0])\n",
    "plt.ylim([0.0, 1.05])\n",
    "plt.xlabel('False Positive Rate (1 - specificity)', fontsize=14)\n",
    "plt.ylabel('True Positive Rate (recall)', fontsize=14)\n",
    "plt.title('Receiver operating characteristic (ROC) curve')\n",
    "plt.legend(loc=\"lower right\")\n",
    "plt.show()\n",
    "\n",
    "print(\"Using a threshold of %.3f \" % thr[idx] + \"guarantees a sensitivity of %.3f \" % tpr[idx] +  \n",
    "      \"and a specificity of %.3f\" % (1-fpr[idx]) + \n",
    "      \", i.e. a false positive rate of %.2f%%.\" % (np.array(fpr[idx])*100))"
   ]
  },
  {
   "cell_type": "code",
   "execution_count": 80,
   "metadata": {},
   "outputs": [
    {
     "name": "stdout",
     "output_type": "stream",
     "text": [
      "Optimal number of features: 4180\n",
      "Selected features: ['Pclass1', 'Pclass2', 'Pclass3', 'Sexfemale', 'Sexmale', 'Age0.42', 'Age0.67', 'Age0.75', 'Age0.83', 'Age0.92', 'Age1.0', 'Age10.0', 'Age11.0', 'Age12.0', 'Age13.0', 'Age14.0', 'Age14.5', 'Age15.0', 'Age18.0', 'Age2.0', 'Age20.0', 'Age21.0', 'Age22.0', 'Age25.0', 'Age27.0', 'Age28.0', 'Age28.5', 'Age29.0', 'Age3.0', 'Age30.0', 'Age30.5', 'Age32.0', 'Age33.0', 'Age34.0', 'Age35.0', 'Age36.0', 'Age36.5', 'Age37.0', 'Age38.0', 'Age4.0', 'Age40.5', 'Age41.0', 'Age42.0', 'Age43.0', 'Age44.0', 'Age45.5', 'Age46.0', 'Age47.0', 'Age48.0', 'Age5.0', 'Age50.0', 'Age54.0', 'Age57.0', 'Age58.0', 'Age6.0', 'Age61.0', 'Age62.0', 'Age63.0', 'Age64.0', 'Age65.0', 'Age70.0', 'Age71.0', 'Age8.0', 'Age80.0', 'SibSp0', 'SibSp1', 'SibSp2', 'SibSp3', 'SibSp5', 'SibSp8', 'Parch0', 'Parch1', 'Parch2', 'Parch3', 'Parch4', 'Ticket110413', 'Ticket110465', 'Ticket110564', 'Ticket111240', 'Ticket111369', 'Ticket111426', 'Ticket111427', 'Ticket111428', 'Ticket112050', 'Ticket112052', 'Ticket112058', 'Ticket112059', 'Ticket112277', 'Ticket112379', 'Ticket113028', 'Ticket113050', 'Ticket113051', 'Ticket113055', 'Ticket113056', 'Ticket113501', 'Ticket113503', 'Ticket113509', 'Ticket113510', 'Ticket113514', 'Ticket113760', 'Ticket113767', 'Ticket113773', 'Ticket113776', 'Ticket113781', 'Ticket113784', 'Ticket113786', 'Ticket113787', 'Ticket113788', 'Ticket113789', 'Ticket113792', 'Ticket113794', 'Ticket113796', 'Ticket113798', 'Ticket113800', 'Ticket113803', 'Ticket113804', 'Ticket113806', 'Ticket113807', 'Ticket11668', 'Ticket11751', 'Ticket11753', 'Ticket11765', 'Ticket11771', 'Ticket11774', 'Ticket11967', 'Ticket13049', 'Ticket13213', 'Ticket13214', 'Ticket13507', 'Ticket13509', 'Ticket13567', 'Ticket14311', 'Ticket14312', 'Ticket14313', 'Ticket1601', 'Ticket16988', 'Ticket17453', 'Ticket17463', 'Ticket17474', 'Ticket17764', 'Ticket19877', 'Ticket19928', 'Ticket19943', 'Ticket19947', 'Ticket19952', 'Ticket19988', 'Ticket19996', 'Ticket2003', 'Ticket211536', 'Ticket220367', 'Ticket220845', 'Ticket226875', 'Ticket228414', 'Ticket230136', 'Ticket237671', 'Ticket237798', 'Ticket239853', 'Ticket239865', 'Ticket244252', 'Ticket244270', 'Ticket244310', 'Ticket244358', 'Ticket244373', 'Ticket248698', 'Ticket248738', 'Ticket248747', 'Ticket250647', 'Ticket250649', 'Ticket250651', 'Ticket2620', 'Ticket2625', 'Ticket2626', 'Ticket2627', 'Ticket2648', 'Ticket2649', 'Ticket2650', 'Ticket2651', 'Ticket2653', 'Ticket2661', 'Ticket2662', 'Ticket2663', 'Ticket2665', 'Ticket2666', 'Ticket2667', 'Ticket2668', 'Ticket2669', 'Ticket2672', 'Ticket2677', 'Ticket2678', 'Ticket2680', 'Ticket2687', 'Ticket2689', 'Ticket2690', 'Ticket2691', 'Ticket2695', 'Ticket2699', 'Ticket27042', 'Ticket2908', 'Ticket29104', 'Ticket29105', 'Ticket29106', 'Ticket3101265', 'Ticket3101278', 'Ticket3101281', 'Ticket3101295', 'Ticket3101298', 'Ticket312991', 'Ticket315082', 'Ticket315084', 'Ticket315096', 'Ticket315098', 'Ticket315153', 'Ticket330909', 'Ticket330919', 'Ticket330923', 'Ticket330931', 'Ticket330932', 'Ticket330935', 'Ticket330958', 'Ticket330959', 'Ticket330980', 'Ticket335677', 'Ticket33638', 'Ticket341826', 'Ticket343095', 'Ticket343120', 'Ticket343276', 'Ticket345572', 'Ticket345763', 'Ticket345764', 'Ticket345773', 'Ticket345774', 'Ticket345779', 'Ticket347054', 'Ticket347063', 'Ticket347067', 'Ticket347071', 'Ticket347073', 'Ticket347077', 'Ticket347080', 'Ticket347081', 'Ticket347082', 'Ticket347083', 'Ticket347085', 'Ticket347087', 'Ticket347088', 'Ticket347089', 'Ticket3474', 'Ticket347470', 'Ticket347742', 'Ticket348121', 'Ticket348123', 'Ticket349213', 'Ticket349219', 'Ticket349236', 'Ticket349237', 'Ticket349240', 'Ticket349242', 'Ticket349244', 'Ticket349245', 'Ticket349909', 'Ticket350034', 'Ticket350043', 'Ticket350046', 'Ticket350404', 'Ticket350406', 'Ticket350407', 'Ticket350417', 'Ticket35273', 'Ticket35281', 'Ticket35851', 'Ticket35852', 'Ticket358585', 'Ticket363291', 'Ticket364516', 'Ticket364846', 'Ticket364848', 'Ticket364849', 'Ticket364850', 'Ticket365226', 'Ticket367226', 'Ticket367228', 'Ticket367229', 'Ticket367230', 'Ticket367231', 'Ticket36866', 'Ticket36963', 'Ticket36973', 'Ticket370129', 'Ticket370370', 'Ticket370371', 'Ticket370373', 'Ticket370375', 'Ticket370376', 'Ticket371362', 'Ticket376564', 'Ticket382649', 'Ticket382651', 'Ticket382652', 'Ticket386525', 'Ticket392091', 'Ticket392096', 'Ticket4133', 'Ticket4134', 'Ticket4135', 'Ticket4136', 'Ticket4137', 'Ticket4138', 'Ticket4579', 'Ticket65306', 'Ticket693', 'Ticket695', 'Ticket7534', 'Ticket7545', 'Ticket7546', 'Ticket7552', 'Ticket7553', 'Ticket7598', 'Ticket8471', 'Ticket9234', 'TicketA/4 48871', 'TicketA/5 3540', 'TicketA/5. 10482', 'TicketA/5. 3336', 'TicketA/5. 3337', 'TicketA/5. 851', 'TicketC 17369', 'TicketC 7077', 'TicketC.A. 18723', 'TicketC.A. 2315', 'TicketC.A. 2673', 'TicketC.A. 31921', 'TicketC.A. 33111', 'TicketC.A. 33112', 'TicketC.A. 37671', 'TicketCA 2144', 'TicketCA. 2314', 'TicketCA. 2343', 'TicketF.C. 12750', 'TicketLINE', 'TicketPC 17318', 'TicketPC 17473', 'TicketPC 17474', 'TicketPC 17475', 'TicketPC 17476', 'TicketPC 17483', 'TicketPC 17485', 'TicketPC 17558', 'TicketPC 17572', 'TicketPC 17590', 'TicketPC 17593', 'TicketPC 17595', 'TicketPC 17596', 'TicketPC 17597', 'TicketPC 17600', 'TicketPC 17601', 'TicketPC 17605', 'TicketPC 17611', 'TicketPC 17612', 'TicketPC 17754', 'TicketPC 17755', 'TicketPC 17758', 'TicketPC 17759', 'TicketPC 17760', 'TicketPC 17761', 'TicketPP 9549', 'TicketS.O./P.P. 3', 'TicketS.O.C. 14879', 'TicketS.W./PP 752', 'TicketSC/PARIS 2131', 'TicketSC/PARIS 2146', 'TicketSC/PARIS 2149', 'TicketSC/PARIS 2167', 'TicketSC/Paris 2123', 'TicketSC/Paris 2163', 'TicketSOTON/O.Q. 392078', 'TicketSOTON/O.Q. 392087', 'TicketSOTON/OQ 392089', 'TicketSTON/O 2. 3101269', 'TicketSTON/O 2. 3101285', 'TicketSTON/O 2. 3101286', 'TicketSTON/O 2. 3101288', 'TicketSTON/O 2. 3101289', 'TicketSTON/O 2. 3101292', 'TicketSTON/O 2. 3101293', 'TicketSTON/O2. 3101271', 'TicketSTON/O2. 3101279', 'TicketSTON/O2. 3101282', 'TicketSTON/O2. 3101283', 'TicketSTON/O2. 3101290', 'TicketSW/PP 751', 'TicketW./C. 14263', 'TicketW./C. 6607', 'TicketW./C. 6608', 'TicketW./C. 6609', 'TicketW.E.P. 5734', 'TicketWE/P 5735', 'CabinA10', 'CabinA14', 'CabinA19', 'CabinA20', 'CabinA23', 'CabinA24', 'CabinA26', 'CabinA31', 'CabinA32', 'CabinA34', 'CabinA36', 'CabinA5', 'CabinA6', 'CabinA7', 'CabinB101', 'CabinB102', 'CabinB19', 'CabinB20', 'CabinB22', 'CabinB30', 'CabinB37', 'CabinB38', 'CabinB41', 'CabinB49', 'CabinB50', 'CabinB58 B60', 'CabinB71', 'CabinB82 B84', 'CabinB86', 'CabinB94', 'CabinB96 B98', 'CabinC104', 'CabinC106', 'CabinC111', 'CabinC118', 'CabinC123', 'CabinC124', 'CabinC126', 'CabinC128', 'CabinC148', 'CabinC2', 'CabinC22 C26', 'CabinC30', 'CabinC46', 'CabinC47', 'CabinC49', 'CabinC52', 'CabinC65', 'CabinC68', 'CabinC70', 'CabinC78', 'CabinC82', 'CabinC83', 'CabinC86', 'CabinC87', 'CabinC91', 'CabinC92', 'CabinC93', 'CabinC95', 'CabinD10 D12', 'CabinD19', 'CabinD26', 'CabinD30', 'CabinD33', 'CabinD35', 'CabinD45', 'CabinD48', 'CabinD49', 'CabinD50', 'CabinD56', 'CabinD6', 'CabinE10', 'CabinE12', 'CabinE121', 'CabinE17', 'CabinE24', 'CabinE25', 'CabinE31', 'CabinE38', 'CabinE44', 'CabinE46', 'CabinE50', 'CabinE67', 'CabinE77', 'CabinE8', 'CabinF G63', 'CabinF G73', 'CabinF33', 'CabinF38', 'CabinF4', 'CabinG6', 'CabinT', 'Cabinnan', 'EmbarkedC', 'EmbarkedQ', 'Pclass_Sex1_female', 'Pclass_Sex1_male', 'Pclass_Sex2_female', 'Pclass_Sex2_male', 'Pclass_Sex3_female', 'Pclass_Sex3_male', 'Pclass_Age1_0.92', 'Pclass_Age1_11.0', 'Pclass_Age1_17.0', 'Pclass_Age1_19.0', 'Pclass_Age1_2.0', 'Pclass_Age1_23.0', 'Pclass_Age1_24.0', 'Pclass_Age1_26.0', 'Pclass_Age1_27.0', 'Pclass_Age1_28.0', 'Pclass_Age1_29.0', 'Pclass_Age1_31.0', 'Pclass_Age1_32.0', 'Pclass_Age1_34.0', 'Pclass_Age1_35.0', 'Pclass_Age1_36.0', 'Pclass_Age1_4.0', 'Pclass_Age1_42.0', 'Pclass_Age1_44.0', 'Pclass_Age1_46.0', 'Pclass_Age1_47.0', 'Pclass_Age1_48.0', 'Pclass_Age1_49.0', 'Pclass_Age1_50.0', 'Pclass_Age1_51.0', 'Pclass_Age1_54.0', 'Pclass_Age1_55.0', 'Pclass_Age1_58.0', 'Pclass_Age1_60.0', 'Pclass_Age1_61.0', 'Pclass_Age1_62.0', 'Pclass_Age1_64.0', 'Pclass_Age1_65.0', 'Pclass_Age1_70.0', 'Pclass_Age1_71.0', 'Pclass_Age1_80.0', 'Pclass_Age1_nan', 'Pclass_Age2_0.67', 'Pclass_Age2_0.83', 'Pclass_Age2_1.0', 'Pclass_Age2_17.0', 'Pclass_Age2_18.0', 'Pclass_Age2_19.0', 'Pclass_Age2_2.0', 'Pclass_Age2_23.0', 'Pclass_Age2_24.0', 'Pclass_Age2_25.0', 'Pclass_Age2_26.0', 'Pclass_Age2_27.0', 'Pclass_Age2_28.0', 'Pclass_Age2_3.0', 'Pclass_Age2_32.0', 'Pclass_Age2_35.0', 'Pclass_Age2_36.0', 'Pclass_Age2_36.5', 'Pclass_Age2_38.0', 'Pclass_Age2_39.0', 'Pclass_Age2_40.0', 'Pclass_Age2_42.0', 'Pclass_Age2_43.0', 'Pclass_Age2_44.0', 'Pclass_Age2_45.0', 'Pclass_Age2_50.0', 'Pclass_Age2_52.0', 'Pclass_Age2_57.0', 'Pclass_Age2_60.0', 'Pclass_Age2_62.0', 'Pclass_Age2_8.0', 'Pclass_Age2_nan', 'Pclass_Age3_0.42', 'Pclass_Age3_0.75', 'Pclass_Age3_1.0', 'Pclass_Age3_10.0', 'Pclass_Age3_11.0', 'Pclass_Age3_12.0', 'Pclass_Age3_13.0', 'Pclass_Age3_14.0', 'Pclass_Age3_14.5', 'Pclass_Age3_15.0', 'Pclass_Age3_16.0', 'Pclass_Age3_17.0', 'Pclass_Age3_20.0', 'Pclass_Age3_21.0', 'Pclass_Age3_22.0', 'Pclass_Age3_23.5', 'Pclass_Age3_24.0', 'Pclass_Age3_25.0', 'Pclass_Age3_26.0', 'Pclass_Age3_27.0', 'Pclass_Age3_28.0', 'Pclass_Age3_28.5', 'Pclass_Age3_29.0', 'Pclass_Age3_3.0', 'Pclass_Age3_30.5', 'Pclass_Age3_31.0', 'Pclass_Age3_33.0', 'Pclass_Age3_34.0', 'Pclass_Age3_34.5', 'Pclass_Age3_35.0', 'Pclass_Age3_37.0', 'Pclass_Age3_38.0', 'Pclass_Age3_39.0', 'Pclass_Age3_4.0', 'Pclass_Age3_40.0', 'Pclass_Age3_40.5', 'Pclass_Age3_41.0', 'Pclass_Age3_42.0', 'Pclass_Age3_43.0', 'Pclass_Age3_44.0', 'Pclass_Age3_45.0', 'Pclass_Age3_47.0', 'Pclass_Age3_48.0', 'Pclass_Age3_49.0', 'Pclass_Age3_5.0', 'Pclass_Age3_51.0', 'Pclass_Age3_63.0', 'Pclass_Age3_8.0', 'Pclass_Age3_nan', 'Pclass_SibSp1_1', 'Pclass_SibSp1_2', 'Pclass_SibSp2_0', 'Pclass_SibSp2_3', 'Pclass_SibSp3_3', 'Pclass_SibSp3_4', 'Pclass_SibSp3_5', 'Pclass_SibSp3_8', 'Pclass_Parch1_0', 'Pclass_Parch1_1', 'Pclass_Parch1_4', 'Pclass_Parch2_0', 'Pclass_Parch2_1', 'Pclass_Parch2_2', 'Pclass_Parch2_3', 'Pclass_Parch3_2', 'Pclass_Parch3_4', 'Pclass_Ticket1_110413', 'Pclass_Ticket1_110465', 'Pclass_Ticket1_110564', 'Pclass_Ticket1_111240', 'Pclass_Ticket1_111369', 'Pclass_Ticket1_111426', 'Pclass_Ticket1_111427', 'Pclass_Ticket1_111428', 'Pclass_Ticket1_112050', 'Pclass_Ticket1_112052', 'Pclass_Ticket1_112058', 'Pclass_Ticket1_112059', 'Pclass_Ticket1_112277', 'Pclass_Ticket1_112379', 'Pclass_Ticket1_113028', 'Pclass_Ticket1_113050', 'Pclass_Ticket1_113051', 'Pclass_Ticket1_113055', 'Pclass_Ticket1_113056', 'Pclass_Ticket1_113059', 'Pclass_Ticket1_113501', 'Pclass_Ticket1_113503', 'Pclass_Ticket1_113509', 'Pclass_Ticket1_113510', 'Pclass_Ticket1_113514', 'Pclass_Ticket1_113760', 'Pclass_Ticket1_113767', 'Pclass_Ticket1_113773', 'Pclass_Ticket1_113776', 'Pclass_Ticket1_113781', 'Pclass_Ticket1_113784', 'Pclass_Ticket1_113786', 'Pclass_Ticket1_113787', 'Pclass_Ticket1_113788', 'Pclass_Ticket1_113789', 'Pclass_Ticket1_113792', 'Pclass_Ticket1_113794', 'Pclass_Ticket1_113796', 'Pclass_Ticket1_113800', 'Pclass_Ticket1_113803', 'Pclass_Ticket1_113804', 'Pclass_Ticket1_113806', 'Pclass_Ticket1_113807', 'Pclass_Ticket1_11751', 'Pclass_Ticket1_11753', 'Pclass_Ticket1_11765', 'Pclass_Ticket1_11771', 'Pclass_Ticket1_11774', 'Pclass_Ticket1_11967', 'Pclass_Ticket1_13049', 'Pclass_Ticket1_13213', 'Pclass_Ticket1_13214', 'Pclass_Ticket1_13507', 'Pclass_Ticket1_13509', 'Pclass_Ticket1_13567', 'Pclass_Ticket1_16988', 'Pclass_Ticket1_17453', 'Pclass_Ticket1_17463', 'Pclass_Ticket1_17474', 'Pclass_Ticket1_17764', 'Pclass_Ticket1_19877', 'Pclass_Ticket1_19928', 'Pclass_Ticket1_19943', 'Pclass_Ticket1_19947', 'Pclass_Ticket1_19952', 'Pclass_Ticket1_19988', 'Pclass_Ticket1_19996', 'Pclass_Ticket1_27042', 'Pclass_Ticket1_33638', 'Pclass_Ticket1_35273', 'Pclass_Ticket1_35281', 'Pclass_Ticket1_36963', 'Pclass_Ticket1_36973', 'Pclass_Ticket1_693', 'Pclass_Ticket1_695', 'Pclass_Ticket1_F.C. 12750', 'Pclass_Ticket1_PC 17318', 'Pclass_Ticket1_PC 17473', 'Pclass_Ticket1_PC 17474', 'Pclass_Ticket1_PC 17475', 'Pclass_Ticket1_PC 17476', 'Pclass_Ticket1_PC 17483', 'Pclass_Ticket1_PC 17485', 'Pclass_Ticket1_PC 17572', 'Pclass_Ticket1_PC 17590', 'Pclass_Ticket1_PC 17593', 'Pclass_Ticket1_PC 17595', 'Pclass_Ticket1_PC 17596', 'Pclass_Ticket1_PC 17597', 'Pclass_Ticket1_PC 17600', 'Pclass_Ticket1_PC 17601', 'Pclass_Ticket1_PC 17604', 'Pclass_Ticket1_PC 17605', 'Pclass_Ticket1_PC 17609', 'Pclass_Ticket1_PC 17611', 'Pclass_Ticket1_PC 17612', 'Pclass_Ticket1_PC 17754', 'Pclass_Ticket1_PC 17755', 'Pclass_Ticket1_PC 17758', 'Pclass_Ticket1_PC 17759', 'Pclass_Ticket1_PC 17760', 'Pclass_Ticket1_PC 17761', 'Pclass_Ticket1_W.E.P. 5734', 'Pclass_Ticket1_WE/P 5735', 'Pclass_Ticket2_11668', 'Pclass_Ticket2_2003', 'Pclass_Ticket2_211536', 'Pclass_Ticket2_220367', 'Pclass_Ticket2_220845', 'Pclass_Ticket2_226875', 'Pclass_Ticket2_228414', 'Pclass_Ticket2_230136', 'Pclass_Ticket2_230434', 'Pclass_Ticket2_237671', 'Pclass_Ticket2_237798', 'Pclass_Ticket2_239853', 'Pclass_Ticket2_239865', 'Pclass_Ticket2_240929', 'Pclass_Ticket2_244252', 'Pclass_Ticket2_244270', 'Pclass_Ticket2_244310', 'Pclass_Ticket2_244358', 'Pclass_Ticket2_244373', 'Pclass_Ticket2_248698', 'Pclass_Ticket2_248738', 'Pclass_Ticket2_248747', 'Pclass_Ticket2_250647', 'Pclass_Ticket2_250649', 'Pclass_Ticket2_250651', 'Pclass_Ticket2_2908', 'Pclass_Ticket2_29104', 'Pclass_Ticket2_29105', 'Pclass_Ticket2_29106', 'Pclass_Ticket2_2926', 'Pclass_Ticket2_C.A. 18723', 'Pclass_Ticket2_C.A. 31921', 'Pclass_Ticket2_C.A. 33111', 'Pclass_Ticket2_C.A. 33112', 'Pclass_Ticket2_S.O./P.P. 3', 'Pclass_Ticket2_S.O.C. 14879', 'Pclass_Ticket2_S.W./PP 752', 'Pclass_Ticket2_SC/PARIS 2146', 'Pclass_Ticket2_SC/PARIS 2167', 'Pclass_Ticket2_SC/Paris 2163', 'Pclass_Ticket2_SW/PP 751', 'Pclass_Ticket2_W./C. 14263', 'Pclass_Ticket3_14311', 'Pclass_Ticket3_14312', 'Pclass_Ticket3_14313', 'Pclass_Ticket3_1601', 'Pclass_Ticket3_2620', 'Pclass_Ticket3_2625', 'Pclass_Ticket3_2626', 'Pclass_Ticket3_2627', 'Pclass_Ticket3_2648', 'Pclass_Ticket3_2649', 'Pclass_Ticket3_2650', 'Pclass_Ticket3_2651', 'Pclass_Ticket3_2653', 'Pclass_Ticket3_2661', 'Pclass_Ticket3_2662', 'Pclass_Ticket3_2663', 'Pclass_Ticket3_2665', 'Pclass_Ticket3_2666', 'Pclass_Ticket3_2668', 'Pclass_Ticket3_2669', 'Pclass_Ticket3_2672', 'Pclass_Ticket3_2677', 'Pclass_Ticket3_2678', 'Pclass_Ticket3_2680', 'Pclass_Ticket3_2683', 'Pclass_Ticket3_2687', 'Pclass_Ticket3_2689', 'Pclass_Ticket3_2690', 'Pclass_Ticket3_2691', 'Pclass_Ticket3_2695', 'Pclass_Ticket3_2699', 'Pclass_Ticket3_3101265', 'Pclass_Ticket3_3101278', 'Pclass_Ticket3_3101281', 'Pclass_Ticket3_3101295', 'Pclass_Ticket3_3101298', 'Pclass_Ticket3_312991', 'Pclass_Ticket3_315082', 'Pclass_Ticket3_315084', 'Pclass_Ticket3_315096', 'Pclass_Ticket3_315098', 'Pclass_Ticket3_315153', 'Pclass_Ticket3_330909', 'Pclass_Ticket3_330919', 'Pclass_Ticket3_330923', 'Pclass_Ticket3_330931', 'Pclass_Ticket3_330932', 'Pclass_Ticket3_330935', 'Pclass_Ticket3_330958', 'Pclass_Ticket3_330959', 'Pclass_Ticket3_330980', 'Pclass_Ticket3_335677', 'Pclass_Ticket3_343095', 'Pclass_Ticket3_343120', 'Pclass_Ticket3_343276', 'Pclass_Ticket3_345572', 'Pclass_Ticket3_345763', 'Pclass_Ticket3_345764', 'Pclass_Ticket3_345773', 'Pclass_Ticket3_345774', 'Pclass_Ticket3_345779', 'Pclass_Ticket3_347054', 'Pclass_Ticket3_347063', 'Pclass_Ticket3_347067', 'Pclass_Ticket3_347068', 'Pclass_Ticket3_347071', 'Pclass_Ticket3_347073', 'Pclass_Ticket3_347077', 'Pclass_Ticket3_347080', 'Pclass_Ticket3_347081', 'Pclass_Ticket3_347082', 'Pclass_Ticket3_347083', 'Pclass_Ticket3_347085', 'Pclass_Ticket3_347087', 'Pclass_Ticket3_347088', 'Pclass_Ticket3_347089', 'Pclass_Ticket3_347470', 'Pclass_Ticket3_347742', 'Pclass_Ticket3_348121', 'Pclass_Ticket3_348123', 'Pclass_Ticket3_348124', 'Pclass_Ticket3_349203', 'Pclass_Ticket3_349213', 'Pclass_Ticket3_349219', 'Pclass_Ticket3_349236', 'Pclass_Ticket3_349237', 'Pclass_Ticket3_349240', 'Pclass_Ticket3_349242', 'Pclass_Ticket3_349244', 'Pclass_Ticket3_349245', 'Pclass_Ticket3_349248', 'Pclass_Ticket3_349909', 'Pclass_Ticket3_350034', 'Pclass_Ticket3_350043', 'Pclass_Ticket3_350046', 'Pclass_Ticket3_350404', 'Pclass_Ticket3_350406', 'Pclass_Ticket3_350407', 'Pclass_Ticket3_350417', 'Pclass_Ticket3_35851', 'Pclass_Ticket3_35852', 'Pclass_Ticket3_363291', 'Pclass_Ticket3_364516', 'Pclass_Ticket3_364846', 'Pclass_Ticket3_364848', 'Pclass_Ticket3_364849', 'Pclass_Ticket3_364850', 'Pclass_Ticket3_365226', 'Pclass_Ticket3_367226', 'Pclass_Ticket3_367228', 'Pclass_Ticket3_367229', 'Pclass_Ticket3_367230', 'Pclass_Ticket3_367231', 'Pclass_Ticket3_36866', 'Pclass_Ticket3_370129', 'Pclass_Ticket3_370370', 'Pclass_Ticket3_370373', 'Pclass_Ticket3_370375', 'Pclass_Ticket3_370376', 'Pclass_Ticket3_371362', 'Pclass_Ticket3_376564', 'Pclass_Ticket3_382649', 'Pclass_Ticket3_382651', 'Pclass_Ticket3_382652', 'Pclass_Ticket3_383121', 'Pclass_Ticket3_386525', 'Pclass_Ticket3_392091', 'Pclass_Ticket3_392096', 'Pclass_Ticket3_4133', 'Pclass_Ticket3_4134', 'Pclass_Ticket3_4135', 'Pclass_Ticket3_4136', 'Pclass_Ticket3_4137', 'Pclass_Ticket3_4138', 'Pclass_Ticket3_4579', 'Pclass_Ticket3_65306', 'Pclass_Ticket3_7534', 'Pclass_Ticket3_7545', 'Pclass_Ticket3_7546', 'Pclass_Ticket3_7552', 'Pclass_Ticket3_7553', 'Pclass_Ticket3_7598', 'Pclass_Ticket3_8471', 'Pclass_Ticket3_9234', 'Pclass_Ticket3_A/4 48871', 'Pclass_Ticket3_A/5 3540', 'Pclass_Ticket3_A/5. 10482', 'Pclass_Ticket3_A/5. 3336', 'Pclass_Ticket3_A/5. 3337', 'Pclass_Ticket3_A/5. 851', 'Pclass_Ticket3_C 17369', 'Pclass_Ticket3_C 7077', 'Pclass_Ticket3_C.A. 2315', 'Pclass_Ticket3_C.A. 2673', 'Pclass_Ticket3_C.A. 37671', 'Pclass_Ticket3_CA 2144', 'Pclass_Ticket3_CA. 2314', 'Pclass_Ticket3_CA. 2343', 'Pclass_Ticket3_LINE', 'Pclass_Ticket3_PP 9549', 'Pclass_Ticket3_SOTON/O.Q. 392078', 'Pclass_Ticket3_SOTON/O.Q. 392087', 'Pclass_Ticket3_SOTON/OQ 392089', 'Pclass_Ticket3_STON/O 2. 3101269', 'Pclass_Ticket3_STON/O 2. 3101285', 'Pclass_Ticket3_STON/O 2. 3101286', 'Pclass_Ticket3_STON/O 2. 3101288', 'Pclass_Ticket3_STON/O 2. 3101289', 'Pclass_Ticket3_STON/O 2. 3101292', 'Pclass_Ticket3_STON/O 2. 3101293', 'Pclass_Ticket3_STON/O2. 3101271', 'Pclass_Ticket3_STON/O2. 3101279', 'Pclass_Ticket3_STON/O2. 3101282', 'Pclass_Ticket3_STON/O2. 3101283', 'Pclass_Ticket3_STON/O2. 3101290', 'Pclass_Ticket3_W./C. 6607', 'Pclass_Ticket3_W./C. 6608', 'Pclass_Ticket3_W./C. 6609', 'Pclass_Cabin1_A10', 'Pclass_Cabin1_A14', 'Pclass_Cabin1_A19', 'Pclass_Cabin1_A20', 'Pclass_Cabin1_A23', 'Pclass_Cabin1_A24', 'Pclass_Cabin1_A26', 'Pclass_Cabin1_A31', 'Pclass_Cabin1_A32', 'Pclass_Cabin1_A34', 'Pclass_Cabin1_A36', 'Pclass_Cabin1_A5', 'Pclass_Cabin1_A6', 'Pclass_Cabin1_A7', 'Pclass_Cabin1_B101', 'Pclass_Cabin1_B102', 'Pclass_Cabin1_B19', 'Pclass_Cabin1_B20', 'Pclass_Cabin1_B22', 'Pclass_Cabin1_B30', 'Pclass_Cabin1_B37', 'Pclass_Cabin1_B38', 'Pclass_Cabin1_B41', 'Pclass_Cabin1_B49', 'Pclass_Cabin1_B50', 'Pclass_Cabin1_B58 B60', 'Pclass_Cabin1_B71', 'Pclass_Cabin1_B86', 'Pclass_Cabin1_B94', 'Pclass_Cabin1_B96 B98', 'Pclass_Cabin1_C104', 'Pclass_Cabin1_C106', 'Pclass_Cabin1_C111', 'Pclass_Cabin1_C118', 'Pclass_Cabin1_C123', 'Pclass_Cabin1_C124', 'Pclass_Cabin1_C126', 'Pclass_Cabin1_C128', 'Pclass_Cabin1_C148', 'Pclass_Cabin1_C2', 'Pclass_Cabin1_C22 C26', 'Pclass_Cabin1_C30', 'Pclass_Cabin1_C46', 'Pclass_Cabin1_C47', 'Pclass_Cabin1_C49', 'Pclass_Cabin1_C52', 'Pclass_Cabin1_C65', 'Pclass_Cabin1_C68', 'Pclass_Cabin1_C70', 'Pclass_Cabin1_C78', 'Pclass_Cabin1_C82', 'Pclass_Cabin1_C83', 'Pclass_Cabin1_C86', 'Pclass_Cabin1_C87', 'Pclass_Cabin1_C91', 'Pclass_Cabin1_C92', 'Pclass_Cabin1_C93', 'Pclass_Cabin1_C95', 'Pclass_Cabin1_D10 D12', 'Pclass_Cabin1_D19', 'Pclass_Cabin1_D26', 'Pclass_Cabin1_D30', 'Pclass_Cabin1_D33', 'Pclass_Cabin1_D35', 'Pclass_Cabin1_D45', 'Pclass_Cabin1_D48', 'Pclass_Cabin1_D49', 'Pclass_Cabin1_D50', 'Pclass_Cabin1_D6', 'Pclass_Cabin1_E12', 'Pclass_Cabin1_E17', 'Pclass_Cabin1_E24', 'Pclass_Cabin1_E25', 'Pclass_Cabin1_E31', 'Pclass_Cabin1_E38', 'Pclass_Cabin1_E44', 'Pclass_Cabin1_E46', 'Pclass_Cabin1_E50', 'Pclass_Cabin1_E67', 'Pclass_Cabin1_E8', 'Pclass_Cabin1_T', 'Pclass_Cabin1_nan', 'Pclass_Cabin2_D56', 'Pclass_Cabin2_E77', 'Pclass_Cabin2_F33', 'Pclass_Cabin2_F4', 'Pclass_Cabin3_E10', 'Pclass_Cabin3_E121', 'Pclass_Cabin3_F G63', 'Pclass_Cabin3_F G73', 'Pclass_Cabin3_F38', 'Pclass_Cabin3_G6', 'Pclass_Cabin3_nan', 'Pclass_Embarked1_C', 'Pclass_Embarked1_Q', 'Pclass_Embarked1_S', 'Pclass_Embarked2_C', 'Pclass_Embarked3_C', 'Pclass_Embarked3_Q', 'Pclass_Embarked3_S', 'Sex_Agefemale_0.75', 'Sex_Agefemale_1.0', 'Sex_Agefemale_10.0', 'Sex_Agefemale_13.0', 'Sex_Agefemale_14.5', 'Sex_Agefemale_15.0', 'Sex_Agefemale_16.0', 'Sex_Agefemale_17.0', 'Sex_Agefemale_18.0', 'Sex_Agefemale_19.0', 'Sex_Agefemale_2.0', 'Sex_Agefemale_20.0', 'Sex_Agefemale_22.0', 'Sex_Agefemale_23.0', 'Sex_Agefemale_24.0', 'Sex_Agefemale_25.0', 'Sex_Agefemale_26.0', 'Sex_Agefemale_27.0', 'Sex_Agefemale_28.0', 'Sex_Agefemale_3.0', 'Sex_Agefemale_30.5', 'Sex_Agefemale_32.0', 'Sex_Agefemale_33.0', 'Sex_Agefemale_34.0', 'Sex_Agefemale_35.0', 'Sex_Agefemale_36.0', 'Sex_Agefemale_37.0', 'Sex_Agefemale_4.0', 'Sex_Agefemale_40.0', 'Sex_Agefemale_41.0', 'Sex_Agefemale_42.0', 'Sex_Agefemale_44.0', 'Sex_Agefemale_45.0', 'Sex_Agefemale_5.0', 'Sex_Agefemale_50.0', 'Sex_Agefemale_54.0', 'Sex_Agefemale_57.0', 'Sex_Agefemale_58.0', 'Sex_Agefemale_63.0', 'Sex_Agefemale_9.0', 'Sex_Agefemale_nan', 'Sex_Agemale_0.42', 'Sex_Agemale_0.67', 'Sex_Agemale_0.83', 'Sex_Agemale_0.92', 'Sex_Agemale_1.0', 'Sex_Agemale_11.0', 'Sex_Agemale_12.0', 'Sex_Agemale_15.0', 'Sex_Agemale_16.0', 'Sex_Agemale_17.0', 'Sex_Agemale_18.0', 'Sex_Agemale_19.0', 'Sex_Agemale_2.0', 'Sex_Agemale_20.0', 'Sex_Agemale_22.0', 'Sex_Agemale_23.0', 'Sex_Agemale_24.0', 'Sex_Agemale_25.0', 'Sex_Agemale_27.0', 'Sex_Agemale_28.0', 'Sex_Agemale_28.5', 'Sex_Agemale_29.0', 'Sex_Agemale_3.0', 'Sex_Agemale_30.0', 'Sex_Agemale_31.0', 'Sex_Agemale_32.0', 'Sex_Agemale_33.0', 'Sex_Agemale_34.5', 'Sex_Agemale_36.0', 'Sex_Agemale_36.5', 'Sex_Agemale_37.0', 'Sex_Agemale_39.0', 'Sex_Agemale_4.0', 'Sex_Agemale_40.0', 'Sex_Agemale_40.5', 'Sex_Agemale_42.0', 'Sex_Agemale_43.0', 'Sex_Agemale_44.0', 'Sex_Agemale_45.0', 'Sex_Agemale_45.5', 'Sex_Agemale_46.0', 'Sex_Agemale_47.0', 'Sex_Agemale_48.0', 'Sex_Agemale_52.0', 'Sex_Agemale_54.0', 'Sex_Agemale_55.0', 'Sex_Agemale_58.0', 'Sex_Agemale_6.0', 'Sex_Agemale_61.0', 'Sex_Agemale_62.0', 'Sex_Agemale_64.0', 'Sex_Agemale_65.0', 'Sex_Agemale_70.0', 'Sex_Agemale_71.0', 'Sex_Agemale_8.0', 'Sex_Agemale_80.0', 'Sex_Agemale_9.0', 'Sex_Agemale_nan', 'Sex_SibSpfemale_0', 'Sex_SibSpfemale_1', 'Sex_SibSpfemale_2', 'Sex_SibSpfemale_3', 'Sex_SibSpfemale_4', 'Sex_SibSpfemale_8', 'Sex_SibSpmale_0', 'Sex_SibSpmale_2', 'Sex_SibSpmale_3', 'Sex_SibSpmale_4', 'Sex_SibSpmale_5', 'Sex_Parchfemale_0', 'Sex_Parchfemale_1', 'Sex_Parchfemale_2', 'Sex_Parchfemale_3', 'Sex_Parchfemale_4', 'Sex_Parchmale_0', 'Sex_Parchmale_1', 'Sex_Parchmale_2', 'Sex_Parchmale_4', 'Sex_Ticketfemale_110413', 'Sex_Ticketfemale_113781', 'Sex_Ticketfemale_11668', 'Sex_Ticketfemale_14311', 'Sex_Ticketfemale_14312', 'Sex_Ticketfemale_14313', 'Sex_Ticketfemale_19950', 'Sex_Ticketfemale_2003', 'Sex_Ticketfemale_220845', 'Sex_Ticketfemale_228414', 'Sex_Ticketfemale_237671', 'Sex_Ticketfemale_244252', 'Sex_Ticketfemale_244367', 'Sex_Ticketfemale_248747', 'Sex_Ticketfemale_250651', 'Sex_Ticketfemale_2626', 'Sex_Ticketfemale_2627', 'Sex_Ticketfemale_2649', 'Sex_Ticketfemale_2650', 'Sex_Ticketfemale_2651', 'Sex_Ticketfemale_2659', 'Sex_Ticketfemale_2665', 'Sex_Ticketfemale_2666', 'Sex_Ticketfemale_2668', 'Sex_Ticketfemale_2678', 'Sex_Ticketfemale_2687', 'Sex_Ticketfemale_2689', 'Sex_Ticketfemale_2691', 'Sex_Ticketfemale_29105', 'Sex_Ticketfemale_2926', 'Sex_Ticketfemale_3101265', 'Sex_Ticketfemale_3101278', 'Sex_Ticketfemale_3101281', 'Sex_Ticketfemale_3101295', 'Sex_Ticketfemale_3101298', 'Sex_Ticketfemale_31027', 'Sex_Ticketfemale_315084', 'Sex_Ticketfemale_315096', 'Sex_Ticketfemale_315153', 'Sex_Ticketfemale_330909', 'Sex_Ticketfemale_330919', 'Sex_Ticketfemale_330923', 'Sex_Ticketfemale_330931', 'Sex_Ticketfemale_330932', 'Sex_Ticketfemale_330935', 'Sex_Ticketfemale_330958', 'Sex_Ticketfemale_330959', 'Sex_Ticketfemale_330980', 'Sex_Ticketfemale_335677', 'Sex_Ticketfemale_343095', 'Sex_Ticketfemale_343120', 'Sex_Ticketfemale_345572', 'Sex_Ticketfemale_345763', 'Sex_Ticketfemale_345764', 'Sex_Ticketfemale_345773', 'Sex_Ticketfemale_347054', 'Sex_Ticketfemale_347071', 'Sex_Ticketfemale_347073', 'Sex_Ticketfemale_347077', 'Sex_Ticketfemale_347080', 'Sex_Ticketfemale_347081', 'Sex_Ticketfemale_347082', 'Sex_Ticketfemale_347085', 'Sex_Ticketfemale_347087', 'Sex_Ticketfemale_347088', 'Sex_Ticketfemale_347470', 'Sex_Ticketfemale_347742', 'Sex_Ticketfemale_349236', 'Sex_Ticketfemale_349237', 'Sex_Ticketfemale_349244', 'Sex_Ticketfemale_349245', 'Sex_Ticketfemale_349909', 'Sex_Ticketfemale_350046', 'Sex_Ticketfemale_350406', 'Sex_Ticketfemale_350407', 'Sex_Ticketfemale_35851', 'Sex_Ticketfemale_35852', 'Sex_Ticketfemale_363291', 'Sex_Ticketfemale_364516', 'Sex_Ticketfemale_364846', 'Sex_Ticketfemale_364848', 'Sex_Ticketfemale_364849', 'Sex_Ticketfemale_364850', 'Sex_Ticketfemale_365226', 'Sex_Ticketfemale_367230', 'Sex_Ticketfemale_367231', 'Sex_Ticketfemale_36866', 'Sex_Ticketfemale_370129', 'Sex_Ticketfemale_370365', 'Sex_Ticketfemale_370370', 'Sex_Ticketfemale_370373', 'Sex_Ticketfemale_370375', 'Sex_Ticketfemale_371110', 'Sex_Ticketfemale_376564', 'Sex_Ticketfemale_382649', 'Sex_Ticketfemale_382652', 'Sex_Ticketfemale_386525', 'Sex_Ticketfemale_392091', 'Sex_Ticketfemale_4133', 'Sex_Ticketfemale_4134', 'Sex_Ticketfemale_4135', 'Sex_Ticketfemale_4136', 'Sex_Ticketfemale_4137', 'Sex_Ticketfemale_4138', 'Sex_Ticketfemale_7546', 'Sex_Ticketfemale_7552', 'Sex_Ticketfemale_7553', 'Sex_Ticketfemale_9234', 'Sex_Ticketfemale_A/5. 3336', 'Sex_Ticketfemale_A/5. 3337', 'Sex_Ticketfemale_C 7077', 'Sex_Ticketfemale_C.A. 2673', 'Sex_Ticketfemale_C.A. 34651', 'Sex_Ticketfemale_CA 2144', 'Sex_Ticketfemale_CA. 2314', 'Sex_Ticketfemale_CA. 2343', 'Sex_Ticketfemale_PC 17558', 'Sex_Ticketfemale_PC 17595', 'Sex_Ticketfemale_PP 9549', 'Sex_Ticketfemale_S.O./P.P. 3', 'Sex_Ticketfemale_SC/PARIS 2149', 'Sex_Ticketfemale_SOTON/O.Q. 392087', 'Sex_Ticketfemale_STON/O2. 3101271', 'Sex_Ticketfemale_STON/O2. 3101279', 'Sex_Ticketfemale_STON/O2. 3101282', 'Sex_Ticketfemale_STON/O2. 3101283', 'Sex_Ticketfemale_STON/O2. 3101290', 'Sex_Ticketfemale_W./C. 6607', 'Sex_Ticketfemale_W./C. 6608', 'Sex_Ticketfemale_W./C. 6609', 'Sex_Ticketmale_110413', 'Sex_Ticketmale_110465', 'Sex_Ticketmale_110564', 'Sex_Ticketmale_111240', 'Sex_Ticketmale_111369', 'Sex_Ticketmale_111426', 'Sex_Ticketmale_111427', 'Sex_Ticketmale_111428', 'Sex_Ticketmale_112050', 'Sex_Ticketmale_112052', 'Sex_Ticketmale_112058', 'Sex_Ticketmale_112059', 'Sex_Ticketmale_112277', 'Sex_Ticketmale_112379', 'Sex_Ticketmale_113028', 'Sex_Ticketmale_113043', 'Sex_Ticketmale_113050', 'Sex_Ticketmale_113051', 'Sex_Ticketmale_113055', 'Sex_Ticketmale_113056', 'Sex_Ticketmale_113059', 'Sex_Ticketmale_113501', 'Sex_Ticketmale_113503', 'Sex_Ticketmale_113509', 'Sex_Ticketmale_113510', 'Sex_Ticketmale_113514', 'Sex_Ticketmale_113760', 'Sex_Ticketmale_113767', 'Sex_Ticketmale_113773', 'Sex_Ticketmale_113776', 'Sex_Ticketmale_113781', 'Sex_Ticketmale_113784', 'Sex_Ticketmale_113786', 'Sex_Ticketmale_113787', 'Sex_Ticketmale_113788', 'Sex_Ticketmale_113789', 'Sex_Ticketmale_113792', 'Sex_Ticketmale_113794', 'Sex_Ticketmale_113796', 'Sex_Ticketmale_113798', 'Sex_Ticketmale_113800', 'Sex_Ticketmale_113803', 'Sex_Ticketmale_113804', 'Sex_Ticketmale_113806', 'Sex_Ticketmale_113807', 'Sex_Ticketmale_11751', 'Sex_Ticketmale_11753', 'Sex_Ticketmale_11765', 'Sex_Ticketmale_11771', 'Sex_Ticketmale_11774', 'Sex_Ticketmale_11967', 'Sex_Ticketmale_12233', 'Sex_Ticketmale_13049', 'Sex_Ticketmale_13213', 'Sex_Ticketmale_13214', 'Sex_Ticketmale_13507', 'Sex_Ticketmale_13509', 'Sex_Ticketmale_13567', 'Sex_Ticketmale_1601', 'Sex_Ticketmale_16988', 'Sex_Ticketmale_17453', 'Sex_Ticketmale_17463', 'Sex_Ticketmale_17474', 'Sex_Ticketmale_17764', 'Sex_Ticketmale_19877', 'Sex_Ticketmale_19928', 'Sex_Ticketmale_19943', 'Sex_Ticketmale_19947', 'Sex_Ticketmale_19950', 'Sex_Ticketmale_19952', 'Sex_Ticketmale_19988', 'Sex_Ticketmale_19996', 'Sex_Ticketmale_211536', 'Sex_Ticketmale_220367', 'Sex_Ticketmale_230080', 'Sex_Ticketmale_230136', 'Sex_Ticketmale_237798', 'Sex_Ticketmale_239853', 'Sex_Ticketmale_239865', 'Sex_Ticketmale_244270', 'Sex_Ticketmale_244310', 'Sex_Ticketmale_244358', 'Sex_Ticketmale_244373', 'Sex_Ticketmale_248698', 'Sex_Ticketmale_248727', 'Sex_Ticketmale_248738', 'Sex_Ticketmale_250647', 'Sex_Ticketmale_250649', 'Sex_Ticketmale_2620', 'Sex_Ticketmale_2625', 'Sex_Ticketmale_2648', 'Sex_Ticketmale_2651', 'Sex_Ticketmale_2653', 'Sex_Ticketmale_2659', 'Sex_Ticketmale_2661', 'Sex_Ticketmale_2662', 'Sex_Ticketmale_2663', 'Sex_Ticketmale_2669', 'Sex_Ticketmale_2672', 'Sex_Ticketmale_2677', 'Sex_Ticketmale_2680', 'Sex_Ticketmale_2690', 'Sex_Ticketmale_2695', 'Sex_Ticketmale_2699', 'Sex_Ticketmale_27042', 'Sex_Ticketmale_28206', 'Sex_Ticketmale_2908', 'Sex_Ticketmale_29104', 'Sex_Ticketmale_29106', 'Sex_Ticketmale_29750', 'Sex_Ticketmale_3101278', 'Sex_Ticketmale_3101295', 'Sex_Ticketmale_312991', 'Sex_Ticketmale_315082', 'Sex_Ticketmale_315098', 'Sex_Ticketmale_335097', 'Sex_Ticketmale_33638', 'Sex_Ticketmale_343276', 'Sex_Ticketmale_345774', 'Sex_Ticketmale_345779', 'Sex_Ticketmale_3460', 'Sex_Ticketmale_347063', 'Sex_Ticketmale_347067', 'Sex_Ticketmale_347082', 'Sex_Ticketmale_347083', 'Sex_Ticketmale_347088', 'Sex_Ticketmale_347089', 'Sex_Ticketmale_347742', 'Sex_Ticketmale_348121', 'Sex_Ticketmale_348123', 'Sex_Ticketmale_349213', 'Sex_Ticketmale_349219', 'Sex_Ticketmale_349224', 'Sex_Ticketmale_349240', 'Sex_Ticketmale_349242', 'Sex_Ticketmale_350034', 'Sex_Ticketmale_350043', 'Sex_Ticketmale_350417', 'Sex_Ticketmale_35273', 'Sex_Ticketmale_35281', 'Sex_Ticketmale_363291', 'Sex_Ticketmale_367226', 'Sex_Ticketmale_367228', 'Sex_Ticketmale_367229', 'Sex_Ticketmale_36963', 'Sex_Ticketmale_36973', 'Sex_Ticketmale_370365', 'Sex_Ticketmale_370376', 'Sex_Ticketmale_371110', 'Sex_Ticketmale_371362', 'Sex_Ticketmale_376564', 'Sex_Ticketmale_382651', 'Sex_Ticketmale_382652', 'Sex_Ticketmale_383121', 'Sex_Ticketmale_392096', 'Sex_Ticketmale_4579', 'Sex_Ticketmale_65306', 'Sex_Ticketmale_693', 'Sex_Ticketmale_695', 'Sex_Ticketmale_7534', 'Sex_Ticketmale_7545', 'Sex_Ticketmale_7598', 'Sex_Ticketmale_8471', 'Sex_Ticketmale_A/4 48871', 'Sex_Ticketmale_A/5 3540', 'Sex_Ticketmale_A/5. 10482', 'Sex_Ticketmale_A/5. 851', 'Sex_Ticketmale_C 17369', 'Sex_Ticketmale_C.A. 18723', 'Sex_Ticketmale_C.A. 2315', 'Sex_Ticketmale_C.A. 2673', 'Sex_Ticketmale_C.A. 31921', 'Sex_Ticketmale_C.A. 33111', 'Sex_Ticketmale_C.A. 33112', 'Sex_Ticketmale_C.A. 34651', 'Sex_Ticketmale_C.A. 37671', 'Sex_Ticketmale_CA 2144', 'Sex_Ticketmale_F.C. 12750', 'Sex_Ticketmale_F.C.C. 13529', 'Sex_Ticketmale_LINE', 'Sex_Ticketmale_PC 17318', 'Sex_Ticketmale_PC 17473', 'Sex_Ticketmale_PC 17474', 'Sex_Ticketmale_PC 17475', 'Sex_Ticketmale_PC 17476', 'Sex_Ticketmale_PC 17483', 'Sex_Ticketmale_PC 17485', 'Sex_Ticketmale_PC 17558', 'Sex_Ticketmale_PC 17572', 'Sex_Ticketmale_PC 17582', 'Sex_Ticketmale_PC 17590', 'Sex_Ticketmale_PC 17593', 'Sex_Ticketmale_PC 17596', 'Sex_Ticketmale_PC 17597', 'Sex_Ticketmale_PC 17600', 'Sex_Ticketmale_PC 17601', 'Sex_Ticketmale_PC 17604', 'Sex_Ticketmale_PC 17605', 'Sex_Ticketmale_PC 17611', 'Sex_Ticketmale_PC 17612', 'Sex_Ticketmale_PC 17754', 'Sex_Ticketmale_PC 17755', 'Sex_Ticketmale_PC 17757', 'Sex_Ticketmale_PC 17758', 'Sex_Ticketmale_PC 17759', 'Sex_Ticketmale_PC 17760', 'Sex_Ticketmale_PC 17761', 'Sex_Ticketmale_S.O.C. 14879', 'Sex_Ticketmale_S.W./PP 752', 'Sex_Ticketmale_SC/PARIS 2131', 'Sex_Ticketmale_SC/PARIS 2146', 'Sex_Ticketmale_SC/PARIS 2167', 'Sex_Ticketmale_SC/Paris 2123', 'Sex_Ticketmale_SC/Paris 2163', 'Sex_Ticketmale_SOTON/O.Q. 392078', 'Sex_Ticketmale_SOTON/OQ 392089', 'Sex_Ticketmale_STON/O 2. 3101269', 'Sex_Ticketmale_STON/O 2. 3101285', 'Sex_Ticketmale_STON/O 2. 3101286', 'Sex_Ticketmale_STON/O 2. 3101288', 'Sex_Ticketmale_STON/O 2. 3101289', 'Sex_Ticketmale_STON/O 2. 3101292', 'Sex_Ticketmale_STON/O 2. 3101293', 'Sex_Ticketmale_SW/PP 751', 'Sex_Ticketmale_W./C. 14263', 'Sex_Ticketmale_W.E.P. 5734', 'Sex_Ticketmale_WE/P 5735', 'Sex_Cabinfemale_B58 B60', 'Sex_Cabinfemale_C22 C26', 'Sex_Cabinfemale_C23 C25 C27', 'Sex_Cabinfemale_C49', 'Sex_Cabinfemale_E77', 'Sex_Cabinfemale_F33', 'Sex_Cabinfemale_G6', 'Sex_Cabinfemale_nan', 'Sex_Cabinmale_A10', 'Sex_Cabinmale_A14', 'Sex_Cabinmale_A19', 'Sex_Cabinmale_A20', 'Sex_Cabinmale_A23', 'Sex_Cabinmale_A24', 'Sex_Cabinmale_A26', 'Sex_Cabinmale_A31', 'Sex_Cabinmale_A32', 'Sex_Cabinmale_A34', 'Sex_Cabinmale_A36', 'Sex_Cabinmale_A5', 'Sex_Cabinmale_A6', 'Sex_Cabinmale_A7', 'Sex_Cabinmale_B101', 'Sex_Cabinmale_B102', 'Sex_Cabinmale_B19', 'Sex_Cabinmale_B20', 'Sex_Cabinmale_B22', 'Sex_Cabinmale_B30', 'Sex_Cabinmale_B37', 'Sex_Cabinmale_B38', 'Sex_Cabinmale_B41', 'Sex_Cabinmale_B49', 'Sex_Cabinmale_B50', 'Sex_Cabinmale_B58 B60', 'Sex_Cabinmale_B71', 'Sex_Cabinmale_B86', 'Sex_Cabinmale_B94', 'Sex_Cabinmale_B96 B98', 'Sex_Cabinmale_C104', 'Sex_Cabinmale_C106', 'Sex_Cabinmale_C111', 'Sex_Cabinmale_C118', 'Sex_Cabinmale_C123', 'Sex_Cabinmale_C124', 'Sex_Cabinmale_C126', 'Sex_Cabinmale_C128', 'Sex_Cabinmale_C148', 'Sex_Cabinmale_C2', 'Sex_Cabinmale_C22 C26', 'Sex_Cabinmale_C23 C25 C27', 'Sex_Cabinmale_C30', 'Sex_Cabinmale_C46', 'Sex_Cabinmale_C47', 'Sex_Cabinmale_C52', 'Sex_Cabinmale_C65', 'Sex_Cabinmale_C68', 'Sex_Cabinmale_C70', 'Sex_Cabinmale_C78', 'Sex_Cabinmale_C82', 'Sex_Cabinmale_C83', 'Sex_Cabinmale_C86', 'Sex_Cabinmale_C87', 'Sex_Cabinmale_C91', 'Sex_Cabinmale_C92', 'Sex_Cabinmale_C93', 'Sex_Cabinmale_C95', 'Sex_Cabinmale_D', 'Sex_Cabinmale_D10 D12', 'Sex_Cabinmale_D19', 'Sex_Cabinmale_D26', 'Sex_Cabinmale_D30', 'Sex_Cabinmale_D33', 'Sex_Cabinmale_D35', 'Sex_Cabinmale_D45', 'Sex_Cabinmale_D48', 'Sex_Cabinmale_D49', 'Sex_Cabinmale_D50', 'Sex_Cabinmale_D56', 'Sex_Cabinmale_D6', 'Sex_Cabinmale_E10', 'Sex_Cabinmale_E12', 'Sex_Cabinmale_E121', 'Sex_Cabinmale_E17', 'Sex_Cabinmale_E24', 'Sex_Cabinmale_E25', 'Sex_Cabinmale_E31', 'Sex_Cabinmale_E38', 'Sex_Cabinmale_E44', 'Sex_Cabinmale_E46', 'Sex_Cabinmale_E50', 'Sex_Cabinmale_E67', 'Sex_Cabinmale_E8', 'Sex_Cabinmale_F G63', 'Sex_Cabinmale_F G73', 'Sex_Cabinmale_F4', 'Sex_Cabinmale_T', 'Sex_Cabinmale_nan', 'Sex_Embarkedfemale_C', 'Sex_Embarkedfemale_Q', 'Sex_Embarkedmale_Q', 'Sex_Embarkedmale_S', 'Age_SibSp0.42_0', 'Age_SibSp0.67_1', 'Age_SibSp0.75_2', 'Age_SibSp0.83_0', 'Age_SibSp0.83_1', 'Age_SibSp0.92_1', 'Age_SibSp1.0_0', 'Age_SibSp1.0_1', 'Age_SibSp1.0_2', 'Age_SibSp1.0_5', 'Age_SibSp10.0_0', 'Age_SibSp11.0_0', 'Age_SibSp11.0_1', 'Age_SibSp12.0_1', 'Age_SibSp13.0_0', 'Age_SibSp14.0_0', 'Age_SibSp14.0_1', 'Age_SibSp14.5_1', 'Age_SibSp15.0_0', 'Age_SibSp16.0_0', 'Age_SibSp16.0_1', 'Age_SibSp17.0_0', 'Age_SibSp17.0_1', 'Age_SibSp17.0_4', 'Age_SibSp18.0_0', 'Age_SibSp18.0_1', 'Age_SibSp18.0_2', 'Age_SibSp19.0_0', 'Age_SibSp19.0_1', 'Age_SibSp19.0_3', 'Age_SibSp20.0_0', 'Age_SibSp20.0_1', 'Age_SibSp21.0_1', 'Age_SibSp23.0_2', 'Age_SibSp23.0_3', 'Age_SibSp23.5_0', 'Age_SibSp24.0_0', 'Age_SibSp24.0_1', 'Age_SibSp25.0_0', 'Age_SibSp26.0_0', 'Age_SibSp26.0_1', 'Age_SibSp27.0_0', 'Age_SibSp27.0_1', 'Age_SibSp28.0_0', 'Age_SibSp28.5_0', 'Age_SibSp29.0_0', 'Age_SibSp29.0_1', 'Age_SibSp3.0_1', 'Age_SibSp3.0_3', 'Age_SibSp3.0_4', 'Age_SibSp30.0_1', 'Age_SibSp30.0_3', 'Age_SibSp30.5_0', 'Age_SibSp31.0_0', 'Age_SibSp31.0_1', 'Age_SibSp32.0_0', 'Age_SibSp32.0_2', 'Age_SibSp32.5_1', 'Age_SibSp33.0_0', 'Age_SibSp33.0_1', 'Age_SibSp33.0_3', 'Age_SibSp34.0_0', 'Age_SibSp34.0_1', 'Age_SibSp34.5_0', 'Age_SibSp35.0_1', 'Age_SibSp36.5_0', 'Age_SibSp37.0_0', 'Age_SibSp38.0_0', 'Age_SibSp38.0_1', 'Age_SibSp4.0_0', 'Age_SibSp4.0_1', 'Age_SibSp4.0_4', 'Age_SibSp40.0_1', 'Age_SibSp40.5_0', 'Age_SibSp41.0_0', 'Age_SibSp42.0_0', 'Age_SibSp43.0_1', 'Age_SibSp44.0_0', 'Age_SibSp44.0_1', 'Age_SibSp44.0_2', 'Age_SibSp45.0_1', 'Age_SibSp45.5_0', 'Age_SibSp46.0_0', 'Age_SibSp46.0_1', 'Age_SibSp47.0_0', 'Age_SibSp48.0_1', 'Age_SibSp49.0_0', 'Age_SibSp49.0_1', 'Age_SibSp5.0_4', 'Age_SibSp50.0_0', 'Age_SibSp50.0_1', 'Age_SibSp50.0_2', 'Age_SibSp52.0_0', 'Age_SibSp52.0_1', 'Age_SibSp54.0_0', 'Age_SibSp54.0_1', 'Age_SibSp57.0_0', 'Age_SibSp58.0_0', 'Age_SibSp6.0_0', 'Age_SibSp60.0_0', 'Age_SibSp61.0_0', 'Age_SibSp62.0_0', 'Age_SibSp63.0_0', 'Age_SibSp64.0_0', 'Age_SibSp64.0_1', 'Age_SibSp65.0_0', 'Age_SibSp70.0_1', 'Age_SibSp71.0_0', 'Age_SibSp8.0_1', 'Age_SibSp8.0_3', 'Age_SibSp80.0_0', 'Age_SibSp9.0_0', 'Age_SibSp9.0_1', 'Age_SibSp9.0_2', 'Age_SibSp9.0_4', 'Age_SibSpnan_0', 'Age_SibSpnan_1', 'Age_SibSpnan_2', 'Age_SibSpnan_3', 'Age_SibSpnan_8', 'Age_Parch0.42_1', 'Age_Parch0.67_1', 'Age_Parch0.75_1', 'Age_Parch0.83_1', 'Age_Parch0.83_2', 'Age_Parch0.92_2', 'Age_Parch1.0_2', 'Age_Parch10.0_2', 'Age_Parch11.0_0', 'Age_Parch12.0_0', 'Age_Parch13.0_0', 'Age_Parch14.5_0', 'Age_Parch15.0_0', 'Age_Parch15.0_1', 'Age_Parch16.0_0', 'Age_Parch16.0_1', 'Age_Parch17.0_0', 'Age_Parch17.0_1', 'Age_Parch17.0_2', 'Age_Parch18.0_0', 'Age_Parch18.0_1', 'Age_Parch18.0_2', 'Age_Parch19.0_0', 'Age_Parch19.0_1', 'Age_Parch19.0_2', 'Age_Parch2.0_1', 'Age_Parch2.0_2', 'Age_Parch20.0_0', 'Age_Parch20.0_1', 'Age_Parch21.0_1', 'Age_Parch23.0_0', 'Age_Parch23.0_2', 'Age_Parch24.0_0', 'Age_Parch24.0_1', 'Age_Parch24.0_2', 'Age_Parch24.0_3', 'Age_Parch25.0_0', 'Age_Parch25.0_1', 'Age_Parch25.0_2', 'Age_Parch26.0_0', 'Age_Parch26.0_1', 'Age_Parch26.0_2', 'Age_Parch27.0_0', 'Age_Parch27.0_2', 'Age_Parch28.0_1', 'Age_Parch28.5_0', 'Age_Parch29.0_0', 'Age_Parch29.0_1', 'Age_Parch29.0_4', 'Age_Parch3.0_1', 'Age_Parch3.0_2', 'Age_Parch30.0_1', 'Age_Parch30.5_0', 'Age_Parch31.0_0', 'Age_Parch31.0_1', 'Age_Parch32.0_0', 'Age_Parch32.0_1', 'Age_Parch33.0_1', 'Age_Parch33.0_2', 'Age_Parch34.0_0', 'Age_Parch34.5_0', 'Age_Parch35.0_1', 'Age_Parch36.0_1', 'Age_Parch36.5_2', 'Age_Parch37.0_0', 'Age_Parch38.0_0', 'Age_Parch38.0_1', 'Age_Parch38.0_5', 'Age_Parch39.0_0', 'Age_Parch39.0_1', 'Age_Parch39.0_5', 'Age_Parch4.0_1', 'Age_Parch40.5_2', 'Age_Parch41.0_2', 'Age_Parch41.0_5', 'Age_Parch42.0_0', 'Age_Parch42.0_1', 'Age_Parch45.0_0', 'Age_Parch45.0_1', 'Age_Parch45.5_0', 'Age_Parch46.0_0', 'Age_Parch47.0_0', 'Age_Parch48.0_0', 'Age_Parch48.0_3', 'Age_Parch49.0_0', 'Age_Parch49.0_1', 'Age_Parch5.0_2', 'Age_Parch50.0_0', 'Age_Parch50.0_1', 'Age_Parch51.0_1', 'Age_Parch52.0_0', 'Age_Parch52.0_1', 'Age_Parch54.0_0', 'Age_Parch54.0_3', 'Age_Parch57.0_0', 'Age_Parch58.0_2', 'Age_Parch6.0_1', 'Age_Parch61.0_0', 'Age_Parch62.0_0', 'Age_Parch63.0_0', 'Age_Parch64.0_4', 'Age_Parch65.0_0', 'Age_Parch65.0_1', 'Age_Parch70.0_1', 'Age_Parch71.0_0', 'Age_Parch8.0_1', 'Age_Parch80.0_0', 'Age_Parch9.0_1', 'Age_Parch9.0_2', 'Age_Parchnan_0', 'Age_Parchnan_1', 'Age_Parchnan_2', 'Age_Ticket0.42_2625', 'Age_Ticket0.67_250649', 'Age_Ticket0.75_2666', 'Age_Ticket0.83_248738', 'Age_Ticket0.83_29106', 'Age_Ticket0.92_113781', 'Age_Ticket1.0_230136', 'Age_Ticket1.0_3101295', 'Age_Ticket1.0_C.A. 2315', 'Age_Ticket1.0_CA 2144', 'Age_Ticket1.0_S.C./PARIS 2079', 'Age_Ticket10.0_345773', 'Age_Ticket11.0_113760', 'Age_Ticket11.0_2699', 'Age_Ticket12.0_2651', 'Age_Ticket13.0_2687', 'Age_Ticket14.0_2651', 'Age_Ticket14.0_350406', 'Age_Ticket14.5_2665', 'Age_Ticket15.0_2659', 'Age_Ticket15.0_2667', 'Age_Ticket15.0_2695', 'Age_Ticket15.0_330923', 'Age_Ticket16.0_35851', 'Age_Ticket16.0_367231', 'Age_Ticket16.0_C.A. 2673', 'Age_Ticket16.0_SOTON/OQ 392089', 'Age_Ticket17.0_17421', 'Age_Ticket17.0_2627', 'Age_Ticket17.0_2690', 'Age_Ticket17.0_3101281', 'Age_Ticket18.0_2691', 'Age_Ticket18.0_3101265', 'Age_Ticket18.0_345764', 'Age_Ticket18.0_347087', 'Age_Ticket18.0_349237', 'Age_Ticket18.0_365226', 'Age_Ticket18.0_392091', 'Age_Ticket18.0_4138', 'Age_Ticket18.0_A/5 3540', 'Age_Ticket18.0_PC 17758', 'Age_Ticket19.0_113773', 'Age_Ticket19.0_19950', 'Age_Ticket19.0_330958', 'Age_Ticket19.0_350046', 'Age_Ticket19.0_A/5. 10482', 'Age_Ticket19.0_C.A. 33112', 'Age_Ticket19.0_LINE', 'Age_Ticket19.0_SW/PP 751', 'Age_Ticket2.0_113781', 'Age_Ticket2.0_230080', 'Age_Ticket2.0_3101298', 'Age_Ticket2.0_347054', 'Age_Ticket20.0_2648', 'Age_Ticket20.0_2653', 'Age_Ticket20.0_2663', 'Age_Ticket20.0_315096', 'Age_Ticket20.0_4136', 'Age_Ticket20.0_STON/O 2. 3101285', 'Age_Ticket21.0_343120', 'Age_Ticket21.0_350034', 'Age_Ticket21.0_35281', 'Age_Ticket21.0_364846', 'Age_Ticket21.0_4137', 'Age_Ticket22.0_2620', 'Age_Ticket22.0_2669', 'Age_Ticket22.0_347081', 'Age_Ticket22.0_347085', 'Age_Ticket22.0_370373', 'Age_Ticket22.0_7552', 'Age_Ticket22.0_7553', 'Age_Ticket22.0_C 7077', 'Age_Ticket22.0_PC 17760', 'Age_Ticket23.0_29104', 'Age_Ticket23.0_CA. 2314', 'Age_Ticket23.0_PC 17759', 'Age_Ticket23.0_STON/O2. 3101290', 'Age_Ticket24.0_244367', 'Age_Ticket24.0_248747', 'Age_Ticket24.0_2666', 'Age_Ticket24.0_349236', 'Age_Ticket24.0_C 17369', 'Age_Ticket24.0_PC 17558', 'Age_Ticket24.0_PC 17593', 'Age_Ticket24.0_PP 9549', 'Age_Ticket24.0_STON/O2. 3101279', 'Age_Ticket25.0_113781', 'Age_Ticket25.0_11765', 'Age_Ticket25.0_11967', 'Age_Ticket25.0_2672', 'Age_Ticket25.0_347071', 'Age_Ticket25.0_347083', 'Age_Ticket25.0_348123', 'Age_Ticket25.0_LINE', 'Age_Ticket25.0_SC/Paris 2123', 'Age_Ticket25.0_STON/O2. 3101271', 'Age_Ticket26.0_111369', 'Age_Ticket26.0_1601', 'Age_Ticket26.0_250651', 'Age_Ticket26.0_2680', 'Age_Ticket26.0_2699', 'Age_Ticket26.0_341826', 'Age_Ticket26.0_347068', 'Age_Ticket26.0_3474', 'Age_Ticket26.0_347470', 'Age_Ticket26.0_A/5. 3336', 'Age_Ticket26.0_C.A. 2315', 'Age_Ticket26.0_STON/O2. 3101282', 'Age_Ticket27.0_113503', 'Age_Ticket27.0_113804', 'Age_Ticket27.0_113806', 'Age_Ticket27.0_11668', 'Age_Ticket27.0_211536', 'Age_Ticket27.0_220367', 'Age_Ticket27.0_244358', 'Age_Ticket27.0_2659', 'Age_Ticket27.0_315098', 'Age_Ticket27.0_347089', 'Age_Ticket27.0_349219', 'Age_Ticket27.0_350043', 'Age_Ticket27.0_PC 17572', 'Age_Ticket27.0_SC/PARIS 2149', 'Age_Ticket27.0_STON/O2. 3101283', 'Age_Ticket28.0_110564', 'Age_Ticket28.0_113788', 'Age_Ticket28.0_1601', 'Age_Ticket28.0_2003', 'Age_Ticket28.0_237668', 'Age_Ticket28.0_248727', 'Age_Ticket28.0_347080', 'Age_Ticket28.0_349245', 'Age_Ticket28.0_PC 17604', 'Age_Ticket29.0_113501', 'Age_Ticket29.0_113776', 'Age_Ticket29.0_228414', 'Age_Ticket29.0_315082', 'Age_Ticket29.0_343276', 'Age_Ticket29.0_345779', 'Age_Ticket29.0_347054', 'Age_Ticket29.0_347067', 'Age_Ticket29.0_349240', 'Age_Ticket29.0_349909', 'Age_Ticket29.0_382651', 'Age_Ticket29.0_7545', 'Age_Ticket29.0_SC/PARIS 2167', 'Age_Ticket29.0_W./C. 14263', 'Age_Ticket3.0_29106', 'Age_Ticket3.0_347077', 'Age_Ticket3.0_349909', 'Age_Ticket3.0_C.A. 37671', 'Age_Ticket30.0_113051', 'Age_Ticket30.0_31027', 'Age_Ticket30.0_315084', 'Age_Ticket30.0_345773', 'Age_Ticket30.0_345774', 'Age_Ticket30.0_364516', 'Age_Ticket30.5_364850', 'Age_Ticket31.0_17474', 'Age_Ticket31.0_244270', 'Age_Ticket31.0_345763', 'Age_Ticket31.0_347063', 'Age_Ticket31.0_349244', 'Age_Ticket31.0_350407', 'Age_Ticket31.0_363291', 'Age_Ticket31.0_C.A. 18723', 'Age_Ticket31.0_C.A. 31921', 'Age_Ticket31.0_F.C. 12750', 'Age_Ticket31.0_PC 17590', 'Age_Ticket31.0_S.C./PARIS 2079', 'Age_Ticket31.0_STON/O 2. 3101288', 'Age_Ticket32.0_13214', 'Age_Ticket32.0_1601', 'Age_Ticket32.0_2908', 'Age_Ticket32.0_3101278', 'Age_Ticket32.0_349242', 'Age_Ticket32.0_350417', 'Age_Ticket32.0_364849', 'Age_Ticket32.0_370376', 'Age_Ticket32.0_8471', 'Age_Ticket32.0_C.A. 33111', 'Age_Ticket32.0_S.O.C. 14879', 'Age_Ticket32.0_SOTON/O.Q. 392078', 'Age_Ticket32.0_STON/O 2. 3101286', 'Age_Ticket32.0_STON/O 2. 3101292', 'Age_Ticket32.0_STON/O 2. 3101293', 'Age_Ticket33.0_3101278', 'Age_Ticket33.0_363291', 'Age_Ticket33.0_695', 'Age_Ticket34.0_113794', 'Age_Ticket34.0_248698', 'Age_Ticket34.5_2683', 'Age_Ticket35.0_111426', 'Age_Ticket35.0_349213', 'Age_Ticket35.0_C.A. 2673', 'Age_Ticket35.0_PC 17475', 'Age_Ticket35.0_PC 17755', 'Age_Ticket36.0_113760', 'Age_Ticket36.0_13049', 'Age_Ticket36.0_19877', 'Age_Ticket36.0_345572', 'Age_Ticket36.0_C.A. 34651', 'Age_Ticket36.0_LINE', 'Age_Ticket36.0_PC 17473', 'Age_Ticket36.0_PC 17474', 'Age_Ticket36.0_PC 17755', 'Age_Ticket36.0_SC/Paris 2163', 'Age_Ticket36.5_230080', 'Age_Ticket37.0_113803', 'Age_Ticket37.0_11751', 'Age_Ticket37.0_4135', 'Age_Ticket37.0_PC 17596', 'Age_Ticket38.0_19943', 'Age_Ticket38.0_237671', 'Age_Ticket38.0_347077', 'Age_Ticket38.0_PC 17582', 'Age_Ticket39.0_112050', 'Age_Ticket39.0_347082', 'Age_Ticket39.0_382652', 'Age_Ticket39.0_STON/O 2. 3101289', 'Age_Ticket4.0_315153', 'Age_Ticket4.0_33638', 'Age_Ticket4.0_347742', 'Age_Ticket40.0_112059', 'Age_Ticket40.0_112277', 'Age_Ticket40.0_7546', 'Age_Ticket40.0_PC 17601', 'Age_Ticket40.5_A/5. 851', 'Age_Ticket41.0_3101295', 'Age_Ticket41.0_370129', 'Age_Ticket42.0_113789', 'Age_Ticket42.0_11753', 'Age_Ticket42.0_237798', 'Age_Ticket42.0_244310', 'Age_Ticket42.0_348121', 'Age_Ticket42.0_4579', 'Age_Ticket42.0_PC 17476', 'Age_Ticket43.0_F.C.C. 13529', 'Age_Ticket44.0_19928', 'Age_Ticket44.0_244252', 'Age_Ticket44.0_371362', 'Age_Ticket44.0_STON/O 2. 3101269', 'Age_Ticket45.0_111428', 'Age_Ticket45.0_113050', 'Age_Ticket45.0_113784', 'Age_Ticket45.0_2691', 'Age_Ticket45.0_347061', 'Age_Ticket45.0_347073', 'Age_Ticket45.0_36973', 'Age_Ticket45.0_7598', 'Age_Ticket45.5_113043', 'Age_Ticket46.0_PC 17593', 'Age_Ticket46.0_W.E.P. 5734', 'Age_Ticket47.0_A/5. 3337', 'Age_Ticket48.0_19952', 'Age_Ticket48.0_19996', 'Age_Ticket48.0_PC 17572', 'Age_Ticket48.0_W./C. 6608', 'Age_Ticket49.0_17421', 'Age_Ticket49.0_17453', 'Age_Ticket49.0_LINE', 'Age_Ticket49.0_PC 17485', 'Age_Ticket5.0_347077', 'Age_Ticket50.0_13507', 'Age_Ticket50.0_PC 17558', 'Age_Ticket50.0_PC 17595', 'Age_Ticket50.0_PC 17611', 'Age_Ticket50.0_PC 17761', 'Age_Ticket51.0_113055', 'Age_Ticket51.0_PC 17597', 'Age_Ticket52.0_110413', 'Age_Ticket52.0_113786', 'Age_Ticket54.0_17463', 'Age_Ticket54.0_29105', 'Age_Ticket55.0_113787', 'Age_Ticket56.0_113792', 'Age_Ticket56.0_13213', 'Age_Ticket56.0_17764', 'Age_Ticket57.0_S.O./P.P. 3', 'Age_Ticket58.0_11771', 'Age_Ticket58.0_35273', 'Age_Ticket6.0_392096', 'Age_Ticket60.0_113800', 'Age_Ticket60.0_13567', 'Age_Ticket60.0_29750', 'Age_Ticket61.0_111240', 'Age_Ticket61.0_36963', 'Age_Ticket62.0_113514', 'Age_Ticket62.0_113807', 'Age_Ticket62.0_S.W./PP 752', 'Age_Ticket63.0_4134', 'Age_Ticket64.0_19950', 'Age_Ticket64.0_693', 'Age_Ticket65.0_113509', 'Age_Ticket65.0_13509', 'Age_Ticket70.0_WE/P 5735', 'Age_Ticket71.0_PC 17754', 'Age_Ticket8.0_349909', 'Age_Ticket8.0_C.A. 33112', 'Age_Ticket80.0_27042', 'Age_Ticket9.0_2678', 'Age_Ticket9.0_347077', 'Age_Ticket9.0_363291', 'Age_Ticket9.0_C.A. 37671', 'Age_Ticketnan_110465', 'Age_Ticketnan_111427', 'Age_Ticketnan_112052', 'Age_Ticketnan_112058', 'Age_Ticketnan_112379', 'Age_Ticketnan_113028', 'Age_Ticketnan_113056', 'Age_Ticketnan_113510', 'Age_Ticketnan_113767', 'Age_Ticketnan_113796', 'Age_Ticketnan_113798', 'Age_Ticketnan_11774', 'Age_Ticketnan_14311', 'Age_Ticketnan_14312', 'Age_Ticketnan_14313', 'Age_Ticketnan_1601', 'Age_Ticketnan_16988', 'Age_Ticketnan_19947', 'Age_Ticketnan_19988', 'Age_Ticketnan_239853', 'Age_Ticketnan_244373', 'Age_Ticketnan_2626', 'Age_Ticketnan_2649', 'Age_Ticketnan_2661', 'Age_Ticketnan_2662', 'Age_Ticketnan_2665', 'Age_Ticketnan_2668', 'Age_Ticketnan_2677', 'Age_Ticketnan_2678', 'Age_Ticketnan_2689', 'Age_Ticketnan_312991', 'Age_Ticketnan_330909', 'Age_Ticketnan_330919', 'Age_Ticketnan_330931', 'Age_Ticketnan_330932', 'Age_Ticketnan_330935', 'Age_Ticketnan_330959', 'Age_Ticketnan_330980', 'Age_Ticketnan_335677', 'Age_Ticketnan_343095', 'Age_Ticketnan_35852', 'Age_Ticketnan_364848', 'Age_Ticketnan_367226', 'Age_Ticketnan_367228', 'Age_Ticketnan_367230', 'Age_Ticketnan_36866', 'Age_Ticketnan_370370', 'Age_Ticketnan_370371', 'Age_Ticketnan_370375', 'Age_Ticketnan_376564', 'Age_Ticketnan_382649', 'Age_Ticketnan_383121', 'Age_Ticketnan_386525', 'Age_Ticketnan_4133', 'Age_Ticketnan_65306', 'Age_Ticketnan_9234', 'Age_Ticketnan_CA. 2343', 'Age_Ticketnan_PC 17318', 'Age_Ticketnan_PC 17483', 'Age_Ticketnan_PC 17600', 'Age_Ticketnan_PC 17605', 'Age_Ticketnan_PC 17612', 'Age_Ticketnan_PC 17757', 'Age_Ticketnan_SC/PARIS 2146', 'Age_Ticketnan_SOTON/O.Q. 392087', 'Age_Ticketnan_W./C. 6607', 'Age_Ticketnan_W./C. 6609', 'Age_Cabin0.42_nan', 'Age_Cabin0.67_nan', 'Age_Cabin0.75_nan', 'Age_Cabin0.83_nan', 'Age_Cabin0.92_C22 C26', 'Age_Cabin1.0_F4', 'Age_Cabin1.0_nan', 'Age_Cabin10.0_nan', 'Age_Cabin11.0_B96 B98', 'Age_Cabin11.0_nan', 'Age_Cabin12.0_nan', 'Age_Cabin13.0_nan', 'Age_Cabin14.0_nan', 'Age_Cabin14.5_nan', 'Age_Cabin15.0_nan', 'Age_Cabin17.0_C70', 'Age_Cabin17.0_nan', 'Age_Cabin18.0_C65', 'Age_Cabin18.0_nan', 'Age_Cabin19.0_C23 C25 C27', 'Age_Cabin19.0_D30', 'Age_Cabin19.0_nan', 'Age_Cabin2.0_C22 C26', 'Age_Cabin2.0_F2', 'Age_Cabin2.0_G6', 'Age_Cabin2.0_nan', 'Age_Cabin20.0_nan', 'Age_Cabin21.0_D26', 'Age_Cabin21.0_nan', 'Age_Cabin23.0_D10 D12', 'Age_Cabin23.0_nan', 'Age_Cabin23.5_nan', 'Age_Cabin24.0_B58 B60', 'Age_Cabin24.0_B86', 'Age_Cabin24.0_G6', 'Age_Cabin25.0_B49', 'Age_Cabin25.0_C22 C26', 'Age_Cabin25.0_E50', 'Age_Cabin25.0_F G73', 'Age_Cabin26.0_C148', 'Age_Cabin26.0_nan', 'Age_Cabin27.0_C82', 'Age_Cabin27.0_D49', 'Age_Cabin27.0_E8', 'Age_Cabin27.0_nan', 'Age_Cabin28.0_A6', 'Age_Cabin28.0_C52', 'Age_Cabin28.0_nan', 'Age_Cabin28.5_nan', 'Age_Cabin29.0_C2', 'Age_Cabin29.0_D6', 'Age_Cabin29.0_G6', 'Age_Cabin29.0_nan', 'Age_Cabin3.0_nan', 'Age_Cabin30.0_C111', 'Age_Cabin30.5_nan', 'Age_Cabin31.0_A24', 'Age_Cabin31.0_B20', 'Age_Cabin31.0_B71', 'Age_Cabin31.0_nan', 'Age_Cabin32.0_B50', 'Age_Cabin32.0_E10', 'Age_Cabin33.0_B51 B53 B55', 'Age_Cabin34.0_D56', 'Age_Cabin34.0_nan', 'Age_Cabin35.0_B101', 'Age_Cabin35.0_E24', 'Age_Cabin36.0_A10', 'Age_Cabin36.0_B51 B53 B55', 'Age_Cabin36.0_B96 B98', 'Age_Cabin36.0_C46', 'Age_Cabin36.0_E25', 'Age_Cabin36.0_nan', 'Age_Cabin36.5_F2', 'Age_Cabin37.0_C118', 'Age_Cabin37.0_C123', 'Age_Cabin37.0_D35', 'Age_Cabin37.0_nan', 'Age_Cabin38.0_C91', 'Age_Cabin38.0_C93', 'Age_Cabin38.0_nan', 'Age_Cabin39.0_A36', 'Age_Cabin4.0_A34', 'Age_Cabin4.0_nan', 'Age_Cabin40.0_A31', 'Age_Cabin40.0_B94', 'Age_Cabin40.0_nan', 'Age_Cabin40.5_nan', 'Age_Cabin41.0_nan', 'Age_Cabin42.0_D19', 'Age_Cabin42.0_E24', 'Age_Cabin42.0_F G63', 'Age_Cabin43.0_nan', 'Age_Cabin44.0_C78', 'Age_Cabin45.0_B38', 'Age_Cabin45.0_C83', 'Age_Cabin45.0_T', 'Age_Cabin45.0_nan', 'Age_Cabin46.0_E31', 'Age_Cabin47.0_nan', 'Age_Cabin48.0_C126', 'Age_Cabin48.0_D33', 'Age_Cabin48.0_E12', 'Age_Cabin48.0_nan', 'Age_Cabin49.0_A20', 'Age_Cabin49.0_C68', 'Age_Cabin49.0_C92', 'Age_Cabin49.0_nan', 'Age_Cabin5.0_nan', 'Age_Cabin50.0_B58 B60', 'Age_Cabin50.0_C49', 'Age_Cabin50.0_C86', 'Age_Cabin50.0_E44', 'Age_Cabin50.0_nan', 'Age_Cabin51.0_E17', 'Age_Cabin51.0_nan', 'Age_Cabin52.0_C104', 'Age_Cabin52.0_E67', 'Age_Cabin52.0_nan', 'Age_Cabin54.0_E46', 'Age_Cabin55.0_C30', 'Age_Cabin56.0_A26', 'Age_Cabin56.0_A7', 'Age_Cabin56.0_nan', 'Age_Cabin57.0_E77', 'Age_Cabin58.0_B37', 'Age_Cabin58.0_D48', 'Age_Cabin6.0_E121', 'Age_Cabin60.0_B41', 'Age_Cabin60.0_nan', 'Age_Cabin61.0_B19', 'Age_Cabin61.0_D50', 'Age_Cabin62.0_C87', 'Age_Cabin62.0_nan', 'Age_Cabin63.0_nan', 'Age_Cabin64.0_C23 C25 C27', 'Age_Cabin65.0_B30', 'Age_Cabin65.0_E38', 'Age_Cabin70.0_B22', 'Age_Cabin71.0_A5', 'Age_Cabin8.0_nan', 'Age_Cabin80.0_A23', 'Age_Cabinnan_A14', 'Age_Cabinnan_A19', 'Age_Cabinnan_A32', 'Age_Cabinnan_B102', 'Age_Cabinnan_C106', 'Age_Cabinnan_C124', 'Age_Cabinnan_C128', 'Age_Cabinnan_C47', 'Age_Cabinnan_C52', 'Age_Cabinnan_C95', 'Age_Cabinnan_D45', 'Age_Cabinnan_F38', 'Age_Embarked0.42_C', 'Age_Embarked0.67_S', 'Age_Embarked0.75_C', 'Age_Embarked0.83_S', 'Age_Embarked0.92_S', 'Age_Embarked1.0_C', 'Age_Embarked1.0_S', 'Age_Embarked10.0_S', 'Age_Embarked11.0_C', 'Age_Embarked12.0_C', 'Age_Embarked13.0_C', 'Age_Embarked14.0_C', 'Age_Embarked14.0_S', 'Age_Embarked14.5_C', 'Age_Embarked15.0_C', 'Age_Embarked15.0_Q', 'Age_Embarked16.0_Q', 'Age_Embarked16.0_S', 'Age_Embarked17.0_C', 'Age_Embarked17.0_S', 'Age_Embarked18.0_C', 'Age_Embarked18.0_Q', 'Age_Embarked18.0_S', 'Age_Embarked19.0_S', 'Age_Embarked2.0_S', 'Age_Embarked20.0_C', 'Age_Embarked20.0_S', 'Age_Embarked21.0_Q', 'Age_Embarked22.0_C', 'Age_Embarked22.0_Q', 'Age_Embarked22.0_S', 'Age_Embarked23.0_C', 'Age_Embarked23.0_S', 'Age_Embarked24.0_S', 'Age_Embarked26.0_C', 'Age_Embarked26.0_S', 'Age_Embarked27.0_C', 'Age_Embarked27.0_S', 'Age_Embarked28.0_S', 'Age_Embarked29.0_C', 'Age_Embarked29.0_Q', 'Age_Embarked29.0_S', 'Age_Embarked3.0_S', 'Age_Embarked30.0_C', 'Age_Embarked30.0_S', 'Age_Embarked30.5_Q', 'Age_Embarked31.0_C', 'Age_Embarked31.0_S', 'Age_Embarked32.0_C', 'Age_Embarked32.0_Q', 'Age_Embarked32.0_S', 'Age_Embarked33.0_C', 'Age_Embarked34.0_S', 'Age_Embarked35.0_C', 'Age_Embarked36.0_S', 'Age_Embarked36.5_S', 'Age_Embarked37.0_C', 'Age_Embarked37.0_S', 'Age_Embarked38.0_S', 'Age_Embarked39.0_Q', 'Age_Embarked39.0_S', 'Age_Embarked4.0_S', 'Age_Embarked41.0_S', 'Age_Embarked42.0_S', 'Age_Embarked43.0_S', 'Age_Embarked44.0_Q', 'Age_Embarked45.0_C', 'Age_Embarked45.0_S', 'Age_Embarked45.5_S', 'Age_Embarked46.0_S', 'Age_Embarked47.0_S', 'Age_Embarked48.0_C', 'Age_Embarked48.0_S', 'Age_Embarked49.0_C', 'Age_Embarked49.0_S', 'Age_Embarked5.0_S', 'Age_Embarked50.0_C', 'Age_Embarked50.0_S', 'Age_Embarked51.0_C', 'Age_Embarked54.0_S', 'Age_Embarked56.0_C', 'Age_Embarked56.0_S', 'Age_Embarked57.0_S', 'Age_Embarked58.0_C', 'Age_Embarked6.0_S', 'Age_Embarked60.0_C', 'Age_Embarked60.0_S', 'Age_Embarked61.0_S', 'Age_Embarked62.0_S', 'Age_Embarked63.0_S', 'Age_Embarked64.0_S', 'Age_Embarked65.0_C', 'Age_Embarked65.0_S', 'Age_Embarked70.0_S', 'Age_Embarked71.0_C', 'Age_Embarked8.0_S', 'Age_Embarked80.0_S', 'Age_Embarked9.0_C', 'Age_Embarked9.0_S', 'Age_Embarkednan_C', 'Age_Embarkednan_Q', 'Age_Embarkednan_S', 'SibSp_Parch0_0', 'SibSp_Parch0_1', 'SibSp_Parch0_2', 'SibSp_Parch0_3', 'SibSp_Parch0_4', 'SibSp_Parch0_5', 'SibSp_Parch1_1', 'SibSp_Parch1_4', 'SibSp_Parch1_5', 'SibSp_Parch2_1', 'SibSp_Parch3_0', 'SibSp_Parch3_1', 'SibSp_Parch3_2', 'SibSp_Parch4_1', 'SibSp_Parch4_2', 'SibSp_Parch5_2', 'SibSp_Parch8_2', 'SibSp_Ticket0_110465', 'SibSp_Ticket0_110564', 'SibSp_Ticket0_111240', 'SibSp_Ticket0_111369', 'SibSp_Ticket0_111426', 'SibSp_Ticket0_111427', 'SibSp_Ticket0_111428', 'SibSp_Ticket0_112050', 'SibSp_Ticket0_112052', 'SibSp_Ticket0_112058', 'SibSp_Ticket0_112059', 'SibSp_Ticket0_112277', 'SibSp_Ticket0_112379', 'SibSp_Ticket0_113028', 'SibSp_Ticket0_113050', 'SibSp_Ticket0_113051', 'SibSp_Ticket0_113055', 'SibSp_Ticket0_113056', 'SibSp_Ticket0_113501', 'SibSp_Ticket0_113503', 'SibSp_Ticket0_113509', 'SibSp_Ticket0_113510', 'SibSp_Ticket0_113514', 'SibSp_Ticket0_113767', 'SibSp_Ticket0_113784', 'SibSp_Ticket0_113786', 'SibSp_Ticket0_113787', 'SibSp_Ticket0_113788', 'SibSp_Ticket0_113792', 'SibSp_Ticket0_113794', 'SibSp_Ticket0_113796', 'SibSp_Ticket0_113800', 'SibSp_Ticket0_113804', 'SibSp_Ticket0_113807', 'SibSp_Ticket0_11771', 'SibSp_Ticket0_11774', 'SibSp_Ticket0_12233', 'SibSp_Ticket0_13049', 'SibSp_Ticket0_13213', 'SibSp_Ticket0_13214', 'SibSp_Ticket0_13509', 'SibSp_Ticket0_14311', 'SibSp_Ticket0_14312', 'SibSp_Ticket0_14313', 'SibSp_Ticket0_1601', 'SibSp_Ticket0_16988', 'SibSp_Ticket0_17421', 'SibSp_Ticket0_17463', 'SibSp_Ticket0_17764', 'SibSp_Ticket0_19947', 'SibSp_Ticket0_19952', 'SibSp_Ticket0_19988', 'SibSp_Ticket0_211536', 'SibSp_Ticket0_220367', 'SibSp_Ticket0_230080', 'SibSp_Ticket0_237671', 'SibSp_Ticket0_237798', 'SibSp_Ticket0_239853', 'SibSp_Ticket0_239865', 'SibSp_Ticket0_244270', 'SibSp_Ticket0_244310', 'SibSp_Ticket0_244358', 'SibSp_Ticket0_244373', 'SibSp_Ticket0_248698', 'SibSp_Ticket0_248738', 'SibSp_Ticket0_248747', 'SibSp_Ticket0_250647', 'SibSp_Ticket0_2620', 'SibSp_Ticket0_2625', 'SibSp_Ticket0_2626', 'SibSp_Ticket0_2627', 'SibSp_Ticket0_2648', 'SibSp_Ticket0_2649', 'SibSp_Ticket0_2650', 'SibSp_Ticket0_2663', 'SibSp_Ticket0_2666', 'SibSp_Ticket0_2668', 'SibSp_Ticket0_2669', 'SibSp_Ticket0_2672', 'SibSp_Ticket0_2677', 'SibSp_Ticket0_2678', 'SibSp_Ticket0_2683', 'SibSp_Ticket0_2687', 'SibSp_Ticket0_2691', 'SibSp_Ticket0_2693', 'SibSp_Ticket0_2699', 'SibSp_Ticket0_27042', 'SibSp_Ticket0_3101265', 'SibSp_Ticket0_3101295', 'SibSp_Ticket0_3101298', 'SibSp_Ticket0_312991', 'SibSp_Ticket0_315082', 'SibSp_Ticket0_315084', 'SibSp_Ticket0_315096', 'SibSp_Ticket0_315098', 'SibSp_Ticket0_315153', 'SibSp_Ticket0_330909', 'SibSp_Ticket0_330919', 'SibSp_Ticket0_330923', 'SibSp_Ticket0_330931', 'SibSp_Ticket0_330932', 'SibSp_Ticket0_330935', 'SibSp_Ticket0_330958', 'SibSp_Ticket0_330959', 'SibSp_Ticket0_330980', 'SibSp_Ticket0_335677', 'SibSp_Ticket0_33638', 'SibSp_Ticket0_343095', 'SibSp_Ticket0_343120', 'SibSp_Ticket0_343276', 'SibSp_Ticket0_345773', 'SibSp_Ticket0_345774', 'SibSp_Ticket0_345779', 'SibSp_Ticket0_347054', 'SibSp_Ticket0_347063', 'SibSp_Ticket0_347067', 'SibSp_Ticket0_347071', 'SibSp_Ticket0_347073', 'SibSp_Ticket0_347081', 'SibSp_Ticket0_347085', 'SibSp_Ticket0_347087', 'SibSp_Ticket0_347089', 'SibSp_Ticket0_347470', 'SibSp_Ticket0_348121', 'SibSp_Ticket0_348123', 'SibSp_Ticket0_348124', 'SibSp_Ticket0_349213', 'SibSp_Ticket0_349219', 'SibSp_Ticket0_349236', 'SibSp_Ticket0_349240', 'SibSp_Ticket0_349242', 'SibSp_Ticket0_349244', 'SibSp_Ticket0_349245', 'SibSp_Ticket0_349909', 'SibSp_Ticket0_350034', 'SibSp_Ticket0_350043', 'SibSp_Ticket0_350406', 'SibSp_Ticket0_350407', 'SibSp_Ticket0_350417', 'SibSp_Ticket0_35273', 'SibSp_Ticket0_35281', 'SibSp_Ticket0_35851', 'SibSp_Ticket0_35852', 'SibSp_Ticket0_363291', 'SibSp_Ticket0_364516', 'SibSp_Ticket0_364846', 'SibSp_Ticket0_364848', 'SibSp_Ticket0_364850', 'SibSp_Ticket0_365226', 'SibSp_Ticket0_367228', 'SibSp_Ticket0_367231', 'SibSp_Ticket0_36866', 'SibSp_Ticket0_36963', 'SibSp_Ticket0_370129', 'SibSp_Ticket0_370370', 'SibSp_Ticket0_370373', 'SibSp_Ticket0_370375', 'SibSp_Ticket0_370376', 'SibSp_Ticket0_371362', 'SibSp_Ticket0_382649', 'SibSp_Ticket0_382651', 'SibSp_Ticket0_382652', 'SibSp_Ticket0_383121', 'SibSp_Ticket0_392091', 'SibSp_Ticket0_392096', 'SibSp_Ticket0_4134', 'SibSp_Ticket0_4135', 'SibSp_Ticket0_4138', 'SibSp_Ticket0_4579', 'SibSp_Ticket0_65306', 'SibSp_Ticket0_693', 'SibSp_Ticket0_695', 'SibSp_Ticket0_7534', 'SibSp_Ticket0_7545', 'SibSp_Ticket0_7552', 'SibSp_Ticket0_7553', 'SibSp_Ticket0_7598', 'SibSp_Ticket0_8471', 'SibSp_Ticket0_9234', 'SibSp_Ticket0_A/5 3540', 'SibSp_Ticket0_A/5. 10482', 'SibSp_Ticket0_A/5. 851', 'SibSp_Ticket0_C 17369', 'SibSp_Ticket0_C 7077', 'SibSp_Ticket0_C.A. 18723', 'SibSp_Ticket0_C.A. 33111', 'SibSp_Ticket0_CA. 2314', 'SibSp_Ticket0_LINE', 'SibSp_Ticket0_PC 17318', 'SibSp_Ticket0_PC 17473', 'SibSp_Ticket0_PC 17474', 'SibSp_Ticket0_PC 17475', 'SibSp_Ticket0_PC 17476', 'SibSp_Ticket0_PC 17483', 'SibSp_Ticket0_PC 17572', 'SibSp_Ticket0_PC 17590', 'SibSp_Ticket0_PC 17593', 'SibSp_Ticket0_PC 17595', 'SibSp_Ticket0_PC 17596', 'SibSp_Ticket0_PC 17597', 'SibSp_Ticket0_PC 17600', 'SibSp_Ticket0_PC 17601', 'SibSp_Ticket0_PC 17605', 'SibSp_Ticket0_PC 17612', 'SibSp_Ticket0_PC 17754', 'SibSp_Ticket0_PC 17755', 'SibSp_Ticket0_PC 17757', 'SibSp_Ticket0_PC 17759', 'SibSp_Ticket0_PC 17760', 'SibSp_Ticket0_PP 9549', 'SibSp_Ticket0_S.C./PARIS 2079', 'SibSp_Ticket0_S.O./P.P. 3', 'SibSp_Ticket0_S.W./PP 752', 'SibSp_Ticket0_SC/PARIS 2131', 'SibSp_Ticket0_SC/PARIS 2146', 'SibSp_Ticket0_SC/Paris 2163', 'SibSp_Ticket0_SOTON/O.Q. 392078', 'SibSp_Ticket0_SOTON/O.Q. 392087', 'SibSp_Ticket0_SOTON/OQ 392076', 'SibSp_Ticket0_SOTON/OQ 392089', 'SibSp_Ticket0_STON/O 2. 3101269', 'SibSp_Ticket0_STON/O 2. 3101286', 'SibSp_Ticket0_STON/O 2. 3101288', 'SibSp_Ticket0_STON/O 2. 3101289', 'SibSp_Ticket0_STON/O 2. 3101292', 'SibSp_Ticket0_STON/O 2. 3101293', 'SibSp_Ticket0_STON/O2. 3101282', 'SibSp_Ticket0_STON/O2. 3101283', 'SibSp_Ticket0_STON/O2. 3101290', 'SibSp_Ticket0_SW/PP 751', 'SibSp_Ticket0_W./C. 14263', 'SibSp_Ticket0_W./C. 6609', 'SibSp_Ticket1_110413', 'SibSp_Ticket1_113760', 'SibSp_Ticket1_113773', 'SibSp_Ticket1_113776', 'SibSp_Ticket1_113781', 'SibSp_Ticket1_113789', 'SibSp_Ticket1_113803', 'SibSp_Ticket1_113806', 'SibSp_Ticket1_11668', 'SibSp_Ticket1_11751', 'SibSp_Ticket1_11753', 'SibSp_Ticket1_11765', 'SibSp_Ticket1_11967', 'SibSp_Ticket1_13507', 'SibSp_Ticket1_13567', 'SibSp_Ticket1_17421', 'SibSp_Ticket1_17453', 'SibSp_Ticket1_17474', 'SibSp_Ticket1_19877', 'SibSp_Ticket1_19943', 'SibSp_Ticket1_19950', 'SibSp_Ticket1_19996', 'SibSp_Ticket1_2003', 'SibSp_Ticket1_220845', 'SibSp_Ticket1_226875', 'SibSp_Ticket1_228414', 'SibSp_Ticket1_230080', 'SibSp_Ticket1_244252', 'SibSp_Ticket1_250649', 'SibSp_Ticket1_250651', 'SibSp_Ticket1_2651', 'SibSp_Ticket1_2653', 'SibSp_Ticket1_2661', 'SibSp_Ticket1_2665', 'SibSp_Ticket1_2678', 'SibSp_Ticket1_2680', 'SibSp_Ticket1_2689', 'SibSp_Ticket1_2690', 'SibSp_Ticket1_2695', 'SibSp_Ticket1_2908', 'SibSp_Ticket1_29106', 'SibSp_Ticket1_2926', 'SibSp_Ticket1_3101278', 'SibSp_Ticket1_345572', 'SibSp_Ticket1_345763', 'SibSp_Ticket1_345773', 'SibSp_Ticket1_347054', 'SibSp_Ticket1_347077', 'SibSp_Ticket1_347080', 'SibSp_Ticket1_347082', 'SibSp_Ticket1_347083', 'SibSp_Ticket1_347742', 'SibSp_Ticket1_349237', 'SibSp_Ticket1_350046', 'SibSp_Ticket1_350404', 'SibSp_Ticket1_364849', 'SibSp_Ticket1_367230', 'SibSp_Ticket1_36973', 'SibSp_Ticket1_371110', 'SibSp_Ticket1_376564', 'SibSp_Ticket1_386525', 'SibSp_Ticket1_4136', 'SibSp_Ticket1_4137', 'SibSp_Ticket1_7546', 'SibSp_Ticket1_A/5. 3336', 'SibSp_Ticket1_A/5. 3337', 'SibSp_Ticket1_C.A. 2315', 'SibSp_Ticket1_C.A. 2673', 'SibSp_Ticket1_C.A. 31921', 'SibSp_Ticket1_C.A. 33112', 'SibSp_Ticket1_C.A. 37671', 'SibSp_Ticket1_F.C. 12750', 'SibSp_Ticket1_PC 17485', 'SibSp_Ticket1_PC 17572', 'SibSp_Ticket1_PC 17604', 'SibSp_Ticket1_PC 17758', 'SibSp_Ticket1_PC 17761', 'SibSp_Ticket1_S.C./PARIS 2079', 'SibSp_Ticket1_SC/PARIS 2167', 'SibSp_Ticket1_STON/O 2. 3101285', 'SibSp_Ticket1_STON/O2. 3101271', 'SibSp_Ticket1_STON/O2. 3101279', 'SibSp_Ticket1_W./C. 6607', 'SibSp_Ticket1_W./C. 6608', 'SibSp_Ticket1_W.E.P. 5734', 'SibSp_Ticket1_WE/P 5735', 'SibSp_Ticket2_19928', 'SibSp_Ticket2_230136', 'SibSp_Ticket2_2662', 'SibSp_Ticket2_2666', 'SibSp_Ticket2_29104', 'SibSp_Ticket2_345764', 'SibSp_Ticket2_367226', 'SibSp_Ticket2_PC 17611', 'SibSp_Ticket2_S.O.C. 14879', 'SibSp_Ticket2_W./C. 6608', 'SibSp_Ticket3_3101278', 'SibSp_Ticket3_31027', 'SibSp_Ticket3_347088', 'SibSp_Ticket3_349909', 'SibSp_Ticket3_4133', 'SibSp_Ticket4_3101281', 'SibSp_Ticket4_3101295', 'SibSp_Ticket4_347077', 'SibSp_Ticket4_347082', 'SibSp_Ticket4_382652', 'SibSp_Ticket5_CA 2144', 'SibSp_Ticket8_CA. 2343', 'SibSp_Cabin0_A10', 'SibSp_Cabin0_A14', 'SibSp_Cabin0_A19', 'SibSp_Cabin0_A23', 'SibSp_Cabin0_A24', 'SibSp_Cabin0_A26', 'SibSp_Cabin0_A31', 'SibSp_Cabin0_A32', 'SibSp_Cabin0_A34', 'SibSp_Cabin0_A36', 'SibSp_Cabin0_A5', 'SibSp_Cabin0_A6', 'SibSp_Cabin0_A7', 'SibSp_Cabin0_B101', 'SibSp_Cabin0_B102', 'SibSp_Cabin0_B19', 'SibSp_Cabin0_B30', 'SibSp_Cabin0_B37', 'SibSp_Cabin0_B38', 'SibSp_Cabin0_B50', 'SibSp_Cabin0_B58 B60', 'SibSp_Cabin0_B82 B84', 'SibSp_Cabin0_B86', 'SibSp_Cabin0_B94', 'SibSp_Cabin0_C104', 'SibSp_Cabin0_C106', 'SibSp_Cabin0_C111', 'SibSp_Cabin0_C118', 'SibSp_Cabin0_C124', 'SibSp_Cabin0_C128', 'SibSp_Cabin0_C148', 'SibSp_Cabin0_C30', 'SibSp_Cabin0_C47', 'SibSp_Cabin0_C49', 'SibSp_Cabin0_C52', 'SibSp_Cabin0_C70', 'SibSp_Cabin0_C82', 'SibSp_Cabin0_C87', 'SibSp_Cabin0_C91', 'SibSp_Cabin0_C95', 'SibSp_Cabin0_D10 D12', 'SibSp_Cabin0_D26', 'SibSp_Cabin0_D45', 'SibSp_Cabin0_D48', 'SibSp_Cabin0_D49', 'SibSp_Cabin0_D50', 'SibSp_Cabin0_D56', 'SibSp_Cabin0_D6', 'SibSp_Cabin0_E10', 'SibSp_Cabin0_E12', 'SibSp_Cabin0_E121', 'SibSp_Cabin0_E17', 'SibSp_Cabin0_E24', 'SibSp_Cabin0_E25', 'SibSp_Cabin0_E38', 'SibSp_Cabin0_E46', 'SibSp_Cabin0_E77', 'SibSp_Cabin0_F G63', 'SibSp_Cabin0_F G73', 'SibSp_Cabin0_F2', 'SibSp_Cabin0_F33', 'SibSp_Cabin0_F38', 'SibSp_Cabin0_T', 'SibSp_Cabin0_nan', 'SibSp_Cabin1_A20', 'SibSp_Cabin1_B20', 'SibSp_Cabin1_B22', 'SibSp_Cabin1_B41', 'SibSp_Cabin1_B49', 'SibSp_Cabin1_B71', 'SibSp_Cabin1_B96 B98', 'SibSp_Cabin1_C123', 'SibSp_Cabin1_C126', 'SibSp_Cabin1_C2', 'SibSp_Cabin1_C22 C26', 'SibSp_Cabin1_C23 C25 C27', 'SibSp_Cabin1_C46', 'SibSp_Cabin1_C65', 'SibSp_Cabin1_C68', 'SibSp_Cabin1_C83', 'SibSp_Cabin1_C86', 'SibSp_Cabin1_C92', 'SibSp_Cabin1_C93', 'SibSp_Cabin1_D19', 'SibSp_Cabin1_D30', 'SibSp_Cabin1_D33', 'SibSp_Cabin1_D35', 'SibSp_Cabin1_E31', 'SibSp_Cabin1_E44', 'SibSp_Cabin1_E50', 'SibSp_Cabin1_E67', 'SibSp_Cabin1_E8', 'SibSp_Cabin1_F2', 'SibSp_Cabin1_nan', 'SibSp_Cabin2_B57 B59 B63 B66', 'SibSp_Cabin2_C78', 'SibSp_Cabin2_F4', 'SibSp_Cabin2_nan', 'SibSp_Cabin3_nan', 'SibSp_Cabin4_nan', 'SibSp_Cabin5_nan', 'SibSp_Cabin8_nan', 'SibSp_Embarked0_C', 'SibSp_Embarked0_Q', 'SibSp_Embarked0_S', 'SibSp_Embarked1_S', 'SibSp_Embarked2_C', 'SibSp_Embarked2_Q', 'SibSp_Embarked2_S', 'SibSp_Embarked3_S', 'SibSp_Embarked4_Q', 'SibSp_Embarked5_S', 'SibSp_Embarked8_S', 'Parch_Ticket0_110465', 'Parch_Ticket0_110564', 'Parch_Ticket0_111240', 'Parch_Ticket0_111369', 'Parch_Ticket0_111426', 'Parch_Ticket0_111427', 'Parch_Ticket0_111428', 'Parch_Ticket0_112050', 'Parch_Ticket0_112052', 'Parch_Ticket0_112058', 'Parch_Ticket0_112059', 'Parch_Ticket0_112277', 'Parch_Ticket0_112379', 'Parch_Ticket0_113028', 'Parch_Ticket0_113043', 'Parch_Ticket0_113050', 'Parch_Ticket0_113051', 'Parch_Ticket0_113055', 'Parch_Ticket0_113056', 'Parch_Ticket0_113501', 'Parch_Ticket0_113510', 'Parch_Ticket0_113514', 'Parch_Ticket0_113767', 'Parch_Ticket0_113773', 'Parch_Ticket0_113776', 'Parch_Ticket0_113784', 'Parch_Ticket0_113786', 'Parch_Ticket0_113787', 'Parch_Ticket0_113788', 'Parch_Ticket0_113789', 'Parch_Ticket0_113792', 'Parch_Ticket0_113794', 'Parch_Ticket0_113796', 'Parch_Ticket0_113798', 'Parch_Ticket0_113800', 'Parch_Ticket0_113803', 'Parch_Ticket0_113804', 'Parch_Ticket0_113806', 'Parch_Ticket0_113807', 'Parch_Ticket0_11668', 'Parch_Ticket0_11753', 'Parch_Ticket0_11765', 'Parch_Ticket0_11771', 'Parch_Ticket0_11774', 'Parch_Ticket0_11967', 'Parch_Ticket0_13049', 'Parch_Ticket0_13213', 'Parch_Ticket0_13214', 'Parch_Ticket0_13507', 'Parch_Ticket0_13509', 'Parch_Ticket0_14311', 'Parch_Ticket0_14312', 'Parch_Ticket0_14313', 'Parch_Ticket0_1601', 'Parch_Ticket0_16988', 'Parch_Ticket0_17453', 'Parch_Ticket0_17463', 'Parch_Ticket0_17474', 'Parch_Ticket0_17764', 'Parch_Ticket0_19877', 'Parch_Ticket0_19928', 'Parch_Ticket0_19943', 'Parch_Ticket0_19947', 'Parch_Ticket0_19952', 'Parch_Ticket0_19988', 'Parch_Ticket0_19996', 'Parch_Ticket0_2003', 'Parch_Ticket0_211536', 'Parch_Ticket0_220367', 'Parch_Ticket0_237671', 'Parch_Ticket0_237798', 'Parch_Ticket0_239853', 'Parch_Ticket0_239865', 'Parch_Ticket0_240929', 'Parch_Ticket0_243847', 'Parch_Ticket0_244252', 'Parch_Ticket0_244270', 'Parch_Ticket0_244310', 'Parch_Ticket0_244358', 'Parch_Ticket0_244373', 'Parch_Ticket0_248698', 'Parch_Ticket0_248747', 'Parch_Ticket0_250647', 'Parch_Ticket0_2620', 'Parch_Ticket0_2626', 'Parch_Ticket0_2627', 'Parch_Ticket0_2648', 'Parch_Ticket0_2649', 'Parch_Ticket0_2651', 'Parch_Ticket0_2662', 'Parch_Ticket0_2663', 'Parch_Ticket0_2665', 'Parch_Ticket0_2669', 'Parch_Ticket0_2672', 'Parch_Ticket0_2677', 'Parch_Ticket0_2680', 'Parch_Ticket0_2687', 'Parch_Ticket0_2689', 'Parch_Ticket0_2699', 'Parch_Ticket0_27042', 'Parch_Ticket0_2908', 'Parch_Ticket0_3101265', 'Parch_Ticket0_3101278', 'Parch_Ticket0_312991', 'Parch_Ticket0_315082', 'Parch_Ticket0_315084', 'Parch_Ticket0_315096', 'Parch_Ticket0_315098', 'Parch_Ticket0_330909', 'Parch_Ticket0_330919', 'Parch_Ticket0_330923', 'Parch_Ticket0_330931', 'Parch_Ticket0_330932', 'Parch_Ticket0_330935', 'Parch_Ticket0_330958', 'Parch_Ticket0_330959', 'Parch_Ticket0_330980', 'Parch_Ticket0_335677', 'Parch_Ticket0_341826', 'Parch_Ticket0_343095', 'Parch_Ticket0_343120', 'Parch_Ticket0_343276', 'Parch_Ticket0_345572', 'Parch_Ticket0_345763', 'Parch_Ticket0_345764', 'Parch_Ticket0_345774', 'Parch_Ticket0_345779', 'Parch_Ticket0_347063', 'Parch_Ticket0_347067', 'Parch_Ticket0_347071', 'Parch_Ticket0_347073', 'Parch_Ticket0_347081', 'Parch_Ticket0_347083', 'Parch_Ticket0_347085', 'Parch_Ticket0_347087', 'Parch_Ticket0_347089', 'Parch_Ticket0_347470', 'Parch_Ticket0_348121', 'Parch_Ticket0_348123', 'Parch_Ticket0_349213', 'Parch_Ticket0_349219', 'Parch_Ticket0_349224', 'Parch_Ticket0_349236', 'Parch_Ticket0_349237', 'Parch_Ticket0_349240', 'Parch_Ticket0_349242', 'Parch_Ticket0_349244', 'Parch_Ticket0_349245', 'Parch_Ticket0_350034', 'Parch_Ticket0_350043', 'Parch_Ticket0_350046', 'Parch_Ticket0_350406', 'Parch_Ticket0_350407', 'Parch_Ticket0_350417', 'Parch_Ticket0_35851', 'Parch_Ticket0_35852', 'Parch_Ticket0_364516', 'Parch_Ticket0_364846', 'Parch_Ticket0_364850', 'Parch_Ticket0_365226', 'Parch_Ticket0_367226', 'Parch_Ticket0_367228', 'Parch_Ticket0_367229', 'Parch_Ticket0_367230', 'Parch_Ticket0_367231', 'Parch_Ticket0_36866', 'Parch_Ticket0_36963', 'Parch_Ticket0_36973', 'Parch_Ticket0_370370', 'Parch_Ticket0_370371', 'Parch_Ticket0_370373', 'Parch_Ticket0_370375', 'Parch_Ticket0_370376', 'Parch_Ticket0_376564', 'Parch_Ticket0_382649', 'Parch_Ticket0_382651', 'Parch_Ticket0_383121', 'Parch_Ticket0_386525', 'Parch_Ticket0_4134', 'Parch_Ticket0_4135', 'Parch_Ticket0_4136', 'Parch_Ticket0_4137', 'Parch_Ticket0_4138', 'Parch_Ticket0_65306', 'Parch_Ticket0_695', 'Parch_Ticket0_7534', 'Parch_Ticket0_7545', 'Parch_Ticket0_7546', 'Parch_Ticket0_7552', 'Parch_Ticket0_7553', 'Parch_Ticket0_7598', 'Parch_Ticket0_8471', 'Parch_Ticket0_9234', 'Parch_Ticket0_A/4 48871', 'Parch_Ticket0_A/5 3540', 'Parch_Ticket0_A/5. 10482', 'Parch_Ticket0_A/5. 3336', 'Parch_Ticket0_A/5. 3337', 'Parch_Ticket0_C 17369', 'Parch_Ticket0_C 7077', 'Parch_Ticket0_C.A. 18723', 'Parch_Ticket0_C.A. 33111', 'Parch_Ticket0_CA. 2314', 'Parch_Ticket0_F.C. 12750', 'Parch_Ticket0_LINE', 'Parch_Ticket0_PC 17318', 'Parch_Ticket0_PC 17473', 'Parch_Ticket0_PC 17474', 'Parch_Ticket0_PC 17475', 'Parch_Ticket0_PC 17476', 'Parch_Ticket0_PC 17483', 'Parch_Ticket0_PC 17485', 'Parch_Ticket0_PC 17572', 'Parch_Ticket0_PC 17590', 'Parch_Ticket0_PC 17593', 'Parch_Ticket0_PC 17595', 'Parch_Ticket0_PC 17600', 'Parch_Ticket0_PC 17601', 'Parch_Ticket0_PC 17604', 'Parch_Ticket0_PC 17605', 'Parch_Ticket0_PC 17611', 'Parch_Ticket0_PC 17612', 'Parch_Ticket0_PC 17754', 'Parch_Ticket0_PC 17755', 'Parch_Ticket0_PC 17758', 'Parch_Ticket0_PC 17760', 'Parch_Ticket0_PC 17761', 'Parch_Ticket0_S.O./P.P. 3', 'Parch_Ticket0_S.O.C. 14879', 'Parch_Ticket0_S.W./PP 752', 'Parch_Ticket0_SC/PARIS 2131', 'Parch_Ticket0_SC/PARIS 2146', 'Parch_Ticket0_SC/PARIS 2167', 'Parch_Ticket0_SC/Paris 2163', 'Parch_Ticket0_SOTON/O.Q. 392078', 'Parch_Ticket0_SOTON/O.Q. 392087', 'Parch_Ticket0_SOTON/OQ 392089', 'Parch_Ticket0_STON/O 2. 3101269', 'Parch_Ticket0_STON/O 2. 3101285', 'Parch_Ticket0_STON/O 2. 3101286', 'Parch_Ticket0_STON/O 2. 3101288', 'Parch_Ticket0_STON/O 2. 3101289', 'Parch_Ticket0_STON/O 2. 3101292', 'Parch_Ticket0_STON/O 2. 3101293', 'Parch_Ticket0_STON/O2. 3101271', 'Parch_Ticket0_STON/O2. 3101279', 'Parch_Ticket0_STON/O2. 3101282', 'Parch_Ticket0_STON/O2. 3101283', 'Parch_Ticket0_STON/O2. 3101290', 'Parch_Ticket0_SW/PP 751', 'Parch_Ticket0_W./C. 14263', 'Parch_Ticket0_W./C. 6609', 'Parch_Ticket0_W.E.P. 5734', 'Parch_Ticket1_110413', 'Parch_Ticket1_113509', 'Parch_Ticket1_11751', 'Parch_Ticket1_13567', 'Parch_Ticket1_17421', 'Parch_Ticket1_230080', 'Parch_Ticket1_230136', 'Parch_Ticket1_248727', 'Parch_Ticket1_250649', 'Parch_Ticket1_250651', 'Parch_Ticket1_2625', 'Parch_Ticket1_2653', 'Parch_Ticket1_2661', 'Parch_Ticket1_2666', 'Parch_Ticket1_2678', 'Parch_Ticket1_2690', 'Parch_Ticket1_2691', 'Parch_Ticket1_2695', 'Parch_Ticket1_29104', 'Parch_Ticket1_29106', 'Parch_Ticket1_3101295', 'Parch_Ticket1_3101298', 'Parch_Ticket1_345773', 'Parch_Ticket1_347054', 'Parch_Ticket1_347080', 'Parch_Ticket1_347742', 'Parch_Ticket1_349909', 'Parch_Ticket1_35281', 'Parch_Ticket1_364849', 'Parch_Ticket1_371362', 'Parch_Ticket1_382652', 'Parch_Ticket1_392091', 'Parch_Ticket1_392096', 'Parch_Ticket1_4133', 'Parch_Ticket1_4579', 'Parch_Ticket1_C.A. 2673', 'Parch_Ticket1_C.A. 31921', 'Parch_Ticket1_C.A. 33112', 'Parch_Ticket1_C.A. 37671', 'Parch_Ticket1_PC 17558', 'Parch_Ticket1_PC 17582', 'Parch_Ticket1_PC 17596', 'Parch_Ticket1_PC 17597', 'Parch_Ticket1_PC 17755', 'Parch_Ticket1_PC 17759', 'Parch_Ticket1_S.C./PARIS 2079', 'Parch_Ticket1_WE/P 5735', 'Parch_Ticket2_113503', 'Parch_Ticket2_113760', 'Parch_Ticket2_113781', 'Parch_Ticket2_17421', 'Parch_Ticket2_220845', 'Parch_Ticket2_230080', 'Parch_Ticket2_248738', 'Parch_Ticket2_2650', 'Parch_Ticket2_2668', 'Parch_Ticket2_2678', 'Parch_Ticket2_3101281', 'Parch_Ticket2_315153', 'Parch_Ticket2_33638', 'Parch_Ticket2_345773', 'Parch_Ticket2_347077', 'Parch_Ticket2_347082', 'Parch_Ticket2_347088', 'Parch_Ticket2_35273', 'Parch_Ticket2_363291', 'Parch_Ticket2_364848', 'Parch_Ticket2_370129', 'Parch_Ticket2_C.A. 2315', 'Parch_Ticket2_CA 2144', 'Parch_Ticket2_CA. 2343', 'Parch_Ticket2_PP 9549', 'Parch_Ticket2_S.C./PARIS 2079', 'Parch_Ticket2_W./C. 6607', 'Parch_Ticket2_W./C. 6608', 'Parch_Ticket3_2666', 'Parch_Ticket3_29105', 'Parch_Ticket3_W./C. 6608', 'Parch_Ticket4_19950', 'Parch_Ticket4_349909', 'Parch_Ticket5_3101295', 'Parch_Ticket5_347077', 'Parch_Ticket5_347082', 'Parch_Ticket5_382652', 'Parch_Cabin0_A10', 'Parch_Cabin0_A14', 'Parch_Cabin0_A19', 'Parch_Cabin0_A20', 'Parch_Cabin0_A23', 'Parch_Cabin0_A24', 'Parch_Cabin0_A26', 'Parch_Cabin0_A31', 'Parch_Cabin0_A32', 'Parch_Cabin0_A36', 'Parch_Cabin0_A5', 'Parch_Cabin0_A6', 'Parch_Cabin0_A7', 'Parch_Cabin0_B101', 'Parch_Cabin0_B102', 'Parch_Cabin0_B19', 'Parch_Cabin0_B20', 'Parch_Cabin0_B37', 'Parch_Cabin0_B38', 'Parch_Cabin0_B49', 'Parch_Cabin0_B50', 'Parch_Cabin0_B51 B53 B55', 'Parch_Cabin0_B71', 'Parch_Cabin0_B82 B84', 'Parch_Cabin0_B86', 'Parch_Cabin0_B94', 'Parch_Cabin0_C104', 'Parch_Cabin0_C106', 'Parch_Cabin0_C111', 'Parch_Cabin0_C123', 'Parch_Cabin0_C124', 'Parch_Cabin0_C126', 'Parch_Cabin0_C128', 'Parch_Cabin0_C148', 'Parch_Cabin0_C2', 'Parch_Cabin0_C30', 'Parch_Cabin0_C46', 'Parch_Cabin0_C47', 'Parch_Cabin0_C49', 'Parch_Cabin0_C52', 'Parch_Cabin0_C65', 'Parch_Cabin0_C78', 'Parch_Cabin0_C83', 'Parch_Cabin0_C86', 'Parch_Cabin0_C87', 'Parch_Cabin0_C92', 'Parch_Cabin0_C93', 'Parch_Cabin0_C95', 'Parch_Cabin0_D19', 'Parch_Cabin0_D30', 'Parch_Cabin0_D33', 'Parch_Cabin0_D45', 'Parch_Cabin0_D49', 'Parch_Cabin0_D50', 'Parch_Cabin0_D56', 'Parch_Cabin0_D6', 'Parch_Cabin0_E10', 'Parch_Cabin0_E12', 'Parch_Cabin0_E17', 'Parch_Cabin0_E24', 'Parch_Cabin0_E25', 'Parch_Cabin0_E31', 'Parch_Cabin0_E38', 'Parch_Cabin0_E44', 'Parch_Cabin0_E46', 'Parch_Cabin0_E50', 'Parch_Cabin0_E77', 'Parch_Cabin0_E8', 'Parch_Cabin0_F G63', 'Parch_Cabin0_F G73', 'Parch_Cabin0_F33', 'Parch_Cabin0_F38', 'Parch_Cabin0_T', 'Parch_Cabin0_nan', 'Parch_Cabin1_B22', 'Parch_Cabin1_B30', 'Parch_Cabin1_B41', 'Parch_Cabin1_B51 B53 B55', 'Parch_Cabin1_B58 B60', 'Parch_Cabin1_C118', 'Parch_Cabin1_C68', 'Parch_Cabin1_C91', 'Parch_Cabin1_D10 D12', 'Parch_Cabin1_D26', 'Parch_Cabin1_D35', 'Parch_Cabin1_E121', 'Parch_Cabin1_E67', 'Parch_Cabin1_F2', 'Parch_Cabin1_F4', 'Parch_Cabin1_G6', 'Parch_Cabin1_nan', 'Parch_Cabin2_A34', 'Parch_Cabin2_B57 B59 B63 B66', 'Parch_Cabin2_B96 B98', 'Parch_Cabin2_C22 C26', 'Parch_Cabin2_C70', 'Parch_Cabin2_C82', 'Parch_Cabin2_D48', 'Parch_Cabin2_F2', 'Parch_Cabin2_G6', 'Parch_Cabin3_nan', 'Parch_Cabin4_C23 C25 C27', 'Parch_Cabin4_nan', 'Parch_Embarked0_Q', 'Parch_Embarked0_S', 'Parch_Embarked1_C', 'Parch_Embarked1_Q', 'Parch_Embarked1_S', 'Parch_Embarked2_C', 'Parch_Embarked2_Q', 'Parch_Embarked2_S', 'Parch_Embarked3_C', 'Parch_Embarked4_S', 'Parch_Embarked5_Q', 'Ticket_Cabin110413_E67', 'Ticket_Cabin110465_A14', 'Ticket_Cabin110564_C52', 'Ticket_Cabin111240_B19', 'Ticket_Cabin111369_C148', 'Ticket_Cabin111426_nan', 'Ticket_Cabin111427_nan', 'Ticket_Cabin111428_nan', 'Ticket_Cabin112050_A36', 'Ticket_Cabin112052_nan', 'Ticket_Cabin112058_B102', 'Ticket_Cabin112059_B94', 'Ticket_Cabin112277_A31', 'Ticket_Cabin112379_nan', 'Ticket_Cabin113028_C124', 'Ticket_Cabin113043_C124', 'Ticket_Cabin113050_B38', 'Ticket_Cabin113051_C111', 'Ticket_Cabin113055_E17', 'Ticket_Cabin113056_A19', 'Ticket_Cabin113501_D6', 'Ticket_Cabin113503_C82', 'Ticket_Cabin113509_B30', 'Ticket_Cabin113510_C128', 'Ticket_Cabin113514_C87', 'Ticket_Cabin113760_B96 B98', 'Ticket_Cabin113767_A32', 'Ticket_Cabin113773_D30', 'Ticket_Cabin113776_C2', 'Ticket_Cabin113781_C22 C26', 'Ticket_Cabin113784_T', 'Ticket_Cabin113786_C104', 'Ticket_Cabin113787_C30', 'Ticket_Cabin113788_A6', 'Ticket_Cabin113789_nan', 'Ticket_Cabin113792_nan', 'Ticket_Cabin113794_nan', 'Ticket_Cabin113796_nan', 'Ticket_Cabin113803_C123', 'Ticket_Cabin113804_nan', 'Ticket_Cabin113806_E8', 'Ticket_Cabin113807_nan', 'Ticket_Cabin11668_nan', 'Ticket_Cabin11751_D35', 'Ticket_Cabin11753_D19', 'Ticket_Cabin11765_E50', 'Ticket_Cabin11771_B37', 'Ticket_Cabin11774_C47', 'Ticket_Cabin11967_B49', 'Ticket_Cabin13049_A10', 'Ticket_Cabin13213_A26', 'Ticket_Cabin13214_B50', 'Ticket_Cabin13507_E44', 'Ticket_Cabin13509_E38', 'Ticket_Cabin13567_B41', 'Ticket_Cabin14311_nan', 'Ticket_Cabin14312_nan', 'Ticket_Cabin14313_nan', 'Ticket_Cabin1601_nan', 'Ticket_Cabin16988_D45', 'Ticket_Cabin17421_C68', 'Ticket_Cabin17421_C70', 'Ticket_Cabin17453_C92', 'Ticket_Cabin17463_E46', 'Ticket_Cabin17474_B20', 'Ticket_Cabin17764_A7', 'Ticket_Cabin19877_C46', 'Ticket_Cabin19928_C78', 'Ticket_Cabin19943_C93', 'Ticket_Cabin19947_C52', 'Ticket_Cabin19952_E12', 'Ticket_Cabin19988_C106', 'Ticket_Cabin19996_C126', 'Ticket_Cabin2003_nan', 'Ticket_Cabin211536_nan', 'Ticket_Cabin220367_nan', 'Ticket_Cabin220845_nan', 'Ticket_Cabin226875_nan', 'Ticket_Cabin230136_F4', 'Ticket_Cabin230434_nan', 'Ticket_Cabin237668_nan', 'Ticket_Cabin237671_nan', 'Ticket_Cabin237798_nan', 'Ticket_Cabin239853_nan', 'Ticket_Cabin239865_nan', 'Ticket_Cabin244252_nan', 'Ticket_Cabin244270_nan', 'Ticket_Cabin244310_nan', 'Ticket_Cabin244358_nan', 'Ticket_Cabin244373_nan', 'Ticket_Cabin248698_D56', 'Ticket_Cabin248738_nan', 'Ticket_Cabin248747_nan', 'Ticket_Cabin250647_nan', 'Ticket_Cabin250649_nan', 'Ticket_Cabin250651_nan', 'Ticket_Cabin2620_nan', 'Ticket_Cabin2625_nan', 'Ticket_Cabin2626_nan', 'Ticket_Cabin2627_nan', 'Ticket_Cabin2648_nan', 'Ticket_Cabin2649_nan', 'Ticket_Cabin2650_nan', 'Ticket_Cabin2651_nan', 'Ticket_Cabin2653_nan', 'Ticket_Cabin2661_nan', 'Ticket_Cabin2662_nan', 'Ticket_Cabin2663_nan', 'Ticket_Cabin2665_nan', 'Ticket_Cabin2666_nan', 'Ticket_Cabin2667_nan', 'Ticket_Cabin2668_nan', 'Ticket_Cabin2669_nan', 'Ticket_Cabin2672_nan', 'Ticket_Cabin2677_nan', 'Ticket_Cabin2678_nan', 'Ticket_Cabin2680_nan', 'Ticket_Cabin2683_nan', 'Ticket_Cabin2687_nan', 'Ticket_Cabin2689_nan', 'Ticket_Cabin2690_nan', 'Ticket_Cabin2691_nan', 'Ticket_Cabin2693_nan', 'Ticket_Cabin2695_nan', 'Ticket_Cabin2699_nan', 'Ticket_Cabin27042_A23', 'Ticket_Cabin2908_nan', 'Ticket_Cabin29104_nan', 'Ticket_Cabin29105_nan', 'Ticket_Cabin29106_nan', 'Ticket_Cabin2926_nan', 'Ticket_Cabin3101265_nan', 'Ticket_Cabin3101278_nan', 'Ticket_Cabin3101281_nan', 'Ticket_Cabin3101295_nan', 'Ticket_Cabin3101298_nan', 'Ticket_Cabin312991_nan', 'Ticket_Cabin315082_nan', 'Ticket_Cabin315084_nan', 'Ticket_Cabin315096_nan', 'Ticket_Cabin315098_nan', 'Ticket_Cabin315153_nan', 'Ticket_Cabin330909_nan', 'Ticket_Cabin330919_nan', 'Ticket_Cabin330923_nan', 'Ticket_Cabin330931_nan', 'Ticket_Cabin330932_nan', 'Ticket_Cabin330935_nan', 'Ticket_Cabin330958_nan', 'Ticket_Cabin330959_nan', 'Ticket_Cabin330980_nan', 'Ticket_Cabin335677_nan', 'Ticket_Cabin33638_A34', 'Ticket_Cabin343095_nan', 'Ticket_Cabin343120_nan', 'Ticket_Cabin343276_nan', 'Ticket_Cabin345572_nan', 'Ticket_Cabin345763_nan', 'Ticket_Cabin345764_nan', 'Ticket_Cabin345773_nan', 'Ticket_Cabin345774_nan', 'Ticket_Cabin345778_nan', 'Ticket_Cabin345779_nan', 'Ticket_Cabin347054_G6', 'Ticket_Cabin347063_nan', 'Ticket_Cabin347067_nan', 'Ticket_Cabin347071_nan', 'Ticket_Cabin347073_nan', 'Ticket_Cabin347077_nan', 'Ticket_Cabin347080_nan', 'Ticket_Cabin347081_nan', 'Ticket_Cabin347082_nan', 'Ticket_Cabin347083_nan', 'Ticket_Cabin347085_nan', 'Ticket_Cabin347087_nan', 'Ticket_Cabin347088_nan', 'Ticket_Cabin347089_nan', 'Ticket_Cabin347470_nan', 'Ticket_Cabin3474_nan', 'Ticket_Cabin347742_nan', 'Ticket_Cabin348121_F G63', 'Ticket_Cabin348123_F G73', 'Ticket_Cabin349213_nan', 'Ticket_Cabin349219_nan', 'Ticket_Cabin349224_nan', 'Ticket_Cabin349236_nan', 'Ticket_Cabin349237_nan', 'Ticket_Cabin349240_nan', 'Ticket_Cabin349242_nan', 'Ticket_Cabin349244_nan', 'Ticket_Cabin349245_nan', 'Ticket_Cabin349248_nan', 'Ticket_Cabin349909_nan', 'Ticket_Cabin350034_nan', 'Ticket_Cabin350043_nan', 'Ticket_Cabin350046_nan', 'Ticket_Cabin350406_nan', 'Ticket_Cabin350407_nan', 'Ticket_Cabin350417_nan', 'Ticket_Cabin35273_D48', 'Ticket_Cabin35281_D26', 'Ticket_Cabin35851_nan', 'Ticket_Cabin35852_nan', 'Ticket_Cabin358585_nan', 'Ticket_Cabin363291_nan', 'Ticket_Cabin364516_nan', 'Ticket_Cabin364846_nan', 'Ticket_Cabin364848_nan', 'Ticket_Cabin364849_nan', 'Ticket_Cabin364850_nan', 'Ticket_Cabin365226_nan', 'Ticket_Cabin367226_nan', 'Ticket_Cabin367228_nan', 'Ticket_Cabin367230_nan', 'Ticket_Cabin367231_nan', 'Ticket_Cabin36866_nan', 'Ticket_Cabin36963_D50', 'Ticket_Cabin36973_C83', 'Ticket_Cabin370129_nan', 'Ticket_Cabin370370_nan', 'Ticket_Cabin370371_nan', 'Ticket_Cabin370373_nan', 'Ticket_Cabin370375_nan', 'Ticket_Cabin370376_nan', 'Ticket_Cabin371362_nan', 'Ticket_Cabin374887_nan', 'Ticket_Cabin376564_nan', 'Ticket_Cabin382649_nan', 'Ticket_Cabin382651_nan', 'Ticket_Cabin382652_nan', 'Ticket_Cabin383121_F38', 'Ticket_Cabin386525_nan', 'Ticket_Cabin392091_nan', 'Ticket_Cabin392096_E121', 'Ticket_Cabin4133_nan', 'Ticket_Cabin4134_nan', 'Ticket_Cabin4135_nan', 'Ticket_Cabin4136_nan', 'Ticket_Cabin4137_nan', 'Ticket_Cabin4138_nan', 'Ticket_Cabin4579_nan', 'Ticket_Cabin65306_nan', 'Ticket_Cabin695_B51 B53 B55', 'Ticket_Cabin7534_nan', 'Ticket_Cabin7545_nan', 'Ticket_Cabin7546_nan', 'Ticket_Cabin7552_nan', 'Ticket_Cabin7553_nan', 'Ticket_Cabin7598_nan', 'Ticket_Cabin8471_nan', 'Ticket_Cabin9234_nan', 'Ticket_CabinA/4 48871_nan', 'Ticket_CabinA/5 3540_nan', 'Ticket_CabinA/5. 10482_nan', 'Ticket_CabinA/5. 3336_nan', 'Ticket_CabinA/5. 3337_nan', 'Ticket_CabinA/5. 851_nan', 'Ticket_CabinC 17369_nan', 'Ticket_CabinC 7077_nan', 'Ticket_CabinC.A. 18723_nan', 'Ticket_CabinC.A. 2315_nan', 'Ticket_CabinC.A. 2673_nan', 'Ticket_CabinC.A. 31921_nan', 'Ticket_CabinC.A. 33111_nan', 'Ticket_CabinC.A. 33112_nan', 'Ticket_CabinC.A. 37671_nan', 'Ticket_CabinCA 2144_nan', 'Ticket_CabinCA. 2314_nan', 'Ticket_CabinCA. 2343_nan', 'Ticket_CabinF.C. 12750_B71', 'Ticket_CabinLINE_nan', 'Ticket_CabinPC 17318_nan', 'Ticket_CabinPC 17473_E25', 'Ticket_CabinPC 17474_E25', 'Ticket_CabinPC 17475_E24', 'Ticket_CabinPC 17476_E24', 'Ticket_CabinPC 17483_C95', 'Ticket_CabinPC 17485_A20', 'Ticket_CabinPC 17558_B58 B60', 'Ticket_CabinPC 17572_D33', 'Ticket_CabinPC 17572_D49', 'Ticket_CabinPC 17582_C91', 'Ticket_CabinPC 17590_A24', 'Ticket_CabinPC 17593_B82 B84', 'Ticket_CabinPC 17593_B86', 'Ticket_CabinPC 17595_C49', 'Ticket_CabinPC 17596_C118', 'Ticket_CabinPC 17597_nan', 'Ticket_CabinPC 17600_nan', 'Ticket_CabinPC 17601_nan', 'Ticket_CabinPC 17605_nan', 'Ticket_CabinPC 17609_nan', 'Ticket_CabinPC 17611_nan', 'Ticket_CabinPC 17612_nan', 'Ticket_CabinPC 17754_A5', 'Ticket_CabinPC 17755_B101', 'Ticket_CabinPC 17755_B51 B53 B55', 'Ticket_CabinPC 17757_nan', 'Ticket_CabinPC 17758_C65', 'Ticket_CabinPC 17759_D10 D12', 'Ticket_CabinPC 17760_nan', 'Ticket_CabinPC 17761_C86', 'Ticket_CabinPP 9549_G6', 'Ticket_CabinS.O./P.P. 3_E77', 'Ticket_CabinS.O.C. 14879_nan', 'Ticket_CabinS.W./PP 752_nan', 'Ticket_CabinSC/PARIS 2131_nan', 'Ticket_CabinSC/PARIS 2146_nan', 'Ticket_CabinSC/PARIS 2167_nan', 'Ticket_CabinSC/Paris 2163_D', 'Ticket_CabinSOTON/O.Q. 392078_E10', 'Ticket_CabinSOTON/O.Q. 392087_nan', 'Ticket_CabinSOTON/OQ 392089_nan', 'Ticket_CabinSTON/O 2. 3101269_nan', 'Ticket_CabinSTON/O 2. 3101285_nan', 'Ticket_CabinSTON/O 2. 3101286_nan', 'Ticket_CabinSTON/O 2. 3101288_nan', 'Ticket_CabinSTON/O 2. 3101289_nan', 'Ticket_CabinSTON/O 2. 3101292_nan', 'Ticket_CabinSTON/O 2. 3101293_nan', 'Ticket_CabinSTON/O2. 3101271_nan', 'Ticket_CabinSTON/O2. 3101279_nan', 'Ticket_CabinSTON/O2. 3101282_nan', 'Ticket_CabinSTON/O2. 3101283_nan', 'Ticket_CabinSTON/O2. 3101290_nan', 'Ticket_CabinSW/PP 751_nan', 'Ticket_CabinW./C. 14263_nan', 'Ticket_CabinW./C. 6607_nan', 'Ticket_CabinW./C. 6608_nan', 'Ticket_CabinW./C. 6609_nan', 'Ticket_CabinW.E.P. 5734_E31', 'Ticket_CabinWE/P 5735_B22', 'Ticket_Embarked110413_S', 'Ticket_Embarked110465_S', 'Ticket_Embarked110564_S', 'Ticket_Embarked111240_S', 'Ticket_Embarked111369_C', 'Ticket_Embarked111426_C', 'Ticket_Embarked111427_S', 'Ticket_Embarked111428_S', 'Ticket_Embarked112050_S', 'Ticket_Embarked112052_S', 'Ticket_Embarked112058_S', 'Ticket_Embarked112059_S', 'Ticket_Embarked112277_C', 'Ticket_Embarked112379_C', 'Ticket_Embarked113028_S', 'Ticket_Embarked113043_S', 'Ticket_Embarked113050_S', 'Ticket_Embarked113051_C', 'Ticket_Embarked113055_S', 'Ticket_Embarked113056_S', 'Ticket_Embarked113059_S', 'Ticket_Embarked113501_S', 'Ticket_Embarked113503_C', 'Ticket_Embarked113509_C', 'Ticket_Embarked113510_S', 'Ticket_Embarked113514_S', 'Ticket_Embarked113760_S', 'Ticket_Embarked113767_S', 'Ticket_Embarked113773_S', 'Ticket_Embarked113776_S', 'Ticket_Embarked113781_S', 'Ticket_Embarked113784_S', 'Ticket_Embarked113786_S', 'Ticket_Embarked113787_S', 'Ticket_Embarked113788_S', 'Ticket_Embarked113789_S', 'Ticket_Embarked113792_S', 'Ticket_Embarked113794_S', 'Ticket_Embarked113796_S', 'Ticket_Embarked113798_S', 'Ticket_Embarked113800_S', 'Ticket_Embarked113803_S', 'Ticket_Embarked113804_S', 'Ticket_Embarked113806_S', 'Ticket_Embarked113807_S', 'Ticket_Embarked11668_S', 'Ticket_Embarked11751_S', 'Ticket_Embarked11753_S', 'Ticket_Embarked11765_C', 'Ticket_Embarked11771_C', 'Ticket_Embarked11774_C', 'Ticket_Embarked11967_C', 'Ticket_Embarked12233_S', 'Ticket_Embarked13049_C', 'Ticket_Embarked13213_C', 'Ticket_Embarked13214_C', 'Ticket_Embarked13507_S', 'Ticket_Embarked13509_S', 'Ticket_Embarked13567_C', 'Ticket_Embarked14311_Q', 'Ticket_Embarked14312_Q', 'Ticket_Embarked14313_Q', 'Ticket_Embarked1601_S', 'Ticket_Embarked16988_S', 'Ticket_Embarked17453_C', 'Ticket_Embarked17463_S', 'Ticket_Embarked17474_S', 'Ticket_Embarked17764_C', 'Ticket_Embarked19877_S', 'Ticket_Embarked19928_Q', 'Ticket_Embarked19943_S', 'Ticket_Embarked19947_S', 'Ticket_Embarked19952_S', 'Ticket_Embarked19988_S', 'Ticket_Embarked19996_S', 'Ticket_Embarked2003_S', 'Ticket_Embarked211536_S', 'Ticket_Embarked220367_S', 'Ticket_Embarked220845_S', 'Ticket_Embarked230136_S', 'Ticket_Embarked237671_S', 'Ticket_Embarked237789_S', 'Ticket_Embarked237798_S', 'Ticket_Embarked239853_S', 'Ticket_Embarked239865_S', 'Ticket_Embarked244252_S', 'Ticket_Embarked244270_S', 'Ticket_Embarked244310_S', 'Ticket_Embarked244358_S', 'Ticket_Embarked244373_S', 'Ticket_Embarked248698_S', 'Ticket_Embarked248738_S', 'Ticket_Embarked248747_S', 'Ticket_Embarked250647_S', 'Ticket_Embarked250649_S', 'Ticket_Embarked250651_S', 'Ticket_Embarked2620_C', 'Ticket_Embarked2625_C', 'Ticket_Embarked2626_C', 'Ticket_Embarked2627_C', 'Ticket_Embarked2648_C', 'Ticket_Embarked2649_C', 'Ticket_Embarked2650_C', 'Ticket_Embarked2651_C', 'Ticket_Embarked2653_C', 'Ticket_Embarked2661_C', 'Ticket_Embarked2662_C', 'Ticket_Embarked2663_C', 'Ticket_Embarked2665_C', 'Ticket_Embarked2666_C', 'Ticket_Embarked2668_C', 'Ticket_Embarked2669_C', 'Ticket_Embarked2672_C', 'Ticket_Embarked2677_C', 'Ticket_Embarked2678_C', 'Ticket_Embarked2683_C', 'Ticket_Embarked2687_C', 'Ticket_Embarked2689_C', 'Ticket_Embarked2690_C', 'Ticket_Embarked2691_C', 'Ticket_Embarked2695_C', 'Ticket_Embarked2699_C', 'Ticket_Embarked27042_S', 'Ticket_Embarked2908_S', 'Ticket_Embarked29104_S', 'Ticket_Embarked29106_S', 'Ticket_Embarked2926_S', 'Ticket_Embarked3101265_S', 'Ticket_Embarked3101278_S', 'Ticket_Embarked3101281_S', 'Ticket_Embarked3101295_S', 'Ticket_Embarked3101298_S', 'Ticket_Embarked312991_S', 'Ticket_Embarked315082_S', 'Ticket_Embarked315084_S', 'Ticket_Embarked315096_S', 'Ticket_Embarked315098_S', 'Ticket_Embarked315153_S', 'Ticket_Embarked330909_Q', 'Ticket_Embarked330919_Q', 'Ticket_Embarked330923_Q', 'Ticket_Embarked330931_Q', 'Ticket_Embarked330932_Q', 'Ticket_Embarked330935_Q', 'Ticket_Embarked330958_Q', 'Ticket_Embarked330959_Q', 'Ticket_Embarked330980_Q', 'Ticket_Embarked335097_Q', 'Ticket_Embarked335677_Q', 'Ticket_Embarked33638_S', 'Ticket_Embarked343095_S', 'Ticket_Embarked343120_S', 'Ticket_Embarked343276_S', 'Ticket_Embarked345572_S', 'Ticket_Embarked345763_S', 'Ticket_Embarked345764_S', 'Ticket_Embarked345773_S', 'Ticket_Embarked345774_S', 'Ticket_Embarked345779_S', 'Ticket_Embarked347054_S', 'Ticket_Embarked347063_S', 'Ticket_Embarked347067_S', 'Ticket_Embarked347068_S', 'Ticket_Embarked347071_S', 'Ticket_Embarked347073_S', 'Ticket_Embarked347074_S', 'Ticket_Embarked347077_S', 'Ticket_Embarked347080_S', 'Ticket_Embarked347081_S', 'Ticket_Embarked347082_S', 'Ticket_Embarked347083_S', 'Ticket_Embarked347085_S', 'Ticket_Embarked347087_S', 'Ticket_Embarked347088_S', 'Ticket_Embarked347089_S', 'Ticket_Embarked347470_S', 'Ticket_Embarked347742_S', 'Ticket_Embarked348121_S', 'Ticket_Embarked348123_S', 'Ticket_Embarked349213_C', 'Ticket_Embarked349219_S', 'Ticket_Embarked349236_S', 'Ticket_Embarked349237_S', 'Ticket_Embarked349240_C', 'Ticket_Embarked349242_S', 'Ticket_Embarked349244_S', 'Ticket_Embarked349245_S', 'Ticket_Embarked349248_S', 'Ticket_Embarked349909_S', 'Ticket_Embarked350034_S', 'Ticket_Embarked350043_S', 'Ticket_Embarked350046_S', 'Ticket_Embarked350406_S', 'Ticket_Embarked350407_S', 'Ticket_Embarked350417_S', 'Ticket_Embarked35273_C', 'Ticket_Embarked35281_S', 'Ticket_Embarked35851_Q', 'Ticket_Embarked35852_Q', 'Ticket_Embarked358585_S', 'Ticket_Embarked363291_S', 'Ticket_Embarked364516_S', 'Ticket_Embarked364846_Q', 'Ticket_Embarked364848_Q', 'Ticket_Embarked364849_Q', 'Ticket_Embarked364850_Q', 'Ticket_Embarked365226_Q', 'Ticket_Embarked367226_Q', 'Ticket_Embarked367228_Q', 'Ticket_Embarked367230_Q', 'Ticket_Embarked367231_Q', 'Ticket_Embarked36866_Q', 'Ticket_Embarked36963_S', 'Ticket_Embarked36973_S', 'Ticket_Embarked370129_S', 'Ticket_Embarked370365_Q', 'Ticket_Embarked370370_Q', 'Ticket_Embarked370373_Q', 'Ticket_Embarked370375_Q', 'Ticket_Embarked370376_Q', 'Ticket_Embarked371362_S', 'Ticket_Embarked376564_S', 'Ticket_Embarked382649_Q', 'Ticket_Embarked382651_Q', 'Ticket_Embarked382652_Q', 'Ticket_Embarked383121_Q', 'Ticket_Embarked386525_S', 'Ticket_Embarked392091_S', 'Ticket_Embarked392096_S', 'Ticket_Embarked4133_S', 'Ticket_Embarked4134_S', 'Ticket_Embarked4135_S', 'Ticket_Embarked4136_S', 'Ticket_Embarked4137_S', 'Ticket_Embarked4138_S', 'Ticket_Embarked4579_S', 'Ticket_Embarked65306_S', 'Ticket_Embarked695_S', 'Ticket_Embarked7534_S', 'Ticket_Embarked7545_S', 'Ticket_Embarked7546_S', 'Ticket_Embarked7552_S', 'Ticket_Embarked7553_S', 'Ticket_Embarked7598_S', 'Ticket_Embarked8471_S', 'Ticket_Embarked9234_Q', 'Ticket_EmbarkedA/4 48871_S', 'Ticket_EmbarkedA/4. 20589_S', 'Ticket_EmbarkedA/5 3540_S', 'Ticket_EmbarkedA/5. 10482_S', 'Ticket_EmbarkedA/5. 3336_S', 'Ticket_EmbarkedA/5. 3337_S', 'Ticket_EmbarkedC 17369_S', 'Ticket_EmbarkedC 7077_S', 'Ticket_EmbarkedC.A. 18723_S', 'Ticket_EmbarkedC.A. 2315_S', 'Ticket_EmbarkedC.A. 2673_S', 'Ticket_EmbarkedC.A. 31921_S', 'Ticket_EmbarkedC.A. 33111_S', 'Ticket_EmbarkedC.A. 33112_S', 'Ticket_EmbarkedC.A. 37671_S', 'Ticket_EmbarkedCA 2144_S', 'Ticket_EmbarkedCA. 2314_S', 'Ticket_EmbarkedCA. 2343_S', 'Ticket_EmbarkedF.C. 12750_S', 'Ticket_EmbarkedLINE_S', 'Ticket_EmbarkedPC 17318_S', 'Ticket_EmbarkedPC 17473_S', 'Ticket_EmbarkedPC 17474_S', 'Ticket_EmbarkedPC 17475_S', 'Ticket_EmbarkedPC 17476_S', 'Ticket_EmbarkedPC 17483_S', 'Ticket_EmbarkedPC 17485_C', 'Ticket_EmbarkedPC 17558_C', 'Ticket_EmbarkedPC 17572_C', 'Ticket_EmbarkedPC 17590_S', 'Ticket_EmbarkedPC 17593_C', 'Ticket_EmbarkedPC 17595_C', 'Ticket_EmbarkedPC 17596_C', 'Ticket_EmbarkedPC 17597_C', 'Ticket_EmbarkedPC 17600_C', 'Ticket_EmbarkedPC 17601_C', 'Ticket_EmbarkedPC 17605_C', 'Ticket_EmbarkedPC 17609_C', 'Ticket_EmbarkedPC 17611_S', 'Ticket_EmbarkedPC 17612_C', 'Ticket_EmbarkedPC 17754_C', 'Ticket_EmbarkedPC 17755_C', 'Ticket_EmbarkedPC 17758_C', 'Ticket_EmbarkedPC 17759_C', 'Ticket_EmbarkedPC 17760_C', 'Ticket_EmbarkedPC 17761_C', 'Ticket_EmbarkedPP 9549_S', 'Ticket_EmbarkedS.O./P.P. 3_S', 'Ticket_EmbarkedS.O.C. 14879_S', 'Ticket_EmbarkedS.W./PP 752_S', 'Ticket_EmbarkedSC/PARIS 2131_C', 'Ticket_EmbarkedSC/PARIS 2146_C', 'Ticket_EmbarkedSC/PARIS 2149_C', 'Ticket_EmbarkedSC/PARIS 2167_C', 'Ticket_EmbarkedSC/Paris 2163_C', 'Ticket_EmbarkedSOTON/O.Q. 3101312_S', 'Ticket_EmbarkedSOTON/O.Q. 392078_S', 'Ticket_EmbarkedSOTON/O.Q. 392087_S', 'Ticket_EmbarkedSOTON/OQ 392089_S', 'Ticket_EmbarkedSTON/O 2. 3101269_S', 'Ticket_EmbarkedSTON/O 2. 3101285_S', 'Ticket_EmbarkedSTON/O 2. 3101286_S', 'Ticket_EmbarkedSTON/O 2. 3101288_S', 'Ticket_EmbarkedSTON/O 2. 3101289_S', 'Ticket_EmbarkedSTON/O 2. 3101292_S', 'Ticket_EmbarkedSTON/O 2. 3101293_S', 'Ticket_EmbarkedSTON/O2. 3101271_S', 'Ticket_EmbarkedSTON/O2. 3101279_S', 'Ticket_EmbarkedSTON/O2. 3101282_S', 'Ticket_EmbarkedSTON/O2. 3101283_S', 'Ticket_EmbarkedSTON/O2. 3101290_S', 'Ticket_EmbarkedSW/PP 751_S', 'Ticket_EmbarkedW./C. 14263_S', 'Ticket_EmbarkedW./C. 6607_S', 'Ticket_EmbarkedW./C. 6608_S', 'Ticket_EmbarkedW./C. 6609_S', 'Ticket_EmbarkedW.E.P. 5734_S', 'Ticket_EmbarkedWE/P 5735_S', 'Cabin_EmbarkedA10_C', 'Cabin_EmbarkedA14_S', 'Cabin_EmbarkedA19_S', 'Cabin_EmbarkedA20_C', 'Cabin_EmbarkedA23_S', 'Cabin_EmbarkedA24_S', 'Cabin_EmbarkedA26_C', 'Cabin_EmbarkedA31_C', 'Cabin_EmbarkedA32_S', 'Cabin_EmbarkedA34_S', 'Cabin_EmbarkedA36_S', 'Cabin_EmbarkedA5_C', 'Cabin_EmbarkedA6_S', 'Cabin_EmbarkedA7_C', 'Cabin_EmbarkedB101_C', 'Cabin_EmbarkedB102_S', 'Cabin_EmbarkedB19_S', 'Cabin_EmbarkedB20_S', 'Cabin_EmbarkedB22_S', 'Cabin_EmbarkedB30_C', 'Cabin_EmbarkedB37_C', 'Cabin_EmbarkedB38_S', 'Cabin_EmbarkedB41_C', 'Cabin_EmbarkedB49_C', 'Cabin_EmbarkedB50_C', 'Cabin_EmbarkedB51 B53 B55_C', 'Cabin_EmbarkedB51 B53 B55_S', 'Cabin_EmbarkedB57 B59 B63 B66_C', 'Cabin_EmbarkedB58 B60_C', 'Cabin_EmbarkedB71_S', 'Cabin_EmbarkedB82 B84_C', 'Cabin_EmbarkedB86_C', 'Cabin_EmbarkedB94_S', 'Cabin_EmbarkedB96 B98_S', 'Cabin_EmbarkedC104_S', 'Cabin_EmbarkedC106_S', 'Cabin_EmbarkedC111_C', 'Cabin_EmbarkedC118_C', 'Cabin_EmbarkedC123_S', 'Cabin_EmbarkedC124_S', 'Cabin_EmbarkedC126_S', 'Cabin_EmbarkedC128_S', 'Cabin_EmbarkedC148_C', 'Cabin_EmbarkedC22 C26_S', 'Cabin_EmbarkedC2_S', 'Cabin_EmbarkedC30_S', 'Cabin_EmbarkedC46_S', 'Cabin_EmbarkedC47_C', 'Cabin_EmbarkedC49_C', 'Cabin_EmbarkedC52_S', 'Cabin_EmbarkedC65_C', 'Cabin_EmbarkedC68_C', 'Cabin_EmbarkedC70_C', 'Cabin_EmbarkedC78_Q', 'Cabin_EmbarkedC82_C', 'Cabin_EmbarkedC83_S', 'Cabin_EmbarkedC86_C', 'Cabin_EmbarkedC87_S', 'Cabin_EmbarkedC91_S', 'Cabin_EmbarkedC92_C', 'Cabin_EmbarkedC93_S', 'Cabin_EmbarkedC95_S', 'Cabin_EmbarkedD10 D12_C', 'Cabin_EmbarkedD19_S', 'Cabin_EmbarkedD26_S', 'Cabin_EmbarkedD30_S', 'Cabin_EmbarkedD33_C', 'Cabin_EmbarkedD35_S', 'Cabin_EmbarkedD45_S', 'Cabin_EmbarkedD48_C', 'Cabin_EmbarkedD49_C', 'Cabin_EmbarkedD50_S', 'Cabin_EmbarkedD56_S', 'Cabin_EmbarkedD6_S', 'Cabin_EmbarkedE10_S', 'Cabin_EmbarkedE121_S', 'Cabin_EmbarkedE12_S', 'Cabin_EmbarkedE17_S', 'Cabin_EmbarkedE24_S', 'Cabin_EmbarkedE25_S', 'Cabin_EmbarkedE31_S', 'Cabin_EmbarkedE38_S', 'Cabin_EmbarkedE44_S', 'Cabin_EmbarkedE46_S', 'Cabin_EmbarkedE50_C', 'Cabin_EmbarkedE67_S', 'Cabin_EmbarkedE77_S', 'Cabin_EmbarkedE8_S', 'Cabin_EmbarkedF G63_S', 'Cabin_EmbarkedF G73_S', 'Cabin_EmbarkedF2_S', 'Cabin_EmbarkedF33_S', 'Cabin_EmbarkedF38_Q', 'Cabin_EmbarkedF4_S', 'Cabin_EmbarkedG6_S', 'Cabin_EmbarkedT_S', 'Cabin_Embarkednan_C', 'Cabin_Embarkednan_S', 'Age_10', 'Age_15', 'Age_25', 'Age_35', 'Age_40', 'Age_45', 'Age_50', 'Age_55', 'Age_60', 'Age_65', 'Age_70', 'Age_75', 'Age_80']\n"
     ]
    },
    {
     "data": {
      "image/png": "[encoded data removed]",
      "text/plain": [
       "<Figure size 720x432 with 1 Axes>"
      ]
     },
     "metadata": {
      "needs_background": "light"
     },
     "output_type": "display_data"
    }
   ],
   "source": [
    "from sklearn.feature_selection import RFECV\n",
    "\n",
    "import warnings\n",
    "warnings.filterwarnings('ignore')\n",
    "\n",
    "# Create the RFE object and compute a cross-validated score.\n",
    "# The \"accuracy\" scoring is proportional to the number of correct classifications\n",
    "rfecv = RFECV(estimator=LogisticRegression(), step=1, cv=10, scoring='accuracy')\n",
    "rfecv.fit(X, y)\n",
    "\n",
    "print(\"Optimal number of features: %d\" % rfecv.n_features_)\n",
    "print('Selected features: %s' % list(data2.columns[rfecv.support_]))\n",
    "\n",
    "# Plot number of features VS. cross-validation scores\n",
    "plt.figure(figsize=(10,6))\n",
    "plt.xlabel(\"Number of features selected\")\n",
    "plt.ylabel(\"Cross validation score (nb of correct classifications)\")\n",
    "plt.plot(range(1, len(rfecv.grid_scores_) + 1), rfecv.grid_scores_)\n",
    "plt.show()"
   ]
  },
  {
   "cell_type": "code",
   "execution_count": null,
   "metadata": {},
   "outputs": [],
   "source": []
  }
 ],
 "metadata": {
  "kernelspec": {
   "display_name": "itv",
   "language": "python",
   "name": "itv"
  },
  "language_info": {
   "codemirror_mode": {
    "name": "ipython",
    "version": 3
   },
   "file_extension": ".py",
   "mimetype": "text/x-python",
   "name": "python",
   "nbconvert_exporter": "python",
   "pygments_lexer": "ipython3",
   "version": "3.6.3"
  }
 },
 "nbformat": 4,
 "nbformat_minor": 2
}
